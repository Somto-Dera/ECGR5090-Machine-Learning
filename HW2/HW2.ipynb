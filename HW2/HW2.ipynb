{
 "cells": [
  {
   "cell_type": "markdown",
   "id": "9a456162",
   "metadata": {},
   "source": [
    "Github --> https://github.com/Somto-Dera/ECGR5090-Machine-Learning.git"
   ]
  },
  {
   "cell_type": "markdown",
   "id": "06cd7cc0",
   "metadata": {},
   "source": [
    "# Homework 2\n",
    "In this homework, we will use the Diabetes dataset. (Note: You can use the built-in function from ML libraries for gradient descent, training, and validation.)\n",
    "\n",
    " \n",
    "\n",
    "## Problem 1\n",
    "Using the diabetes dataset, build a logistic regression binary classifier for positive diabetes. Please use 80% and 20% split between training and evaluation (test). Make sure to perform proper scaling and standardization before your training. Report your results, including accuracy, precision, and recall. Also, plot the confusion matrix representing your binary classifier. "
   ]
  },
  {
   "cell_type": "markdown",
   "id": "f93dba1e",
   "metadata": {},
   "source": [
    "STEPS\n",
    "<br>\n",
    "-- Import Library<br>\n",
    "-- Load dataset<br>\n",
    "-- Process data<br>\n",
    "-- Create model<br>\n",
    "-- Evaluate Model<br>\n"
   ]
  },
  {
   "cell_type": "markdown",
   "id": "a1d2213a",
   "metadata": {},
   "source": [
    "<br> \n",
    "\n",
    "### Import Library"
   ]
  },
  {
   "cell_type": "code",
   "execution_count": 1,
   "id": "34d00577",
   "metadata": {},
   "outputs": [],
   "source": [
    "# pandas is used for data manipulation and analysis\n",
    "import pandas as pd     \n",
    "\n",
    "# numpy is used for array and matrics manipulation\n",
    "import numpy as np\n",
    "\n",
    "# matplotlib is used for data visualisation\n",
    "import matplotlib.pyplot as plt\n",
    "\n",
    "# seaborn is used for data visualization (heat map)\n",
    "import seaborn as sns\n",
    "\n",
    "# sklearn-metrics is used for measuring classification peformance\n",
    "from sklearn import metrics\n",
    "\n",
    "from sklearn import model_selection\n",
    "\n",
    "# sklearn-logreg is used for creating logreg model\n",
    "from sklearn.linear_model import LogisticRegression\n",
    "\n",
    "# sklearn-traintestsplit is used for spliting dataset\n",
    "from sklearn.model_selection import train_test_split, KFold\n",
    "\n",
    "# sklearn-scaler is used for scaling dataset\n",
    "from sklearn.preprocessing import StandardScaler\n",
    "\n",
    "# sklearn-naive_bayes is used for creating GNB model\n",
    "from sklearn.naive_bayes import GaussianNB\n",
    "\n",
    "#%matplotlib inline"
   ]
  },
  {
   "cell_type": "markdown",
   "id": "ad96656a",
   "metadata": {},
   "source": [
    "<br> \n",
    "\n",
    "\n",
    "### Import and Display the first 5 rows of the dataset"
   ]
  },
  {
   "cell_type": "code",
   "execution_count": 2,
   "id": "8f9dfa20",
   "metadata": {},
   "outputs": [
    {
     "data": {
      "text/html": [
       "<div>\n",
       "<style scoped>\n",
       "    .dataframe tbody tr th:only-of-type {\n",
       "        vertical-align: middle;\n",
       "    }\n",
       "\n",
       "    .dataframe tbody tr th {\n",
       "        vertical-align: top;\n",
       "    }\n",
       "\n",
       "    .dataframe thead th {\n",
       "        text-align: right;\n",
       "    }\n",
       "</style>\n",
       "<table border=\"1\" class=\"dataframe\">\n",
       "  <thead>\n",
       "    <tr style=\"text-align: right;\">\n",
       "      <th></th>\n",
       "      <th>Pregnancies</th>\n",
       "      <th>Glucose</th>\n",
       "      <th>BloodPressure</th>\n",
       "      <th>SkinThickness</th>\n",
       "      <th>Insulin</th>\n",
       "      <th>BMI</th>\n",
       "      <th>DiabetesPedigreeFunction</th>\n",
       "      <th>Age</th>\n",
       "      <th>Outcome</th>\n",
       "    </tr>\n",
       "  </thead>\n",
       "  <tbody>\n",
       "    <tr>\n",
       "      <th>0</th>\n",
       "      <td>6</td>\n",
       "      <td>148</td>\n",
       "      <td>72</td>\n",
       "      <td>35</td>\n",
       "      <td>0</td>\n",
       "      <td>33.6</td>\n",
       "      <td>0.627</td>\n",
       "      <td>50</td>\n",
       "      <td>1</td>\n",
       "    </tr>\n",
       "    <tr>\n",
       "      <th>1</th>\n",
       "      <td>1</td>\n",
       "      <td>85</td>\n",
       "      <td>66</td>\n",
       "      <td>29</td>\n",
       "      <td>0</td>\n",
       "      <td>26.6</td>\n",
       "      <td>0.351</td>\n",
       "      <td>31</td>\n",
       "      <td>0</td>\n",
       "    </tr>\n",
       "    <tr>\n",
       "      <th>2</th>\n",
       "      <td>8</td>\n",
       "      <td>183</td>\n",
       "      <td>64</td>\n",
       "      <td>0</td>\n",
       "      <td>0</td>\n",
       "      <td>23.3</td>\n",
       "      <td>0.672</td>\n",
       "      <td>32</td>\n",
       "      <td>1</td>\n",
       "    </tr>\n",
       "    <tr>\n",
       "      <th>3</th>\n",
       "      <td>1</td>\n",
       "      <td>89</td>\n",
       "      <td>66</td>\n",
       "      <td>23</td>\n",
       "      <td>94</td>\n",
       "      <td>28.1</td>\n",
       "      <td>0.167</td>\n",
       "      <td>21</td>\n",
       "      <td>0</td>\n",
       "    </tr>\n",
       "    <tr>\n",
       "      <th>4</th>\n",
       "      <td>0</td>\n",
       "      <td>137</td>\n",
       "      <td>40</td>\n",
       "      <td>35</td>\n",
       "      <td>168</td>\n",
       "      <td>43.1</td>\n",
       "      <td>2.288</td>\n",
       "      <td>33</td>\n",
       "      <td>1</td>\n",
       "    </tr>\n",
       "  </tbody>\n",
       "</table>\n",
       "</div>"
      ],
      "text/plain": [
       "   Pregnancies  Glucose  BloodPressure  SkinThickness  Insulin   BMI  \\\n",
       "0            6      148             72             35        0  33.6   \n",
       "1            1       85             66             29        0  26.6   \n",
       "2            8      183             64              0        0  23.3   \n",
       "3            1       89             66             23       94  28.1   \n",
       "4            0      137             40             35      168  43.1   \n",
       "\n",
       "   DiabetesPedigreeFunction  Age  Outcome  \n",
       "0                     0.627   50        1  \n",
       "1                     0.351   31        0  \n",
       "2                     0.672   32        1  \n",
       "3                     0.167   21        0  \n",
       "4                     2.288   33        1  "
      ]
     },
     "execution_count": 2,
     "metadata": {},
     "output_type": "execute_result"
    }
   ],
   "source": [
    "# load dataset into diabetes variable\n",
    "diabetes = pd.read_csv('diabetes.csv')\n",
    "\n",
    "# To get first five rows from the dataset default value\n",
    "diabetes.head()"
   ]
  },
  {
   "cell_type": "markdown",
   "id": "a87be93f",
   "metadata": {},
   "source": [
    "<br> \n",
    "\n",
    "\n",
    "### Data Preprocessing and Analysis\n",
    "Make a new dataframe which is a copy of the dataset so that our original dataset remains unchanged"
   ]
  },
  {
   "cell_type": "code",
   "execution_count": 3,
   "id": "9e86670a",
   "metadata": {},
   "outputs": [
    {
     "data": {
      "text/html": [
       "<div>\n",
       "<style scoped>\n",
       "    .dataframe tbody tr th:only-of-type {\n",
       "        vertical-align: middle;\n",
       "    }\n",
       "\n",
       "    .dataframe tbody tr th {\n",
       "        vertical-align: top;\n",
       "    }\n",
       "\n",
       "    .dataframe thead th {\n",
       "        text-align: right;\n",
       "    }\n",
       "</style>\n",
       "<table border=\"1\" class=\"dataframe\">\n",
       "  <thead>\n",
       "    <tr style=\"text-align: right;\">\n",
       "      <th></th>\n",
       "      <th>Pregnancies</th>\n",
       "      <th>Glucose</th>\n",
       "      <th>BloodPressure</th>\n",
       "      <th>SkinThickness</th>\n",
       "      <th>Insulin</th>\n",
       "      <th>BMI</th>\n",
       "      <th>DiabetesPedigreeFunction</th>\n",
       "      <th>Age</th>\n",
       "      <th>Outcome</th>\n",
       "    </tr>\n",
       "  </thead>\n",
       "  <tbody>\n",
       "    <tr>\n",
       "      <th>0</th>\n",
       "      <td>6</td>\n",
       "      <td>148</td>\n",
       "      <td>72</td>\n",
       "      <td>35</td>\n",
       "      <td>0</td>\n",
       "      <td>33.6</td>\n",
       "      <td>0.627</td>\n",
       "      <td>50</td>\n",
       "      <td>1</td>\n",
       "    </tr>\n",
       "    <tr>\n",
       "      <th>1</th>\n",
       "      <td>1</td>\n",
       "      <td>85</td>\n",
       "      <td>66</td>\n",
       "      <td>29</td>\n",
       "      <td>0</td>\n",
       "      <td>26.6</td>\n",
       "      <td>0.351</td>\n",
       "      <td>31</td>\n",
       "      <td>0</td>\n",
       "    </tr>\n",
       "    <tr>\n",
       "      <th>2</th>\n",
       "      <td>8</td>\n",
       "      <td>183</td>\n",
       "      <td>64</td>\n",
       "      <td>0</td>\n",
       "      <td>0</td>\n",
       "      <td>23.3</td>\n",
       "      <td>0.672</td>\n",
       "      <td>32</td>\n",
       "      <td>1</td>\n",
       "    </tr>\n",
       "    <tr>\n",
       "      <th>3</th>\n",
       "      <td>1</td>\n",
       "      <td>89</td>\n",
       "      <td>66</td>\n",
       "      <td>23</td>\n",
       "      <td>94</td>\n",
       "      <td>28.1</td>\n",
       "      <td>0.167</td>\n",
       "      <td>21</td>\n",
       "      <td>0</td>\n",
       "    </tr>\n",
       "    <tr>\n",
       "      <th>4</th>\n",
       "      <td>0</td>\n",
       "      <td>137</td>\n",
       "      <td>40</td>\n",
       "      <td>35</td>\n",
       "      <td>168</td>\n",
       "      <td>43.1</td>\n",
       "      <td>2.288</td>\n",
       "      <td>33</td>\n",
       "      <td>1</td>\n",
       "    </tr>\n",
       "  </tbody>\n",
       "</table>\n",
       "</div>"
      ],
      "text/plain": [
       "   Pregnancies  Glucose  BloodPressure  SkinThickness  Insulin   BMI  \\\n",
       "0            6      148             72             35        0  33.6   \n",
       "1            1       85             66             29        0  26.6   \n",
       "2            8      183             64              0        0  23.3   \n",
       "3            1       89             66             23       94  28.1   \n",
       "4            0      137             40             35      168  43.1   \n",
       "\n",
       "   DiabetesPedigreeFunction  Age  Outcome  \n",
       "0                     0.627   50        1  \n",
       "1                     0.351   31        0  \n",
       "2                     0.672   32        1  \n",
       "3                     0.167   21        0  \n",
       "4                     2.288   33        1  "
      ]
     },
     "execution_count": 3,
     "metadata": {},
     "output_type": "execute_result"
    }
   ],
   "source": [
    "# load dataset into a new variable(df) \n",
    "df = diabetes\n",
    "\n",
    "# display first five rows of the dataset\n",
    "df.head()"
   ]
  },
  {
   "cell_type": "markdown",
   "id": "b3ff6652",
   "metadata": {},
   "source": [
    "<br> \n",
    "\n",
    "**Find the size of the dataframe**"
   ]
  },
  {
   "cell_type": "code",
   "execution_count": 4,
   "id": "64bb95b0",
   "metadata": {},
   "outputs": [
    {
     "data": {
      "text/plain": [
       "(768, 9)"
      ]
     },
     "execution_count": 4,
     "metadata": {},
     "output_type": "execute_result"
    }
   ],
   "source": [
    "# prints shape of dataset so we can know it's dimensions\n",
    "df.shape"
   ]
  },
  {
   "cell_type": "markdown",
   "id": "f63ccbea",
   "metadata": {},
   "source": [
    "<br>\n",
    "\n",
    "**Check if our data contains any missing  values**"
   ]
  },
  {
   "cell_type": "code",
   "execution_count": 5,
   "id": "069cafcd",
   "metadata": {},
   "outputs": [
    {
     "data": {
      "text/plain": [
       "Pregnancies                 0\n",
       "Glucose                     0\n",
       "BloodPressure               0\n",
       "SkinThickness               0\n",
       "Insulin                     0\n",
       "BMI                         0\n",
       "DiabetesPedigreeFunction    0\n",
       "Age                         0\n",
       "Outcome                     0\n",
       "dtype: int64"
      ]
     },
     "execution_count": 5,
     "metadata": {},
     "output_type": "execute_result"
    }
   ],
   "source": [
    "# Check for number of empty(NaN) cells in dataset\n",
    "df.isnull().sum().sort_values(ascending=False)[:10]"
   ]
  },
  {
   "cell_type": "markdown",
   "id": "0fe064b9",
   "metadata": {},
   "source": [
    "<br> \n",
    "\n",
    "**Checking the data datatypes of each columns in the dataset**"
   ]
  },
  {
   "cell_type": "code",
   "execution_count": 6,
   "id": "920a2e77",
   "metadata": {},
   "outputs": [
    {
     "data": {
      "text/plain": [
       "Pregnancies                   int64\n",
       "Glucose                       int64\n",
       "BloodPressure                 int64\n",
       "SkinThickness                 int64\n",
       "Insulin                       int64\n",
       "BMI                         float64\n",
       "DiabetesPedigreeFunction    float64\n",
       "Age                           int64\n",
       "Outcome                       int64\n",
       "dtype: object"
      ]
     },
     "execution_count": 6,
     "metadata": {},
     "output_type": "execute_result"
    }
   ],
   "source": [
    "# \".dtypes\" returns a Series with the data type of each column\n",
    "df.dtypes"
   ]
  },
  {
   "cell_type": "code",
   "execution_count": 7,
   "id": "542207f8",
   "metadata": {
    "scrolled": false
   },
   "outputs": [
    {
     "data": {
      "text/html": [
       "<div>\n",
       "<style scoped>\n",
       "    .dataframe tbody tr th:only-of-type {\n",
       "        vertical-align: middle;\n",
       "    }\n",
       "\n",
       "    .dataframe tbody tr th {\n",
       "        vertical-align: top;\n",
       "    }\n",
       "\n",
       "    .dataframe thead th {\n",
       "        text-align: right;\n",
       "    }\n",
       "</style>\n",
       "<table border=\"1\" class=\"dataframe\">\n",
       "  <thead>\n",
       "    <tr style=\"text-align: right;\">\n",
       "      <th></th>\n",
       "      <th>Pregnancies</th>\n",
       "      <th>Glucose</th>\n",
       "      <th>BloodPressure</th>\n",
       "      <th>SkinThickness</th>\n",
       "      <th>Insulin</th>\n",
       "      <th>BMI</th>\n",
       "      <th>DiabetesPedigreeFunction</th>\n",
       "      <th>Age</th>\n",
       "      <th>Outcome</th>\n",
       "    </tr>\n",
       "  </thead>\n",
       "  <tbody>\n",
       "    <tr>\n",
       "      <th>count</th>\n",
       "      <td>768.000000</td>\n",
       "      <td>768.000000</td>\n",
       "      <td>768.000000</td>\n",
       "      <td>768.000000</td>\n",
       "      <td>768.000000</td>\n",
       "      <td>768.000000</td>\n",
       "      <td>768.000000</td>\n",
       "      <td>768.000000</td>\n",
       "      <td>768.000000</td>\n",
       "    </tr>\n",
       "    <tr>\n",
       "      <th>mean</th>\n",
       "      <td>3.845052</td>\n",
       "      <td>120.894531</td>\n",
       "      <td>69.105469</td>\n",
       "      <td>20.536458</td>\n",
       "      <td>79.799479</td>\n",
       "      <td>31.992578</td>\n",
       "      <td>0.471876</td>\n",
       "      <td>33.240885</td>\n",
       "      <td>0.348958</td>\n",
       "    </tr>\n",
       "    <tr>\n",
       "      <th>std</th>\n",
       "      <td>3.369578</td>\n",
       "      <td>31.972618</td>\n",
       "      <td>19.355807</td>\n",
       "      <td>15.952218</td>\n",
       "      <td>115.244002</td>\n",
       "      <td>7.884160</td>\n",
       "      <td>0.331329</td>\n",
       "      <td>11.760232</td>\n",
       "      <td>0.476951</td>\n",
       "    </tr>\n",
       "    <tr>\n",
       "      <th>min</th>\n",
       "      <td>0.000000</td>\n",
       "      <td>0.000000</td>\n",
       "      <td>0.000000</td>\n",
       "      <td>0.000000</td>\n",
       "      <td>0.000000</td>\n",
       "      <td>0.000000</td>\n",
       "      <td>0.078000</td>\n",
       "      <td>21.000000</td>\n",
       "      <td>0.000000</td>\n",
       "    </tr>\n",
       "    <tr>\n",
       "      <th>25%</th>\n",
       "      <td>1.000000</td>\n",
       "      <td>99.000000</td>\n",
       "      <td>62.000000</td>\n",
       "      <td>0.000000</td>\n",
       "      <td>0.000000</td>\n",
       "      <td>27.300000</td>\n",
       "      <td>0.243750</td>\n",
       "      <td>24.000000</td>\n",
       "      <td>0.000000</td>\n",
       "    </tr>\n",
       "    <tr>\n",
       "      <th>50%</th>\n",
       "      <td>3.000000</td>\n",
       "      <td>117.000000</td>\n",
       "      <td>72.000000</td>\n",
       "      <td>23.000000</td>\n",
       "      <td>30.500000</td>\n",
       "      <td>32.000000</td>\n",
       "      <td>0.372500</td>\n",
       "      <td>29.000000</td>\n",
       "      <td>0.000000</td>\n",
       "    </tr>\n",
       "    <tr>\n",
       "      <th>75%</th>\n",
       "      <td>6.000000</td>\n",
       "      <td>140.250000</td>\n",
       "      <td>80.000000</td>\n",
       "      <td>32.000000</td>\n",
       "      <td>127.250000</td>\n",
       "      <td>36.600000</td>\n",
       "      <td>0.626250</td>\n",
       "      <td>41.000000</td>\n",
       "      <td>1.000000</td>\n",
       "    </tr>\n",
       "    <tr>\n",
       "      <th>max</th>\n",
       "      <td>17.000000</td>\n",
       "      <td>199.000000</td>\n",
       "      <td>122.000000</td>\n",
       "      <td>99.000000</td>\n",
       "      <td>846.000000</td>\n",
       "      <td>67.100000</td>\n",
       "      <td>2.420000</td>\n",
       "      <td>81.000000</td>\n",
       "      <td>1.000000</td>\n",
       "    </tr>\n",
       "  </tbody>\n",
       "</table>\n",
       "</div>"
      ],
      "text/plain": [
       "       Pregnancies     Glucose  BloodPressure  SkinThickness     Insulin  \\\n",
       "count   768.000000  768.000000     768.000000     768.000000  768.000000   \n",
       "mean      3.845052  120.894531      69.105469      20.536458   79.799479   \n",
       "std       3.369578   31.972618      19.355807      15.952218  115.244002   \n",
       "min       0.000000    0.000000       0.000000       0.000000    0.000000   \n",
       "25%       1.000000   99.000000      62.000000       0.000000    0.000000   \n",
       "50%       3.000000  117.000000      72.000000      23.000000   30.500000   \n",
       "75%       6.000000  140.250000      80.000000      32.000000  127.250000   \n",
       "max      17.000000  199.000000     122.000000      99.000000  846.000000   \n",
       "\n",
       "              BMI  DiabetesPedigreeFunction         Age     Outcome  \n",
       "count  768.000000                768.000000  768.000000  768.000000  \n",
       "mean    31.992578                  0.471876   33.240885    0.348958  \n",
       "std      7.884160                  0.331329   11.760232    0.476951  \n",
       "min      0.000000                  0.078000   21.000000    0.000000  \n",
       "25%     27.300000                  0.243750   24.000000    0.000000  \n",
       "50%     32.000000                  0.372500   29.000000    0.000000  \n",
       "75%     36.600000                  0.626250   41.000000    1.000000  \n",
       "max     67.100000                  2.420000   81.000000    1.000000  "
      ]
     },
     "execution_count": 7,
     "metadata": {},
     "output_type": "execute_result"
    }
   ],
   "source": [
    "# Shows descriptive statistics on the dataset\n",
    "df.describe()"
   ]
  },
  {
   "cell_type": "markdown",
   "id": "4bf6330f",
   "metadata": {},
   "source": [
    "<br> \n",
    "\n",
    "**Split datasets into feature and target datasets**"
   ]
  },
  {
   "cell_type": "code",
   "execution_count": 8,
   "id": "f975c137",
   "metadata": {},
   "outputs": [
    {
     "data": {
      "text/html": [
       "<div>\n",
       "<style scoped>\n",
       "    .dataframe tbody tr th:only-of-type {\n",
       "        vertical-align: middle;\n",
       "    }\n",
       "\n",
       "    .dataframe tbody tr th {\n",
       "        vertical-align: top;\n",
       "    }\n",
       "\n",
       "    .dataframe thead th {\n",
       "        text-align: right;\n",
       "    }\n",
       "</style>\n",
       "<table border=\"1\" class=\"dataframe\">\n",
       "  <thead>\n",
       "    <tr style=\"text-align: right;\">\n",
       "      <th></th>\n",
       "      <th>Pregnancies</th>\n",
       "      <th>Glucose</th>\n",
       "      <th>BloodPressure</th>\n",
       "      <th>SkinThickness</th>\n",
       "      <th>Insulin</th>\n",
       "      <th>BMI</th>\n",
       "      <th>DiabetesPedigreeFunction</th>\n",
       "      <th>Age</th>\n",
       "    </tr>\n",
       "  </thead>\n",
       "  <tbody>\n",
       "    <tr>\n",
       "      <th>0</th>\n",
       "      <td>6</td>\n",
       "      <td>148</td>\n",
       "      <td>72</td>\n",
       "      <td>35</td>\n",
       "      <td>0</td>\n",
       "      <td>33.6</td>\n",
       "      <td>0.627</td>\n",
       "      <td>50</td>\n",
       "    </tr>\n",
       "    <tr>\n",
       "      <th>1</th>\n",
       "      <td>1</td>\n",
       "      <td>85</td>\n",
       "      <td>66</td>\n",
       "      <td>29</td>\n",
       "      <td>0</td>\n",
       "      <td>26.6</td>\n",
       "      <td>0.351</td>\n",
       "      <td>31</td>\n",
       "    </tr>\n",
       "    <tr>\n",
       "      <th>2</th>\n",
       "      <td>8</td>\n",
       "      <td>183</td>\n",
       "      <td>64</td>\n",
       "      <td>0</td>\n",
       "      <td>0</td>\n",
       "      <td>23.3</td>\n",
       "      <td>0.672</td>\n",
       "      <td>32</td>\n",
       "    </tr>\n",
       "    <tr>\n",
       "      <th>3</th>\n",
       "      <td>1</td>\n",
       "      <td>89</td>\n",
       "      <td>66</td>\n",
       "      <td>23</td>\n",
       "      <td>94</td>\n",
       "      <td>28.1</td>\n",
       "      <td>0.167</td>\n",
       "      <td>21</td>\n",
       "    </tr>\n",
       "    <tr>\n",
       "      <th>4</th>\n",
       "      <td>0</td>\n",
       "      <td>137</td>\n",
       "      <td>40</td>\n",
       "      <td>35</td>\n",
       "      <td>168</td>\n",
       "      <td>43.1</td>\n",
       "      <td>2.288</td>\n",
       "      <td>33</td>\n",
       "    </tr>\n",
       "  </tbody>\n",
       "</table>\n",
       "</div>"
      ],
      "text/plain": [
       "   Pregnancies  Glucose  BloodPressure  SkinThickness  Insulin   BMI  \\\n",
       "0            6      148             72             35        0  33.6   \n",
       "1            1       85             66             29        0  26.6   \n",
       "2            8      183             64              0        0  23.3   \n",
       "3            1       89             66             23       94  28.1   \n",
       "4            0      137             40             35      168  43.1   \n",
       "\n",
       "   DiabetesPedigreeFunction  Age  \n",
       "0                     0.627   50  \n",
       "1                     0.351   31  \n",
       "2                     0.672   32  \n",
       "3                     0.167   21  \n",
       "4                     2.288   33  "
      ]
     },
     "execution_count": 8,
     "metadata": {},
     "output_type": "execute_result"
    }
   ],
   "source": [
    "# Split dataset in features and target sets\n",
    "feature_cols = ['Pregnancies', 'Glucose', 'BloodPressure', 'SkinThickness','Insulin','BMI','DiabetesPedigreeFunction','Age']\n",
    "\n",
    "# Features, '[]' is used because X is a matrix\n",
    "X = df[feature_cols]\n",
    "\n",
    "# Target variable, '.Outcome' is used because y is a vector\n",
    "y = df.Outcome\n",
    "\n",
    "# Print out first five rows of the X set\n",
    "X.head()"
   ]
  },
  {
   "cell_type": "markdown",
   "id": "6cf13cb4",
   "metadata": {},
   "source": [
    "<br>\n",
    "\n",
    "**Split X and y datasets into train and test datasets**<br>\n",
    "Split datasets into 80-20 ratio."
   ]
  },
  {
   "cell_type": "code",
   "execution_count": 9,
   "id": "6064b3ed",
   "metadata": {},
   "outputs": [
    {
     "name": "stdout",
     "output_type": "stream",
     "text": [
      "X_train dimension=  (614, 8)\n",
      "X_test dimension=  (154, 8)\n",
      "y_train dimension=  (614,)\n",
      "y_test dimension=  (154,)\n"
     ]
    }
   ],
   "source": [
    "# split X and y into training, testing sets and print out it's shape\n",
    "X_train,X_test,y_train,y_test=train_test_split(X,y,test_size=0.20,random_state=42)\n",
    "print('X_train dimension= ', X_train.shape)\n",
    "print('X_test dimension= ', X_test.shape)\n",
    "print('y_train dimension= ', y_train.shape)\n",
    "print('y_test dimension= ', y_test.shape)"
   ]
  },
  {
   "cell_type": "markdown",
   "id": "d0e1a357",
   "metadata": {},
   "source": [
    "<br> \n",
    "\n",
    "**Scale and standardize features**"
   ]
  },
  {
   "cell_type": "code",
   "execution_count": 10,
   "id": "aff3857c",
   "metadata": {},
   "outputs": [
    {
     "name": "stdout",
     "output_type": "stream",
     "text": [
      "Scaled training features:\n",
      " [[-0.52639686 -1.15139792 -3.75268255 ... -4.13525578 -0.49073479\n",
      "  -1.03594038]\n",
      " [ 1.58804586 -0.27664283  0.68034485 ... -0.48916881  2.41502991\n",
      "   1.48710085]\n",
      " [-0.82846011  0.56687102 -1.2658623  ... -0.42452187  0.54916055\n",
      "  -0.94893896]\n",
      " ...\n",
      " [ 1.8901091  -0.62029661  0.89659009 ...  1.76054443  1.981245\n",
      "   0.44308379]\n",
      " [-1.13052335  0.62935353 -3.75268255 ...  1.34680407 -0.78487662\n",
      "  -0.33992901]\n",
      " [-1.13052335  0.12949347  1.43720319 ... -1.22614383 -0.61552223\n",
      "  -1.03594038]]\n",
      "\n",
      "Scaled testing features:\n",
      " [[ 0.68185612 -0.71402038 -0.61712658 ...  0.26073561 -0.11637247\n",
      "   0.87809089]\n",
      " [-0.52639686 -0.27664283  0.30191569 ...  0.48053518 -0.954231\n",
      "  -1.03594038]\n",
      " [-0.52639686 -0.40160784 -0.29275872 ... -0.15300476 -0.9245197\n",
      "  -1.03594038]\n",
      " ...\n",
      " [ 1.28598261 -0.80774414  0.13973176 ...  0.62275843  0.04703966\n",
      "   2.0961108 ]\n",
      " [-0.52639686  0.78555979  0.03160914 ... -0.51502758 -0.39268751\n",
      "  -0.33992901]\n",
      " [ 1.28598261 -1.46381046  0.03160914 ...  0.42881763  0.70068816\n",
      "   0.53008521]]\n"
     ]
    }
   ],
   "source": [
    "# create an instance of StandardScaler\n",
    "sc = StandardScaler() \n",
    "\n",
    "# Scale the test and train data set. \n",
    "X_train = sc.fit_transform(X_train)\n",
    "X_test = sc.transform(X_test)\n",
    "\n",
    "# print out scaled datasets\n",
    "print(\"Scaled training features:\\n\", X_train)\n",
    "print(\"\\nScaled testing features:\\n\", X_test)"
   ]
  },
  {
   "cell_type": "markdown",
   "id": "18022ede",
   "metadata": {},
   "source": [
    "**Side Note:** \n",
    "From cell(In[4]) we can observe that there are a total of 768 rows and 9 columns. The feature variables are 'Pregnancies', 'Glucose', 'BloodPressure','SkinThickness','Insulin','BMI','DiabetesPedigreeFunction','Age' and the target variables are 'Outcome'. We also observed that there are no empty cells(In[5]) in the dataset. The dataset has been scaled and splitted accordingly."
   ]
  },
  {
   "cell_type": "markdown",
   "id": "32d44112",
   "metadata": {},
   "source": [
    "<br>\n",
    "\n",
    "\n",
    "\n",
    "### Binary Logistic Regression Model"
   ]
  },
  {
   "cell_type": "code",
   "execution_count": 11,
   "id": "c718d933",
   "metadata": {},
   "outputs": [
    {
     "name": "stdout",
     "output_type": "stream",
     "text": [
      "Training set score: 0.77036\n",
      "Test set score: 0.75325\n",
      "Predictions:  [0 0 0 0 0 0 0 1 1 1 0 1 0 0 0 0 0 0 1 1 0 0 1 0 1 1 0 0 0 0 1 1 1 1 1 1 1\n",
      " 0 1 1 0 1 1 0 0 1 1 0 0 1 0 1 1 0 0 0 1 0 0 1 1 0 0 0 0 1 0 1 0 1 1 0 0 0\n",
      " 0 1 0 0 0 0 1 0 0 0 0 1 1 0 0 0 0 0 0 1 1 1 0 0 1 0 1 0 1 0 1 0 0 1 0 1 0\n",
      " 0 0 1 0 0 1 0 0 1 0 0 0 0 0 0 0 1 1 1 1 1 0 0 1 0 0 1 1 0 0 0 0 0 0 0 0 0\n",
      " 0 1 0 0 0 0]\n"
     ]
    }
   ],
   "source": [
    "# Create an instance of Logistic Regression Classifier, fit the data and test the model.\n",
    "lm = LogisticRegression().fit(X_train,y_train)\n",
    "\n",
    "y_pred=lm.predict(X_test)\n",
    "\n",
    "print(\"Training set score: {:.5f}\".format(lm.score(X_train, y_train)))\n",
    "print(\"Test set score: {:.5f}\".format(lm.score(X_test, y_test)))\n",
    "print(\"Predictions: \", (y_pred))"
   ]
  },
  {
   "cell_type": "markdown",
   "id": "74345db5",
   "metadata": {},
   "source": [
    "**Side Note:** \n",
    "From the output of cell([]) you see that Training score is more than the Test score. This is misleading. Which is why we use seperate datasets for testing when creating models, if not it won't generalise well and may give inaccurate predictions.\n"
   ]
  },
  {
   "cell_type": "markdown",
   "id": "a2720895",
   "metadata": {},
   "source": [
    "<br>\n",
    "\n",
    "\n",
    "\n",
    "### Model Evaluation"
   ]
  },
  {
   "cell_type": "markdown",
   "id": "1c4c1494",
   "metadata": {},
   "source": [
    "**Confusion Matrix**"
   ]
  },
  {
   "cell_type": "code",
   "execution_count": 12,
   "id": "95a50ff6",
   "metadata": {
    "scrolled": true
   },
   "outputs": [
    {
     "data": {
      "text/plain": [
       "Text(0.5, 257.44, 'Predicted label')"
      ]
     },
     "execution_count": 12,
     "metadata": {},
     "output_type": "execute_result"
    },
    {
     "data": {
      "image/png": "[encoded data removed]",
      "text/plain": [
       "<Figure size 432x288 with 2 Axes>"
      ]
     },
     "metadata": {
      "needs_background": "light"
     },
     "output_type": "display_data"
    }
   ],
   "source": [
    "# Create confusion matrix\n",
    "cnf_matrix = metrics.confusion_matrix(y_test, y_pred)\n",
    "\n",
    "class_names=[0,1] # name  of classes\n",
    "fig, ax = plt.subplots()\n",
    "tick_marks = np.arange(len(class_names))\n",
    "plt.xticks(tick_marks, class_names)\n",
    "plt.yticks(tick_marks, class_names)\n",
    "\n",
    "# create heatmap\n",
    "sns.heatmap(pd.DataFrame(cnf_matrix), annot=True, cmap=\"YlGnBu\" ,fmt='g')\n",
    "ax.xaxis.set_label_position(\"top\")\n",
    "plt.tight_layout()\n",
    "plt.title('Confusion matrix', y=1.1)\n",
    "plt.ylabel('Actual label')\n",
    "plt.xlabel('Predicted label')"
   ]
  },
  {
   "cell_type": "markdown",
   "id": "1f41c256",
   "metadata": {},
   "source": [
    "**Side Note:**\n",
    "<br> True Positives (TP): we correctly predicted that they do have diabetes.\n",
    "* 37\n",
    "\n",
    "<br> True Negatives (TN): we correctly predicted that they don't have diabetes.\n",
    "* 79\n",
    "\n",
    "<br> False Positives (FP): we incorrectly predicted that they do have diabetes (a \"Type I error\")\n",
    "* 20\n",
    "* Falsely predict positive\n",
    "* Type I error\n",
    "\n",
    "<br> False Negatives (FN): we incorrectly predicted that they don't have diabetes (a \"Type II error\")\n",
    "* 18\n",
    "* Falsely predict negative\n",
    "* Type II error\n",
    "\n",
    "<br>\n",
    "0: negative class\n",
    "1: positive class"
   ]
  },
  {
   "cell_type": "markdown",
   "id": "af0e233b",
   "metadata": {},
   "source": [
    "<br>\n",
    "\n",
    "**Performance Metrics of Model**\n",
    "\n",
    "-- *Accuracy* is the percentage of correct predictions ((TP + TN)/(TP+FP+TN+FN)).\n",
    "<br>-- *Precision* is the accuracy of positive predictions (TP/(TP + FP)).\n",
    "<br>-- *Recall* is the fraction of positives that were correctly identified (TP/(TP+FN)).\n",
    "<br>-- *F1-score* is the percent of positive predictions were correct (2*(Recall * Precision) / (Recall + Precision)).\n",
    "<br>-- Support* is the number of occurances of a given class.\n",
    "<br>-- *Null Accuracy* is reading gotten by predicting the most frequent class."
   ]
  },
  {
   "cell_type": "code",
   "execution_count": 13,
   "id": "121c44b3",
   "metadata": {},
   "outputs": [
    {
     "name": "stdout",
     "output_type": "stream",
     "text": [
      "              precision    recall  f1-score   support\n",
      "\n",
      "           0       0.81      0.80      0.81        99\n",
      "           1       0.65      0.67      0.66        55\n",
      "\n",
      "    accuracy                           0.75       154\n",
      "   macro avg       0.73      0.74      0.73       154\n",
      "weighted avg       0.76      0.75      0.75       154\n",
      "\n",
      "\n",
      "\n",
      "Accuracy: 0.7532467532467533\n",
      "Classification Error: 0.24675324675324672\n",
      "Precision: 0.6491228070175439\n",
      "Recall/Sensitivity: 0.6727272727272727\n",
      "Specificity: 0.797979797979798\n",
      "Class Distribution:\n",
      "\n",
      "0    99\n",
      "1    55\n",
      "Name: Outcome, dtype: int64\n"
     ]
    }
   ],
   "source": [
    "# print classification report\n",
    "print(metrics.classification_report(y_test, y_pred))\n",
    "\n",
    "# prints accuracy of the model\n",
    "print(\"\\n\\nAccuracy:\",metrics.accuracy_score(y_test, y_pred))\n",
    "\n",
    "# prints classification error of the model\n",
    "print(\"Classification Error:\",1 - metrics.accuracy_score(y_test, y_pred))\n",
    "\n",
    "# prints precision of the model\n",
    "print(\"Precision:\",metrics.precision_score(y_test, y_pred))\n",
    "\n",
    "# prints recall of the model\n",
    "print(\"Recall/Sensitivity:\",metrics.recall_score(y_test, y_pred))\n",
    "\n",
    "# prints specitivity of the model\n",
    "print(\"Specificity:\",(cnf_matrix[0, 0] / (cnf_matrix[0, 0] + cnf_matrix[0, 1])))\n",
    "\n",
    "\n",
    "# Calculate Null Accuracy to test our model\n",
    "# calculate the percentage of ones\n",
    "#percentage_ones = y_test.mean()\n",
    "\n",
    "# calculate the percentage of zeros\n",
    "#percentage_zero = 1 - y_test.mean()\n",
    "\n",
    "# calculate null accuracy\n",
    "#print(\"Null accuracy:\", max(percentage_ones, percentage_zero))\n",
    "\n",
    "# examine the class distribution of the testing set (using a Pandas Series method)\n",
    "print(\"Class Distribution:\\n\")\n",
    "print(y_test.value_counts())"
   ]
  },
  {
   "cell_type": "markdown",
   "id": "4463c3e5",
   "metadata": {},
   "source": [
    "**Side Note:** We have a null accuracy of 0.64  compared to the accuracy of our model which is 0.75, which means our model is decent(our model isn't dumb)."
   ]
  },
  {
   "cell_type": "markdown",
   "id": "52cefbbb",
   "metadata": {},
   "source": [
    "<br>\n",
    "\n",
    "**ROC Curve**\n",
    "\n",
    "Receiver Operating Characteristic(ROC) curve is a plot of the true positive rate against the false positive rate. It shows the tradeoff between sensitivity and specificity. Ideally the curve should be close to the top left corner, we'll want a high recall with and low fpr. AUC is useful when there is high class imbalance."
   ]
  },
  {
   "cell_type": "code",
   "execution_count": 14,
   "id": "da8acb3d",
   "metadata": {},
   "outputs": [
    {
     "data": {
      "image/png": "[encoded data removed]",
      "text/plain": [
       "<Figure size 432x288 with 1 Axes>"
      ]
     },
     "metadata": {
      "needs_background": "light"
     },
     "output_type": "display_data"
    }
   ],
   "source": [
    "y_pred_prob = lm.predict_proba(X_test)[::,1]\n",
    "fpr, tpr, thresholds = metrics.roc_curve(y_test,  y_pred_prob)\n",
    "auc = metrics.roc_auc_score(y_test, y_pred_prob)\n",
    "plt.plot(fpr,tpr,label=\"data 1, auc=\"+str(auc), )\n",
    "plt.legend(loc=4)\n",
    "plt.show()"
   ]
  },
  {
   "cell_type": "markdown",
   "id": "0fcaac25",
   "metadata": {},
   "source": [
    "AUC score for the case is 0.81. AUC score 1 represents perfect classifier."
   ]
  },
  {
   "cell_type": "markdown",
   "id": "376d8024",
   "metadata": {},
   "source": [
    "<br><br><br><br><br><br><br><br><br><br><br><br><br><br>\n",
    "## Problem 2\n",
    "Using the diabetes dataset, build a Naïve Bayes binary classifier for positive diabetes. Please use 80% and 20% split between training and evaluation (test). Make sure to perform proper scaling and standardization before your training. Report your results, including accuracy, precision, and recall. Also, plot the confusion matrix representing your binary classifier. Compare and analyze your results against problem 1."
   ]
  },
  {
   "cell_type": "markdown",
   "id": "a71ee978",
   "metadata": {},
   "source": [
    "### Gaussian Naive-Bayes Model"
   ]
  },
  {
   "cell_type": "code",
   "execution_count": 15,
   "id": "b8a678ce",
   "metadata": {
    "scrolled": false
   },
   "outputs": [
    {
     "name": "stdout",
     "output_type": "stream",
     "text": [
      "Predictions:  [0 0 0 0 1 1 0 1 0 1 0 1 1 0 0 0 0 0 1 0 0 0 1 0 1 1 0 0 0 0 1 1 1 1 1 1 1\n",
      " 0 1 0 0 0 0 1 0 1 1 0 0 1 0 1 1 0 0 0 1 0 0 1 1 0 1 1 0 1 0 1 0 1 1 0 0 0\n",
      " 0 1 0 0 0 0 1 0 0 0 0 1 1 0 0 0 0 0 0 0 0 0 0 0 1 0 1 0 1 0 1 0 0 1 0 1 0\n",
      " 0 0 1 0 0 1 0 0 1 0 0 0 0 0 1 0 1 1 1 1 1 0 1 1 0 0 1 1 0 0 0 0 1 0 0 0 0\n",
      " 0 1 0 0 1 0]\n"
     ]
    }
   ],
   "source": [
    "# Create an instance of Gaussian NB Classifier, fit the data and test the model.\n",
    "gnb_model = GaussianNB()\n",
    "\n",
    "gnb_model.fit(X_train, y_train)\n",
    "\n",
    "y_pred = gnb_model.predict(X_test)\n",
    "print(\"Predictions: \", (y_pred))"
   ]
  },
  {
   "cell_type": "markdown",
   "id": "ca6b01e2",
   "metadata": {},
   "source": [
    "<br>\n",
    "\n",
    "**Performance Metrics of Model**\n",
    "\n",
    "-- *Accuracy* is the percentage of correct predictions ((TP + TN)/(TP+FP+TN+FN)).\n",
    "<br>-- *Precision* is the accuracy of positive predictions (TP/(TP + FP)).\n",
    "<br>-- *Recall* is the fraction of positives that were correctly identified (TP/(TP+FN)).\n",
    "<br>-- *F1-score* is the percent of positive predictions were correct (2*(Recall * Precision) / (Recall + Precision)).\n",
    "<br>-- Support* is the number of occurances of a given class.\n",
    "<br>-- *Null Accuracy* is reading gotten by predicting the most frequent class."
   ]
  },
  {
   "cell_type": "code",
   "execution_count": 16,
   "id": "7ce6761d",
   "metadata": {},
   "outputs": [
    {
     "name": "stdout",
     "output_type": "stream",
     "text": [
      "              precision    recall  f1-score   support\n",
      "\n",
      "           0       0.83      0.80      0.81        99\n",
      "           1       0.66      0.71      0.68        55\n",
      "\n",
      "    accuracy                           0.77       154\n",
      "   macro avg       0.75      0.75      0.75       154\n",
      "weighted avg       0.77      0.77      0.77       154\n",
      "\n",
      "\n",
      "\n",
      "Accuracy: 0.7662337662337663\n",
      "Classif Error: 0.23376623376623373\n",
      "Precision: 0.6610169491525424\n",
      "Recall/Sensitivity: 0.7090909090909091\n",
      "Specificity: 0.797979797979798\n",
      "Class Distribution:\n",
      "\n",
      "0    99\n",
      "1    55\n",
      "Name: Outcome, dtype: int64\n"
     ]
    }
   ],
   "source": [
    "# print classification report\n",
    "print(metrics.classification_report(y_test, y_pred))\n",
    "\n",
    "# prints accuracy of the model\n",
    "print(\"\\n\\nAccuracy:\",metrics.accuracy_score(y_test, y_pred))\n",
    "\n",
    "# prints classification error of the model\n",
    "print(\"Classif Error:\",1 - metrics.accuracy_score(y_test, y_pred))\n",
    "\n",
    "# prints precision of the model\n",
    "print(\"Precision:\",metrics.precision_score(y_test, y_pred))\n",
    "\n",
    "# prints recall of the model\n",
    "print(\"Recall/Sensitivity:\",metrics.recall_score(y_test, y_pred))\n",
    "\n",
    "# prints specitivity of the model\n",
    "print(\"Specificity:\",(cnf_matrix[0, 0] / (cnf_matrix[0, 0] + cnf_matrix[0, 1])))\n",
    "\n",
    "\n",
    "# Calculate Null Accuracy to test our model\n",
    "# calculate the percentage of ones\n",
    "#percentage_ones = y_test.mean()\n",
    "\n",
    "# calculate the percentage of zeros\n",
    "#percentage_zero = 1 - y_test.mean()\n",
    "\n",
    "# calculate null accuracy\n",
    "#print(\"Null accuracy:\", max(percentage_ones, percentage_zero))\n",
    "\n",
    "# examine the class distribution of the testing set (using a Pandas Series method)\n",
    "print(\"Class Distribution:\\n\")\n",
    "print(y_test.value_counts())"
   ]
  },
  {
   "cell_type": "markdown",
   "id": "33a09198",
   "metadata": {},
   "source": [
    "<br>\n",
    "\n",
    "**Confusion Matrix**"
   ]
  },
  {
   "cell_type": "code",
   "execution_count": 17,
   "id": "19babb59",
   "metadata": {},
   "outputs": [
    {
     "data": {
      "text/plain": [
       "Text(0.5, 257.44, 'Predicted label')"
      ]
     },
     "execution_count": 17,
     "metadata": {},
     "output_type": "execute_result"
    },
    {
     "data": {
      "image/png": "[encoded data removed]",
      "text/plain": [
       "<Figure size 432x288 with 2 Axes>"
      ]
     },
     "metadata": {
      "needs_background": "light"
     },
     "output_type": "display_data"
    }
   ],
   "source": [
    "# Create confusion matrix\n",
    "cnf_matrix = metrics.confusion_matrix(y_test, y_pred)\n",
    "\n",
    "class_names=[0,1] # name  of classes\n",
    "fig, ax = plt.subplots()\n",
    "tick_marks = np.arange(len(class_names))\n",
    "plt.xticks(tick_marks, class_names)\n",
    "plt.yticks(tick_marks, class_names)\n",
    "\n",
    "# create heatmap\n",
    "sns.heatmap(pd.DataFrame(cnf_matrix), annot=True, cmap=\"YlGnBu\" ,fmt='g')\n",
    "ax.xaxis.set_label_position(\"top\")\n",
    "plt.tight_layout()\n",
    "plt.title('Confusion matrix', y=1.1)\n",
    "plt.ylabel('Actual label')\n",
    "plt.xlabel('Predicted label')"
   ]
  },
  {
   "cell_type": "markdown",
   "id": "f94864ac",
   "metadata": {},
   "source": [
    "**Side Note:**\n",
    "<br> True Positives (TP): we correctly predicted that they do have diabetes.\n",
    "* 39\n",
    "\n",
    "<br> True Negatives (TN): we correctly predicted that they don't have diabetes.\n",
    "* 79\n",
    "\n",
    "<br> False Positives (FP): we incorrectly predicted that they do have diabetes (a \"Type I error\")\n",
    "* 20\n",
    "* Falsely predict positive\n",
    "* Type I error\n",
    "\n",
    "<br> False Negatives (FN): we incorrectly predicted that they don't have diabetes (a \"Type II error\")\n",
    "* 16\n",
    "* Falsely predict negative\n",
    "* Type II error\n",
    "\n",
    "<br>\n",
    "0: negative class\n",
    "1: positive class"
   ]
  },
  {
   "cell_type": "markdown",
   "id": "8b54266b",
   "metadata": {},
   "source": [
    "**ROC Curve**\n",
    "\n",
    "Receiver Operating Characteristic(ROC) curve is a plot of the true positive rate against the false positive rate. It shows the tradeoff between sensitivity and specificity. Ideally the curve should be close to the top left corner, we'll want a high recall with and low fpr. AUC is useful when there is high class imbalance."
   ]
  },
  {
   "cell_type": "code",
   "execution_count": 18,
   "id": "8317712e",
   "metadata": {},
   "outputs": [
    {
     "data": {
      "image/png": "[encoded data removed]",
      "text/plain": [
       "<Figure size 432x288 with 1 Axes>"
      ]
     },
     "metadata": {
      "needs_background": "light"
     },
     "output_type": "display_data"
    }
   ],
   "source": [
    "y_pred_prob = gnb_model.predict_proba(X_test)[::,1]\n",
    "fpr, tpr, thresholds = metrics.roc_curve(y_test,  y_pred_prob)\n",
    "auc = metrics.roc_auc_score(y_test, y_pred_prob)\n",
    "plt.plot(fpr,tpr,label=\"data 1, auc=\"+str(auc), )\n",
    "plt.legend(loc=4)\n",
    "plt.show()"
   ]
  },
  {
   "cell_type": "markdown",
   "id": "a4d27219",
   "metadata": {},
   "source": [
    "<br><br><br><br><br><br><br><br><br><br><br><br><br><br>\n",
    "## Problem 3\n",
    "Repeat problem 1, and this time use K-fold cross-validation for your training and validation. Perform the training two times for K=5 and K=10. Analyze and compare your results against problem 1."
   ]
  },
  {
   "cell_type": "markdown",
   "id": "b75d2a19",
   "metadata": {},
   "source": [
    "<br>\n",
    "\n",
    "**Perform k=10 kfold (Logistic Regression):** I am not here."
   ]
  },
  {
   "cell_type": "code",
   "execution_count": 19,
   "id": "89cf0782",
   "metadata": {},
   "outputs": [
    {
     "name": "stdout",
     "output_type": "stream",
     "text": [
      "Average Accuracy: 77.33766%\n",
      "Standard Deviation: 4.50468%\n",
      "Accuracy of Each Fold(Splits = 10):  ['77.92208', '68.83117', '77.92208', '76.62338', '77.92208', '75.32468', '84.41558', '84.41558', '72.36842', '77.63158']\n"
     ]
    }
   ],
   "source": [
    "# Applying 10-Fold Cross Validation\n",
    "kfold = KFold(n_splits=10, random_state=100, shuffle= True)\n",
    "\n",
    "# create instance of log regression object\n",
    "lr_kfold = LogisticRegression(solver='lbfgs', max_iter=1000)\n",
    "\n",
    "# create kfold Logistic Regression model\n",
    "#results_kfold = model_selection.cross_val_score(lr_kfold, X = X_train, y= y_train, cv=kfold, scoring=\"accuracy\")\n",
    "results_kfold = model_selection.cross_val_score(lr_kfold, X = X, y= y, cv=kfold )\n",
    "\n",
    "# convert scores to percent\n",
    "lst_results_kfold = [val * 100.0 for val in results_kfold]\n",
    "lst_results_kfold = ['%.5f' % val for val in lst_results_kfold]\n",
    "\n",
    "# print out model metrics\n",
    "print(\"Average Accuracy: %.5f%%\" % (results_kfold.mean()*100.0)) \n",
    "print(\"Standard Deviation: %.5f%%\" % (results_kfold.std()*100.0))\n",
    "print(\"Accuracy of Each Fold(Splits = 10): \",(lst_results_kfold))"
   ]
  },
  {
   "cell_type": "markdown",
   "id": "862ace05",
   "metadata": {},
   "source": [
    "<br>\n",
    "\n",
    "**Perform k=5 kfold (Logistic Regression):** I am not here."
   ]
  },
  {
   "cell_type": "code",
   "execution_count": 20,
   "id": "8370ac1e",
   "metadata": {},
   "outputs": [
    {
     "name": "stdout",
     "output_type": "stream",
     "text": [
      "Accuracy: 77.86945%\n",
      "Standard Deviation: 3.56733%\n",
      "Accuracy of Each Fold(Splits = 5):  ['74.02597', '77.92208', '77.92208', '84.31373', '75.16340']\n"
     ]
    }
   ],
   "source": [
    "# Applying 5-Fold Cross Validation\n",
    "kfold = KFold(n_splits=5, random_state=100, shuffle= True)\n",
    "\n",
    "# create instance of log regression object\n",
    "lr_kfold = LogisticRegression(solver='lbfgs', max_iter=1000)\n",
    "\n",
    "# create kfold Logistic Regression model\n",
    "# results_kfold = model_selection.cross_val_score(lr_kfold, X = X_train, y= y_train, cv=kfold, scoring=\"accuracy\")\n",
    "results_kfold = model_selection.cross_val_score(lr_kfold, X = X, y= y, cv=kfold, scoring=\"accuracy\")\n",
    "\n",
    "# convert scores to percent\n",
    "lst_results_kfold = [val * 100.0 for val in results_kfold]\n",
    "lst_results_kfold = ['%.5f' % val for val in lst_results_kfold]\n",
    "\n",
    "# print out model metrics\n",
    "print(\"Accuracy: %.5f%%\" % (results_kfold.mean()*100.0)) \n",
    "print(\"Standard Deviation: %.5f%%\" % (results_kfold.std()*100.0))\n",
    "print(\"Accuracy of Each Fold(Splits = 5): \",(lst_results_kfold))"
   ]
  },
  {
   "cell_type": "markdown",
   "id": "6d2c075a",
   "metadata": {},
   "source": [
    "<br>"
   ]
  },
  {
   "cell_type": "markdown",
   "id": "4ef63a86",
   "metadata": {},
   "source": [
    "<br><br><br><br><br><br><br><br><br><br><br><br><br><br>\n",
    "## Problem 4\n",
    "Repeat problem 2, and this time use K-fold cross-validation for your training and validation. Does this make sense? Elaborate on your answer."
   ]
  },
  {
   "cell_type": "markdown",
   "id": "eb8825d3",
   "metadata": {},
   "source": [
    "**Perform k=10 kfold (Gassian Naive-Bayes)**"
   ]
  },
  {
   "cell_type": "code",
   "execution_count": 21,
   "id": "b4f62032",
   "metadata": {},
   "outputs": [
    {
     "name": "stdout",
     "output_type": "stream",
     "text": [
      "Cross-validation scores:[0.7012987  0.66233766 0.77922078 0.75324675 0.75324675 0.75324675\n",
      " 0.80519481 0.81818182 0.71052632 0.78947368]\n",
      "\n",
      "Average cross-validation score: 0.7526\n"
     ]
    }
   ],
   "source": [
    "# Applying 10-Fold Cross Validation\n",
    "kfold = KFold(n_splits=10, random_state=100, shuffle= True)\n",
    "\n",
    "# instantiate a GassianNB object\n",
    "gnb_modell = GaussianNB()\n",
    "\n",
    "# create kfold gnb model\n",
    "gnb_results_kfold = model_selection.cross_val_score(gnb_modell, X = X, y = y, cv = kfold)\n",
    "\n",
    "# compute and display scores from kfold gnb model\n",
    "print('Cross-validation scores:{}'.format(gnb_results_kfold))\n",
    "\n",
    "# compute Average cross-validation score and display\n",
    "print('\\nAverage cross-validation score: {:.4f}'.format(gnb_results_kfold.mean()))"
   ]
  },
  {
   "cell_type": "markdown",
   "id": "a680cfe8",
   "metadata": {},
   "source": [
    "<br><br><br><br><br><br><br><br><br><br>\n",
    "# Observation:"
   ]
  },
  {
   "cell_type": "markdown",
   "id": "75760bf6",
   "metadata": {},
   "source": [
    "**Compare Results of Q1 and Q2:**\n",
    "<br>\n",
    "The results of evaluation metrics for question One (In[13]) and question 2 (In[16]) shows that the gaussian NB model has a higher accuracy than the logistic regression model. Other evaluation metrics for classification models include precision and recall. Accuracy can be deceiving depending on the context of the model. There in recall and precision is more dependable. From the evaluation metrics of both models (In[13] and In[16]). Ideally precision is something we want to maximise. Gassian NB model also has better recall and precision than the Logistic Regression model. We might say that both model's performance is good based on the accuracy. But, if we see from the sensitivity of both models (In[13] and In[16]), indicates that there are still many False Negatives (FN) from the prediction result, so we can say that the model still needs some improvements to increase the sensitivity score, therefore decrease the False Negative occurrences."
   ]
  },
  {
   "cell_type": "markdown",
   "id": "48c9124e",
   "metadata": {},
   "source": [
    "**Compare Results of Q1 and Q3:**\n",
    "<br>\n",
    "Performing a cross validation on the logistic regression as opposed to the regular train-test split log regression(In[13]) produced a model with higher accuracy(In[19]) than the latter. "
   ]
  },
  {
   "cell_type": "markdown",
   "id": "e984df9c",
   "metadata": {},
   "source": [
    "**Results Q4:**\n",
    "<br>\n",
    "Results from q4 (In[21]) shows that the model is less accuracte than the model derived in q2 (In[19]) meaning that the kfold doesn't improve the model."
   ]
  }
 ],
 "metadata": {
  "kernelspec": {
   "display_name": "Python 3 (ipykernel)",
   "language": "python",
   "name": "python3"
  },
  "language_info": {
   "codemirror_mode": {
    "name": "ipython",
    "version": 3
   },
   "file_extension": ".py",
   "mimetype": "text/x-python",
   "name": "python",
   "nbconvert_exporter": "python",
   "pygments_lexer": "ipython3",
   "version": "3.8.10"
  }
 },
 "nbformat": 4,
 "nbformat_minor": 5
}
