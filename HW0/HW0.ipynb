{
 "cells": [
  {
   "cell_type": "code",
   "execution_count": 1,
   "id": "734a3732",
   "metadata": {},
   "outputs": [
    {
     "name": "stdout",
     "output_type": "stream",
     "text": [
      "NAME: SOMTO A. \n",
      "ID:801215537 \n",
      "HW#: 0\n",
      "GITHUB: https://github.com/Somto-Dera/ECGR5090-Machine-Learning \n"
     ]
    },
    {
     "data": {
      "text/plain": [
       "'\\nCompute cost for linear regression.\\n\\n  Input Parameters\\n  ----------------\\n  X : 2D array where each row represent the training example and each column represent the feature ndarray. Dimension(m x n)\\n      m= number of training examples\\n      n= number of features (including X_0 column of ones)\\n  y : 1D array of labels/target value for each traing example. dimension(1 x m)\\n\\n  theta : 1D array of fitting parameters or weights. Dimension (1 x n)\\n\\n  Output Parameters\\n  -----------------\\n  J : Scalar value.\\n'"
      ]
     },
     "execution_count": 1,
     "metadata": {},
     "output_type": "execute_result"
    }
   ],
   "source": [
    "print('NAME: SOMTO A. \\nID:801215537 \\nHW#: 0\\nGITHUB: https://github.com/Somto-Dera/ECGR5090-Machine-Learning ')\n",
    "\n",
    "\"\"\"\n",
    "Compute cost for linear regression.\n",
    "\n",
    "  Input Parameters\n",
    "  ----------------\n",
    "  X : 2D array where each row represent the training example and each column represent the feature ndarray. Dimension(m x n)\n",
    "      m= number of training examples\n",
    "      n= number of features (including X_0 column of ones)\n",
    "  y : 1D array of labels/target value for each traing example. dimension(1 x m)\n",
    "\n",
    "  theta : 1D array of fitting parameters or weights. Dimension (1 x n)\n",
    "\n",
    "  Output Parameters\n",
    "  -----------------\n",
    "  J : Scalar value.\n",
    "\"\"\""
   ]
  },
  {
   "cell_type": "code",
   "execution_count": 163,
   "id": "e1b00305",
   "metadata": {},
   "outputs": [],
   "source": [
    "# Data Visualisation\n",
    "import numpy as np\n",
    "import pandas as pd\n",
    "import matplotlib.pyplot as plt\n",
    "\n",
    "import seaborn as sns\n",
    "import scipy.stats as stats\n",
    "from scipy import stats\n",
    "\n",
    "from sklearn.preprocessing import MinMaxScaler\n",
    "\n",
    "\n",
    "# Ensure plots are displayed inline in the notebook\n",
    "%matplotlib inline\n",
    "from matplotlib import pyplot as plt"
   ]
  },
  {
   "cell_type": "code",
   "execution_count": 164,
   "id": "538d1e47",
   "metadata": {},
   "outputs": [
    {
     "data": {
      "text/html": [
       "<div>\n",
       "<style scoped>\n",
       "    .dataframe tbody tr th:only-of-type {\n",
       "        vertical-align: middle;\n",
       "    }\n",
       "\n",
       "    .dataframe tbody tr th {\n",
       "        vertical-align: top;\n",
       "    }\n",
       "\n",
       "    .dataframe thead th {\n",
       "        text-align: right;\n",
       "    }\n",
       "</style>\n",
       "<table border=\"1\" class=\"dataframe\">\n",
       "  <thead>\n",
       "    <tr style=\"text-align: right;\">\n",
       "      <th></th>\n",
       "      <th>x1</th>\n",
       "      <th>x2</th>\n",
       "      <th>x3</th>\n",
       "      <th>y</th>\n",
       "    </tr>\n",
       "  </thead>\n",
       "  <tbody>\n",
       "    <tr>\n",
       "      <th>0</th>\n",
       "      <td>0.000000</td>\n",
       "      <td>3.440000</td>\n",
       "      <td>0.440000</td>\n",
       "      <td>4.387545</td>\n",
       "    </tr>\n",
       "    <tr>\n",
       "      <th>1</th>\n",
       "      <td>0.040404</td>\n",
       "      <td>0.134949</td>\n",
       "      <td>0.888485</td>\n",
       "      <td>2.679650</td>\n",
       "    </tr>\n",
       "    <tr>\n",
       "      <th>2</th>\n",
       "      <td>0.080808</td>\n",
       "      <td>0.829899</td>\n",
       "      <td>1.336970</td>\n",
       "      <td>2.968490</td>\n",
       "    </tr>\n",
       "    <tr>\n",
       "      <th>3</th>\n",
       "      <td>0.121212</td>\n",
       "      <td>1.524848</td>\n",
       "      <td>1.785455</td>\n",
       "      <td>3.254065</td>\n",
       "    </tr>\n",
       "    <tr>\n",
       "      <th>4</th>\n",
       "      <td>0.161616</td>\n",
       "      <td>2.219798</td>\n",
       "      <td>2.233939</td>\n",
       "      <td>3.536375</td>\n",
       "    </tr>\n",
       "    <tr>\n",
       "      <th>...</th>\n",
       "      <td>...</td>\n",
       "      <td>...</td>\n",
       "      <td>...</td>\n",
       "      <td>...</td>\n",
       "    </tr>\n",
       "    <tr>\n",
       "      <th>95</th>\n",
       "      <td>3.838384</td>\n",
       "      <td>1.460202</td>\n",
       "      <td>3.046061</td>\n",
       "      <td>-4.440595</td>\n",
       "    </tr>\n",
       "    <tr>\n",
       "      <th>96</th>\n",
       "      <td>3.878788</td>\n",
       "      <td>2.155152</td>\n",
       "      <td>3.494545</td>\n",
       "      <td>-4.458663</td>\n",
       "    </tr>\n",
       "    <tr>\n",
       "      <th>97</th>\n",
       "      <td>3.919192</td>\n",
       "      <td>2.850101</td>\n",
       "      <td>3.943030</td>\n",
       "      <td>-4.479995</td>\n",
       "    </tr>\n",
       "    <tr>\n",
       "      <th>98</th>\n",
       "      <td>3.959596</td>\n",
       "      <td>3.545051</td>\n",
       "      <td>0.391515</td>\n",
       "      <td>-3.304593</td>\n",
       "    </tr>\n",
       "    <tr>\n",
       "      <th>99</th>\n",
       "      <td>4.000000</td>\n",
       "      <td>0.240000</td>\n",
       "      <td>0.840000</td>\n",
       "      <td>-5.332455</td>\n",
       "    </tr>\n",
       "  </tbody>\n",
       "</table>\n",
       "<p>100 rows × 4 columns</p>\n",
       "</div>"
      ],
      "text/plain": [
       "          x1        x2        x3         y\n",
       "0   0.000000  3.440000  0.440000  4.387545\n",
       "1   0.040404  0.134949  0.888485  2.679650\n",
       "2   0.080808  0.829899  1.336970  2.968490\n",
       "3   0.121212  1.524848  1.785455  3.254065\n",
       "4   0.161616  2.219798  2.233939  3.536375\n",
       "..       ...       ...       ...       ...\n",
       "95  3.838384  1.460202  3.046061 -4.440595\n",
       "96  3.878788  2.155152  3.494545 -4.458663\n",
       "97  3.919192  2.850101  3.943030 -4.479995\n",
       "98  3.959596  3.545051  0.391515 -3.304593\n",
       "99  4.000000  0.240000  0.840000 -5.332455\n",
       "\n",
       "[100 rows x 4 columns]"
      ]
     },
     "execution_count": 164,
     "metadata": {},
     "output_type": "execute_result"
    }
   ],
   "source": [
    "#Load the dataset from my workspace\n",
    "dataset = pd.read_csv('D3.csv')\n",
    "#Display dataset \n",
    "dataset\n",
    "\n",
    "#M=len(hw1)\n",
    "#M"
   ]
  },
  {
   "cell_type": "code",
   "execution_count": 165,
   "id": "011b42e8",
   "metadata": {},
   "outputs": [
    {
     "name": "stdout",
     "output_type": "stream",
     "text": [
      "X1 =  [0.         0.04040404 0.08080808 0.12121212 0.16161616 0.2020202\n",
      " 0.24242424 0.28282828 0.32323232 0.36363636 0.4040404  0.44444444\n",
      " 0.48484848 0.52525253 0.56565657 0.60606061 0.64646465 0.68686869\n",
      " 0.72727273 0.76767677 0.80808081 0.84848485 0.88888889 0.92929293\n",
      " 0.96969697 1.01010101 1.05050505 1.09090909 1.13131313 1.17171717\n",
      " 1.21212121 1.25252525 1.29292929 1.33333333 1.37373737 1.41414141\n",
      " 1.45454545 1.49494949 1.53535354 1.57575758 1.61616162 1.65656566\n",
      " 1.6969697  1.73737374 1.77777778 1.81818182 1.85858586 1.8989899\n",
      " 1.93939394 1.97979798 2.02020202 2.06060606 2.1010101  2.14141414\n",
      " 2.18181818 2.22222222 2.26262626 2.3030303  2.34343434 2.38383838\n",
      " 2.42424242 2.46464646 2.50505051 2.54545455 2.58585859 2.62626263\n",
      " 2.66666667 2.70707071 2.74747475 2.78787879 2.82828283 2.86868687\n",
      " 2.90909091 2.94949495 2.98989899 3.03030303 3.07070707 3.11111111\n",
      " 3.15151515 3.19191919 3.23232323 3.27272727 3.31313131 3.35353535\n",
      " 3.39393939 3.43434343 3.47474747 3.51515152 3.55555556 3.5959596\n",
      " 3.63636364 3.67676768 3.71717172 3.75757576 3.7979798  3.83838384\n",
      " 3.87878788 3.91919192 3.95959596 4.        ]\n",
      "X2 =  [3.44       0.13494949 0.82989899 1.52484848 2.21979798 2.91474747\n",
      " 3.60969697 0.30464646 0.99959596 1.69454545 2.38949495 3.08444444\n",
      " 3.77939394 0.47434343 1.16929293 1.86424242 2.55919192 3.25414141\n",
      " 3.94909091 0.6440404  1.3389899  2.03393939 2.72888889 3.42383838\n",
      " 0.11878788 0.81373737 1.50868687 2.20363636 2.89858586 3.59353535\n",
      " 0.28848485 0.98343434 1.67838384 2.37333333 3.06828283 3.76323232\n",
      " 0.45818182 1.15313131 1.84808081 2.5430303  3.2379798  3.93292929\n",
      " 0.62787879 1.32282828 2.01777778 2.71272727 3.40767677 0.10262626\n",
      " 0.79757576 1.49252525 2.18747475 2.88242424 3.57737374 0.27232323\n",
      " 0.96727273 1.66222222 2.35717172 3.05212121 3.74707071 0.4420202\n",
      " 1.1369697  1.83191919 2.52686869 3.22181818 3.91676768 0.61171717\n",
      " 1.30666667 2.00161616 2.69656566 3.39151515 0.08646465 0.78141414\n",
      " 1.47636364 2.17131313 2.86626263 3.56121212 0.25616162 0.95111111\n",
      " 1.64606061 2.3410101  3.0359596  3.73090909 0.42585859 1.12080808\n",
      " 1.81575758 2.51070707 3.20565657 3.90060606 0.59555556 1.29050505\n",
      " 1.98545455 2.68040404 3.37535354 0.07030303 0.76525253 1.46020202\n",
      " 2.15515152 2.85010101 3.54505051 0.24      ]\n",
      "X3 =  [3.44       0.13494949 0.82989899 1.52484848 2.21979798 2.91474747\n",
      " 3.60969697 0.30464646 0.99959596 1.69454545 2.38949495 3.08444444\n",
      " 3.77939394 0.47434343 1.16929293 1.86424242 2.55919192 3.25414141\n",
      " 3.94909091 0.6440404  1.3389899  2.03393939 2.72888889 3.42383838\n",
      " 0.11878788 0.81373737 1.50868687 2.20363636 2.89858586 3.59353535\n",
      " 0.28848485 0.98343434 1.67838384 2.37333333 3.06828283 3.76323232\n",
      " 0.45818182 1.15313131 1.84808081 2.5430303  3.2379798  3.93292929\n",
      " 0.62787879 1.32282828 2.01777778 2.71272727 3.40767677 0.10262626\n",
      " 0.79757576 1.49252525 2.18747475 2.88242424 3.57737374 0.27232323\n",
      " 0.96727273 1.66222222 2.35717172 3.05212121 3.74707071 0.4420202\n",
      " 1.1369697  1.83191919 2.52686869 3.22181818 3.91676768 0.61171717\n",
      " 1.30666667 2.00161616 2.69656566 3.39151515 0.08646465 0.78141414\n",
      " 1.47636364 2.17131313 2.86626263 3.56121212 0.25616162 0.95111111\n",
      " 1.64606061 2.3410101  3.0359596  3.73090909 0.42585859 1.12080808\n",
      " 1.81575758 2.51070707 3.20565657 3.90060606 0.59555556 1.29050505\n",
      " 1.98545455 2.68040404 3.37535354 0.07030303 0.76525253 1.46020202\n",
      " 2.15515152 2.85010101 3.54505051 0.24      ]\n",
      "y =  [ 4.38754501  2.6796499   2.96848981  3.25406475  3.53637472  3.81541972\n",
      "  4.09119974  2.36371479  3.83296487  4.09894997  4.3616701   4.62112526\n",
      "  4.87731544  3.13024065  3.37990089  3.62629616  3.86942645  5.30929177\n",
      "  5.54589212  3.77922749  4.00929789  4.23610332  4.45964378  4.67991926\n",
      "  2.89692977  3.1106753   4.52115587  4.72837146  4.93232207  5.13300772\n",
      "  3.33042839  3.52458409  3.71547481  3.90310057  4.08746135  5.46855715\n",
      "  3.64638799  3.82095385  3.99225473  4.16029065  4.32506159  4.48656756\n",
      "  2.64480856  2.79978458  4.15149563  4.29994171  4.44512281  2.58703894\n",
      "  2.7256901   2.86107628  2.9931975   3.12205373  3.247645    2.56997129\n",
      "  2.68903261  2.80482896  2.91736034  3.02662674  3.13262817  1.23536462\n",
      "  1.3348361   1.43104261  2.72398415  2.81366071  2.9000723   0.98321892\n",
      "  1.06310057  1.13971724  1.21306894  1.28315566 -0.65002258  0.6135342\n",
      "  0.673826    0.73085284  0.7846147   0.83511159 -1.1176565  -1.07368956\n",
      " -1.03298759 -0.99555059  0.23862143  0.26952848 -1.70282944 -1.67845234\n",
      " -1.6573402  -1.63949305 -1.62491086 -1.61359365 -3.60554141 -2.40075414\n",
      " -2.39923185 -2.40097453 -2.40598218 -4.41425481 -4.4257924  -4.44059497\n",
      " -4.45866252 -4.47999504 -3.30459253 -5.33245499]\n",
      "m =  100\n"
     ]
    }
   ],
   "source": [
    "x1 = dataset.values[:, 0]  # get input values from first column\n",
    "x2 = dataset.values[:, 1]  # get input values from second column\n",
    "x3 = dataset.values[:, 2]  # get input values from third column\n",
    "y = dataset.values[:, 3]   # get output values from fourth column\n",
    "m = len(y) # Number of training examples\n",
    "print('X1 = ', x1[:]) # Show all X1 - Explanatory Variables\n",
    "print('X2 = ', x2[:]) # Show all X2 - Explanatory Variables\n",
    "print('X3 = ', x2[:]) # Show all X3 - Explanatory Variables\n",
    "print('y = ', y[:])   # Show all y - Dependent Variables \n",
    "print('m = ', m)      # Show number of data in dataset per row"
   ]
  },
  {
   "cell_type": "code",
   "execution_count": 166,
   "id": "818f635d",
   "metadata": {},
   "outputs": [
    {
     "data": {
      "text/plain": [
       "Text(0.5, 1.0, 'SCATTER PLOT OF TRAINING DATA data\\nred is x1 | green is x2 | blue is x3')"
      ]
     },
     "execution_count": 166,
     "metadata": {},
     "output_type": "execute_result"
    },
    {
     "data": {
      "image/png": "[encoded data removed]",
      "text/plain": [
       "<Figure size 432x288 with 1 Axes>"
      ]
     },
     "metadata": {
      "needs_background": "light"
     },
     "output_type": "display_data"
    }
   ],
   "source": [
    "plt.scatter(x1,y, color='red',marker= '+')\n",
    "plt.grid()\n",
    "plt.scatter(x2,y, color='green',marker= '+')\n",
    "plt.grid()\n",
    "plt.scatter(x3,y, color='blue',marker= '+')\n",
    "plt.grid()\n",
    "plt.rcParams[\"figure.figsize\"] = (10,6)\n",
    "plt.xlabel('Explanatory Variables')\n",
    "plt.ylabel('Dependent Variables')\n",
    "plt.title('SCATTER PLOT OF TRAINING DATA data\\nred is x1 | green is x2 | blue is x3')\n",
    "\n"
   ]
  },
  {
   "cell_type": "code",
   "execution_count": 167,
   "id": "be99c429",
   "metadata": {},
   "outputs": [
    {
     "data": {
      "text/plain": [
       "(2,)"
      ]
     },
     "execution_count": 167,
     "metadata": {},
     "output_type": "execute_result"
    }
   ],
   "source": [
    "#Lets create a matrix with single column of ones\n",
    "X_0 = np.ones((m, 1))\n",
    "\n",
    "X_1 = x1.reshape(m, 1)\n",
    "X_2 = x2.reshape(m, 1)\n",
    "X_3 = x3.reshape(m, 1)\n",
    "\n",
    "# Lets use hstack() function from numpy to stack X_0 and X_1, X_2,X_3 horizontally (i.e. column wise) to make a single 2D array. \n",
    "# This will be our final X matrix (feature matrix)\n",
    "X_1 = np.hstack((X_0, X_1))\n",
    "X_2 = np.hstack((X_0, X_2))\n",
    "X_3 = np.hstack((X_0, X_3))\n",
    "#X[:]\n",
    "\n",
    "#Initialise theta to zero\n",
    "theta = np.zeros(2)\n",
    "\n",
    "#Check the shape of theta\n",
    "theta.shape"
   ]
  },
  {
   "cell_type": "code",
   "execution_count": 168,
   "id": "89c0fc97",
   "metadata": {},
   "outputs": [],
   "source": [
    "def compute_cost(X, y, theta):\n",
    "  \"\"\"\n",
    "  Compute cost for linear regression.\n",
    "\n",
    "  Input Parameters\n",
    "  ----------------\n",
    "  X : 2D array where each row represent the training example and each column represent the feature ndarray. Dimension(m x n)\n",
    "      m= number of training examples\n",
    "      n= number of features (including X_0 column of ones)\n",
    "  y : 1D array of labels/target value for each traing example. dimension(1 x m)\n",
    "\n",
    "  theta : 1D array of fitting parameters or weights. Dimension (1 x n)\n",
    "\n",
    "  Output Parameters\n",
    "  -----------------\n",
    "  J : Scalar value.\n",
    "  \"\"\"\n",
    "\n",
    "  predictions = X.dot(theta)\n",
    "  #print('predictions= ', predictions[:5])\n",
    "  errors = np.subtract(predictions, y)\n",
    "  #print('errors= ', errors[:5]) \n",
    "  sqrErrors = np.square(errors)\n",
    "  #print('sqrErrors= ', sqrErrors[:5]) \n",
    "  J = 1 / (2 * m) * np.sum(sqrErrors)\n",
    "\n",
    "  return J\n"
   ]
  },
  {
   "cell_type": "code",
   "execution_count": 169,
   "id": "f01361a8",
   "metadata": {},
   "outputs": [
    {
     "name": "stdout",
     "output_type": "stream",
     "text": [
      "The cost for given values of theta_0 and theta_1 = 5.524438459185473\n",
      "The cost for given values of theta_0 and theta_1 = 5.524438459185473\n",
      "The cost for given values of theta_0 and theta_1 = 5.524438459185473\n"
     ]
    }
   ],
   "source": [
    "# Lets compute the cost for theta values\n",
    "cost_x1 = compute_cost(X_1, y, theta)\n",
    "print('The cost for given values of theta_0 and theta_1 =', cost_x1)\n",
    "cost_x2 = compute_cost(X_2, y, theta)\n",
    "print('The cost for given values of theta_0 and theta_1 =', cost_x2)\n",
    "cost_x3 = compute_cost(X_3, y, theta)\n",
    "print('The cost for given values of theta_0 and theta_1 =', cost_x3)\n"
   ]
  },
  {
   "cell_type": "code",
   "execution_count": 170,
   "id": "588b83ec",
   "metadata": {},
   "outputs": [],
   "source": [
    "def gradient_descent(X, y, theta, alpha, iterations):\n",
    "  \"\"\"\n",
    "  Compute cost for linear regression.\n",
    "\n",
    "  Input Parameters\n",
    "  ----------------\n",
    "  X : 2D array where each row represent the training example and each column represent the feature ndarray. Dimension(m x n)\n",
    "      m= number of training examples\n",
    "      n= number of features (including X_0 column of ones)\n",
    "  y : 1D array of labels/target value for each traing example. dimension(m x 1)\n",
    "  theta : 1D array of fitting parameters or weights. Dimension (1 x n)\n",
    "  alpha : Learning rate. Scalar value\n",
    "  iterations: No of iterations. Scalar value. \n",
    "\n",
    "  Output Parameters\n",
    "  -----------------\n",
    "  theta : Final Value. 1D array of fitting parameters or weights. Dimension (1 x n)\n",
    "  cost_history: Conatins value of cost for each iteration. 1D array. Dimansion(m x 1)\n",
    "  \"\"\"\n",
    "  cost_history = np.zeros(iterations)\n",
    "\n",
    "  for i in range(iterations):\n",
    "    predictions = X.dot(theta)\n",
    "    #print('predictions= ', predictions[:5])\n",
    "    errors = np.subtract(predictions, y)\n",
    "    #print('errors= ', errors[:5])\n",
    "    sum_delta = (alpha / m) * X.transpose().dot(errors);\n",
    "    #print('sum_delta= ', sum_delta[:5])\n",
    "    theta = theta - sum_delta;\n",
    "\n",
    "    cost_history[i] = compute_cost(X, y, theta)  \n",
    "\n",
    "  return theta, cost_history"
   ]
  },
  {
   "cell_type": "code",
   "execution_count": 171,
   "id": "0a2087f2",
   "metadata": {},
   "outputs": [],
   "source": [
    "theta = [0., 0.]\n",
    "iterations = 1500;\n",
    "alpha = 0.02;"
   ]
  },
  {
   "cell_type": "code",
   "execution_count": 172,
   "id": "e857d18a",
   "metadata": {},
   "outputs": [
    {
     "name": "stdout",
     "output_type": "stream",
     "text": [
      "Final value of theta = [ 5.92048923 -2.03543328]\n",
      "cost_history = [5.44159061 5.36931698 5.30525582 ... 0.98500031 0.98500025 0.98500018]\n"
     ]
    }
   ],
   "source": [
    "theta, cost_history = gradient_descent(X_1, y, theta, alpha, iterations)\n",
    "print('Final value of theta =', theta)\n",
    "print('cost_history =', cost_history)"
   ]
  },
  {
   "cell_type": "code",
   "execution_count": 173,
   "id": "31e9a4f9",
   "metadata": {},
   "outputs": [
    {
     "data": {
      "text/plain": [
       "<matplotlib.legend.Legend at 0x7fba9c75bc70>"
      ]
     },
     "execution_count": 173,
     "metadata": {},
     "output_type": "execute_result"
    },
    {
     "data": {
      "image/png": "[encoded data removed]",
      "text/plain": [
       "<Figure size 720x432 with 1 Axes>"
      ]
     },
     "metadata": {
      "needs_background": "light"
     },
     "output_type": "display_data"
    }
   ],
   "source": [
    "# Since X is list of list (feature matrix) lets take values of column of index 1 only\n",
    "plt.scatter(X[:,1], y, color='red', marker= '+', label= 'Training Data')\n",
    "plt.plot(X[:,1],X.dot(theta), color='green', label='Linear Regression')\n",
    "\n",
    "plt.rcParams[\"figure.figsize\"] = (10,6)\n",
    "plt.grid()\n",
    "plt.xlabel('Population of City in 10,000s')\n",
    "plt.ylabel('Profit in $10,000s')\n",
    "plt.title('Linear Regression Fit')\n",
    "plt.legend()"
   ]
  },
  {
   "cell_type": "code",
   "execution_count": 174,
   "id": "6cfdc1ec",
   "metadata": {},
   "outputs": [
    {
     "data": {
      "text/plain": [
       "Text(0.5, 1.0, 'Convergence of gradient descent')"
      ]
     },
     "execution_count": 174,
     "metadata": {},
     "output_type": "execute_result"
    },
    {
     "data": {
      "image/png": "[encoded data removed]",
      "text/plain": [
       "<Figure size 720x432 with 1 Axes>"
      ]
     },
     "metadata": {
      "needs_background": "light"
     },
     "output_type": "display_data"
    }
   ],
   "source": [
    "plt.plot(range(1, iterations + 1),cost_history, color='blue')\n",
    "plt.rcParams[\"figure.figsize\"] = (10,6)\n",
    "plt.grid()\n",
    "plt.xlabel('Number of iterations')\n",
    "plt.ylabel('Cost (J)')\n",
    "plt.title('Convergence of gradient descent')"
   ]
  },
  {
   "cell_type": "code",
   "execution_count": 175,
   "id": "22bb5c18",
   "metadata": {},
   "outputs": [
    {
     "name": "stdout",
     "output_type": "stream",
     "text": [
      "For population = 35,000, our prediction of profit is -12035.272676336639\n",
      "For population = 70,000, our prediction of profit is -83275.43761982291\n"
     ]
    }
   ],
   "source": [
    "predict1 = np.array([1, 3.5]).dot(theta)\n",
    "print(\"For population = 35,000, our prediction of profit is\", predict1 * 10000)\n",
    "\n",
    "predict2 = np.array([1, 7]).dot(theta)\n",
    "print(\"For population = 70,000, our prediction of profit is\", predict2 * 10000)"
   ]
  }
 ],
 "metadata": {
  "kernelspec": {
   "display_name": "Python 3 (ipykernel)",
   "language": "python",
   "name": "python3"
  },
  "language_info": {
   "codemirror_mode": {
    "name": "ipython",
    "version": 3
   },
   "file_extension": ".py",
   "mimetype": "text/x-python",
   "name": "python",
   "nbconvert_exporter": "python",
   "pygments_lexer": "ipython3",
   "version": "3.8.10"
  }
 },
 "nbformat": 4,
 "nbformat_minor": 5
}
