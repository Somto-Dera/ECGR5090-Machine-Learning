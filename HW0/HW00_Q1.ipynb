{
 "cells": [
  {
   "cell_type": "markdown",
   "id": "5e3774fc",
   "metadata": {},
   "source": [
    "**NAME:** SOMTO A.\n",
    "<br>**ID:** 801215537\n",
    "<br>**HW#:** 0\n",
    "<br>**GITHUB:** *https://github.com/Somto-Dera/ECGR5090-Machine-Learning*"
   ]
  },
  {
   "cell_type": "markdown",
   "id": "aca8ef04",
   "metadata": {},
   "source": [
    "##  PROBLEM 1:  <br>\n",
    "            Develop a code that run linear regression with gradient decent algorithm for each of the explanatory variables in isolation. In this case, you assume that in each iteration, only one explanatory variable (either X1, or X2, or X3) is explaining the output. Basically, you need to do three different training, one per each explanatory variable. For the learning rate, explore different values between 0.1 and 0.01 (your choice). Initialize your parameters to zero (theta to zero). Finally discuss your results."
   ]
  },
  {
   "cell_type": "markdown",
   "id": "c4c79481",
   "metadata": {},
   "source": [
    "### Problem 1 Pseudocode:  \n",
    "<br>-import necessary libraries\n",
    "<br>-load D3.csv dataset \n",
    "<br>-create a cost function\n",
    "<br>-create gradient descent function\n",
    "<br>-call gradient descent function three time(x1,x2,x3) to get values for theta and cost history in relation to each explanatory variable\n",
    "<br>-plot a linear regression fit graph with training data (x and y variables), and linear regresion(x, x.theta). Do three times for x1, x2 and x3.\n",
    "<br>-plot a convergence of gradient descent graph with cost history. Do three times for x1, x2 and x3\n",
    "<br>-test result with a random variable of x. Do three times for x1, x2 and x3"
   ]
  },
  {
   "cell_type": "markdown",
   "id": "e63762c7",
   "metadata": {},
   "source": [
    "----------------------------------------------------------------------------------------------------------------------------------------------------------------------------------------------------------------------------------------"
   ]
  },
  {
   "cell_type": "markdown",
   "id": "40975efa",
   "metadata": {},
   "source": [
    "------------------------------------------------------------------------"
   ]
  },
  {
   "cell_type": "markdown",
   "id": "282f6473",
   "metadata": {},
   "source": [
    "**-FIRST step is to import the necessary libraries**\n",
    "<br><br> >*numpy* is used for array and matrics manipulation.\n",
    "<br> >*pandas* is used for data manipulation and analysis.\n",
    "<br> >*matplotlib* is used for data visualisation"
   ]
  },
  {
   "cell_type": "code",
   "execution_count": 2,
   "id": "b73ba4c9",
   "metadata": {},
   "outputs": [],
   "source": [
    "#import necessary library\n",
    "import numpy as np\n",
    "import pandas as pd\n",
    "import matplotlib.pyplot as plt"
   ]
  },
  {
   "cell_type": "markdown",
   "id": "4903ba4e",
   "metadata": {},
   "source": [
    "<br>\n",
    "--------------------------------------------------------------------------------------------------------------------------------------\n",
    "<br><br>\n",
    "\n",
    "**-SECOND step, load dataset D3.csv into variable 'dataset'**\n",
    "<br><br> >This dataset was provided by this HW. It contains 4 columns, the first 3 columns are explanatory variables x1, x2, x3; and the final/fourth column is the dependent variable y. It has 100 training examples per column."
   ]
  },
  {
   "cell_type": "code",
   "execution_count": 3,
   "id": "e95f9951",
   "metadata": {},
   "outputs": [
    {
     "data": {
      "text/html": [
       "<div>\n",
       "<style scoped>\n",
       "    .dataframe tbody tr th:only-of-type {\n",
       "        vertical-align: middle;\n",
       "    }\n",
       "\n",
       "    .dataframe tbody tr th {\n",
       "        vertical-align: top;\n",
       "    }\n",
       "\n",
       "    .dataframe thead th {\n",
       "        text-align: right;\n",
       "    }\n",
       "</style>\n",
       "<table border=\"1\" class=\"dataframe\">\n",
       "  <thead>\n",
       "    <tr style=\"text-align: right;\">\n",
       "      <th></th>\n",
       "      <th>x1</th>\n",
       "      <th>x2</th>\n",
       "      <th>x3</th>\n",
       "      <th>y</th>\n",
       "    </tr>\n",
       "  </thead>\n",
       "  <tbody>\n",
       "    <tr>\n",
       "      <th>0</th>\n",
       "      <td>0.000000</td>\n",
       "      <td>3.440000</td>\n",
       "      <td>0.440000</td>\n",
       "      <td>4.387545</td>\n",
       "    </tr>\n",
       "    <tr>\n",
       "      <th>1</th>\n",
       "      <td>0.040404</td>\n",
       "      <td>0.134949</td>\n",
       "      <td>0.888485</td>\n",
       "      <td>2.679650</td>\n",
       "    </tr>\n",
       "    <tr>\n",
       "      <th>2</th>\n",
       "      <td>0.080808</td>\n",
       "      <td>0.829899</td>\n",
       "      <td>1.336970</td>\n",
       "      <td>2.968490</td>\n",
       "    </tr>\n",
       "    <tr>\n",
       "      <th>3</th>\n",
       "      <td>0.121212</td>\n",
       "      <td>1.524848</td>\n",
       "      <td>1.785455</td>\n",
       "      <td>3.254065</td>\n",
       "    </tr>\n",
       "    <tr>\n",
       "      <th>4</th>\n",
       "      <td>0.161616</td>\n",
       "      <td>2.219798</td>\n",
       "      <td>2.233939</td>\n",
       "      <td>3.536375</td>\n",
       "    </tr>\n",
       "  </tbody>\n",
       "</table>\n",
       "</div>"
      ],
      "text/plain": [
       "         x1        x2        x3         y\n",
       "0  0.000000  3.440000  0.440000  4.387545\n",
       "1  0.040404  0.134949  0.888485  2.679650\n",
       "2  0.080808  0.829899  1.336970  2.968490\n",
       "3  0.121212  1.524848  1.785455  3.254065\n",
       "4  0.161616  2.219798  2.233939  3.536375"
      ]
     },
     "execution_count": 3,
     "metadata": {},
     "output_type": "execute_result"
    }
   ],
   "source": [
    "dataset = pd.read_csv('D3.csv')\n",
    "dataset.head() # To get first n rows from the dataset default value of n is 5"
   ]
  },
  {
   "cell_type": "code",
   "execution_count": 5,
   "id": "2299d73b",
   "metadata": {},
   "outputs": [
    {
     "data": {
      "text/plain": [
       "array([ 4.38754501,  2.6796499 ,  2.96848981,  3.25406475,  3.53637472,\n",
       "        3.81541972,  4.09119974,  2.36371479,  3.83296487,  4.09894997,\n",
       "        4.3616701 ,  4.62112526,  4.87731544,  3.13024065,  3.37990089,\n",
       "        3.62629616,  3.86942645,  5.30929177,  5.54589212,  3.77922749,\n",
       "        4.00929789,  4.23610332,  4.45964378,  4.67991926,  2.89692977,\n",
       "        3.1106753 ,  4.52115587,  4.72837146,  4.93232207,  5.13300772,\n",
       "        3.33042839,  3.52458409,  3.71547481,  3.90310057,  4.08746135,\n",
       "        5.46855715,  3.64638799,  3.82095385,  3.99225473,  4.16029065,\n",
       "        4.32506159,  4.48656756,  2.64480856,  2.79978458,  4.15149563,\n",
       "        4.29994171,  4.44512281,  2.58703894,  2.7256901 ,  2.86107628,\n",
       "        2.9931975 ,  3.12205373,  3.247645  ,  2.56997129,  2.68903261,\n",
       "        2.80482896,  2.91736034,  3.02662674,  3.13262817,  1.23536462,\n",
       "        1.3348361 ,  1.43104261,  2.72398415,  2.81366071,  2.9000723 ,\n",
       "        0.98321892,  1.06310057,  1.13971724,  1.21306894,  1.28315566,\n",
       "       -0.65002258,  0.6135342 ,  0.673826  ,  0.73085284,  0.7846147 ,\n",
       "        0.83511159, -1.1176565 , -1.07368956, -1.03298759, -0.99555059,\n",
       "        0.23862143,  0.26952848, -1.70282944, -1.67845234, -1.6573402 ,\n",
       "       -1.63949305, -1.62491086, -1.61359365, -3.60554141, -2.40075414,\n",
       "       -2.39923185, -2.40097453, -2.40598218, -4.41425481, -4.4257924 ,\n",
       "       -4.44059497, -4.45866252, -4.47999504, -3.30459253, -5.33245499])"
      ]
     },
     "execution_count": 5,
     "metadata": {},
     "output_type": "execute_result"
    }
   ],
   "source": [
    "X_1 = dataset.values[:, 0]  # get input values from first column\n",
    "X_2 = dataset.values[:, 1]  # get input values from first column\n",
    "X_3 = dataset.values[:, 2]  # get input values from first column\n",
    "y = dataset.values[:, 3]  # get output values from second column\n",
    "m = len(y) # Number of training examples\n",
    "y"
   ]
  },
  {
   "cell_type": "code",
   "execution_count": 56,
   "id": "361b1314",
   "metadata": {},
   "outputs": [
    {
     "data": {
      "text/plain": [
       "Text(0.5, 1.0, 'SCATTER PLOT OF TRAINING DATA\\nred is x1 | yellow is x2 | blue is x3')"
      ]
     },
     "execution_count": 56,
     "metadata": {},
     "output_type": "execute_result"
    },
    {
     "data": {
      "image/png": "[encoded data removed]",
      "text/plain": [
       "<Figure size 720x432 with 1 Axes>"
      ]
     },
     "metadata": {
      "needs_background": "light"
     },
     "output_type": "display_data"
    }
   ],
   "source": [
    "plt.scatter(X_1,y, color='red',marker= '+')\n",
    "plt.scatter(X_2,y, color='yellow',marker= '+')\n",
    "plt.scatter(X_3,y, color='blue',marker= '+')\n",
    "plt.grid()\n",
    "plt.rcParams[\"figure.figsize\"] = (12,8)\n",
    "plt.xlabel('Explanatory Variables')\n",
    "plt.ylabel('Dependent Variables')\n",
    "plt.title('SCATTER PLOT OF TRAINING DATA\\nred is x1 | yellow is x2 | blue is x3')"
   ]
  },
  {
   "cell_type": "markdown",
   "id": "8b60c889",
   "metadata": {},
   "source": [
    "<br>\n",
    "--------------------------------------------------------------------------------------------------------------------------------------\n",
    "<br><br>\n",
    "\n",
    "**-THIRD step, create a cost function**\n",
    "<br><br> > The hypotheis function is h(θ,x)= θ_0 + θ_1 * x_1\n",
    "<br> > Matrix operations are much faster than loops operations, so matrice of x, θ and (x * θ) were used.\n",
    "<br>"
   ]
  },
  {
   "cell_type": "code",
   "execution_count": 57,
   "id": "73fdcf45",
   "metadata": {},
   "outputs": [],
   "source": [
    "#Lets create a matrix with single column of ones\n",
    "X_0 = np.ones((m, 1))\n",
    "\n",
    "# Using reshape function convert Xs 1D array to 2D array of dimension 97x1\n",
    "X_1 = X_1.reshape(m, 1)\n",
    "X_2 = X_2.reshape(m, 1)\n",
    "X_3 = X_3.reshape(m, 1)"
   ]
  },
  {
   "cell_type": "code",
   "execution_count": 58,
   "id": "88d86fcd",
   "metadata": {},
   "outputs": [],
   "source": [
    "# Lets use hstack() function from numpy to stack X_0 and X_1,X_2 and X_3 horizontally (i.e. column wise) to make a single 2D array. \n",
    "# This will be our final X matrix (feature matrix)\n",
    "x_1 = np.hstack((X_0, X_1))\n",
    "x_2 = np.hstack((X_0, X_2))\n",
    "x_3 = np.hstack((X_0, X_3))"
   ]
  },
  {
   "cell_type": "code",
   "execution_count": 59,
   "id": "c1e882fc",
   "metadata": {},
   "outputs": [],
   "source": [
    "#Initialise theta to zero as recommended by the hw question\n",
    "theta = np.zeros(2)"
   ]
  },
  {
   "cell_type": "markdown",
   "id": "78815581",
   "metadata": {},
   "source": [
    "**Explanation of *compute-cost* function for linear regression**.\n",
    "<br>**Input Parameters**\n",
    "<br> *'X' :* 2D array where each row represent the training example and each column represent the feature ndarray. Dimension(m x n)\n",
    "<br> *'m' :* number of training examples\n",
    "<br> *'n' :* number of features (including X_0 column of ones)\n",
    "<br> *'y' :* 1D array of labels/target value for each traing example. dimension(1 x m)\n",
    "<br> *'theta' :* 1D array of fitting parameters or weights. Dimension (1 x n)\n",
    "<br><br>**Output Parameters**\n",
    "<br> *'J' :* Scalar value.\n",
    "<br><br>**Library Functions Used**\n",
    "<br> *numpy.dot()* returns the product of two arrays.\n",
    "<br> *numpy.subtract()* performs vector entree subtraction\n",
    "<br> *numpy.square()* performs the vector entree square"
   ]
  },
  {
   "cell_type": "code",
   "execution_count": 60,
   "id": "0a9166f8",
   "metadata": {},
   "outputs": [],
   "source": [
    "def compute_cost(X, y, theta):\n",
    "    predictions = X.dot(theta)\n",
    "    errors = np.subtract(predictions, y)\n",
    "    sqrErrors = np.square(errors)\n",
    "    J = 1 / (2 * m) * np.sum(sqrErrors)\n",
    "    \n",
    "    return J"
   ]
  },
  {
   "cell_type": "markdown",
   "id": "e4c5b2c5",
   "metadata": {},
   "source": [
    "<br>\n",
    "--------------------------------------------------------------------------------------------------------------------------------------\n",
    "<br><br>\n",
    "\n",
    "**-FOURTH step, create a *gradient_descent* function**\n",
    "<br><br> > Uses for loop to compute theta using batch gradient descent algorithm.\n",
    "<br> > Each value theta value is used to compute cost.Result is stored in a list.\n",
    "<br> > Cost should decrease with every iteration.\n",
    "<br> > Returns new theta and cost history variable"
   ]
  },
  {
   "cell_type": "markdown",
   "id": "4e6c2983",
   "metadata": {},
   "source": [
    "**Explanation of *gradient_descent* function for linear regression**.\n",
    "<br>**Input Parameters**\n",
    "<br> *'X' :* 2D array where each row represent the training example and each column represent the feature ndarray. Dimension(m x n)\n",
    "<br> *'m' :* number of training examples\n",
    "<br> *'n' :* number of features (including X_0 column of ones)\n",
    "<br> *'y' :* 1D array of labels/target value for each traing example. dimension(1 x m)\n",
    "<br> *'theta' :* 1D array of fitting parameters or weights. Dimension (1 x n)\n",
    "<br> *'alpha' :* Learning rate. Scalar value\n",
    "<br> *'theta' :* 1D array of fitting parameters or weights. Dimension (1 x n)\n",
    "<br> *'iterations':* No of iterations. Scalar value. \n",
    "<br><br>**Output Parameters**\n",
    "<br> *'theta' :*  Final Value. 1D array of fitting parameters or weights. Dimension (1 x n)\n",
    "<br> *'cost_history' :* Conatins value of cost for each iteration. 1D array. Dimansion(m x 1)\n",
    "\n",
    "<br><br>**Library Functions Used**\n",
    "<br> *numpy.dot()* returns the product of two arrays\n",
    "<br> *numpy.subtract()* performs vector entree subtraction\n",
    "<br> *numpy.transpose()* reverse or permute the axes of an array\n"
   ]
  },
  {
   "cell_type": "code",
   "execution_count": 61,
   "id": "3149cc8e",
   "metadata": {},
   "outputs": [],
   "source": [
    "def gradient_descent(X, y, theta, alpha, iterations):\n",
    "    cost_history = np.zeros(iterations)\n",
    "    \n",
    "    for i in range(iterations):\n",
    "        predictions = X.dot(theta)\n",
    "        errors = np.subtract(predictions, y)\n",
    "        sum_delta = (alpha / m) * X.transpose().dot(errors);\n",
    "        theta = theta - sum_delta;\n",
    "        \n",
    "        cost_history[i] = compute_cost(X, y, theta)\n",
    "        \n",
    "    return theta, cost_history"
   ]
  },
  {
   "cell_type": "code",
   "execution_count": 62,
   "id": "cec183fd",
   "metadata": {},
   "outputs": [],
   "source": [
    "# declare and assign values to the gradient descent learning parameters alpha and no of iterations\n",
    "theta = [0., 0.];\n",
    "#iterations = 800;\n",
    "#alpha = 0.04;\n",
    "iterations = 1000;\n",
    "alpha = 0.01;"
   ]
  },
  {
   "cell_type": "markdown",
   "id": "123c905c",
   "metadata": {},
   "source": [
    "<br><br> \n",
    "### QUESTION1"
   ]
  },
  {
   "cell_type": "markdown",
   "id": "87af5276",
   "metadata": {},
   "source": [
    "<br>\n",
    "--------------------------------------------------------------------------------------------------------------------------------------\n",
    "<br><br>\n",
    "\n",
    "**-FIFTH step, call *gradient_descent* function for all Xs value**\n",
    "<br><br> > *gradient_descent* function returns optimal theta and cost history.\n",
    "<br> > values are printed to screen"
   ]
  },
  {
   "cell_type": "markdown",
   "id": "720866fa",
   "metadata": {},
   "source": [
    "<br><br> **For x1**"
   ]
  },
  {
   "cell_type": "code",
   "execution_count": 63,
   "id": "032d0e5c",
   "metadata": {
    "scrolled": true
   },
   "outputs": [
    {
     "name": "stdout",
     "output_type": "stream",
     "text": [
      "\n",
      "\n",
      "\n",
      "Final value of theta with x1 = [ 5.29294728 -1.79119079]\n",
      "First 5 values from cost_history = [5.48226715 5.44290965 5.40604087 5.37137434 5.33865767]\n",
      "Last 5 values from cost_history = [1.03735718 1.03712537 1.03689459 1.03666482 1.03643608]\n"
     ]
    }
   ],
   "source": [
    "thetaOfX1, cost_historyOfX1 = gradient_descent(x_1, y, theta, alpha, iterations)\n",
    "print('\\n\\n\\nFinal value of theta with x1 =', thetaOfX1)\n",
    "print('First 5 values from cost_history =', cost_historyOfX1[:5])\n",
    "print('Last 5 values from cost_history =', cost_historyOfX1[-5 :])"
   ]
  },
  {
   "cell_type": "markdown",
   "id": "b57c4309",
   "metadata": {},
   "source": [
    "<br><br> **For x2**"
   ]
  },
  {
   "cell_type": "code",
   "execution_count": 64,
   "id": "d7d167ac",
   "metadata": {},
   "outputs": [
    {
     "name": "stdout",
     "output_type": "stream",
     "text": [
      "\n",
      "\n",
      "\n",
      "Final value of theta with x2 = [0.68701995 0.57669462]\n",
      "First 5 values from cost_history = [5.29831663 5.09909109 4.92356115 4.76890697 4.63264432]\n",
      "Last 5 values from cost_history = [3.59967832 3.59967694 3.59967556 3.59967419 3.59967283]\n"
     ]
    }
   ],
   "source": [
    "thetaOfX2, cost_historyOfX2 = gradient_descent(x_2, y, theta, alpha, iterations)\n",
    "print('\\n\\n\\nFinal value of theta with x2 =', thetaOfX2)\n",
    "print('First 5 values from cost_history =', cost_historyOfX2[:5])\n",
    "print('Last 5 values from cost_history =', cost_historyOfX2[-5 :])"
   ]
  },
  {
   "cell_type": "markdown",
   "id": "1d21783e",
   "metadata": {},
   "source": [
    "<br><br> **For x3**"
   ]
  },
  {
   "cell_type": "code",
   "execution_count": 65,
   "id": "8d242e48",
   "metadata": {
    "scrolled": true
   },
   "outputs": [
    {
     "name": "stdout",
     "output_type": "stream",
     "text": [
      "\n",
      "\n",
      "\n",
      "Final value of theta with x3 = [ 2.59118664 -0.40965135]\n",
      "First 5 values from cost_history = [5.40768785 5.30397076 5.21178297 5.12979411 5.05682752]\n",
      "Last 5 values from cost_history = [3.6398457  3.63979902 3.63975254 3.63970627 3.63966021]\n"
     ]
    }
   ],
   "source": [
    "thetaOfX3, cost_historyOfX3 = gradient_descent(x_3, y, theta, alpha, iterations)\n",
    "print('\\n\\n\\nFinal value of theta with x3 =', thetaOfX3)\n",
    "print('First 5 values from cost_history =', cost_historyOfX3[:5])\n",
    "print('Last 5 values from cost_history =', cost_historyOfX3[-5 :])"
   ]
  },
  {
   "cell_type": "markdown",
   "id": "e478a4b7",
   "metadata": {},
   "source": [
    "<br><br> \n",
    "### QUESTION2"
   ]
  },
  {
   "cell_type": "markdown",
   "id": "21d6e159",
   "metadata": {},
   "source": [
    "<br>\n",
    "--------------------------------------------------------------------------------------------------------------------------------------\n",
    "<br><br>\n",
    "\n",
    "**-SIXTH step, plot the *Linear Regression Fit* for all Xs**\n",
    "<br><br> > The gradient descent function returns the optimal value of theta, this should give us the best fit line\n",
    "<br> > The green line is plotted using predicted values"
   ]
  },
  {
   "cell_type": "markdown",
   "id": "7388ea6a",
   "metadata": {},
   "source": [
    "<br><br> **For x1**"
   ]
  },
  {
   "cell_type": "code",
   "execution_count": 66,
   "id": "ff70ab7b",
   "metadata": {
    "scrolled": false
   },
   "outputs": [
    {
     "data": {
      "text/plain": [
       "<matplotlib.legend.Legend at 0x7fa49e97fb50>"
      ]
     },
     "execution_count": 66,
     "metadata": {},
     "output_type": "execute_result"
    },
    {
     "data": {
      "image/png": "[encoded data removed]",
      "text/plain": [
       "<Figure size 864x576 with 1 Axes>"
      ]
     },
     "metadata": {
      "needs_background": "light"
     },
     "output_type": "display_data"
    }
   ],
   "source": [
    "# Since X1 is list of list (feature matrix) lets take values of column of index 1 only\n",
    "plt.scatter(x_1[:,1], y, color='red', marker= '+', label= 'Training Data')\n",
    "plt.plot(x_1[:,1],x_1.dot(thetaOfX1), color='green', label='Linear Regression')\n",
    "\n",
    "plt.rcParams[\"figure.figsize\"] = (10,6)\n",
    "plt.grid()\n",
    "plt.xlabel('Explanatory Variable [x1]')\n",
    "plt.ylabel('Dependent Variable [y]')\n",
    "plt.title('Linear Regression Fit for x1')\n",
    "plt.legend()"
   ]
  },
  {
   "cell_type": "markdown",
   "id": "9e37a477",
   "metadata": {},
   "source": [
    "<br><br> **For x2**"
   ]
  },
  {
   "cell_type": "code",
   "execution_count": 67,
   "id": "5f56b6bf",
   "metadata": {},
   "outputs": [
    {
     "data": {
      "text/plain": [
       "<matplotlib.legend.Legend at 0x7fa49e96dd60>"
      ]
     },
     "execution_count": 67,
     "metadata": {},
     "output_type": "execute_result"
    },
    {
     "data": {
      "image/png": "[encoded data removed]",
      "text/plain": [
       "<Figure size 720x432 with 1 Axes>"
      ]
     },
     "metadata": {
      "needs_background": "light"
     },
     "output_type": "display_data"
    }
   ],
   "source": [
    "# Since X2 is list of list (feature matrix) lets take values of column of index 1 only\n",
    "plt.scatter(x_2[:,1], y, color='red', marker= '+', label= 'Training Data')\n",
    "plt.plot(x_2[:,1],x_2.dot(thetaOfX2), color='green', label='Linear Regression')\n",
    "\n",
    "plt.rcParams[\"figure.figsize\"] = (10,6)\n",
    "plt.grid()\n",
    "plt.xlabel('Explanatory Variable [x2]')\n",
    "plt.ylabel('Dependent Variable [y]')\n",
    "plt.title('Linear Regression Fit for x2')\n",
    "plt.legend()"
   ]
  },
  {
   "cell_type": "markdown",
   "id": "d81c938f",
   "metadata": {},
   "source": [
    "<br><br> **For x3**"
   ]
  },
  {
   "cell_type": "code",
   "execution_count": 68,
   "id": "824c91fb",
   "metadata": {
    "scrolled": false
   },
   "outputs": [
    {
     "data": {
      "text/plain": [
       "<matplotlib.legend.Legend at 0x7fa49e8ba7f0>"
      ]
     },
     "execution_count": 68,
     "metadata": {},
     "output_type": "execute_result"
    },
    {
     "data": {
      "image/png": "[encoded data removed]",
      "text/plain": [
       "<Figure size 720x432 with 1 Axes>"
      ]
     },
     "metadata": {
      "needs_background": "light"
     },
     "output_type": "display_data"
    }
   ],
   "source": [
    "# Since X3 is list of list (feature matrix) lets take values of column of index 1 only\n",
    "plt.scatter(x_3[:,1], y, color='red', marker= '+', label= 'Training Data')\n",
    "plt.plot(x_3[:,1],x_3.dot(thetaOfX3), color='green', label='Linear Regression')\n",
    "\n",
    "plt.rcParams[\"figure.figsize\"] = (10,6)\n",
    "plt.grid()\n",
    "plt.xlabel('Explanatory Variable [x3]')\n",
    "plt.ylabel('Dependent Variable [y]')\n",
    "plt.title('Linear Regression Fit for x3')\n",
    "plt.legend()\n"
   ]
  },
  {
   "cell_type": "markdown",
   "id": "3b53749b",
   "metadata": {},
   "source": [
    "<br>\n",
    "--------------------------------------------------------------------------------------------------------------------------------------\n",
    "<br>\n",
    "\n",
    "#### -SEVENTH step , plot the *Convergence of gradient descent for cost history* for all Xs**\n",
    "<br><br> > cost_history contains the values of cost for every iteration performed during batch gradient descent\n",
    "<br> > Values of cost against no of iterations to visualize the performance of the Gradient Descent Algorithm is plotted"
   ]
  },
  {
   "cell_type": "markdown",
   "id": "22c83300",
   "metadata": {},
   "source": [
    "<br><br> **For x1**"
   ]
  },
  {
   "cell_type": "code",
   "execution_count": 69,
   "id": "242f80a3",
   "metadata": {
    "scrolled": false
   },
   "outputs": [
    {
     "data": {
      "text/plain": [
       "Text(0.5, 1.0, 'Convergence of gradient descent for cost history of x1')"
      ]
     },
     "execution_count": 69,
     "metadata": {},
     "output_type": "execute_result"
    },
    {
     "data": {
      "image/png": "[encoded data removed]",
      "text/plain": [
       "<Figure size 720x432 with 1 Axes>"
      ]
     },
     "metadata": {
      "needs_background": "light"
     },
     "output_type": "display_data"
    }
   ],
   "source": [
    "plt.plot(range(1, iterations + 1),cost_historyOfX1, color='blue')\n",
    "plt.rcParams[\"figure.figsize\"] = (10,6)\n",
    "plt.grid()\n",
    "plt.xlabel('Number of iterations')\n",
    "plt.ylabel('Cost (J)')\n",
    "plt.title('Convergence of gradient descent for cost history of x1')"
   ]
  },
  {
   "cell_type": "markdown",
   "id": "3feb4f8c",
   "metadata": {},
   "source": [
    "<br><br> **For x2**"
   ]
  },
  {
   "cell_type": "code",
   "execution_count": 70,
   "id": "23cfdf00",
   "metadata": {},
   "outputs": [
    {
     "data": {
      "text/plain": [
       "Text(0.5, 1.0, 'Convergence of gradient descent for cost history of x2')"
      ]
     },
     "execution_count": 70,
     "metadata": {},
     "output_type": "execute_result"
    },
    {
     "data": {
      "image/png": "[encoded data removed]",
      "text/plain": [
       "<Figure size 720x432 with 1 Axes>"
      ]
     },
     "metadata": {
      "needs_background": "light"
     },
     "output_type": "display_data"
    }
   ],
   "source": [
    "plt.plot(range(1, iterations + 1),cost_historyOfX2, color='blue')\n",
    "plt.rcParams[\"figure.figsize\"] = (10,6)\n",
    "plt.grid()\n",
    "plt.xlabel('Number of iterations')\n",
    "plt.ylabel('Cost (J)')\n",
    "plt.title('Convergence of gradient descent for cost history of x2')"
   ]
  },
  {
   "cell_type": "markdown",
   "id": "6c811c3f",
   "metadata": {},
   "source": [
    "<br><br> **For x3**"
   ]
  },
  {
   "cell_type": "code",
   "execution_count": 71,
   "id": "4a10fe76",
   "metadata": {
    "scrolled": false
   },
   "outputs": [
    {
     "data": {
      "text/plain": [
       "Text(0.5, 1.0, 'Convergence of gradient descent for cost history of x3')"
      ]
     },
     "execution_count": 71,
     "metadata": {},
     "output_type": "execute_result"
    },
    {
     "data": {
      "image/png": "[encoded data removed]",
      "text/plain": [
       "<Figure size 720x432 with 1 Axes>"
      ]
     },
     "metadata": {
      "needs_background": "light"
     },
     "output_type": "display_data"
    }
   ],
   "source": [
    "plt.plot(range(1, iterations + 1),cost_historyOfX3, color='blue')\n",
    "plt.rcParams[\"figure.figsize\"] = (10,6)\n",
    "plt.grid()\n",
    "plt.xlabel('Number of iterations')\n",
    "plt.ylabel('Cost (J)')\n",
    "plt.title('Convergence of gradient descent for cost history of x3')"
   ]
  },
  {
   "cell_type": "markdown",
   "id": "3543fb80",
   "metadata": {},
   "source": [
    "<br>\n",
    "--------------------------------------------------------------------------------------------------------------------------------------\n",
    "<br><br>\n",
    "\n",
    "####  -EIGHTH step, test the linear model with a arbitrary value of x.\n",
    "<br><br> **Using theta of x1**"
   ]
  },
  {
   "cell_type": "code",
   "execution_count": 72,
   "id": "15e74e54",
   "metadata": {},
   "outputs": [
    {
     "name": "stdout",
     "output_type": "stream",
     "text": [
      "Using theta derived from the gradient decent function with input x1,we can predict for a arbitratry variable of x = 0.5, our prediction of y is  4.397351887745785\n"
     ]
    }
   ],
   "source": [
    "predictTest = np.array([1, 0.5]).dot(thetaOfX1)\n",
    "print(\"Using theta derived from the gradient decent function with input x1,we can predict for a arbitratry variable of x = 0.5, our prediction of y is \", predictTest)"
   ]
  },
  {
   "cell_type": "markdown",
   "id": "c439c67f",
   "metadata": {},
   "source": [
    "<br><br> **Using theta of x2**"
   ]
  },
  {
   "cell_type": "code",
   "execution_count": 73,
   "id": "bc26b302",
   "metadata": {},
   "outputs": [
    {
     "name": "stdout",
     "output_type": "stream",
     "text": [
      "Using theta derived from the gradient decent function with input x2,we can predict for a arbitratry variable of x = 0.5, our prediction of y is  0.9753672579275247\n"
     ]
    }
   ],
   "source": [
    "predictTest = np.array([1, 0.5]).dot(thetaOfX2)\n",
    "print(\"Using theta derived from the gradient decent function with input x2,we can predict for a arbitratry variable of x = 0.5, our prediction of y is \", predictTest)"
   ]
  },
  {
   "cell_type": "markdown",
   "id": "7b5b01b4",
   "metadata": {},
   "source": [
    "<br><br> **Using theta of x3**"
   ]
  },
  {
   "cell_type": "code",
   "execution_count": 74,
   "id": "8af05e37",
   "metadata": {},
   "outputs": [
    {
     "name": "stdout",
     "output_type": "stream",
     "text": [
      "Using theta derived from the gradient decent function with input x3,we can predict for an arbitratry variable of x = 0.5, our prediction of y is  2.3863609643654233\n"
     ]
    }
   ],
   "source": [
    "predictTest = np.array([1, 0.5]).dot(thetaOfX3)\n",
    "print(\"Using theta derived from the gradient decent function with input x3,we can predict for an arbitratry variable of x = 0.5, our prediction of y is \", predictTest)"
   ]
  },
  {
   "cell_type": "markdown",
   "id": "c860390e",
   "metadata": {},
   "source": [
    "<br>\n",
    "--------------------------------------------------------------------------------------------------------------------------------------\n",
    "<br><br>\n",
    "--------------------------------------------------------------------------------------------------------------------------------------\n",
    "<br><br>"
   ]
  },
  {
   "cell_type": "markdown",
   "id": "951945b3",
   "metadata": {},
   "source": [
    "## OBSERVATIONS\n",
    "<br><br> \n",
    "#### QUESTIONS 3 & 4\n",
    "<br>**Cost** for all three explanatory variables are:\n",
    "<br>        cost for x1 = 0.98499591\n",
    "<br>        cost for x2 = 3.59967283\n",
    "<br>        cost for x3 = 3.63966021\n",
    "<br> **x1** has the lowest cost.\n",
    "\n",
    "<br><br>For the experiment i had a fixed number of iterations(1000) and i settled for a fixed learning rate of 0.01. i noticed  that with the increse of the learning rate, the steeper the curve in Convergence graph and the higher the learning rate the shallower the curve\n",
    "\n"
   ]
  }
 ],
 "metadata": {
  "kernelspec": {
   "display_name": "Python 3 (ipykernel)",
   "language": "python",
   "name": "python3"
  },
  "language_info": {
   "codemirror_mode": {
    "name": "ipython",
    "version": 3
   },
   "file_extension": ".py",
   "mimetype": "text/x-python",
   "name": "python",
   "nbconvert_exporter": "python",
   "pygments_lexer": "ipython3",
   "version": "3.8.10"
  }
 },
 "nbformat": 4,
 "nbformat_minor": 5
}
