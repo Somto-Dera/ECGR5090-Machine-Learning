{
 "cells": [
  {
   "cell_type": "markdown",
   "id": "9381d89d",
   "metadata": {},
   "source": [
    "**NAME:** SOMTO A.\n",
    "<br>**ID:** 801215537\n",
    "<br>**HW#:** 0\n",
    "<br>**GITHUB:** *https://github.com/Somto-Dera/ECGR5090-Machine-Learning*"
   ]
  },
  {
   "cell_type": "markdown",
   "id": "0d56e576",
   "metadata": {},
   "source": [
    "##  PROBLEM 2:  <br>\n",
    "            This time, run linear regression with gradient descent algorithm using all three explanatory variables. For the learning rate, explore different values between 0.1 and 0.01 (your choice). Initialize your parameters (theta to zero). Finally discuss your results."
   ]
  },
  {
   "cell_type": "markdown",
   "id": "a016c4ec",
   "metadata": {},
   "source": [
    "### Problem 1 Pseudocode:  \n",
    "<br>-import necessary libraries\n",
    "<br>-load D3.csv dataset \n",
    "<br>-create a cost function\n",
    "<br>-create gradient descent function\n",
    "<br>-call gradient descent function to get values for theta and cost history in relation to the explanatory variables\n",
    "<br>-plot a convergence of gradient descent graph with cost history. \n",
    "<br>-plot a graph showing the effect of changing the learning rate in convergence of the gradient descent with cost history.\n",
    "<br>-test result with specific values for variables of x."
   ]
  },
  {
   "cell_type": "markdown",
   "id": "e4e66385",
   "metadata": {},
   "source": [
    "----------------------------------------------------------------------------------------------------------------------------------------------------------------------------------------------------------------------------------------"
   ]
  },
  {
   "cell_type": "markdown",
   "id": "3f58b46f",
   "metadata": {},
   "source": [
    "------------------------------------------------------------------------"
   ]
  },
  {
   "cell_type": "markdown",
   "id": "760dc243",
   "metadata": {},
   "source": [
    "**-FIRST step is to import the necessary libraries**\n",
    "<br><br> >*numpy* is used for array and matrics manipulation.\n",
    "<br> >*pandas* is used for data manipulation and analysis.\n",
    "<br> >*matplotlib* is used for data visualisation"
   ]
  },
  {
   "cell_type": "code",
   "execution_count": 28,
   "id": "f52f7c58",
   "metadata": {},
   "outputs": [],
   "source": [
    "#import necessary library\n",
    "import numpy as np\n",
    "import pandas as pd\n",
    "import matplotlib.pyplot as plt"
   ]
  },
  {
   "cell_type": "markdown",
   "id": "d704b8c9",
   "metadata": {},
   "source": [
    "<br>\n",
    "--------------------------------------------------------------------------------------------------------------------------------------\n",
    "<br><br>\n",
    "\n",
    "**-SECOND step, load dataset D3.csv into variable 'dataset'**\n",
    "<br><br> >This dataset was provided by this HW. It contains 4 columns, the first 3 columns are explanatory variables x1, x2, x3; and the final/fourth column is the dependent variable y. It has 100 training examples per column."
   ]
  },
  {
   "cell_type": "code",
   "execution_count": 29,
   "id": "a8aca54e",
   "metadata": {},
   "outputs": [
    {
     "data": {
      "text/html": [
       "<div>\n",
       "<style scoped>\n",
       "    .dataframe tbody tr th:only-of-type {\n",
       "        vertical-align: middle;\n",
       "    }\n",
       "\n",
       "    .dataframe tbody tr th {\n",
       "        vertical-align: top;\n",
       "    }\n",
       "\n",
       "    .dataframe thead th {\n",
       "        text-align: right;\n",
       "    }\n",
       "</style>\n",
       "<table border=\"1\" class=\"dataframe\">\n",
       "  <thead>\n",
       "    <tr style=\"text-align: right;\">\n",
       "      <th></th>\n",
       "      <th>x1</th>\n",
       "      <th>x2</th>\n",
       "      <th>x3</th>\n",
       "      <th>y</th>\n",
       "    </tr>\n",
       "  </thead>\n",
       "  <tbody>\n",
       "    <tr>\n",
       "      <th>0</th>\n",
       "      <td>0.000000</td>\n",
       "      <td>3.440000</td>\n",
       "      <td>0.440000</td>\n",
       "      <td>4.387545</td>\n",
       "    </tr>\n",
       "    <tr>\n",
       "      <th>1</th>\n",
       "      <td>0.040404</td>\n",
       "      <td>0.134949</td>\n",
       "      <td>0.888485</td>\n",
       "      <td>2.679650</td>\n",
       "    </tr>\n",
       "    <tr>\n",
       "      <th>2</th>\n",
       "      <td>0.080808</td>\n",
       "      <td>0.829899</td>\n",
       "      <td>1.336970</td>\n",
       "      <td>2.968490</td>\n",
       "    </tr>\n",
       "    <tr>\n",
       "      <th>3</th>\n",
       "      <td>0.121212</td>\n",
       "      <td>1.524848</td>\n",
       "      <td>1.785455</td>\n",
       "      <td>3.254065</td>\n",
       "    </tr>\n",
       "    <tr>\n",
       "      <th>4</th>\n",
       "      <td>0.161616</td>\n",
       "      <td>2.219798</td>\n",
       "      <td>2.233939</td>\n",
       "      <td>3.536375</td>\n",
       "    </tr>\n",
       "  </tbody>\n",
       "</table>\n",
       "</div>"
      ],
      "text/plain": [
       "         x1        x2        x3         y\n",
       "0  0.000000  3.440000  0.440000  4.387545\n",
       "1  0.040404  0.134949  0.888485  2.679650\n",
       "2  0.080808  0.829899  1.336970  2.968490\n",
       "3  0.121212  1.524848  1.785455  3.254065\n",
       "4  0.161616  2.219798  2.233939  3.536375"
      ]
     },
     "execution_count": 29,
     "metadata": {},
     "output_type": "execute_result"
    }
   ],
   "source": [
    "dataset = pd.read_csv('D3.csv')\n",
    "dataset.head() # To get first n rows from the dataset default value of n is 5"
   ]
  },
  {
   "cell_type": "code",
   "execution_count": 30,
   "id": "2cd02a58",
   "metadata": {},
   "outputs": [],
   "source": [
    "X = dataset.values[:, 0:3]  # get input values from first column\n",
    "y = dataset.values[:, 3]  # get output values from second column\n",
    "m = len(y) # Number of training examples"
   ]
  },
  {
   "cell_type": "code",
   "execution_count": 31,
   "id": "0ffa5e60",
   "metadata": {},
   "outputs": [
    {
     "data": {
      "text/plain": [
       "Text(0.5, 1.0, 'SCATTER PLOT OF TRAINING DATA\\nred is x1 | yellow is x2 | blue is x3')"
      ]
     },
     "execution_count": 31,
     "metadata": {},
     "output_type": "execute_result"
    },
    {
     "data": {
      "image/png": "[encoded data removed]",
      "text/plain": [
       "<Figure size 720x432 with 1 Axes>"
      ]
     },
     "metadata": {
      "needs_background": "light"
     },
     "output_type": "display_data"
    }
   ],
   "source": [
    "plt.scatter(dataset.values[:, 0],y, color='red',marker= '+')\n",
    "plt.scatter(dataset.values[:, 1],y, color='yellow',marker= '+')\n",
    "plt.scatter(dataset.values[:, 2],y, color='blue',marker= '+')\n",
    "plt.grid()\n",
    "plt.rcParams[\"figure.figsize\"] = (12,8)\n",
    "plt.xlabel('Explanatory Variables')\n",
    "plt.ylabel('Dependent Variables')\n",
    "plt.title('SCATTER PLOT OF TRAINING DATA\\nred is x1 | yellow is x2 | blue is x3')"
   ]
  },
  {
   "cell_type": "markdown",
   "id": "e352f05f",
   "metadata": {},
   "source": [
    "<br>\n",
    "--------------------------------------------------------------------------------------------------------------------------------------\n",
    "<br><br>\n",
    "\n",
    "**-THIRD step, create a cost function**\n",
    "<br><br> >The hypotheis function is h(θ,x)= θ_0 + θ_1 * x_1\n",
    "<br> >Matrix operations are much faster than loops operations, so matrice of x, θ and (x * θ) were used\n",
    "<br>"
   ]
  },
  {
   "cell_type": "code",
   "execution_count": 32,
   "id": "b0c69327",
   "metadata": {},
   "outputs": [],
   "source": [
    "# Lets use hstack() function from numpy to add column of ones to X feature \n",
    "# This will be our final X matrix (feature matrix)\n",
    "x = np.hstack((np.ones((m,1)), X))"
   ]
  },
  {
   "cell_type": "markdown",
   "id": "41b0fe5c",
   "metadata": {},
   "source": [
    "**Explanation of *compute-cost* function for linear regression**.\n",
    "<br>**Input Parameters**\n",
    "<br> *'X' :* 2D array where each row represent the training example and each column represent the feature ndarray. Dimension(m x n)\n",
    "<br> *'m' :* number of training examples\n",
    "<br> *'n' :* number of features (including X_0 column of ones)\n",
    "<br> *'y' :* 1D array of labels/target value for each traing example. dimension(1 x m)\n",
    "<br> *'theta' :* 1D array of fitting parameters or weights. Dimension (1 x n)\n",
    "<br><br>**Output Parameters**\n",
    "<br> *'J' :* Scalar value.\n",
    "<br><br>**Library Functions Used**\n",
    "<br> *numpy.dot()* returns the product of two arrays.\n",
    "<br> *numpy.subtract()* performs vector entree subtraction\n",
    "<br> *numpy.square()* performs the vector entree square"
   ]
  },
  {
   "cell_type": "code",
   "execution_count": 33,
   "id": "eab74cab",
   "metadata": {},
   "outputs": [],
   "source": [
    "def compute_cost(X, y, theta):\n",
    "    predictions = X.dot(theta)\n",
    "    errors = np.subtract(predictions, y)\n",
    "    sqrErrors = np.square(errors)\n",
    "    #J = 1 / (2 * m) * np.sum(sqrErrors)\n",
    "    J = 1 / (2 * m) * errors.T.dot(errors)\n",
    "    \n",
    "    return J"
   ]
  },
  {
   "cell_type": "markdown",
   "id": "926a2450",
   "metadata": {},
   "source": [
    "<br>\n",
    "--------------------------------------------------------------------------------------------------------------------------------------\n",
    "<br><br>\n",
    "\n",
    "**-FOURTH step, create a *gradient_descent* function**\n",
    "<br><br> > Uses for loop to compute theta using batch gradient descent algorithm.\n",
    "<br> > Each value theta value is used to compute cost.Result is stored in a list.\n",
    "<br> > Cost should decrease with every iteration.\n",
    "<br> > Returns new theta and cost history variable"
   ]
  },
  {
   "cell_type": "markdown",
   "id": "9c4ceaa8",
   "metadata": {},
   "source": [
    "**Explanation of *gradient_descent* function for linear regression**.\n",
    "<br>**Input Parameters**\n",
    "<br> *'X' :* 2D array where each row represent the training example and each column represent the feature ndarray. Dimension(m x n)\n",
    "<br> *'m' :* number of training examples\n",
    "<br> *'n' :* number of features (including X_0 column of ones)\n",
    "<br> *'y' :* 1D array of labels/target value for each traing example. dimension(1 x m)\n",
    "<br> *'theta' :* 1D array of fitting parameters or weights. Dimension (1 x n)\n",
    "<br> *'alpha' :* Learning rate. Scalar value\n",
    "<br> *'theta' :* 1D array of fitting parameters or weights. Dimension (1 x n)\n",
    "<br> *'iterations':* No of iterations. Scalar value. \n",
    "<br><br>**Output Parameters**\n",
    "<br> *'theta' :*  Final Value. 1D array of fitting parameters or weights. Dimension (1 x n)\n",
    "<br> *'cost_history' :* Conatins value of cost for each iteration. 1D array. Dimansion(m x 1)\n",
    "\n",
    "<br><br>**Library Functions Used**\n",
    "<br> *numpy.dot()* returns the product of two arrays\n",
    "<br> *numpy.subtract()* performs vector entree subtraction\n",
    "<br> *numpy.transpose()* reverse or permute the axes of an array\n"
   ]
  },
  {
   "cell_type": "code",
   "execution_count": 34,
   "id": "a9b7b96e",
   "metadata": {},
   "outputs": [],
   "source": [
    "def gradient_descent(X, y, theta, alpha, iterations):\n",
    "    cost_history = np.zeros(iterations)\n",
    "    \n",
    "    for i in range(iterations):\n",
    "        predictions = X.dot(theta)\n",
    "        errors = np.subtract(predictions, y)\n",
    "        sum_delta = (alpha / m) * X.transpose().dot(errors);\n",
    "        theta = theta - sum_delta;\n",
    "        \n",
    "        cost_history[i] = compute_cost(X, y, theta)\n",
    "        \n",
    "    return theta, cost_history"
   ]
  },
  {
   "cell_type": "code",
   "execution_count": 35,
   "id": "99d8f253",
   "metadata": {},
   "outputs": [
    {
     "data": {
      "text/plain": [
       "array([0., 0., 0., 0.])"
      ]
     },
     "execution_count": 35,
     "metadata": {},
     "output_type": "execute_result"
    }
   ],
   "source": [
    "#Initialise theta to zero as recommended by the hw question\n",
    "theta = np.zeros(4)\n",
    "\n",
    "# declare and assign values to the gradient descent learning parameters alpha and no of iterations\n",
    "#iterations = 800;\n",
    "#alpha = 0.04;\n",
    "iterations =1000;\n",
    "alpha = 0.04;\n",
    "\n",
    "theta"
   ]
  },
  {
   "cell_type": "markdown",
   "id": "eeb00aff",
   "metadata": {},
   "source": [
    "##### QUESTION 1"
   ]
  },
  {
   "cell_type": "markdown",
   "id": "f9a14390",
   "metadata": {},
   "source": [
    "<br>\n",
    "--------------------------------------------------------------------------------------------------------------------------------------\n",
    "<br><br>\n",
    "\n",
    "**-FIFTH step, call *gradient_descent* function for x input values**\n",
    "<br><br> > *gradient_descent* function returns optimal theta and cost history.\n",
    "<br> > values are printed to screen"
   ]
  },
  {
   "cell_type": "code",
   "execution_count": 36,
   "id": "72b47326",
   "metadata": {
    "scrolled": true
   },
   "outputs": [
    {
     "name": "stdout",
     "output_type": "stream",
     "text": [
      "Final value of theta = [ 5.21863739 -1.99022411  0.54834904 -0.25159914]\n",
      "First 5 values from cost_history = [4.51455638 4.13668881 3.89647561 3.69896902 3.52454515]\n",
      "Last 5 values from cost_history = [0.73896615 0.73896216 0.73895819 0.73895426 0.73895036]\n"
     ]
    }
   ],
   "source": [
    "mainTheta, cost_history = gradient_descent(x, y, theta, alpha, iterations)\n",
    "print('Final value of theta =', mainTheta)\n",
    "print('First 5 values from cost_history =', cost_history[:5])\n",
    "print('Last 5 values from cost_history =', cost_history[-5 :])"
   ]
  },
  {
   "cell_type": "markdown",
   "id": "691ccd89",
   "metadata": {},
   "source": [
    "<br>\n",
    "--------------------------------------------------------------------------------------------------------------------------------------\n",
    "<br><br>\n",
    "\n",
    "**-SIXTH step, plot the *Convergence of Gradient Descent*.**\n",
    "<br><br> > The gradient descent function returns the optimal value of theta\n",
    "<br> > Plot the values of cost against no of iterations to visualize the performance of the Gradient Descent Algorithm\n",
    "<br> > Plot\n",
    "<br> > \n",
    "<br> > "
   ]
  },
  {
   "cell_type": "markdown",
   "id": "fb3fba15",
   "metadata": {},
   "source": [
    "##### QUESTION 2"
   ]
  },
  {
   "cell_type": "code",
   "execution_count": 37,
   "id": "87146d2c",
   "metadata": {},
   "outputs": [
    {
     "data": {
      "text/plain": [
       "Text(0.5, 1.0, 'Convergence of gradient descent')"
      ]
     },
     "execution_count": 37,
     "metadata": {},
     "output_type": "execute_result"
    },
    {
     "data": {
      "image/png": "[encoded data removed]",
      "text/plain": [
       "<Figure size 864x576 with 1 Axes>"
      ]
     },
     "metadata": {
      "needs_background": "light"
     },
     "output_type": "display_data"
    }
   ],
   "source": [
    "plt.plot(range(1, iterations +1), cost_history, color ='blue')\n",
    "plt.rcParams[\"figure.figsize\"] = (10,6)\n",
    "plt.grid()\n",
    "plt.xlabel(\"Number of iterations\")\n",
    "plt.ylabel(\"cost (J)\")\n",
    "plt.title(\"Convergence of gradient descent\")"
   ]
  },
  {
   "cell_type": "markdown",
   "id": "7b2a54b8",
   "metadata": {},
   "source": [
    "##### QUESTION 3"
   ]
  },
  {
   "cell_type": "markdown",
   "id": "b03ecf4b",
   "metadata": {},
   "source": [
    "**-SEVENTH STEP, plot the graph showing the effect of learning rate on the Convergence of gradient descent**\n",
    "<br><br>\n",
    "<br>"
   ]
  },
  {
   "cell_type": "code",
   "execution_count": 38,
   "id": "ce7a26d3",
   "metadata": {
    "scrolled": true
   },
   "outputs": [
    {
     "data": {
      "text/plain": [
       "<matplotlib.legend.Legend at 0x7f6b02bdafa0>"
      ]
     },
     "execution_count": 38,
     "metadata": {},
     "output_type": "execute_result"
    },
    {
     "data": {
      "image/png": "[encoded data removed]",
      "text/plain": [
       "<Figure size 720x432 with 1 Axes>"
      ]
     },
     "metadata": {
      "needs_background": "light"
     },
     "output_type": "display_data"
    }
   ],
   "source": [
    "iterations = 1000;\n",
    "theta = np.zeros(4)\n",
    "\n",
    "alpha = 0.01;\n",
    "theta_1, cost_history_1 = gradient_descent(x, y, theta, alpha, iterations)\n",
    "\n",
    "alpha = 0.03;\n",
    "theta_2, cost_history_2 = gradient_descent(x, y, theta, alpha, iterations)\n",
    "\n",
    "alpha = 0.05;\n",
    "theta_3, cost_history_3 = gradient_descent(x, y, theta, alpha, iterations)\n",
    "\n",
    "alpha = 0.08;\n",
    "theta_4, cost_history_4 = gradient_descent(x, y, theta, alpha, iterations)\n",
    "\n",
    "alpha = 0.10;\n",
    "theta_5, cost_history_5 = gradient_descent(x, y, theta, alpha, iterations)\n",
    "\n",
    "plt.plot(range(1, iterations +1), cost_history_1, color ='purple', label = 'alpha = 0.01')\n",
    "plt.plot(range(1, iterations +1), cost_history_2, color ='red', label = 'alpha = 0.03')\n",
    "plt.plot(range(1, iterations +1), cost_history_3, color ='green', label = 'alpha = 0.05')\n",
    "plt.plot(range(1, iterations +1), cost_history_4, color ='yellow', label = 'alpha = 0.08')\n",
    "plt.plot(range(1, iterations +1), cost_history_5, color ='blue', label = 'alpha = 0.10')\n",
    "\n",
    "plt.rcParams[\"figure.figsize\"] = (10,6)\n",
    "plt.grid()\n",
    "plt.xlabel(\"Number of iterations\")\n",
    "plt.ylabel(\"cost (J)\")\n",
    "plt.title(\"Effect of Learning Rate On Convergence of Gradient Descent\")\n",
    "plt.legend()\n"
   ]
  },
  {
   "cell_type": "markdown",
   "id": "ace7e02b",
   "metadata": {},
   "source": [
    "##### QUESTION 4"
   ]
  },
  {
   "cell_type": "markdown",
   "id": "9754209a",
   "metadata": {},
   "source": [
    "**-EIGHTH STEP, test the prediction capabilities of the model**\n",
    "<br><br> Checking the predict values using the theta value gotten from the gradient descent algorithm and specific x values.\n",
    "<br> "
   ]
  },
  {
   "cell_type": "code",
   "execution_count": 39,
   "id": "ef38d303",
   "metadata": {
    "scrolled": false
   },
   "outputs": [
    {
     "name": "stdout",
     "output_type": "stream",
     "text": [
      "Using theta derived from the gradient decent function, we can predict for 'x' variable of x = [1, 1, 1], our prediction of y is  3.5251631845177074\n"
     ]
    }
   ],
   "source": [
    "predictTest1 = np.array([1, 1, 1, 1]).dot(mainTheta)\n",
    "print(\"Using theta derived from the gradient decent function, we can predict for 'x' variable of x = [1, 1, 1], our prediction of y is \", predictTest1)"
   ]
  },
  {
   "cell_type": "code",
   "execution_count": 40,
   "id": "c422147f",
   "metadata": {},
   "outputs": [
    {
     "name": "stdout",
     "output_type": "stream",
     "text": [
      "Using theta derived from the gradient decent function, we can predict for specific 'x' variable of x = [2, 0, 4], our prediction of y is  0.23179261410386265\n"
     ]
    }
   ],
   "source": [
    "\n",
    "predictTest2 = np.array([1, 2, 0, 4]).dot(mainTheta)\n",
    "print(\"Using theta derived from the gradient decent function, we can predict for specific 'x' variable of x = [2, 0, 4], our prediction of y is \", predictTest2)"
   ]
  },
  {
   "cell_type": "code",
   "execution_count": 41,
   "id": "e109b602",
   "metadata": {},
   "outputs": [
    {
     "name": "stdout",
     "output_type": "stream",
     "text": [
      "Using theta derived from the gradient decent function, we can predict for specific 'x' variable of x = [3, 2, 1], our prediction of y is  0.09306401330394026\n"
     ]
    }
   ],
   "source": [
    "predictTest3 = np.array([1, 3, 2, 1]).dot(mainTheta)\n",
    "print(\"Using theta derived from the gradient decent function, we can predict for specific 'x' variable of x = [3, 2, 1], our prediction of y is \", predictTest3)"
   ]
  },
  {
   "cell_type": "markdown",
   "id": "4fbe7e77",
   "metadata": {},
   "source": [
    "<br>\n",
    "--------------------------------------------------------------------------------------------------------------------------------------\n",
    "<br><br>\n",
    "--------------------------------------------------------------------------------------------------------------------------------------\n",
    "<br><br>"
   ]
  },
  {
   "cell_type": "markdown",
   "id": "c61feef4",
   "metadata": {},
   "source": [
    "## OBSERVATIONS\n",
    "<br>\n",
    "\n",
    "<br><br>For the experiment i had a fixed number of iterations(1000). i noticed  that with the increase of the learning rate, the steeper the curve in Convergence graph and the higher the learning rate the shallower the curve. \n",
    "\n"
   ]
  }
 ],
 "metadata": {
  "kernelspec": {
   "display_name": "Python 3 (ipykernel)",
   "language": "python",
   "name": "python3"
  },
  "language_info": {
   "codemirror_mode": {
    "name": "ipython",
    "version": 3
   },
   "file_extension": ".py",
   "mimetype": "text/x-python",
   "name": "python",
   "nbconvert_exporter": "python",
   "pygments_lexer": "ipython3",
   "version": "3.8.10"
  }
 },
 "nbformat": 4,
 "nbformat_minor": 5
}
