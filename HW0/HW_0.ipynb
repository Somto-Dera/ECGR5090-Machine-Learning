{
 "cells": [
  {
   "cell_type": "markdown",
   "id": "4f3ed290",
   "metadata": {},
   "source": [
    "# HW0"
   ]
  },
  {
   "cell_type": "markdown",
   "id": "e3c15872",
   "metadata": {},
   "source": [
    "**NAME :** SOMTO A.<br>\n",
    "**HW # :** 0<br>\n",
    "**REPO:** *https://github.com/Somto-Dera/ECGR5090-Machine-Learning*<br>"
   ]
  },
  {
   "cell_type": "markdown",
   "id": "81b2449a",
   "metadata": {},
   "source": [
    "####  PROBLEM 1:  <br>\n",
    "- Develop a code that run linear regression with gradient decent algorithm for each of the explanatory variables in isolation.\n",
    "- In this case, you assume that in each iteration, only one explanatory variable (either X1, or X2, or X3) is explaining the output. Basically, you need to do three different training, one per each explanatory variable. For the learning rate, explore different values between 0.1 and 0.01 (your choice). Initialize your parameters to zero (theta to zero).\n",
    "- Finally discuss your results."
   ]
  },
  {
   "cell_type": "markdown",
   "id": "a806af34",
   "metadata": {},
   "source": [
    "####  PROBLEM 2:  <br>\n",
    "- Run linear regression with gradient descent algorithm using all three explanatory variables.\n",
    "- For the learning rate, explore different values between 0.1 and 0.01 (your choice). Initialize your parameters (theta to zero).\n",
    "- Finally discuss your results."
   ]
  },
  {
   "cell_type": "markdown",
   "id": "7a6efc5e",
   "metadata": {},
   "source": [
    "### Steps :\n",
    "- import necessary libraries.\n",
    "- load D3.csv dataset.\n",
    "- preprocess data\n",
    "- create a cost function.\n",
    "- create gradient descent function.\n",
    "- *Problem 1*\n",
    "    - call gradient descent function three time(x1,x2,x3) to get values for theta and cost history in relation to each explanatory variable.\n",
    "    - plot a linear regression fit graph with training data (x and y variables), and linear regresion(x, x.theta). Do three times for x1, x2 and x3.\n",
    "    - plot a convergence of gradient descent graph with cost history. Do three times for x1, x2 and x3.\n",
    "    - test result with a random variable of x. Do three times for x1, x2 and x3.\n",
    "- *Problem 2*\n",
    "    - dataset preprocess.\n",
    "    - plot a graph showing the effect of changing the learning rate in convergence of the gradient descent with cost history.\n",
    "    - test result with specific values for variables of x."
   ]
  },
  {
   "cell_type": "markdown",
   "id": "7df7b98f",
   "metadata": {},
   "source": [
    "________________________________________________________________________________________________________________"
   ]
  },
  {
   "cell_type": "markdown",
   "id": "3eb084cd",
   "metadata": {},
   "source": [
    "----------------------------------------------------------------------------------------------------------------"
   ]
  },
  {
   "cell_type": "code",
   "execution_count": 1,
   "id": "7dff1d95",
   "metadata": {},
   "outputs": [],
   "source": [
    "# import needed libraries\n",
    "import numpy as np          # for array and matrics manipulation\n",
    "import pandas as pd          # for data manipulation and analysis\n",
    "import matplotlib.pyplot as plt          # for data visualisation"
   ]
  },
  {
   "cell_type": "code",
   "execution_count": 2,
   "id": "792f5de1",
   "metadata": {},
   "outputs": [
    {
     "data": {
      "text/html": [
       "<div>\n",
       "<style scoped>\n",
       "    .dataframe tbody tr th:only-of-type {\n",
       "        vertical-align: middle;\n",
       "    }\n",
       "\n",
       "    .dataframe tbody tr th {\n",
       "        vertical-align: top;\n",
       "    }\n",
       "\n",
       "    .dataframe thead th {\n",
       "        text-align: right;\n",
       "    }\n",
       "</style>\n",
       "<table border=\"1\" class=\"dataframe\">\n",
       "  <thead>\n",
       "    <tr style=\"text-align: right;\">\n",
       "      <th></th>\n",
       "      <th>x1</th>\n",
       "      <th>x2</th>\n",
       "      <th>x3</th>\n",
       "      <th>y</th>\n",
       "    </tr>\n",
       "  </thead>\n",
       "  <tbody>\n",
       "    <tr>\n",
       "      <th>0</th>\n",
       "      <td>0.000000</td>\n",
       "      <td>3.440000</td>\n",
       "      <td>0.440000</td>\n",
       "      <td>4.387545</td>\n",
       "    </tr>\n",
       "    <tr>\n",
       "      <th>1</th>\n",
       "      <td>0.040404</td>\n",
       "      <td>0.134949</td>\n",
       "      <td>0.888485</td>\n",
       "      <td>2.679650</td>\n",
       "    </tr>\n",
       "    <tr>\n",
       "      <th>2</th>\n",
       "      <td>0.080808</td>\n",
       "      <td>0.829899</td>\n",
       "      <td>1.336970</td>\n",
       "      <td>2.968490</td>\n",
       "    </tr>\n",
       "    <tr>\n",
       "      <th>3</th>\n",
       "      <td>0.121212</td>\n",
       "      <td>1.524848</td>\n",
       "      <td>1.785455</td>\n",
       "      <td>3.254065</td>\n",
       "    </tr>\n",
       "    <tr>\n",
       "      <th>4</th>\n",
       "      <td>0.161616</td>\n",
       "      <td>2.219798</td>\n",
       "      <td>2.233939</td>\n",
       "      <td>3.536375</td>\n",
       "    </tr>\n",
       "  </tbody>\n",
       "</table>\n",
       "</div>"
      ],
      "text/plain": [
       "         x1        x2        x3         y\n",
       "0  0.000000  3.440000  0.440000  4.387545\n",
       "1  0.040404  0.134949  0.888485  2.679650\n",
       "2  0.080808  0.829899  1.336970  2.968490\n",
       "3  0.121212  1.524848  1.785455  3.254065\n",
       "4  0.161616  2.219798  2.233939  3.536375"
      ]
     },
     "execution_count": 2,
     "metadata": {},
     "output_type": "execute_result"
    }
   ],
   "source": [
    "# load dataset\n",
    "dataset = pd.read_csv('D3.csv')          # load dataset\n",
    "dataset.head()          # output first 5 rows from the dataset"
   ]
  },
  {
   "cell_type": "code",
   "execution_count": 3,
   "id": "f80cee0a",
   "metadata": {},
   "outputs": [
    {
     "name": "stdout",
     "output_type": "stream",
     "text": [
      "Number of training examples:  100\n"
     ]
    }
   ],
   "source": [
    "X_1 = dataset.values[:, 0]          # get input values from first column\n",
    "X_2 = dataset.values[:, 1]          # get input values from first column\n",
    "X_3 = dataset.values[:, 2]          # get input values from first column\n",
    "y = dataset.values[:, 3]          # get output values from second column\n",
    "m = len(y)          # Number of training examples\n",
    "print('Number of training examples: ', m)"
   ]
  },
  {
   "cell_type": "code",
   "execution_count": 4,
   "id": "497a961f",
   "metadata": {},
   "outputs": [
    {
     "data": {
      "text/plain": [
       "Text(0.5, 1.0, 'SCATTER PLOT OF TRAINING DATA\\nred is x1 | yellow is x2 | blue is x3')"
      ]
     },
     "execution_count": 4,
     "metadata": {},
     "output_type": "execute_result"
    },
    {
     "data": {
      "image/png": "[encoded data removed]",
      "text/plain": [
       "<Figure size 432x288 with 1 Axes>"
      ]
     },
     "metadata": {
      "needs_background": "light"
     },
     "output_type": "display_data"
    }
   ],
   "source": [
    "plt.scatter(X_1,y, color='red',marker= '+')\n",
    "plt.scatter(X_2,y, color='yellow',marker= '+')\n",
    "plt.scatter(X_3,y, color='blue',marker= '+')\n",
    "plt.grid()\n",
    "plt.rcParams[\"figure.figsize\"] = (12,8)\n",
    "plt.xlabel('Explanatory Variables')\n",
    "plt.ylabel('Dependent Variables')\n",
    "plt.title('SCATTER PLOT OF TRAINING DATA\\nred is x1 | yellow is x2 | blue is x3')"
   ]
  },
  {
   "cell_type": "code",
   "execution_count": 5,
   "id": "8bdedd70",
   "metadata": {},
   "outputs": [],
   "source": [
    "# preprocess data\n",
    "# matrix operations are much faster than loops operations, so matrice of x, θ and (x * θ) were used\n",
    "#create a matrix with single column of ones\n",
    "X_0 = np.ones((m, 1))\n",
    "\n",
    "# use reshape function to convert Xs 1D array to 2D array of dimension 97x1\n",
    "X_1 = X_1.reshape(m, 1)\n",
    "X_2 = X_2.reshape(m, 1)\n",
    "X_3 = X_3.reshape(m, 1)\n",
    "\n",
    "# use hstack() function from numpy to stack X_0 and X_1,X_2 and X_3 horizontally (i.e. column wise) to make a single 2D array\n",
    "# this will be our final X matrix (feature matrix)\n",
    "x_1 = np.hstack((X_0, X_1))\n",
    "x_2 = np.hstack((X_0, X_2))\n",
    "x_3 = np.hstack((X_0, X_3))\n",
    "\n",
    "#Initialise theta to zero as recommended by the hw question\n",
    "theta = np.zeros(2)"
   ]
  },
  {
   "cell_type": "markdown",
   "id": "19697724",
   "metadata": {},
   "source": [
    "----------------------------------------------------------------------------------------------------------------"
   ]
  },
  {
   "cell_type": "markdown",
   "id": "80ef2087",
   "metadata": {},
   "source": [
    "----------------------------------------------------------------------------------------------------------------"
   ]
  },
  {
   "cell_type": "markdown",
   "id": "3830413a",
   "metadata": {},
   "source": [
    "**Details on *comp_cost* function for the linear regression**.<br>\n",
    "\n",
    "- the hypotheis function is h(θ,x)= θ_0 + θ_1 * x_1 + ... + θ_n * x_n\n",
    "\n",
    "<br>**Input Parameters**\n",
    "- *'X' :* 2D array where each row represent the training example and each column represent the feature ndarray\n",
    "- *'y' :* 1D array of labels/target value for each traing example. dimension(1 x m)\n",
    "- *'theta' :* 1D array of fitting parameters or weights. Dimension (1 x n)\n",
    "\n",
    "<br>**Dimension(m x n)**\n",
    "- *'m' :* number of training examples\n",
    "- *'n' :* number of features (including X_0 column of ones)\n",
    "\n",
    "<br>**Output Parameters**\n",
    "- *'J' :* scalar value\n",
    "\n",
    "<br>**Library Functions Used**\n",
    "- *numpy.dot()* returns the product of two arrays\n",
    "- *numpy.subtract()* performs vector entree subtraction\n",
    "- *numpy.square()* performs the vector entree square"
   ]
  },
  {
   "cell_type": "code",
   "execution_count": 6,
   "id": "1dead8f0",
   "metadata": {},
   "outputs": [],
   "source": [
    "def comp_cost(X, y, theta):\n",
    "    predictions = X.dot(theta)\n",
    "    errors = np.subtract(predictions, y)\n",
    "    sqrErrors = np.square(errors)\n",
    "    J = 1 / (2 * m) * np.sum(sqrErrors)\n",
    "    \n",
    "    return J"
   ]
  },
  {
   "cell_type": "markdown",
   "id": "7f6d45e3",
   "metadata": {},
   "source": [
    "**Details on *gradient_descent* function**\n",
    "- a for loop i used to compute theta using batch gradient descent algorithm\n",
    "- each value theta value is used to compute cost.Result is stored in a list\n",
    "- cost should decrease with every iteration\n",
    "- returns new theta and cost history variable\n",
    "\n",
    "<br>**Input Parameters**\n",
    "- *'X' :* 2D array where each row represent the training example and each column represent the feature ndarray\n",
    "- *'y' :* 1D array of labels/target value for each traing example. dimension(1 x m)\n",
    "- *'theta' :* 1D array of fitting parameters or weights. Dimension (1 x n)\n",
    "- *'alpha' :* Learning rate. Scalar value\n",
    "- *'iterations':* No of iterations. Scalar value. \n",
    "\n",
    "<br>**Dimension(m x n)**\n",
    "- *'m' :* number of training examples\n",
    "- *'n' :* number of features (including X_0 column of ones)\n",
    "\n",
    "<br>**Output Parameters**\n",
    "- *'theta' :*  Final Value. 1D array of fitting parameters or weights. Dimension (1 x n)\n",
    "- *'cost_history' :* Conatins value of cost for each iteration. 1D array. Dimansion(m x 1)\n",
    "\n",
    "<br>**Library Functions Used**\n",
    "- *numpy.dot()* returns the product of two arrays\n",
    "- *numpy.subtract()* performs vector entree subtraction\n",
    "- *numpy.transpose()* reverse or permute the axes of an array"
   ]
  },
  {
   "cell_type": "code",
   "execution_count": 7,
   "id": "f671fe38",
   "metadata": {},
   "outputs": [],
   "source": [
    "def gradient_descent(X, y, theta, alpha, iterations):\n",
    "    cost_history = np.zeros(iterations)\n",
    "    \n",
    "    for i in range(iterations):\n",
    "        predictions = X.dot(theta)\n",
    "        errors = np.subtract(predictions, y)\n",
    "        sum_delta = (alpha / m) * X.transpose().dot(errors);\n",
    "        theta = theta - sum_delta;\n",
    "        \n",
    "        cost_history[i] = comp_cost(X, y, theta)\n",
    "        \n",
    "    return theta, cost_history"
   ]
  },
  {
   "cell_type": "code",
   "execution_count": 8,
   "id": "308f8053",
   "metadata": {},
   "outputs": [],
   "source": [
    "# declare and assign values to the gradient descent learning parameters alpha and no of iterations\n",
    "init_theta = [0., 0.];\n",
    "\n",
    "#iterations = 800;\n",
    "#alpha = 0.04;\n",
    "iterations = 1000;\n",
    "alpha = 0.01;"
   ]
  },
  {
   "cell_type": "markdown",
   "id": "c6b02205",
   "metadata": {},
   "source": [
    "----------------------------------------------------------------------------------------------------------------"
   ]
  },
  {
   "cell_type": "markdown",
   "id": "37ff0c23",
   "metadata": {},
   "source": [
    "----------------------------------------------------------------------------------------------------------------"
   ]
  },
  {
   "cell_type": "markdown",
   "id": "1c41dc68",
   "metadata": {},
   "source": [
    "### Problem 1"
   ]
  },
  {
   "cell_type": "markdown",
   "id": "cc92f38c",
   "metadata": {},
   "source": [
    "### 'X_1'"
   ]
  },
  {
   "cell_type": "markdown",
   "id": "2878eb68",
   "metadata": {},
   "source": [
    "> **Call *gradient_descent* function for all 'Xs' value**\n",
    "- *gradient_descent* function returns optimal theta and cost history.\n",
    "- values are printed to screen"
   ]
  },
  {
   "cell_type": "code",
   "execution_count": 9,
   "id": "9edfd5c7",
   "metadata": {},
   "outputs": [
    {
     "name": "stdout",
     "output_type": "stream",
     "text": [
      "Final value of theta with x1:  [ 5.29294728 -1.79119079]\n",
      "First 5 values from cost_history:  [5.48226715 5.44290965 5.40604087 5.37137434 5.33865767]\n",
      "Last 5 values from cost_history:  [1.03735718 1.03712537 1.03689459 1.03666482 1.03643608]\n"
     ]
    }
   ],
   "source": [
    "optimal_theta, cost_history = gradient_descent(x_1, y, init_theta, alpha, iterations)\n",
    "print('Final value of theta with x1: ', optimal_theta)\n",
    "print('First 5 values from cost_history: ', cost_history[:5])\n",
    "print('Last 5 values from cost_history: ', cost_history[-5 :])"
   ]
  },
  {
   "cell_type": "markdown",
   "id": "cbb1c52c",
   "metadata": {},
   "source": [
    "> **Plot the *linear regression fit* for all 'Xs' value**\n",
    "- the gradient descent function returns the optimal value of theta, this should give us the best fit line\n",
    "- the green line is plotted using predicted values"
   ]
  },
  {
   "cell_type": "code",
   "execution_count": 10,
   "id": "2673c236",
   "metadata": {},
   "outputs": [
    {
     "data": {
      "text/plain": [
       "<matplotlib.legend.Legend at 0x7ff5e05ea9d0>"
      ]
     },
     "execution_count": 10,
     "metadata": {},
     "output_type": "execute_result"
    },
    {
     "data": {
      "image/png": "[encoded data removed]",
      "text/plain": [
       "<Figure size 864x576 with 1 Axes>"
      ]
     },
     "metadata": {
      "needs_background": "light"
     },
     "output_type": "display_data"
    }
   ],
   "source": [
    "# Since X1 is list of list (feature matrix) lets take values of column of index 1 only\n",
    "plt.scatter(x_1[:,1], y, color='red', marker= '+', label= 'Training Data')\n",
    "plt.plot(x_1[:,1],x_1.dot(optimal_theta), color='green', label='Linear Regression')\n",
    "\n",
    "plt.rcParams['figure.figsize'] = (10,6)\n",
    "plt.grid()\n",
    "plt.xlabel('Explanatory Variable [x1]')\n",
    "plt.ylabel('Dependent Variable [y]')\n",
    "plt.title('Linear Regression Fit for x1')\n",
    "plt.legend()"
   ]
  },
  {
   "cell_type": "markdown",
   "id": "725f6cfa",
   "metadata": {},
   "source": [
    "> **Plot the *convergence of gradient descent for cost history* for all 'Xs' value**\n",
    "- cost_history contains the values of cost for every iteration performed during batch gradient descent\n",
    "- values of cost against no of iterations to visualize the performance of the 'Gradient Descent Algorithm' is plotted"
   ]
  },
  {
   "cell_type": "code",
   "execution_count": 11,
   "id": "42a078ff",
   "metadata": {},
   "outputs": [
    {
     "data": {
      "text/plain": [
       "Text(0.5, 1.0, 'Convergence of gradient descent for cost history of x1')"
      ]
     },
     "execution_count": 11,
     "metadata": {},
     "output_type": "execute_result"
    },
    {
     "data": {
      "image/png": "[encoded data removed]",
      "text/plain": [
       "<Figure size 720x432 with 1 Axes>"
      ]
     },
     "metadata": {
      "needs_background": "light"
     },
     "output_type": "display_data"
    }
   ],
   "source": [
    "plt.plot(range(1, iterations + 1),cost_history, color='blue')\n",
    "plt.rcParams['figure.figsize'] = (10,6)\n",
    "plt.grid()\n",
    "plt.xlabel('Number of iterations')\n",
    "plt.ylabel('Cost (J)')\n",
    "plt.title('Convergence of gradient descent for cost history of x1')"
   ]
  },
  {
   "cell_type": "markdown",
   "id": "991d1330",
   "metadata": {},
   "source": [
    "> **Test the linear model with a arbitrary value of x = 0.5**"
   ]
  },
  {
   "cell_type": "code",
   "execution_count": 12,
   "id": "df978474",
   "metadata": {},
   "outputs": [
    {
     "name": "stdout",
     "output_type": "stream",
     "text": [
      "Using theta derived from the gradient decent function with input x1,\n",
      "we can predict for a arbitratry variable of x = 0.5.\n",
      "\n",
      "Prediction of y for x_1 is:  4.397351887745785\n"
     ]
    }
   ],
   "source": [
    "prediction = np.array([1, 0.5]).dot(optimal_theta)\n",
    "print('Using theta derived from the gradient decent function with input x1,\\nwe can predict for a arbitratry variable of x = 0.5.')\n",
    "print('\\nPrediction of y for x_1 is: ', prediction)"
   ]
  },
  {
   "cell_type": "markdown",
   "id": "8f9dea4e",
   "metadata": {},
   "source": [
    "----------------------------------------------------------------------------------------------------------------"
   ]
  },
  {
   "cell_type": "markdown",
   "id": "157c1a76",
   "metadata": {},
   "source": [
    "### X_2"
   ]
  },
  {
   "cell_type": "markdown",
   "id": "7747b078",
   "metadata": {},
   "source": [
    "> **Call *gradient_descent* function for all 'Xs' value**\n",
    "- *gradient_descent* function returns optimal theta and cost history.\n",
    "- values are printed to screen"
   ]
  },
  {
   "cell_type": "code",
   "execution_count": 13,
   "id": "796d9845",
   "metadata": {},
   "outputs": [
    {
     "name": "stdout",
     "output_type": "stream",
     "text": [
      "Final value of theta with x2:  [0.68701995 0.57669462]\n",
      "First 5 values from cost_history:  [5.29831663 5.09909109 4.92356115 4.76890697 4.63264432]\n",
      "Last 5 values from cost_history:  [3.59967832 3.59967694 3.59967556 3.59967419 3.59967283]\n"
     ]
    }
   ],
   "source": [
    "optimal_theta, cost_history = gradient_descent(x_2, y, init_theta, alpha, iterations)\n",
    "print('Final value of theta with x2: ', optimal_theta)\n",
    "print('First 5 values from cost_history: ', cost_history[:5])\n",
    "print('Last 5 values from cost_history: ', cost_history[-5 :])"
   ]
  },
  {
   "cell_type": "markdown",
   "id": "d3b0f036",
   "metadata": {},
   "source": [
    "> **Plot the *linear regression fit* for all 'Xs' value**\n",
    "- the gradient descent function returns the optimal value of theta, this should give us the best fit line\n",
    "- the green line is plotted using predicted values"
   ]
  },
  {
   "cell_type": "code",
   "execution_count": 14,
   "id": "ab9d2dc7",
   "metadata": {},
   "outputs": [
    {
     "data": {
      "text/plain": [
       "<matplotlib.legend.Legend at 0x7ff5e0635940>"
      ]
     },
     "execution_count": 14,
     "metadata": {},
     "output_type": "execute_result"
    },
    {
     "data": {
      "image/png": "[encoded data removed]",
      "text/plain": [
       "<Figure size 720x432 with 1 Axes>"
      ]
     },
     "metadata": {
      "needs_background": "light"
     },
     "output_type": "display_data"
    }
   ],
   "source": [
    "# Since X2 is list of list (feature matrix) lets take values of column of index 1 only\n",
    "plt.scatter(x_2[:,1], y, color='red', marker= '+', label= 'Training Data')\n",
    "plt.plot(x_2[:,1],x_2.dot(optimal_theta), color='green', label='Linear Regression')\n",
    "\n",
    "plt.rcParams['figure.figsize'] = (10,6)\n",
    "plt.grid()\n",
    "plt.xlabel('Explanatory Variable [x2]')\n",
    "plt.ylabel('Dependent Variable [y]')\n",
    "plt.title('Linear Regression Fit for x2')\n",
    "plt.legend()"
   ]
  },
  {
   "cell_type": "markdown",
   "id": "ee6a0372",
   "metadata": {},
   "source": [
    "> **Plot the *convergence of gradient descent for cost history* for all 'Xs' value**\n",
    "- cost_history contains the values of cost for every iteration performed during batch gradient descent\n",
    "- values of cost against no of iterations to visualize the performance of the 'Gradient Descent Algorithm' is plotted"
   ]
  },
  {
   "cell_type": "code",
   "execution_count": 15,
   "id": "42b3b8ee",
   "metadata": {},
   "outputs": [
    {
     "data": {
      "text/plain": [
       "Text(0.5, 1.0, 'Convergence of gradient descent for cost history of x2')"
      ]
     },
     "execution_count": 15,
     "metadata": {},
     "output_type": "execute_result"
    },
    {
     "data": {
      "image/png": "[encoded data removed]",
      "text/plain": [
       "<Figure size 720x432 with 1 Axes>"
      ]
     },
     "metadata": {
      "needs_background": "light"
     },
     "output_type": "display_data"
    }
   ],
   "source": [
    "plt.plot(range(1, iterations + 1),cost_history, color='blue')\n",
    "plt.rcParams[\"figure.figsize\"] = (10,6)\n",
    "plt.grid()\n",
    "plt.xlabel('Number of iterations')\n",
    "plt.ylabel('Cost (J)')\n",
    "plt.title('Convergence of gradient descent for cost history of x2')"
   ]
  },
  {
   "cell_type": "markdown",
   "id": "4717f48d",
   "metadata": {},
   "source": [
    "> **Test the linear model with a arbitrary value of x = 0.5**"
   ]
  },
  {
   "cell_type": "code",
   "execution_count": 16,
   "id": "2b0e327d",
   "metadata": {},
   "outputs": [
    {
     "name": "stdout",
     "output_type": "stream",
     "text": [
      "Using theta derived from the gradient decent function with input x2,\n",
      "we can predict for a arbitratry variable of x = 0.5.\n",
      "\n",
      "Prediction of y for x_2 is:  0.9753672579275247\n"
     ]
    }
   ],
   "source": [
    "prediction = np.array([1, 0.5]).dot(optimal_theta)\n",
    "print('Using theta derived from the gradient decent function with input x2,\\nwe can predict for a arbitratry variable of x = 0.5.')\n",
    "print('\\nPrediction of y for x_2 is: ', prediction)"
   ]
  },
  {
   "cell_type": "markdown",
   "id": "d3256782",
   "metadata": {},
   "source": [
    "----------------------------------------------------------------------------------------------------------------"
   ]
  },
  {
   "cell_type": "markdown",
   "id": "82893ac4",
   "metadata": {},
   "source": [
    "### X_3"
   ]
  },
  {
   "cell_type": "markdown",
   "id": "58c9ca13",
   "metadata": {},
   "source": [
    "> **Call *gradient_descent* function for all 'Xs' value**\n",
    "- *gradient_descent* function returns optimal theta and cost history\n",
    "- values are printed to screen"
   ]
  },
  {
   "cell_type": "code",
   "execution_count": 17,
   "id": "76e41d31",
   "metadata": {},
   "outputs": [
    {
     "name": "stdout",
     "output_type": "stream",
     "text": [
      "Final value of theta with x3 = [ 2.59118664 -0.40965135]\n",
      "First 5 values from cost_history = [5.40768785 5.30397076 5.21178297 5.12979411 5.05682752]\n",
      "Last 5 values from cost_history = [3.6398457  3.63979902 3.63975254 3.63970627 3.63966021]\n"
     ]
    }
   ],
   "source": [
    "optimal_theta, cost_history = gradient_descent(x_3, y, init_theta, alpha, iterations)\n",
    "print('Final value of theta with x3 =', optimal_theta)\n",
    "print('First 5 values from cost_history =', cost_history[:5])\n",
    "print('Last 5 values from cost_history =', cost_history[-5 :])"
   ]
  },
  {
   "cell_type": "markdown",
   "id": "5a1ca94d",
   "metadata": {},
   "source": [
    "> **Plot the *linear regression fit* for all 'Xs'**\n",
    "- the gradient descent function returns the optimal value of theta, this should give us the best fit line\n",
    "- the green line is plotted using predicted values"
   ]
  },
  {
   "cell_type": "code",
   "execution_count": 18,
   "id": "00a5bdd5",
   "metadata": {},
   "outputs": [
    {
     "data": {
      "text/plain": [
       "<matplotlib.legend.Legend at 0x7ff5e0470a90>"
      ]
     },
     "execution_count": 18,
     "metadata": {},
     "output_type": "execute_result"
    },
    {
     "data": {
      "image/png": "[encoded data removed]",
      "text/plain": [
       "<Figure size 720x432 with 1 Axes>"
      ]
     },
     "metadata": {
      "needs_background": "light"
     },
     "output_type": "display_data"
    }
   ],
   "source": [
    "# Since X3 is list of list (feature matrix) lets take values of column of index 1 only\n",
    "plt.scatter(x_3[:,1], y, color='red', marker= '+', label= 'Training Data')\n",
    "plt.plot(x_3[:,1],x_3.dot(optimal_theta), color='green', label='Linear Regression')\n",
    "\n",
    "plt.rcParams[\"figure.figsize\"] = (10,6)\n",
    "plt.grid()\n",
    "plt.xlabel('Explanatory Variable [x3]')\n",
    "plt.ylabel('Dependent Variable [y]')\n",
    "plt.title('Linear Regression Fit for x3')\n",
    "plt.legend()"
   ]
  },
  {
   "cell_type": "markdown",
   "id": "0bf57945",
   "metadata": {},
   "source": [
    "> **Plot the *convergence of gradient descent for cost history* for all 'Xs'**\n",
    "- cost_history contains the values of cost for every iteration performed during batch gradient descent\n",
    "- values of cost against no of iterations to visualize the performance of the 'Gradient Descent Algorithm' is plotted"
   ]
  },
  {
   "cell_type": "code",
   "execution_count": 19,
   "id": "b04046ad",
   "metadata": {
    "scrolled": false
   },
   "outputs": [
    {
     "data": {
      "text/plain": [
       "Text(0.5, 1.0, 'Convergence of gradient descent for cost history of x3')"
      ]
     },
     "execution_count": 19,
     "metadata": {},
     "output_type": "execute_result"
    },
    {
     "data": {
      "image/png": "[encoded data removed]",
      "text/plain": [
       "<Figure size 720x432 with 1 Axes>"
      ]
     },
     "metadata": {
      "needs_background": "light"
     },
     "output_type": "display_data"
    }
   ],
   "source": [
    "plt.plot(range(1, iterations + 1),cost_history, color='blue')\n",
    "plt.rcParams[\"figure.figsize\"] = (10,6)\n",
    "plt.grid()\n",
    "plt.xlabel('Number of iterations')\n",
    "plt.ylabel('Cost (J)')\n",
    "plt.title('Convergence of gradient descent for cost history of x3')"
   ]
  },
  {
   "cell_type": "markdown",
   "id": "ee3734b0",
   "metadata": {},
   "source": [
    "> **Test the linear model with a arbitrary value of x = 0.5**"
   ]
  },
  {
   "cell_type": "code",
   "execution_count": 20,
   "id": "cc7b43c5",
   "metadata": {
    "scrolled": true
   },
   "outputs": [
    {
     "name": "stdout",
     "output_type": "stream",
     "text": [
      "Using theta derived from the gradient decent function with input x3,\n",
      "we can predict for a arbitratry variable of x = 0.5.\n",
      "\n",
      "Prediction of y for x_3 is:  2.3863609643654233\n"
     ]
    }
   ],
   "source": [
    "prediction = np.array([1, 0.5]).dot(optimal_theta)\n",
    "print('Using theta derived from the gradient decent function with input x3,\\nwe can predict for a arbitratry variable of x = 0.5.')\n",
    "print('\\nPrediction of y for x_3 is: ', prediction)"
   ]
  },
  {
   "cell_type": "markdown",
   "id": "102ac5c1",
   "metadata": {},
   "source": [
    "----------------------------------------------------------------------------------------------------------------"
   ]
  },
  {
   "cell_type": "markdown",
   "id": "322673f7",
   "metadata": {},
   "source": [
    "----------------------------------------------------------------------------------------------------------------"
   ]
  },
  {
   "cell_type": "markdown",
   "id": "c77d2887",
   "metadata": {},
   "source": [
    "### Problem 2"
   ]
  },
  {
   "cell_type": "markdown",
   "id": "1b46873e",
   "metadata": {},
   "source": [
    "> **data preprocessing**"
   ]
  },
  {
   "cell_type": "code",
   "execution_count": 21,
   "id": "488d67a0",
   "metadata": {},
   "outputs": [],
   "source": [
    "# load data to variable 'X'\n",
    "X = dataset.values[:, 0:3]  # get input values from first-three columns\n",
    "\n",
    "# hstack() function from numpy is used to add a column of ones to X feature \n",
    "# This will be our final X matrix (feature matrix)\n",
    "x = np.hstack((np.ones((m,1)), X))"
   ]
  },
  {
   "cell_type": "markdown",
   "id": "1d0392bb",
   "metadata": {},
   "source": [
    "> **Plot the graph showing the effect of different learning rates on the Convergence of gradient descent**"
   ]
  },
  {
   "cell_type": "code",
   "execution_count": 22,
   "id": "c90bdfe6",
   "metadata": {},
   "outputs": [
    {
     "data": {
      "image/png": "[encoded data removed]",
      "text/plain": [
       "<Figure size 720x432 with 1 Axes>"
      ]
     },
     "metadata": {
      "needs_background": "light"
     },
     "output_type": "display_data"
    }
   ],
   "source": [
    "# Initialise theta to zero as recommended by the hw question\n",
    "init_theta = np.zeros(4)\n",
    "\n",
    "# declare and assign values to the gradient descent learning parameters alpha and no of iterations\n",
    "#iterations = 800;\n",
    "#alpha = 0.04;\n",
    "\n",
    "iterations = 1000          # number of iterations\n",
    "alpha_list = [0.01, 0.03, 0.04, 0.05, 0.07, 0.09]          # list of alpha variables to use\n",
    "label_list = ['alpha = 0.01', 'alpha = 0.03',  'alpha = 0.04', 'alpha = 0.05', 'alpha = 0.08', 'alpha = 0.10']\n",
    "color = ['purple', 'red', 'brown', 'green', 'yellow', 'blue']\n",
    "i = 0          # alpha list index counter\n",
    "\n",
    "for alpha in alpha_list:\n",
    "    \n",
    "    optimal_theta, cost_history = gradient_descent(x, y, init_theta, alpha, iterations)\n",
    "    \n",
    "    plt.plot(range(1, iterations +1), cost_history, color[i], label= label_list[i])\n",
    "    \n",
    "    plt.rcParams[\"figure.figsize\"] = (10,6)\n",
    "    plt.grid()\n",
    "    plt.xlabel(\"Number of iterations\")\n",
    "    plt.ylabel(\"cost (J)\")\n",
    "    plt.title(\"Effect of Learning Rate On Convergence of Gradient Descent\")\n",
    "    plt.legend()\n",
    "    i += 1\n",
    "    \n",
    "plt.grid()"
   ]
  },
  {
   "cell_type": "markdown",
   "id": "e0ec1184",
   "metadata": {},
   "source": [
    "> **Call *gradient_descent* function for all 'Xs' value**\n",
    "- *gradient_descent* function returns optimal theta and cost history\n",
    "- values are printed to screen"
   ]
  },
  {
   "cell_type": "code",
   "execution_count": 23,
   "id": "313c7bb6",
   "metadata": {},
   "outputs": [
    {
     "name": "stdout",
     "output_type": "stream",
     "text": [
      "Final value of theta = [ 5.21863739 -1.99022411  0.54834904 -0.25159914]\n",
      "First 5 values from cost_history = [4.51455638 4.13668881 3.89647561 3.69896902 3.52454515]\n",
      "Last 5 values from cost_history = [0.73896615 0.73896216 0.73895819 0.73895426 0.73895036]\n"
     ]
    }
   ],
   "source": [
    "#\n",
    "optimal_alpha = 0.04\n",
    "\n",
    "optimal_theta, cost_history = gradient_descent(x, y, init_theta, optimal_alpha, iterations)\n",
    "\n",
    "print('Final value of theta =', optimal_theta)\n",
    "print('First 5 values from cost_history =', cost_history[:5])\n",
    "print('Last 5 values from cost_history =', cost_history[-5 :])"
   ]
  },
  {
   "cell_type": "markdown",
   "id": "3a2c7288",
   "metadata": {},
   "source": [
    "> **test the prediction capabilities of the model**\n",
    "- check the predicted values using the theta value gotten from the gradient descent algorithm and specific x values."
   ]
  },
  {
   "cell_type": "code",
   "execution_count": 24,
   "id": "b33048a0",
   "metadata": {},
   "outputs": [
    {
     "name": "stdout",
     "output_type": "stream",
     "text": [
      "\n",
      "Using theta derived from the gradient decent function,\n",
      "we can predict for \"x\", variable of x = [1, 1, 1, 1]; our prediction of y is:  3.5251631845177074\n",
      "\n",
      "Using theta derived from the gradient decent function,\n",
      "we can predict for \"x\", variable of x = [1, 2, 0, 4]; our prediction of y is:  0.23179261410386265\n",
      "\n",
      "Using theta derived from the gradient decent function,\n",
      "we can predict for \"x\", variable of x = [1, 3, 2, 1]; our prediction of y is:  0.09306401330394026\n"
     ]
    }
   ],
   "source": [
    "#\n",
    "x_list = [[1, 1, 1, 1], [1, 2, 0, 4], [1, 3, 2, 1]]\n",
    "\n",
    "for x_variable in x_list:\n",
    "    prediction = np.array(x_variable).dot(optimal_theta)\n",
    "    print('\\nUsing theta derived from the gradient decent function,\\nwe can predict for \"x\", variable of x = '+str(x_variable)+'; our prediction of y is: ', prediction)"
   ]
  },
  {
   "cell_type": "code",
   "execution_count": null,
   "id": "6825c325",
   "metadata": {},
   "outputs": [],
   "source": []
  }
 ],
 "metadata": {
  "kernelspec": {
   "display_name": "Python 3 (ipykernel)",
   "language": "python",
   "name": "python3"
  },
  "language_info": {
   "codemirror_mode": {
    "name": "ipython",
    "version": 3
   },
   "file_extension": ".py",
   "mimetype": "text/x-python",
   "name": "python",
   "nbconvert_exporter": "python",
   "pygments_lexer": "ipython3",
   "version": "3.8.10"
  }
 },
 "nbformat": 4,
 "nbformat_minor": 5
}
