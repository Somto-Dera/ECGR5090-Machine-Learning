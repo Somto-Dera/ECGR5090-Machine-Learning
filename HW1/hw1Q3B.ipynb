{
 "cells": [
  {
   "cell_type": "markdown",
   "id": "6172fab4",
   "metadata": {},
   "source": [
    "### NAME: SOMTO A.\n",
    "### ID: 801215537\n",
    "### HW#: 1\n",
    "### GITHUB: *https://github.com/Somto-Dera/ECGR5090-Machine-Learning*"
   ]
  },
  {
   "cell_type": "markdown",
   "id": "2a01072c",
   "metadata": {},
   "source": [
    "In this homework, we will use US Housing dataset. You will develop linear regression with gradient decent algorithm to estimate the price of the house. In this homework, we will use 70% and 30% split between training and evaluation (test) sets across all problems. (Note: You cannot use the built-in function from ML libraries for gradient descent, you must implement it yourself. However, you can use built-in function for normalization/standardization)"
   ]
  },
  {
   "cell_type": "markdown",
   "id": "3659aec3",
   "metadata": {},
   "source": [
    "#### Problem 3\n",
    "B)\n",
    "Repeat problem 2 b, this time by adding parameters penalty to your loss function. Note that in this case, you need to modify the gradient decent logic for your training set, but you don’t need to change your loss for the evaluation set.  \n",
    "\n",
    "Plot your results (both training and evaluation losses) for the best input scaling approach (standardization or normalization). Explain your results and compare them against problem 2 b. "
   ]
  },
  {
   "cell_type": "markdown",
   "id": "f993d1de",
   "metadata": {},
   "source": [
    "##### Steps/ Algorithm/ Pseudo\n",
    "* import necessary library\n",
    "* load data set\n",
    "* create normalization and standardisation function from scratch\n",
    "* create a cost function from scratch\n",
    "* create gradient descent function with penalty from scratch\n",
    "* do some minor data preprocessing and analysis \n",
    "* * Select explanatory variables and use one hot encoding to convert non number data to binary\n",
    "* split data set into test and train\n",
    "* call gradient descent function to get values for theta and cost history in relation to the explanatory variables\n",
    "* plot a convergence of gradient descent graph with cost history.\n",
    "* plot a graph showing the effect of changing the learning rate in convergence of the gradient descent with cost history.\n",
    "* test validation with vtest data set.\n",
    "* plot graph comparing validation and train losses"
   ]
  },
  {
   "cell_type": "markdown",
   "id": "4c0a0b4b",
   "metadata": {},
   "source": [
    "##### import the necessary libraries\n",
    "* *numpy* is used for array and matrics manipulation.\n",
    "<br>\n",
    "* *pandas* is used for data manipulation and analysis.\n",
    "<br>\n",
    "* *matplotlib* is used for data visualisation\n",
    "<br>\n",
    "*  *sklearn.model_selection* is used to split data sets\n",
    "<br> \n",
    "* *sklearn.compose* is used to apply transformers to columns of an array or pandas DataFrame\n",
    "<br>\n",
    "* *sklearn.preprocessing* is used for onehot encoding"
   ]
  },
  {
   "cell_type": "code",
   "execution_count": 1,
   "id": "002ee9f1",
   "metadata": {},
   "outputs": [],
   "source": [
    "import numpy as np\n",
    "import pandas as pd\n",
    "import matplotlib.pyplot as plt\n",
    "from sklearn.model_selection import train_test_split\n",
    "from sklearn.compose import ColumnTransformer\n",
    "from sklearn.preprocessing import OneHotEncoder"
   ]
  },
  {
   "cell_type": "markdown",
   "id": "81e6ed70",
   "metadata": {},
   "source": [
    "Normalizes the features(input variables) in X.\n",
    "\n",
    "##### Parameters\n",
    "* X : n dimensional array (matrix), shape (n_samples, n_features). Features(input varibale) to be normalized.\n",
    "\n",
    "##### Returns\n",
    "* X_norm : n dimensional array (matrix), shape (n_samples,n_features). A normalized version of X."
   ]
  },
  {
   "cell_type": "code",
   "execution_count": 2,
   "id": "97bd74f4",
   "metadata": {},
   "outputs": [],
   "source": [
    "def feature_normalize(X):\n",
    "    \n",
    "    X_norm = (X - np.min(X))/(np.max(X) - np.min(X))\n",
    "    \n",
    "    return X_norm"
   ]
  },
  {
   "cell_type": "markdown",
   "id": "2dc963b6",
   "metadata": {},
   "source": [
    "Standardizes the features(input variables) in X.\n",
    "\n",
    "##### Parameters\n",
    "* X : n dimensional array (matrix), shape (n_samples, n_features). Features(input varibale) to be normalized.\n",
    "\n",
    "##### Returns\n",
    "* X_norm : n dimensional array (matrix), shape (n_samples,n_features). A normalized version of X.\n",
    "* mu : n dimensional array (matrix), shape (n_features,). The mean value.\n",
    "* sigma : n dimensional array (matrix), shape (n_features,). The standard deviation."
   ]
  },
  {
   "cell_type": "code",
   "execution_count": 3,
   "id": "7c0054cd",
   "metadata": {},
   "outputs": [],
   "source": [
    "def feature_standardize(X):\n",
    "    \n",
    "    #Note here we need mean of indivdual column here, hence axis = 0\n",
    "    mu = np.mean(X, axis = 0)\n",
    "    # Notice the parameter ddof (Delta Degrees of Freedom)  value is 1\n",
    "    sigma = np.std(X, axis= 0, ddof = 1)  # Standard deviation (can also use range)\n",
    "    X_standard = (X - mu)/sigma\n",
    "    return X_standard, mu, sigma"
   ]
  },
  {
   "cell_type": "markdown",
   "id": "d2f7f0f4",
   "metadata": {},
   "source": [
    "#### create a cost function\n",
    "* The hypotheis function is h(θ,x)= θ_0 + θ_1 * x_1\n",
    "\n",
    "* Matrix operations are much faster than loops operations, so matrice of x, θ and (x * θ) were used"
   ]
  },
  {
   "cell_type": "code",
   "execution_count": 4,
   "id": "0c6d4bc3",
   "metadata": {},
   "outputs": [],
   "source": [
    "def compute_cost(X, y, theta):\n",
    "    \n",
    "    predictions = X.dot(theta)\n",
    "    errors = np.subtract(predictions, y)\n",
    "    sqrErrors = np.square(errors)\n",
    "    #J = 1 / (2 * m) * np.sum(sqrErrors)\n",
    "    J = 1 / (2 * m) * errors.T.dot(errors)\n",
    "    \n",
    "    return J"
   ]
  },
  {
   "cell_type": "markdown",
   "id": "1ba34170",
   "metadata": {},
   "source": [
    "#### create gradient-cost function for linear regression.\n",
    "\n",
    "<br>**Input Parameters**\n",
    "<br> *'X' :* 2D array where each row represent the training example and each column represent the feature ndarray. Dimension(m x n)\n",
    "<br> *'m' :* number of training examples\n",
    "<br> *'n' :* number of features (including X_0 column of ones)\n",
    "<br> *'y' :* 1D array of labels/target value for each traing example. dimension(1 x m)\n",
    "<br> *'theta' :* 1D array of fitting parameters or weights. Dimension (1 x n)\n",
    "<br> *'lambda' :* constant lambda was introduced as a penalty\n",
    "<br><br>**Output Parameters**\n",
    "<br> *'J' :* Scalar value.\n",
    "<br><br>**Library Functions Used**\n",
    "<br> *numpy.dot()* returns the product of two arrays.\n",
    "<br> *numpy.subtract()* performs vector entree subtraction\n",
    "<br> *numpy.square()* performs the vector entree square"
   ]
  },
  {
   "cell_type": "code",
   "execution_count": 5,
   "id": "1a3efa32",
   "metadata": {},
   "outputs": [],
   "source": [
    "def gradient_descent(X, y, theta, alpha, iterations, lamdba):\n",
    "    cost_history = np.zeros(iterations)\n",
    "    \n",
    "    for i in range(iterations):\n",
    "        predictions = X.dot(theta)\n",
    "        errors = np.subtract(predictions, y)\n",
    "        sum_delta = (alpha / m) * X.transpose().dot(errors);\n",
    "        theta = (theta - ((theta * alpha * lamdba)/m)) - sum_delta;\n",
    "        \n",
    "        #theta = theta - sum_delta;  \n",
    "        \n",
    "        cost_history[i] = compute_cost(X, y, theta)\n",
    "        \n",
    "    return theta, cost_history"
   ]
  },
  {
   "cell_type": "code",
   "execution_count": 6,
   "id": "401f6133",
   "metadata": {},
   "outputs": [],
   "source": [
    "def eval_gradient_descent(X, y, theta, alpha, iterations):\n",
    "    cost_history = np.zeros(iterations)\n",
    "    \n",
    "    for i in range(iterations):\n",
    "        predictions = X.dot(theta)\n",
    "        errors = np.subtract(predictions, y)\n",
    "        sum_delta = (alpha / m) * X.transpose().dot(errors);\n",
    "        #theta = (theta - ((theta * alpha * lamdba)/m)) - sum_delta;\n",
    "        \n",
    "        theta = theta - sum_delta;  \n",
    "        \n",
    "        cost_history[i] = compute_cost(X, y, theta)\n",
    "        \n",
    "    return theta, cost_history"
   ]
  },
  {
   "cell_type": "markdown",
   "id": "5d3976a8",
   "metadata": {},
   "source": [
    "##### load dataset housing.csv into variable 'dataset\n",
    "* This dataset was provided by this HW. It contains 13 columns, the 11 columns are explanatory variables x1, ..., x10; and the final/fourth column is the dependent variable y. It has 545 data per column."
   ]
  },
  {
   "cell_type": "code",
   "execution_count": 7,
   "id": "8d5611f9",
   "metadata": {},
   "outputs": [
    {
     "data": {
      "text/html": [
       "<div>\n",
       "<style scoped>\n",
       "    .dataframe tbody tr th:only-of-type {\n",
       "        vertical-align: middle;\n",
       "    }\n",
       "\n",
       "    .dataframe tbody tr th {\n",
       "        vertical-align: top;\n",
       "    }\n",
       "\n",
       "    .dataframe thead th {\n",
       "        text-align: right;\n",
       "    }\n",
       "</style>\n",
       "<table border=\"1\" class=\"dataframe\">\n",
       "  <thead>\n",
       "    <tr style=\"text-align: right;\">\n",
       "      <th></th>\n",
       "      <th>price</th>\n",
       "      <th>area</th>\n",
       "      <th>bedrooms</th>\n",
       "      <th>bathrooms</th>\n",
       "      <th>stories</th>\n",
       "      <th>mainroad</th>\n",
       "      <th>guestroom</th>\n",
       "      <th>basement</th>\n",
       "      <th>hotwaterheating</th>\n",
       "      <th>airconditioning</th>\n",
       "      <th>parking</th>\n",
       "      <th>prefarea</th>\n",
       "      <th>furnishingstatus</th>\n",
       "    </tr>\n",
       "  </thead>\n",
       "  <tbody>\n",
       "    <tr>\n",
       "      <th>0</th>\n",
       "      <td>13300000</td>\n",
       "      <td>7420</td>\n",
       "      <td>4</td>\n",
       "      <td>2</td>\n",
       "      <td>3</td>\n",
       "      <td>yes</td>\n",
       "      <td>no</td>\n",
       "      <td>no</td>\n",
       "      <td>no</td>\n",
       "      <td>yes</td>\n",
       "      <td>2</td>\n",
       "      <td>yes</td>\n",
       "      <td>furnished</td>\n",
       "    </tr>\n",
       "    <tr>\n",
       "      <th>1</th>\n",
       "      <td>12250000</td>\n",
       "      <td>8960</td>\n",
       "      <td>4</td>\n",
       "      <td>4</td>\n",
       "      <td>4</td>\n",
       "      <td>yes</td>\n",
       "      <td>no</td>\n",
       "      <td>no</td>\n",
       "      <td>no</td>\n",
       "      <td>yes</td>\n",
       "      <td>3</td>\n",
       "      <td>no</td>\n",
       "      <td>furnished</td>\n",
       "    </tr>\n",
       "    <tr>\n",
       "      <th>2</th>\n",
       "      <td>12250000</td>\n",
       "      <td>9960</td>\n",
       "      <td>3</td>\n",
       "      <td>2</td>\n",
       "      <td>2</td>\n",
       "      <td>yes</td>\n",
       "      <td>no</td>\n",
       "      <td>yes</td>\n",
       "      <td>no</td>\n",
       "      <td>no</td>\n",
       "      <td>2</td>\n",
       "      <td>yes</td>\n",
       "      <td>semi-furnished</td>\n",
       "    </tr>\n",
       "    <tr>\n",
       "      <th>3</th>\n",
       "      <td>12215000</td>\n",
       "      <td>7500</td>\n",
       "      <td>4</td>\n",
       "      <td>2</td>\n",
       "      <td>2</td>\n",
       "      <td>yes</td>\n",
       "      <td>no</td>\n",
       "      <td>yes</td>\n",
       "      <td>no</td>\n",
       "      <td>yes</td>\n",
       "      <td>3</td>\n",
       "      <td>yes</td>\n",
       "      <td>furnished</td>\n",
       "    </tr>\n",
       "    <tr>\n",
       "      <th>4</th>\n",
       "      <td>11410000</td>\n",
       "      <td>7420</td>\n",
       "      <td>4</td>\n",
       "      <td>1</td>\n",
       "      <td>2</td>\n",
       "      <td>yes</td>\n",
       "      <td>yes</td>\n",
       "      <td>yes</td>\n",
       "      <td>no</td>\n",
       "      <td>yes</td>\n",
       "      <td>2</td>\n",
       "      <td>no</td>\n",
       "      <td>furnished</td>\n",
       "    </tr>\n",
       "  </tbody>\n",
       "</table>\n",
       "</div>"
      ],
      "text/plain": [
       "      price  area  bedrooms  bathrooms  stories mainroad guestroom basement  \\\n",
       "0  13300000  7420         4          2        3      yes        no       no   \n",
       "1  12250000  8960         4          4        4      yes        no       no   \n",
       "2  12250000  9960         3          2        2      yes        no      yes   \n",
       "3  12215000  7500         4          2        2      yes        no      yes   \n",
       "4  11410000  7420         4          1        2      yes       yes      yes   \n",
       "\n",
       "  hotwaterheating airconditioning  parking prefarea furnishingstatus  \n",
       "0              no             yes        2      yes        furnished  \n",
       "1              no             yes        3       no        furnished  \n",
       "2              no              no        2      yes   semi-furnished  \n",
       "3              no             yes        3      yes        furnished  \n",
       "4              no             yes        2       no        furnished  "
      ]
     },
     "execution_count": 7,
     "metadata": {},
     "output_type": "execute_result"
    }
   ],
   "source": [
    "housing = pd.read_csv('Housing.csv')\n",
    "housing.head() # To get first n rows from the dataset default value of n is 5"
   ]
  },
  {
   "cell_type": "markdown",
   "id": "ac494ccf",
   "metadata": {},
   "source": [
    "#### minor data processing and analysis"
   ]
  },
  {
   "cell_type": "code",
   "execution_count": 8,
   "id": "9d6f1dee",
   "metadata": {},
   "outputs": [
    {
     "data": {
      "text/html": [
       "<div>\n",
       "<style scoped>\n",
       "    .dataframe tbody tr th:only-of-type {\n",
       "        vertical-align: middle;\n",
       "    }\n",
       "\n",
       "    .dataframe tbody tr th {\n",
       "        vertical-align: top;\n",
       "    }\n",
       "\n",
       "    .dataframe thead th {\n",
       "        text-align: right;\n",
       "    }\n",
       "</style>\n",
       "<table border=\"1\" class=\"dataframe\">\n",
       "  <thead>\n",
       "    <tr style=\"text-align: right;\">\n",
       "      <th></th>\n",
       "      <th>price</th>\n",
       "      <th>area</th>\n",
       "      <th>bedrooms</th>\n",
       "      <th>bathrooms</th>\n",
       "      <th>stories</th>\n",
       "      <th>mainroad</th>\n",
       "      <th>guestroom</th>\n",
       "      <th>basement</th>\n",
       "      <th>hotwaterheating</th>\n",
       "      <th>airconditioning</th>\n",
       "      <th>parking</th>\n",
       "      <th>prefarea</th>\n",
       "      <th>furnishingstatus</th>\n",
       "    </tr>\n",
       "  </thead>\n",
       "  <tbody>\n",
       "    <tr>\n",
       "      <th>0</th>\n",
       "      <td>13300000</td>\n",
       "      <td>7420</td>\n",
       "      <td>4</td>\n",
       "      <td>2</td>\n",
       "      <td>3</td>\n",
       "      <td>yes</td>\n",
       "      <td>no</td>\n",
       "      <td>no</td>\n",
       "      <td>no</td>\n",
       "      <td>yes</td>\n",
       "      <td>2</td>\n",
       "      <td>yes</td>\n",
       "      <td>furnished</td>\n",
       "    </tr>\n",
       "    <tr>\n",
       "      <th>1</th>\n",
       "      <td>12250000</td>\n",
       "      <td>8960</td>\n",
       "      <td>4</td>\n",
       "      <td>4</td>\n",
       "      <td>4</td>\n",
       "      <td>yes</td>\n",
       "      <td>no</td>\n",
       "      <td>no</td>\n",
       "      <td>no</td>\n",
       "      <td>yes</td>\n",
       "      <td>3</td>\n",
       "      <td>no</td>\n",
       "      <td>furnished</td>\n",
       "    </tr>\n",
       "    <tr>\n",
       "      <th>2</th>\n",
       "      <td>12250000</td>\n",
       "      <td>9960</td>\n",
       "      <td>3</td>\n",
       "      <td>2</td>\n",
       "      <td>2</td>\n",
       "      <td>yes</td>\n",
       "      <td>no</td>\n",
       "      <td>yes</td>\n",
       "      <td>no</td>\n",
       "      <td>no</td>\n",
       "      <td>2</td>\n",
       "      <td>yes</td>\n",
       "      <td>semi-furnished</td>\n",
       "    </tr>\n",
       "    <tr>\n",
       "      <th>3</th>\n",
       "      <td>12215000</td>\n",
       "      <td>7500</td>\n",
       "      <td>4</td>\n",
       "      <td>2</td>\n",
       "      <td>2</td>\n",
       "      <td>yes</td>\n",
       "      <td>no</td>\n",
       "      <td>yes</td>\n",
       "      <td>no</td>\n",
       "      <td>yes</td>\n",
       "      <td>3</td>\n",
       "      <td>yes</td>\n",
       "      <td>furnished</td>\n",
       "    </tr>\n",
       "    <tr>\n",
       "      <th>4</th>\n",
       "      <td>11410000</td>\n",
       "      <td>7420</td>\n",
       "      <td>4</td>\n",
       "      <td>1</td>\n",
       "      <td>2</td>\n",
       "      <td>yes</td>\n",
       "      <td>yes</td>\n",
       "      <td>yes</td>\n",
       "      <td>no</td>\n",
       "      <td>yes</td>\n",
       "      <td>2</td>\n",
       "      <td>no</td>\n",
       "      <td>furnished</td>\n",
       "    </tr>\n",
       "  </tbody>\n",
       "</table>\n",
       "</div>"
      ],
      "text/plain": [
       "      price  area  bedrooms  bathrooms  stories mainroad guestroom basement  \\\n",
       "0  13300000  7420         4          2        3      yes        no       no   \n",
       "1  12250000  8960         4          4        4      yes        no       no   \n",
       "2  12250000  9960         3          2        2      yes        no      yes   \n",
       "3  12215000  7500         4          2        2      yes        no      yes   \n",
       "4  11410000  7420         4          1        2      yes       yes      yes   \n",
       "\n",
       "  hotwaterheating airconditioning  parking prefarea furnishingstatus  \n",
       "0              no             yes        2      yes        furnished  \n",
       "1              no             yes        3       no        furnished  \n",
       "2              no              no        2      yes   semi-furnished  \n",
       "3              no             yes        3      yes        furnished  \n",
       "4              no             yes        2       no        furnished  "
      ]
     },
     "execution_count": 8,
     "metadata": {},
     "output_type": "execute_result"
    }
   ],
   "source": [
    "dataset = housing\n",
    "dataset.head()"
   ]
  },
  {
   "cell_type": "code",
   "execution_count": 9,
   "id": "54cd859a",
   "metadata": {},
   "outputs": [
    {
     "data": {
      "text/plain": [
       "array(['no', 'yes'], dtype=object)"
      ]
     },
     "execution_count": 9,
     "metadata": {},
     "output_type": "execute_result"
    }
   ],
   "source": [
    "dataset.shape\n",
    "dataset.sample(5)\n",
    "dataset.basement.unique()"
   ]
  },
  {
   "cell_type": "code",
   "execution_count": 10,
   "id": "d6014097",
   "metadata": {},
   "outputs": [
    {
     "data": {
      "text/html": [
       "<div>\n",
       "<style scoped>\n",
       "    .dataframe tbody tr th:only-of-type {\n",
       "        vertical-align: middle;\n",
       "    }\n",
       "\n",
       "    .dataframe tbody tr th {\n",
       "        vertical-align: top;\n",
       "    }\n",
       "\n",
       "    .dataframe thead th {\n",
       "        text-align: right;\n",
       "    }\n",
       "</style>\n",
       "<table border=\"1\" class=\"dataframe\">\n",
       "  <thead>\n",
       "    <tr style=\"text-align: right;\">\n",
       "      <th></th>\n",
       "      <th>price</th>\n",
       "      <th>area</th>\n",
       "      <th>bedrooms</th>\n",
       "      <th>bathrooms</th>\n",
       "      <th>stories</th>\n",
       "      <th>parking</th>\n",
       "      <th>furnishingstatus</th>\n",
       "      <th>mainroad_no</th>\n",
       "      <th>mainroad_yes</th>\n",
       "      <th>guestroom_no</th>\n",
       "      <th>guestroom_yes</th>\n",
       "      <th>basement_no</th>\n",
       "      <th>basement_yes</th>\n",
       "      <th>hotwaterheating_no</th>\n",
       "      <th>hotwaterheating_yes</th>\n",
       "      <th>airconditioning_no</th>\n",
       "      <th>airconditioning_yes</th>\n",
       "      <th>prefarea_no</th>\n",
       "      <th>prefarea_yes</th>\n",
       "    </tr>\n",
       "  </thead>\n",
       "  <tbody>\n",
       "    <tr>\n",
       "      <th>0</th>\n",
       "      <td>13300000</td>\n",
       "      <td>7420</td>\n",
       "      <td>4</td>\n",
       "      <td>2</td>\n",
       "      <td>3</td>\n",
       "      <td>2</td>\n",
       "      <td>furnished</td>\n",
       "      <td>0</td>\n",
       "      <td>1</td>\n",
       "      <td>1</td>\n",
       "      <td>0</td>\n",
       "      <td>1</td>\n",
       "      <td>0</td>\n",
       "      <td>1</td>\n",
       "      <td>0</td>\n",
       "      <td>0</td>\n",
       "      <td>1</td>\n",
       "      <td>0</td>\n",
       "      <td>1</td>\n",
       "    </tr>\n",
       "    <tr>\n",
       "      <th>1</th>\n",
       "      <td>12250000</td>\n",
       "      <td>8960</td>\n",
       "      <td>4</td>\n",
       "      <td>4</td>\n",
       "      <td>4</td>\n",
       "      <td>3</td>\n",
       "      <td>furnished</td>\n",
       "      <td>0</td>\n",
       "      <td>1</td>\n",
       "      <td>1</td>\n",
       "      <td>0</td>\n",
       "      <td>1</td>\n",
       "      <td>0</td>\n",
       "      <td>1</td>\n",
       "      <td>0</td>\n",
       "      <td>0</td>\n",
       "      <td>1</td>\n",
       "      <td>1</td>\n",
       "      <td>0</td>\n",
       "    </tr>\n",
       "    <tr>\n",
       "      <th>2</th>\n",
       "      <td>12250000</td>\n",
       "      <td>9960</td>\n",
       "      <td>3</td>\n",
       "      <td>2</td>\n",
       "      <td>2</td>\n",
       "      <td>2</td>\n",
       "      <td>semi-furnished</td>\n",
       "      <td>0</td>\n",
       "      <td>1</td>\n",
       "      <td>1</td>\n",
       "      <td>0</td>\n",
       "      <td>0</td>\n",
       "      <td>1</td>\n",
       "      <td>1</td>\n",
       "      <td>0</td>\n",
       "      <td>1</td>\n",
       "      <td>0</td>\n",
       "      <td>0</td>\n",
       "      <td>1</td>\n",
       "    </tr>\n",
       "    <tr>\n",
       "      <th>3</th>\n",
       "      <td>12215000</td>\n",
       "      <td>7500</td>\n",
       "      <td>4</td>\n",
       "      <td>2</td>\n",
       "      <td>2</td>\n",
       "      <td>3</td>\n",
       "      <td>furnished</td>\n",
       "      <td>0</td>\n",
       "      <td>1</td>\n",
       "      <td>1</td>\n",
       "      <td>0</td>\n",
       "      <td>0</td>\n",
       "      <td>1</td>\n",
       "      <td>1</td>\n",
       "      <td>0</td>\n",
       "      <td>0</td>\n",
       "      <td>1</td>\n",
       "      <td>0</td>\n",
       "      <td>1</td>\n",
       "    </tr>\n",
       "    <tr>\n",
       "      <th>4</th>\n",
       "      <td>11410000</td>\n",
       "      <td>7420</td>\n",
       "      <td>4</td>\n",
       "      <td>1</td>\n",
       "      <td>2</td>\n",
       "      <td>2</td>\n",
       "      <td>furnished</td>\n",
       "      <td>0</td>\n",
       "      <td>1</td>\n",
       "      <td>0</td>\n",
       "      <td>1</td>\n",
       "      <td>0</td>\n",
       "      <td>1</td>\n",
       "      <td>1</td>\n",
       "      <td>0</td>\n",
       "      <td>0</td>\n",
       "      <td>1</td>\n",
       "      <td>1</td>\n",
       "      <td>0</td>\n",
       "    </tr>\n",
       "  </tbody>\n",
       "</table>\n",
       "</div>"
      ],
      "text/plain": [
       "      price  area  bedrooms  bathrooms  stories  parking furnishingstatus  \\\n",
       "0  13300000  7420         4          2        3        2        furnished   \n",
       "1  12250000  8960         4          4        4        3        furnished   \n",
       "2  12250000  9960         3          2        2        2   semi-furnished   \n",
       "3  12215000  7500         4          2        2        3        furnished   \n",
       "4  11410000  7420         4          1        2        2        furnished   \n",
       "\n",
       "   mainroad_no  mainroad_yes  guestroom_no  guestroom_yes  basement_no  \\\n",
       "0            0             1             1              0            1   \n",
       "1            0             1             1              0            1   \n",
       "2            0             1             1              0            0   \n",
       "3            0             1             1              0            0   \n",
       "4            0             1             0              1            0   \n",
       "\n",
       "   basement_yes  hotwaterheating_no  hotwaterheating_yes  airconditioning_no  \\\n",
       "0             0                   1                    0                   0   \n",
       "1             0                   1                    0                   0   \n",
       "2             1                   1                    0                   1   \n",
       "3             1                   1                    0                   0   \n",
       "4             1                   1                    0                   0   \n",
       "\n",
       "   airconditioning_yes  prefarea_no  prefarea_yes  \n",
       "0                    1            0             1  \n",
       "1                    1            1             0  \n",
       "2                    0            0             1  \n",
       "3                    1            0             1  \n",
       "4                    1            1             0  "
      ]
     },
     "execution_count": 10,
     "metadata": {},
     "output_type": "execute_result"
    }
   ],
   "source": [
    "categorical_columns = ['mainroad', 'guestroom', 'basement', 'hotwaterheating', 'airconditioning', 'prefarea']\n",
    "for column in categorical_columns:\n",
    "    tempdataset = pd.get_dummies(dataset[column], prefix=column)\n",
    "    dataset = pd.merge(\n",
    "        left=dataset,\n",
    "        right=tempdataset,\n",
    "        left_index=True,\n",
    "        right_index=True,\n",
    "    )\n",
    "    dataset = dataset.drop(columns=column)\n",
    "dataset.head()"
   ]
  },
  {
   "cell_type": "code",
   "execution_count": 11,
   "id": "0a381c89",
   "metadata": {},
   "outputs": [
    {
     "name": "stdout",
     "output_type": "stream",
     "text": [
      "<class 'pandas.core.frame.DataFrame'>\n",
      "RangeIndex: 545 entries, 0 to 544\n",
      "Data columns (total 19 columns):\n",
      " #   Column               Non-Null Count  Dtype \n",
      "---  ------               --------------  ----- \n",
      " 0   price                545 non-null    int64 \n",
      " 1   area                 545 non-null    int64 \n",
      " 2   bedrooms             545 non-null    int64 \n",
      " 3   bathrooms            545 non-null    int64 \n",
      " 4   stories              545 non-null    int64 \n",
      " 5   parking              545 non-null    int64 \n",
      " 6   furnishingstatus     545 non-null    object\n",
      " 7   mainroad_no          545 non-null    uint8 \n",
      " 8   mainroad_yes         545 non-null    uint8 \n",
      " 9   guestroom_no         545 non-null    uint8 \n",
      " 10  guestroom_yes        545 non-null    uint8 \n",
      " 11  basement_no          545 non-null    uint8 \n",
      " 12  basement_yes         545 non-null    uint8 \n",
      " 13  hotwaterheating_no   545 non-null    uint8 \n",
      " 14  hotwaterheating_yes  545 non-null    uint8 \n",
      " 15  airconditioning_no   545 non-null    uint8 \n",
      " 16  airconditioning_yes  545 non-null    uint8 \n",
      " 17  prefarea_no          545 non-null    uint8 \n",
      " 18  prefarea_yes         545 non-null    uint8 \n",
      "dtypes: int64(6), object(1), uint8(12)\n",
      "memory usage: 36.3+ KB\n"
     ]
    }
   ],
   "source": [
    "dataset.describe\n",
    "dataset.info()"
   ]
  },
  {
   "cell_type": "code",
   "execution_count": 12,
   "id": "5a7a0ee5",
   "metadata": {
    "scrolled": true
   },
   "outputs": [
    {
     "data": {
      "text/html": [
       "<div>\n",
       "<style scoped>\n",
       "    .dataframe tbody tr th:only-of-type {\n",
       "        vertical-align: middle;\n",
       "    }\n",
       "\n",
       "    .dataframe tbody tr th {\n",
       "        vertical-align: top;\n",
       "    }\n",
       "\n",
       "    .dataframe thead th {\n",
       "        text-align: right;\n",
       "    }\n",
       "</style>\n",
       "<table border=\"1\" class=\"dataframe\">\n",
       "  <thead>\n",
       "    <tr style=\"text-align: right;\">\n",
       "      <th></th>\n",
       "      <th>price</th>\n",
       "      <th>area</th>\n",
       "      <th>bedrooms</th>\n",
       "      <th>bathrooms</th>\n",
       "      <th>stories</th>\n",
       "      <th>parking</th>\n",
       "      <th>mainroad_no</th>\n",
       "      <th>mainroad_yes</th>\n",
       "      <th>guestroom_no</th>\n",
       "      <th>guestroom_yes</th>\n",
       "      <th>basement_no</th>\n",
       "      <th>basement_yes</th>\n",
       "      <th>hotwaterheating_no</th>\n",
       "      <th>hotwaterheating_yes</th>\n",
       "      <th>airconditioning_no</th>\n",
       "      <th>airconditioning_yes</th>\n",
       "      <th>prefarea_no</th>\n",
       "      <th>prefarea_yes</th>\n",
       "    </tr>\n",
       "  </thead>\n",
       "  <tbody>\n",
       "    <tr>\n",
       "      <th>0</th>\n",
       "      <td>13300000</td>\n",
       "      <td>7420</td>\n",
       "      <td>4</td>\n",
       "      <td>2</td>\n",
       "      <td>3</td>\n",
       "      <td>2</td>\n",
       "      <td>0</td>\n",
       "      <td>1</td>\n",
       "      <td>1</td>\n",
       "      <td>0</td>\n",
       "      <td>1</td>\n",
       "      <td>0</td>\n",
       "      <td>1</td>\n",
       "      <td>0</td>\n",
       "      <td>0</td>\n",
       "      <td>1</td>\n",
       "      <td>0</td>\n",
       "      <td>1</td>\n",
       "    </tr>\n",
       "    <tr>\n",
       "      <th>1</th>\n",
       "      <td>12250000</td>\n",
       "      <td>8960</td>\n",
       "      <td>4</td>\n",
       "      <td>4</td>\n",
       "      <td>4</td>\n",
       "      <td>3</td>\n",
       "      <td>0</td>\n",
       "      <td>1</td>\n",
       "      <td>1</td>\n",
       "      <td>0</td>\n",
       "      <td>1</td>\n",
       "      <td>0</td>\n",
       "      <td>1</td>\n",
       "      <td>0</td>\n",
       "      <td>0</td>\n",
       "      <td>1</td>\n",
       "      <td>1</td>\n",
       "      <td>0</td>\n",
       "    </tr>\n",
       "    <tr>\n",
       "      <th>2</th>\n",
       "      <td>12250000</td>\n",
       "      <td>9960</td>\n",
       "      <td>3</td>\n",
       "      <td>2</td>\n",
       "      <td>2</td>\n",
       "      <td>2</td>\n",
       "      <td>0</td>\n",
       "      <td>1</td>\n",
       "      <td>1</td>\n",
       "      <td>0</td>\n",
       "      <td>0</td>\n",
       "      <td>1</td>\n",
       "      <td>1</td>\n",
       "      <td>0</td>\n",
       "      <td>1</td>\n",
       "      <td>0</td>\n",
       "      <td>0</td>\n",
       "      <td>1</td>\n",
       "    </tr>\n",
       "    <tr>\n",
       "      <th>3</th>\n",
       "      <td>12215000</td>\n",
       "      <td>7500</td>\n",
       "      <td>4</td>\n",
       "      <td>2</td>\n",
       "      <td>2</td>\n",
       "      <td>3</td>\n",
       "      <td>0</td>\n",
       "      <td>1</td>\n",
       "      <td>1</td>\n",
       "      <td>0</td>\n",
       "      <td>0</td>\n",
       "      <td>1</td>\n",
       "      <td>1</td>\n",
       "      <td>0</td>\n",
       "      <td>0</td>\n",
       "      <td>1</td>\n",
       "      <td>0</td>\n",
       "      <td>1</td>\n",
       "    </tr>\n",
       "    <tr>\n",
       "      <th>4</th>\n",
       "      <td>11410000</td>\n",
       "      <td>7420</td>\n",
       "      <td>4</td>\n",
       "      <td>1</td>\n",
       "      <td>2</td>\n",
       "      <td>2</td>\n",
       "      <td>0</td>\n",
       "      <td>1</td>\n",
       "      <td>0</td>\n",
       "      <td>1</td>\n",
       "      <td>0</td>\n",
       "      <td>1</td>\n",
       "      <td>1</td>\n",
       "      <td>0</td>\n",
       "      <td>0</td>\n",
       "      <td>1</td>\n",
       "      <td>1</td>\n",
       "      <td>0</td>\n",
       "    </tr>\n",
       "  </tbody>\n",
       "</table>\n",
       "</div>"
      ],
      "text/plain": [
       "      price  area  bedrooms  bathrooms  stories  parking  mainroad_no  \\\n",
       "0  13300000  7420         4          2        3        2            0   \n",
       "1  12250000  8960         4          4        4        3            0   \n",
       "2  12250000  9960         3          2        2        2            0   \n",
       "3  12215000  7500         4          2        2        3            0   \n",
       "4  11410000  7420         4          1        2        2            0   \n",
       "\n",
       "   mainroad_yes  guestroom_no  guestroom_yes  basement_no  basement_yes  \\\n",
       "0             1             1              0            1             0   \n",
       "1             1             1              0            1             0   \n",
       "2             1             1              0            0             1   \n",
       "3             1             1              0            0             1   \n",
       "4             1             0              1            0             1   \n",
       "\n",
       "   hotwaterheating_no  hotwaterheating_yes  airconditioning_no  \\\n",
       "0                   1                    0                   0   \n",
       "1                   1                    0                   0   \n",
       "2                   1                    0                   1   \n",
       "3                   1                    0                   0   \n",
       "4                   1                    0                   0   \n",
       "\n",
       "   airconditioning_yes  prefarea_no  prefarea_yes  \n",
       "0                    1            0             1  \n",
       "1                    1            1             0  \n",
       "2                    0            0             1  \n",
       "3                    1            0             1  \n",
       "4                    1            1             0  "
      ]
     },
     "execution_count": 12,
     "metadata": {},
     "output_type": "execute_result"
    }
   ],
   "source": [
    "dataset = dataset.drop(['furnishingstatus'], axis='columns')\n",
    "dataset.head()"
   ]
  },
  {
   "cell_type": "code",
   "execution_count": 13,
   "id": "d184968c",
   "metadata": {},
   "outputs": [
    {
     "data": {
      "text/plain": [
       "(381, 18)"
      ]
     },
     "execution_count": 13,
     "metadata": {},
     "output_type": "execute_result"
    }
   ],
   "source": [
    "np.random.seed(0)\n",
    "datasetOneA_train, datasetOneA_test = train_test_split(dataset, train_size = 0.7, test_size = 0.3, random_state = 1)\n",
    "datasetOneA_train.shape"
   ]
  },
  {
   "cell_type": "code",
   "execution_count": 14,
   "id": "71be37b1",
   "metadata": {},
   "outputs": [
    {
     "data": {
      "text/plain": [
       "(164, 18)"
      ]
     },
     "execution_count": 14,
     "metadata": {},
     "output_type": "execute_result"
    }
   ],
   "source": [
    "datasetOneA_test.shape"
   ]
  },
  {
   "cell_type": "code",
   "execution_count": 15,
   "id": "f0d34b31",
   "metadata": {},
   "outputs": [],
   "source": [
    "x = datasetOneA_train.values[:, 1:18]  # get input values from first column\n",
    "y = datasetOneA_train.values[:, 0]  # get output values from second column\n",
    "m = len(y) # Number of training examples\n",
    "temp_m = len(x)\n",
    "assert (m == temp_m)"
   ]
  },
  {
   "cell_type": "code",
   "execution_count": 16,
   "id": "7324b1c7",
   "metadata": {},
   "outputs": [
    {
     "data": {
      "text/plain": [
       "Text(0.5, 1.0, 'SCATTER PLOT OF TRAINING DATA')"
      ]
     },
     "execution_count": 16,
     "metadata": {},
     "output_type": "execute_result"
    },
    {
     "data": {
      "image/png": "[encoded data removed]",
      "text/plain": [
       "<Figure size 432x288 with 1 Axes>"
      ]
     },
     "metadata": {
      "needs_background": "light"
     },
     "output_type": "display_data"
    }
   ],
   "source": [
    "plt.scatter(datasetOneA_train.values[:, 1],y, color='red',marker= '+')\n",
    "plt.scatter(datasetOneA_train.values[:, 2],y, color='yellow',marker= '+')\n",
    "plt.scatter(datasetOneA_train.values[:, 3],y, color='blue',marker= '+')\n",
    "plt.scatter(datasetOneA_train.values[:, 4],y, color='green',marker= '+')\n",
    "plt.scatter(datasetOneA_train.values[:, 5],y, color='indigo',marker= '+')\n",
    "plt.grid()\n",
    "plt.rcParams[\"figure.figsize\"] = (12,8)\n",
    "plt.xlabel('Explanatory Variables')\n",
    "plt.ylabel('Dependent Variables')\n",
    "plt.title('SCATTER PLOT OF TRAINING DATA')"
   ]
  },
  {
   "cell_type": "code",
   "execution_count": 17,
   "id": "9308bb41",
   "metadata": {},
   "outputs": [
    {
     "name": "stdout",
     "output_type": "stream",
     "text": [
      "X_norm=  [[2.77777778e-01 2.46913580e-04 1.23456790e-04 6.17283951e-05\n",
      "  1.23456790e-04 6.17283951e-05 0.00000000e+00 6.17283951e-05\n",
      "  0.00000000e+00 0.00000000e+00 6.17283951e-05 6.17283951e-05\n",
      "  0.00000000e+00 0.00000000e+00 6.17283951e-05 6.17283951e-05\n",
      "  0.00000000e+00]\n",
      " [2.18518519e-01 1.23456790e-04 6.17283951e-05 6.17283951e-05\n",
      "  0.00000000e+00 6.17283951e-05 0.00000000e+00 0.00000000e+00\n",
      "  6.17283951e-05 0.00000000e+00 6.17283951e-05 6.17283951e-05\n",
      "  0.00000000e+00 6.17283951e-05 0.00000000e+00 6.17283951e-05\n",
      "  0.00000000e+00]\n",
      " [4.44444444e-01 1.85185185e-04 1.23456790e-04 6.17283951e-05\n",
      "  1.85185185e-04 0.00000000e+00 6.17283951e-05 6.17283951e-05\n",
      "  0.00000000e+00 0.00000000e+00 6.17283951e-05 6.17283951e-05\n",
      "  0.00000000e+00 0.00000000e+00 6.17283951e-05 6.17283951e-05\n",
      "  0.00000000e+00]\n",
      " [1.92592593e-01 1.85185185e-04 6.17283951e-05 1.23456790e-04\n",
      "  0.00000000e+00 6.17283951e-05 0.00000000e+00 6.17283951e-05\n",
      "  0.00000000e+00 6.17283951e-05 0.00000000e+00 6.17283951e-05\n",
      "  0.00000000e+00 6.17283951e-05 0.00000000e+00 6.17283951e-05\n",
      "  0.00000000e+00]\n",
      " [2.46913580e-01 1.85185185e-04 1.23456790e-04 1.23456790e-04\n",
      "  6.17283951e-05 0.00000000e+00 6.17283951e-05 6.17283951e-05\n",
      "  0.00000000e+00 0.00000000e+00 6.17283951e-05 6.17283951e-05\n",
      "  0.00000000e+00 0.00000000e+00 6.17283951e-05 6.17283951e-05\n",
      "  0.00000000e+00]]\n",
      "X_stand=  [[-0.32640558  1.32167636  1.39689225 -0.92698554  1.51846971  2.43140198\n",
      "  -2.43140198  0.45294185 -0.45294185 -1.34042617  1.34042617  0.22238846\n",
      "  -0.22238846 -1.53800407  1.53800407  0.57154745 -0.57154745]\n",
      " [-0.75373534 -1.30102517 -0.5816057  -0.92698554 -0.79567813  2.43140198\n",
      "  -2.43140198 -2.20199421  2.20199421 -1.34042617  1.34042617  0.22238846\n",
      "  -0.22238846  0.64848679 -0.64848679  0.57154745 -0.57154745]\n",
      " [ 0.87545936  0.0103256   1.39689225 -0.92698554  2.67554362 -0.41020586\n",
      "   0.41020586  0.45294185 -0.45294185 -1.34042617  1.34042617  0.22238846\n",
      "  -0.22238846 -1.53800407  1.53800407  0.57154745 -0.57154745]\n",
      " [-0.94069211  0.0103256  -0.5816057   0.25422346 -0.79567813  2.43140198\n",
      "  -2.43140198  0.45294185 -0.45294185  0.7440733  -0.7440733   0.22238846\n",
      "  -0.22238846  0.64848679 -0.64848679  0.57154745 -0.57154745]\n",
      " [-0.54897316  0.0103256   1.39689225  0.25422346  0.36139579 -0.41020586\n",
      "   0.41020586  0.45294185 -0.45294185 -1.34042617  1.34042617  0.22238846\n",
      "  -0.22238846 -1.53800407  1.53800407  0.57154745 -0.57154745]]\n"
     ]
    }
   ],
   "source": [
    "x = feature_normalize(x)\n",
    "print('X_norm= ', x[:5])\n",
    "\n",
    "x, mu, sigma = feature_standardize(x)\n",
    "print('X_stand= ', x[:5])"
   ]
  },
  {
   "cell_type": "code",
   "execution_count": 18,
   "id": "7953e231",
   "metadata": {},
   "outputs": [],
   "source": [
    "# Lets use hstack() function from numpy to add column of ones to X feature \n",
    "# This will be our final X matrix (feature matrix)\n",
    "X = np.hstack((np.ones((m,1)), x))\n",
    "X.shape\n",
    "\n",
    "#Initialise theta to zero as recommended by the hw question\n",
    "theta = np.zeros(18)\n",
    "\n",
    "# declare and assign values to the gradient descent learning parameters alpha and no of iterations\n",
    "iterations = 200;\n",
    "alpha = 0.08;\n",
    "lamdba = 0.0000000247875217;\n"
   ]
  },
  {
   "cell_type": "code",
   "execution_count": 19,
   "id": "f9bc8e2b",
   "metadata": {},
   "outputs": [
    {
     "name": "stdout",
     "output_type": "stream",
     "text": [
      "Final value of train theta = [4775201.66869841  563078.03219865   33386.09303716  529383.32040829\n",
      "  443781.57616914  257888.22868523  -89257.31362875   89257.31362875\n",
      "  -55333.57024404   55333.57024404 -139641.87397512  139641.87397512\n",
      "  -90105.60792503   90105.60792503 -142246.73420911  142246.73420911\n",
      " -111033.74287649  111033.74287649]\n",
      "First 5 values from train cost_history = [1.08329658e+13 9.10534017e+12 7.70980428e+12 6.56440168e+12\n",
      " 5.61435537e+12]\n",
      "Last 5 values from train cost_history = [5.29625448e+11 5.29625447e+11 5.29625446e+11 5.29625445e+11\n",
      " 5.29625444e+11]\n"
     ]
    }
   ],
   "source": [
    "trainTheta, trainCostHistory = gradient_descent(X, y, theta, alpha, iterations, lamdba)\n",
    "print('Final value of train theta =', trainTheta)\n",
    "print('First 5 values from train cost_history =', trainCostHistory[:5])\n",
    "print('Last 5 values from train cost_history =', trainCostHistory[-5 :])"
   ]
  },
  {
   "cell_type": "code",
   "execution_count": 20,
   "id": "cdb875d2",
   "metadata": {
    "scrolled": false
   },
   "outputs": [
    {
     "data": {
      "text/plain": [
       "Text(0.5, 1.0, 'Convergence of gradient descent of train model')"
      ]
     },
     "execution_count": 20,
     "metadata": {},
     "output_type": "execute_result"
    },
    {
     "data": {
      "image/png": "[encoded data removed]",
      "text/plain": [
       "<Figure size 864x576 with 1 Axes>"
      ]
     },
     "metadata": {
      "needs_background": "light"
     },
     "output_type": "display_data"
    }
   ],
   "source": [
    "plt.plot(range(1, iterations +1), trainCostHistory, color ='blue')\n",
    "plt.rcParams[\"figure.figsize\"] = (10,6)\n",
    "plt.grid()\n",
    "plt.xlabel(\"Number of iterations\")\n",
    "plt.ylabel(\"cost (J)\")\n",
    "plt.title(\"Convergence of gradient descent of train model\")"
   ]
  },
  {
   "cell_type": "code",
   "execution_count": 21,
   "id": "f8d6c4f8",
   "metadata": {},
   "outputs": [
    {
     "data": {
      "text/plain": [
       "<matplotlib.legend.Legend at 0x7f6765c235e0>"
      ]
     },
     "execution_count": 21,
     "metadata": {},
     "output_type": "execute_result"
    },
    {
     "data": {
      "image/png": "[encoded data removed]",
      "text/plain": [
       "<Figure size 720x432 with 1 Axes>"
      ]
     },
     "metadata": {
      "needs_background": "light"
     },
     "output_type": "display_data"
    }
   ],
   "source": [
    "alpha = 0.01;\n",
    "trainTheta_1, trainCostHistory_1 = gradient_descent(X, y, theta, alpha, iterations, lamdba)\n",
    "\n",
    "alpha = 0.03;\n",
    "trainTheta_2, trainCostHistory_2 = gradient_descent(X, y, theta, alpha, iterations, lamdba)\n",
    "\n",
    "alpha = 0.05;\n",
    "trainTheta_3, trainCostHistory_3 = gradient_descent(X, y, theta, alpha, iterations, lamdba)\n",
    "\n",
    "alpha = 0.08;\n",
    "trainTheta_4, trainCostHistory_4 = gradient_descent(X, y, theta, alpha, iterations, lamdba)\n",
    "\n",
    "alpha = 0.10;\n",
    "trainTheta_5, trainCostHistory_5 = gradient_descent(X, y, theta, alpha, iterations, lamdba)\n",
    "\n",
    "plt.plot(range(1, iterations +1), trainCostHistory_1, color ='purple', label = 'alpha = 0.01e-8')\n",
    "plt.plot(range(1, iterations +1), trainCostHistory_2, color ='red', label = 'alpha = 0.03e-8')\n",
    "plt.plot(range(1, iterations +1), trainCostHistory_3, color ='green', label = 'alpha = 0.05e-8')\n",
    "plt.plot(range(1, iterations +1), trainCostHistory_4, color ='yellow', label = 'alpha = 0.08e-8')\n",
    "plt.plot(range(1, iterations +1), trainCostHistory_5, color ='blue', label = 'alpha = 0.10e-7')\n",
    "\n",
    "plt.rcParams[\"figure.figsize\"] = (10,6)\n",
    "plt.grid()\n",
    "plt.xlabel(\"Number of iterations\")\n",
    "plt.ylabel(\"cost (J)\")\n",
    "plt.title(\"Effect of Learning Rate On Convergence of Gradient Descent\")\n",
    "plt.legend()"
   ]
  },
  {
   "cell_type": "markdown",
   "id": "a3af6f97",
   "metadata": {},
   "source": [
    "#### evaluate test data with theta from train model"
   ]
  },
  {
   "cell_type": "code",
   "execution_count": 22,
   "id": "6aa06031",
   "metadata": {},
   "outputs": [
    {
     "data": {
      "text/plain": [
       "(164, 17)"
      ]
     },
     "execution_count": 22,
     "metadata": {},
     "output_type": "execute_result"
    }
   ],
   "source": [
    "xTest = datasetOneA_test.values[:, 1:18]  # get input values from first column\n",
    "yTest = datasetOneA_test.values[:, 0]  # get output values from second column\n",
    "m = len(yTest) # Number of training examples\n",
    "temp_m = len(xTest)\n",
    "assert (m == temp_m)\n",
    "xTest.shape"
   ]
  },
  {
   "cell_type": "code",
   "execution_count": 23,
   "id": "e9e72f2a",
   "metadata": {},
   "outputs": [
    {
     "data": {
      "text/plain": [
       "Text(0.5, 1.0, 'SCATTER PLOT OF TEST DATA')"
      ]
     },
     "execution_count": 23,
     "metadata": {},
     "output_type": "execute_result"
    },
    {
     "data": {
      "image/png": "[encoded data removed]",
      "text/plain": [
       "<Figure size 720x432 with 1 Axes>"
      ]
     },
     "metadata": {
      "needs_background": "light"
     },
     "output_type": "display_data"
    }
   ],
   "source": [
    "plt.scatter(datasetOneA_test.values[:, 1],yTest, color='red',marker= '+')\n",
    "plt.scatter(datasetOneA_test.values[:, 2],yTest, color='yellow',marker= '+')\n",
    "plt.scatter(datasetOneA_test.values[:, 3],yTest, color='blue',marker= '+')\n",
    "plt.scatter(datasetOneA_test.values[:, 4],yTest, color='green',marker= '+')\n",
    "plt.scatter(datasetOneA_test.values[:, 5],yTest, color='indigo',marker= '+')\n",
    "plt.grid()\n",
    "plt.rcParams[\"figure.figsize\"] = (12,8)\n",
    "plt.xlabel('Explanatory Variables')\n",
    "plt.ylabel('Dependent Variables')\n",
    "plt.title('SCATTER PLOT OF TEST DATA')"
   ]
  },
  {
   "cell_type": "code",
   "execution_count": 24,
   "id": "64a32c1d",
   "metadata": {},
   "outputs": [
    {
     "name": "stdout",
     "output_type": "stream",
     "text": [
      "Xtest_norm=  [[4.72727273e-01 3.03030303e-04 1.51515152e-04 1.51515152e-04\n",
      "  7.57575758e-05 0.00000000e+00 7.57575758e-05 7.57575758e-05\n",
      "  0.00000000e+00 7.57575758e-05 0.00000000e+00 7.57575758e-05\n",
      "  0.00000000e+00 0.00000000e+00 7.57575758e-05 7.57575758e-05\n",
      "  0.00000000e+00]\n",
      " [6.36363636e-01 3.03030303e-04 7.57575758e-05 3.03030303e-04\n",
      "  2.27272727e-04 0.00000000e+00 7.57575758e-05 7.57575758e-05\n",
      "  0.00000000e+00 7.57575758e-05 0.00000000e+00 7.57575758e-05\n",
      "  0.00000000e+00 7.57575758e-05 0.00000000e+00 7.57575758e-05\n",
      "  0.00000000e+00]\n",
      " [7.95454545e-01 3.03030303e-04 1.51515152e-04 1.51515152e-04\n",
      "  7.57575758e-05 0.00000000e+00 7.57575758e-05 7.57575758e-05\n",
      "  0.00000000e+00 7.57575758e-05 0.00000000e+00 7.57575758e-05\n",
      "  0.00000000e+00 7.57575758e-05 0.00000000e+00 7.57575758e-05\n",
      "  0.00000000e+00]\n",
      " [4.86363636e-01 2.27272727e-04 7.57575758e-05 2.27272727e-04\n",
      "  0.00000000e+00 0.00000000e+00 7.57575758e-05 7.57575758e-05\n",
      "  0.00000000e+00 0.00000000e+00 7.57575758e-05 7.57575758e-05\n",
      "  0.00000000e+00 7.57575758e-05 0.00000000e+00 0.00000000e+00\n",
      "  7.57575758e-05]\n",
      " [5.01136364e-01 2.27272727e-04 7.57575758e-05 1.51515152e-04\n",
      "  0.00000000e+00 0.00000000e+00 7.57575758e-05 7.57575758e-05\n",
      "  0.00000000e+00 7.57575758e-05 0.00000000e+00 7.57575758e-05\n",
      "  0.00000000e+00 7.57575758e-05 0.00000000e+00 7.57575758e-05\n",
      "  0.00000000e+00]]\n",
      "Xtest_standard=  [[ 0.64908286  1.62413499  1.47348095  0.15992423  0.34118416 -0.39240908\n",
      "   0.39240908  0.49086255 -0.49086255  0.70817399 -0.70817399  0.2105092\n",
      "  -0.2105092  -1.32996595  1.32996595  0.50984676 -0.50984676]\n",
      " [ 1.74299277  1.62413499 -0.54027635  2.34555539  2.67260924 -0.39240908\n",
      "   0.39240908  0.49086255 -0.49086255  0.70817399 -0.70817399  0.2105092\n",
      "  -0.2105092   0.7473142  -0.7473142   0.50984676 -0.50984676]\n",
      " [ 2.80651629  1.62413499  1.47348095  0.15992423  0.34118416 -0.39240908\n",
      "   0.39240908  0.49086255 -0.49086255  0.70817399 -0.70817399  0.2105092\n",
      "  -0.2105092   0.7473142  -0.7473142   0.50984676 -0.50984676]\n",
      " [ 0.74024202  0.14436755 -0.54027635  1.25273981 -0.82452838 -0.39240908\n",
      "   0.39240908  0.49086255 -0.49086255 -1.4034721   1.4034721   0.2105092\n",
      "  -0.2105092   0.7473142  -0.7473142  -1.94941407  1.94941407]\n",
      " [ 0.83899777  0.14436755 -0.54027635  0.15992423 -0.82452838 -0.39240908\n",
      "   0.39240908  0.49086255 -0.49086255  0.70817399 -0.70817399  0.2105092\n",
      "  -0.2105092   0.7473142  -0.7473142   0.50984676 -0.50984676]]\n"
     ]
    }
   ],
   "source": [
    "xTest = feature_normalize(xTest)\n",
    "print('Xtest_norm= ', xTest[:5])\n",
    "\n",
    "xTest, mu, sigma = feature_standardize(xTest)\n",
    "print('Xtest_standard= ', xTest[:5])"
   ]
  },
  {
   "cell_type": "code",
   "execution_count": 25,
   "id": "7650c17e",
   "metadata": {},
   "outputs": [
    {
     "data": {
      "text/plain": [
       "200"
      ]
     },
     "execution_count": 25,
     "metadata": {},
     "output_type": "execute_result"
    }
   ],
   "source": [
    "# Lets use hstack() function from numpy to add column of ones to X feature \n",
    "# This will be our final X matrix (feature matrix)\n",
    "X_Test = np.hstack((np.ones((m,1)), xTest))\n",
    "\n",
    "#Initialise theta to zero as recommended by the hw question\n",
    "evalTheta = trainTheta\n",
    "alpha = 0.04\n",
    "iterations"
   ]
  },
  {
   "cell_type": "code",
   "execution_count": 26,
   "id": "05d886ad",
   "metadata": {},
   "outputs": [
    {
     "name": "stdout",
     "output_type": "stream",
     "text": [
      "Final value of test theta = [4747053.74510309  506532.14306803  271302.67394656  421766.48594203\n",
      "  264805.5476776   271361.67585581  -39934.25331713   39934.25331713\n",
      "  -45579.40210138   45579.40210138   20101.73869447  -20101.73869447\n",
      " -119256.53944494  119256.53944494 -347731.90394512  347731.90394512\n",
      " -200894.00980217  200894.00980217]\n",
      "First 5 values from test cost_history = [6.89512854e+11 6.75768681e+11 6.64202224e+11 6.54398615e+11\n",
      " 6.46031075e+11]\n",
      "Last 5 values from test cost_history = [5.70416351e+11 5.70415666e+11 5.70415006e+11 5.70414370e+11\n",
      " 5.70413759e+11]\n"
     ]
    }
   ],
   "source": [
    "testTheta, testCostHistory = eval_gradient_descent(X_Test, yTest, evalTheta, alpha, iterations)\n",
    "print('Final value of test theta =', testTheta)\n",
    "print('First 5 values from test cost_history =', testCostHistory[:5])\n",
    "print('Last 5 values from test cost_history =', testCostHistory[-5 :])"
   ]
  },
  {
   "cell_type": "code",
   "execution_count": 27,
   "id": "5f0edea1",
   "metadata": {},
   "outputs": [
    {
     "data": {
      "text/plain": [
       "<matplotlib.legend.Legend at 0x7f6765b40a90>"
      ]
     },
     "execution_count": 27,
     "metadata": {},
     "output_type": "execute_result"
    },
    {
     "data": {
      "image/png": "[encoded data removed]",
      "text/plain": [
       "<Figure size 864x576 with 1 Axes>"
      ]
     },
     "metadata": {
      "needs_background": "light"
     },
     "output_type": "display_data"
    }
   ],
   "source": [
    "plt.plot(range(1, iterations +1), trainCostHistory, color ='blue', label = 'Train')\n",
    "plt.plot(range(1, iterations +1), testCostHistory, color ='green', label = 'Test')\n",
    "plt.rcParams[\"figure.figsize\"] = (10,6)\n",
    "plt.grid()\n",
    "plt.xlabel(\"Number of iterations\")\n",
    "plt.ylabel(\"cost (J)\")\n",
    "plt.title(\"Convergence of gradient descent (Test vs Train)\")\n",
    "plt.legend()"
   ]
  },
  {
   "cell_type": "code",
   "execution_count": null,
   "id": "58b89f3b",
   "metadata": {},
   "outputs": [],
   "source": []
  }
 ],
 "metadata": {
  "kernelspec": {
   "display_name": "Python 3 (ipykernel)",
   "language": "python",
   "name": "python3"
  },
  "language_info": {
   "codemirror_mode": {
    "name": "ipython",
    "version": 3
   },
   "file_extension": ".py",
   "mimetype": "text/x-python",
   "name": "python",
   "nbconvert_exporter": "python",
   "pygments_lexer": "ipython3",
   "version": "3.8.10"
  }
 },
 "nbformat": 4,
 "nbformat_minor": 5
}
