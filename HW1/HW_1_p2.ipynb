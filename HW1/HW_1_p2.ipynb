{
 "cells": [
  {
   "cell_type": "markdown",
   "id": "44331f03",
   "metadata": {},
   "source": [
    "# HW1"
   ]
  },
  {
   "cell_type": "markdown",
   "id": "d72c7e49",
   "metadata": {},
   "source": [
    "**NAME :** X.O.mto<br>\n",
    "**HW # :** 1<br>\n",
    "**REPO:** *https://github.com/Somto-Dera/ECGR5090-Machine-Learning*<br>"
   ]
  },
  {
   "cell_type": "markdown",
   "id": "bc4369c9",
   "metadata": {},
   "source": [
    "**In this homework, we will use US Housing dataset. You will develop linear regression with gradient decent algorithm to estimate the price of the house. In this homework, we will use 70% and 30% split between training and evaluation (test) sets across all problems. (Note: You cannot use the built-in function from ML libraries for gradient descent, you must implement it yourself. However, you can use built-in function for normalization/standardization).**"
   ]
  },
  {
   "cell_type": "markdown",
   "id": "7ab30171",
   "metadata": {},
   "source": [
    "####  PROBLEM 2:\n",
    "#### A\n",
    "- Repeat problem 1a, this time with input normalization and input standardization as part of your pre-processing logic.\n",
    "- You need to perform two separate trainings for standardization and normalization.\n",
    "- Plot the training and validation losses for both training and validation set based on input standardization and input normalization.\n",
    "- Compare your training accuracy between both scaling approaches as well as the baseline training in problem 1a.\n",
    "- Which input scaling achieves the best training? Explain your results.\n",
    "\n",
    "#### B\n",
    "- Repeat problem 1b, this time with input normalization and input standardization as part of your pre-processing logic.\n",
    "- You need to perform two separate trainings for standardization and normalization.\n",
    "- Plot the training and validation losses for both training and validation set based on input standardization and input normalization.\n",
    "- Compare your training accuracy between both scaling approaches as well as the baseline training in problem 1b.\n",
    "- Which input scaling achieves the best training? Explain your results."
   ]
  },
  {
   "cell_type": "markdown",
   "id": "8193a9b5",
   "metadata": {},
   "source": [
    "**STEPS:**\n",
    "<br>\n",
    "* Import Needed libraries\n",
    "\n",
    "* Function Definition\n",
    "    * Define cost function\n",
    "    * Define gradient function\n",
    "    * Define standardization function\n",
    "    * Define normalization function\n",
    "\n",
    "* Data Preparation\n",
    "    * Load and understand data\n",
    "    * Perform minor EDA\n",
    "\n",
    "* Problem 2.A: Linear Regression Model(NormStandard)\n",
    "    * Split the data into X and y\n",
    "    * Split the data into training and test data set\n",
    "    * Scale train and test set\n",
    "    * Build the linear regression model\n",
    "    * Evaluate the model\n",
    "    * Plot a convergence of gradient descent graph with cost history\n",
    "    * Plot a graph showing the effect of changing the learning rate in convergence of the gradient descent with cost history\n",
    "    * Test linear regression model test dataset\n",
    "    * Evaluate results        \n",
    "        \n",
    "* Problem 2.B: Linear Regression Model(NormStandard)\n",
    "    * Use one hot encoding to convert non number data to binary\n",
    "    * Split the data into X and y\n",
    "    * Split the data into training and test data set\n",
    "    * Scale train and test set\n",
    "    * Build the linear regression model\n",
    "    * Evaluate the model\n",
    "    * Plot a convergence of gradient descent graph with cost history\n",
    "    * Plot a graph showing the effect of changing the learning rate in convergence of the gradient descent with cost history\n",
    "    * Test linear regression model test dataset\n",
    "    * Evaluate results"
   ]
  },
  {
   "cell_type": "markdown",
   "id": "dd4d1e4f",
   "metadata": {},
   "source": [
    "________________________________________________________________________________________________________________"
   ]
  },
  {
   "cell_type": "markdown",
   "id": "db9273da",
   "metadata": {},
   "source": [
    "________________________________________________________________________________________________________________"
   ]
  },
  {
   "cell_type": "code",
   "execution_count": 1,
   "id": "715f8583",
   "metadata": {},
   "outputs": [],
   "source": [
    "# import the needed libraries\n",
    "import numpy as np          # for array and matrics manipulation\n",
    "import pandas as pd          # for data manipulation and analysis\n",
    "import matplotlib.pyplot as plt          # for data visualisation\n",
    "from sklearn.model_selection import train_test_split          # to split data sets\n",
    "from sklearn.compose import ColumnTransformer          # to apply transformers to columns of an array or pandas DataFrame\n",
    "from sklearn.preprocessing import OneHotEncoder          # for onehot encoding"
   ]
  },
  {
   "cell_type": "markdown",
   "id": "8dd4fc02",
   "metadata": {},
   "source": [
    "________________________________________________________________________________________________________________"
   ]
  },
  {
   "cell_type": "markdown",
   "id": "de244f9a",
   "metadata": {},
   "source": [
    "**Details on *feature_normalize* function**.<br>\n",
    "- normalizes the features(input variables) in X.\n",
    "\n",
    "**Input Parameters**<br>\n",
    "* X : n dimensional array (matrix), shape (n_samples, n_features). Features(input varibale) to be normalized.\n",
    "\n",
    "**Returns**<br>\n",
    "* X_norm : n dimensional array (matrix), shape (n_samples,n_features). A normalized version of X."
   ]
  },
  {
   "cell_type": "code",
   "execution_count": 2,
   "id": "30cb6233",
   "metadata": {},
   "outputs": [],
   "source": [
    "def feature_normalize(X):\n",
    "    \n",
    "    X_norm = (X - np.min(X))/(np.max(X) - np.min(X))\n",
    "    return X_norm"
   ]
  },
  {
   "cell_type": "markdown",
   "id": "a97fe127",
   "metadata": {},
   "source": [
    "**Details on *feature_standardize* function**.<br>\n",
    "- standardizes the features(input variables) in X.\n",
    "\n",
    "**Input Parameters**<br>\n",
    "* X : n dimensional array (matrix), shape (n_samples, n_features). Features(input varibale) to be standardized.\n",
    "\n",
    "**Returns**<br>\n",
    "* X_norm : n dimensional array (matrix), shape (n_samples,n_features). A normalized version of X.\n",
    "* mu : n dimensional array (matrix), shape (n_features,). The mean value.\n",
    "* sigma : n dimensional array (matrix), shape (n_features,). The standard deviation."
   ]
  },
  {
   "cell_type": "code",
   "execution_count": 3,
   "id": "00df8d3a",
   "metadata": {},
   "outputs": [],
   "source": [
    "def feature_standardize(X):\n",
    "    \n",
    "    #Note here we need mean of indivdual column here, hence axis = 0\n",
    "    mu = np.mean(X, axis = 0)\n",
    "    # Notice the parameter ddof (Delta Degrees of Freedom)  value is 1\n",
    "    sigma = np.std(X, axis= 0, ddof = 1)  # Standard deviation (can also use range)\n",
    "    X_norm = (X - mu)/sigma\n",
    "    return X_norm, mu, sigma"
   ]
  },
  {
   "cell_type": "markdown",
   "id": "05c87d0c",
   "metadata": {},
   "source": [
    "**Details on *comp_cost* function for the linear regression**.<br>\n",
    "\n",
    "- the hypotheis function is h(θ,x)= θ_0 + θ_1 * x_1 + ... + θ_n * x_n\n",
    "\n",
    "<br>**Input Parameters**\n",
    "- *'X' :* 2D array where each row represent the training example and each column represent the feature ndarray\n",
    "- *'y' :* 1D array of labels/target value for each traing example. dimension(1 x m)\n",
    "- *'theta' :* 1D array of fitting parameters or weights. Dimension (1 x n)\n",
    "\n",
    "<br>**Dimension(m x n)**\n",
    "- *'m' :* number of training examples\n",
    "- *'n' :* number of features (including X_0 column of ones)\n",
    "\n",
    "<br>**Output Parameters**\n",
    "- *'J' :* scalar value\n",
    "\n",
    "<br>**Library Functions Used**\n",
    "- *numpy.dot()* returns the product of two arrays\n",
    "- *numpy.subtract()* performs vector entree subtraction\n",
    "- *numpy.square()* performs the vector entree square"
   ]
  },
  {
   "cell_type": "code",
   "execution_count": 4,
   "id": "ebc02427",
   "metadata": {},
   "outputs": [],
   "source": [
    "def comp_cost(X, y, theta, flag):\n",
    "    \n",
    "    predictions = X.dot(theta)\n",
    "    errors = np.subtract(predictions, y)\n",
    "    sqrErrors = np.square(errors)\n",
    "    \n",
    "    if flag == \"simple regr\":\n",
    "        J = 1 / (2 * m) * np.sum(sqrErrors)\n",
    "        \n",
    "    if flag == \"onehot regr\":\n",
    "        J = 1 / (2 * m) * errors.T.dot(errors)\n",
    "    \n",
    "    return J"
   ]
  },
  {
   "cell_type": "markdown",
   "id": "97145649",
   "metadata": {},
   "source": [
    "**Details on *gradient_descent* function**\n",
    "- a for loop i used to compute theta using batch gradient descent algorithm\n",
    "- each value theta value is used to compute cost.Result is stored in a list\n",
    "- cost should decrease with every iteration\n",
    "- returns new theta and cost history variable\n",
    "\n",
    "<br>**Input Parameters**\n",
    "- *'X' :* 2D array where each row represent the training example and each column represent the feature ndarray\n",
    "- *'y' :* 1D array of labels/target value for each traing example. dimension(1 x m)\n",
    "- *'theta' :* 1D array of fitting parameters or weights. Dimension (1 x n)\n",
    "- *'alpha' :* Learning rate. Scalar value\n",
    "- *'iterations':* No of iterations. Scalar value. \n",
    "\n",
    "<br>**Dimension(m x n)**\n",
    "- *'m' :* number of training examples\n",
    "- *'n' :* number of features (including X_0 column of ones)\n",
    "\n",
    "<br>**Output Parameters**\n",
    "- *'theta' :*  Final Value. 1D array of fitting parameters or weights. Dimension (1 x n)\n",
    "- *'cost_history' :* Conatins value of cost for each iteration. 1D array. Dimansion(m x 1)\n",
    "\n",
    "<br>**Library Functions Used**\n",
    "- *numpy.dot()* returns the product of two arrays\n",
    "- *numpy.subtract()* performs vector entree subtraction\n",
    "- *numpy.transpose()* reverse or permute the axes of an array"
   ]
  },
  {
   "cell_type": "code",
   "execution_count": 5,
   "id": "d4b04579",
   "metadata": {},
   "outputs": [],
   "source": [
    "def gradient_descent(X, y, theta, alpha, iterations, flag):\n",
    "    cost_history = np.zeros(iterations)\n",
    "    \n",
    "    for i in range(iterations):\n",
    "        predictions = X.dot(theta)\n",
    "        errors = np.subtract(predictions, y)\n",
    "        sum_delta = (alpha / m) * X.transpose().dot(errors);\n",
    "        theta = theta - sum_delta;\n",
    "        \n",
    "        cost_history[i] = comp_cost(X, y, theta, flag)\n",
    "        \n",
    "    return theta, cost_history"
   ]
  },
  {
   "cell_type": "markdown",
   "id": "90fa4de3",
   "metadata": {},
   "source": [
    "________________________________________________________________________________________________________________"
   ]
  },
  {
   "cell_type": "markdown",
   "id": "a56bbf4d",
   "metadata": {},
   "source": [
    "________________________________________________________________________________________________________________"
   ]
  },
  {
   "cell_type": "code",
   "execution_count": 6,
   "id": "04cf9d61",
   "metadata": {},
   "outputs": [
    {
     "data": {
      "text/html": [
       "<div>\n",
       "<style scoped>\n",
       "    .dataframe tbody tr th:only-of-type {\n",
       "        vertical-align: middle;\n",
       "    }\n",
       "\n",
       "    .dataframe tbody tr th {\n",
       "        vertical-align: top;\n",
       "    }\n",
       "\n",
       "    .dataframe thead th {\n",
       "        text-align: right;\n",
       "    }\n",
       "</style>\n",
       "<table border=\"1\" class=\"dataframe\">\n",
       "  <thead>\n",
       "    <tr style=\"text-align: right;\">\n",
       "      <th></th>\n",
       "      <th>price</th>\n",
       "      <th>area</th>\n",
       "      <th>bedrooms</th>\n",
       "      <th>bathrooms</th>\n",
       "      <th>stories</th>\n",
       "      <th>mainroad</th>\n",
       "      <th>guestroom</th>\n",
       "      <th>basement</th>\n",
       "      <th>hotwaterheating</th>\n",
       "      <th>airconditioning</th>\n",
       "      <th>parking</th>\n",
       "      <th>prefarea</th>\n",
       "      <th>furnishingstatus</th>\n",
       "    </tr>\n",
       "  </thead>\n",
       "  <tbody>\n",
       "    <tr>\n",
       "      <th>0</th>\n",
       "      <td>13300000</td>\n",
       "      <td>7420</td>\n",
       "      <td>4</td>\n",
       "      <td>2</td>\n",
       "      <td>3</td>\n",
       "      <td>yes</td>\n",
       "      <td>no</td>\n",
       "      <td>no</td>\n",
       "      <td>no</td>\n",
       "      <td>yes</td>\n",
       "      <td>2</td>\n",
       "      <td>yes</td>\n",
       "      <td>furnished</td>\n",
       "    </tr>\n",
       "    <tr>\n",
       "      <th>1</th>\n",
       "      <td>12250000</td>\n",
       "      <td>8960</td>\n",
       "      <td>4</td>\n",
       "      <td>4</td>\n",
       "      <td>4</td>\n",
       "      <td>yes</td>\n",
       "      <td>no</td>\n",
       "      <td>no</td>\n",
       "      <td>no</td>\n",
       "      <td>yes</td>\n",
       "      <td>3</td>\n",
       "      <td>no</td>\n",
       "      <td>furnished</td>\n",
       "    </tr>\n",
       "    <tr>\n",
       "      <th>2</th>\n",
       "      <td>12250000</td>\n",
       "      <td>9960</td>\n",
       "      <td>3</td>\n",
       "      <td>2</td>\n",
       "      <td>2</td>\n",
       "      <td>yes</td>\n",
       "      <td>no</td>\n",
       "      <td>yes</td>\n",
       "      <td>no</td>\n",
       "      <td>no</td>\n",
       "      <td>2</td>\n",
       "      <td>yes</td>\n",
       "      <td>semi-furnished</td>\n",
       "    </tr>\n",
       "    <tr>\n",
       "      <th>3</th>\n",
       "      <td>12215000</td>\n",
       "      <td>7500</td>\n",
       "      <td>4</td>\n",
       "      <td>2</td>\n",
       "      <td>2</td>\n",
       "      <td>yes</td>\n",
       "      <td>no</td>\n",
       "      <td>yes</td>\n",
       "      <td>no</td>\n",
       "      <td>yes</td>\n",
       "      <td>3</td>\n",
       "      <td>yes</td>\n",
       "      <td>furnished</td>\n",
       "    </tr>\n",
       "    <tr>\n",
       "      <th>4</th>\n",
       "      <td>11410000</td>\n",
       "      <td>7420</td>\n",
       "      <td>4</td>\n",
       "      <td>1</td>\n",
       "      <td>2</td>\n",
       "      <td>yes</td>\n",
       "      <td>yes</td>\n",
       "      <td>yes</td>\n",
       "      <td>no</td>\n",
       "      <td>yes</td>\n",
       "      <td>2</td>\n",
       "      <td>no</td>\n",
       "      <td>furnished</td>\n",
       "    </tr>\n",
       "  </tbody>\n",
       "</table>\n",
       "</div>"
      ],
      "text/plain": [
       "      price  area  bedrooms  bathrooms  stories mainroad guestroom basement  \\\n",
       "0  13300000  7420         4          2        3      yes        no       no   \n",
       "1  12250000  8960         4          4        4      yes        no       no   \n",
       "2  12250000  9960         3          2        2      yes        no      yes   \n",
       "3  12215000  7500         4          2        2      yes        no      yes   \n",
       "4  11410000  7420         4          1        2      yes       yes      yes   \n",
       "\n",
       "  hotwaterheating airconditioning  parking prefarea furnishingstatus  \n",
       "0              no             yes        2      yes        furnished  \n",
       "1              no             yes        3       no        furnished  \n",
       "2              no              no        2      yes   semi-furnished  \n",
       "3              no             yes        3      yes        furnished  \n",
       "4              no             yes        2       no        furnished  "
      ]
     },
     "execution_count": 6,
     "metadata": {},
     "output_type": "execute_result"
    }
   ],
   "source": [
    "# load dataset\n",
    "housing = pd.read_csv('Housing.csv')          # load dataset\n",
    "housing.head()          # output first 5 rows from the dataset"
   ]
  },
  {
   "cell_type": "markdown",
   "id": "340ff8b8",
   "metadata": {},
   "source": [
    "* It contains 13 columns, the 11 columns are explanatory variables x1, ..., x10; and the final/fourth column is the dependent variable y. It has 545 data-value per datapoint(column)."
   ]
  },
  {
   "cell_type": "code",
   "execution_count": 7,
   "id": "f06024e2",
   "metadata": {},
   "outputs": [
    {
     "data": {
      "text/html": [
       "<div>\n",
       "<style scoped>\n",
       "    .dataframe tbody tr th:only-of-type {\n",
       "        vertical-align: middle;\n",
       "    }\n",
       "\n",
       "    .dataframe tbody tr th {\n",
       "        vertical-align: top;\n",
       "    }\n",
       "\n",
       "    .dataframe thead th {\n",
       "        text-align: right;\n",
       "    }\n",
       "</style>\n",
       "<table border=\"1\" class=\"dataframe\">\n",
       "  <thead>\n",
       "    <tr style=\"text-align: right;\">\n",
       "      <th></th>\n",
       "      <th>price</th>\n",
       "      <th>area</th>\n",
       "      <th>bedrooms</th>\n",
       "      <th>bathrooms</th>\n",
       "      <th>stories</th>\n",
       "      <th>mainroad</th>\n",
       "      <th>guestroom</th>\n",
       "      <th>basement</th>\n",
       "      <th>hotwaterheating</th>\n",
       "      <th>airconditioning</th>\n",
       "      <th>parking</th>\n",
       "      <th>prefarea</th>\n",
       "      <th>furnishingstatus</th>\n",
       "    </tr>\n",
       "  </thead>\n",
       "  <tbody>\n",
       "    <tr>\n",
       "      <th>0</th>\n",
       "      <td>13300000</td>\n",
       "      <td>7420</td>\n",
       "      <td>4</td>\n",
       "      <td>2</td>\n",
       "      <td>3</td>\n",
       "      <td>yes</td>\n",
       "      <td>no</td>\n",
       "      <td>no</td>\n",
       "      <td>no</td>\n",
       "      <td>yes</td>\n",
       "      <td>2</td>\n",
       "      <td>yes</td>\n",
       "      <td>furnished</td>\n",
       "    </tr>\n",
       "    <tr>\n",
       "      <th>1</th>\n",
       "      <td>12250000</td>\n",
       "      <td>8960</td>\n",
       "      <td>4</td>\n",
       "      <td>4</td>\n",
       "      <td>4</td>\n",
       "      <td>yes</td>\n",
       "      <td>no</td>\n",
       "      <td>no</td>\n",
       "      <td>no</td>\n",
       "      <td>yes</td>\n",
       "      <td>3</td>\n",
       "      <td>no</td>\n",
       "      <td>furnished</td>\n",
       "    </tr>\n",
       "    <tr>\n",
       "      <th>2</th>\n",
       "      <td>12250000</td>\n",
       "      <td>9960</td>\n",
       "      <td>3</td>\n",
       "      <td>2</td>\n",
       "      <td>2</td>\n",
       "      <td>yes</td>\n",
       "      <td>no</td>\n",
       "      <td>yes</td>\n",
       "      <td>no</td>\n",
       "      <td>no</td>\n",
       "      <td>2</td>\n",
       "      <td>yes</td>\n",
       "      <td>semi-furnished</td>\n",
       "    </tr>\n",
       "    <tr>\n",
       "      <th>3</th>\n",
       "      <td>12215000</td>\n",
       "      <td>7500</td>\n",
       "      <td>4</td>\n",
       "      <td>2</td>\n",
       "      <td>2</td>\n",
       "      <td>yes</td>\n",
       "      <td>no</td>\n",
       "      <td>yes</td>\n",
       "      <td>no</td>\n",
       "      <td>yes</td>\n",
       "      <td>3</td>\n",
       "      <td>yes</td>\n",
       "      <td>furnished</td>\n",
       "    </tr>\n",
       "    <tr>\n",
       "      <th>4</th>\n",
       "      <td>11410000</td>\n",
       "      <td>7420</td>\n",
       "      <td>4</td>\n",
       "      <td>1</td>\n",
       "      <td>2</td>\n",
       "      <td>yes</td>\n",
       "      <td>yes</td>\n",
       "      <td>yes</td>\n",
       "      <td>no</td>\n",
       "      <td>yes</td>\n",
       "      <td>2</td>\n",
       "      <td>no</td>\n",
       "      <td>furnished</td>\n",
       "    </tr>\n",
       "  </tbody>\n",
       "</table>\n",
       "</div>"
      ],
      "text/plain": [
       "      price  area  bedrooms  bathrooms  stories mainroad guestroom basement  \\\n",
       "0  13300000  7420         4          2        3      yes        no       no   \n",
       "1  12250000  8960         4          4        4      yes        no       no   \n",
       "2  12250000  9960         3          2        2      yes        no      yes   \n",
       "3  12215000  7500         4          2        2      yes        no      yes   \n",
       "4  11410000  7420         4          1        2      yes       yes      yes   \n",
       "\n",
       "  hotwaterheating airconditioning  parking prefarea furnishingstatus  \n",
       "0              no             yes        2      yes        furnished  \n",
       "1              no             yes        3       no        furnished  \n",
       "2              no              no        2      yes   semi-furnished  \n",
       "3              no             yes        3      yes        furnished  \n",
       "4              no             yes        2       no        furnished  "
      ]
     },
     "execution_count": 7,
     "metadata": {},
     "output_type": "execute_result"
    }
   ],
   "source": [
    "dataset = housing\n",
    "dataset.head()"
   ]
  },
  {
   "cell_type": "code",
   "execution_count": 8,
   "id": "80d2684a",
   "metadata": {},
   "outputs": [
    {
     "data": {
      "text/plain": [
       "(545, 13)"
      ]
     },
     "execution_count": 8,
     "metadata": {},
     "output_type": "execute_result"
    }
   ],
   "source": [
    "dataset.shape"
   ]
  },
  {
   "cell_type": "code",
   "execution_count": 9,
   "id": "f80631ad",
   "metadata": {},
   "outputs": [
    {
     "data": {
      "text/html": [
       "<div>\n",
       "<style scoped>\n",
       "    .dataframe tbody tr th:only-of-type {\n",
       "        vertical-align: middle;\n",
       "    }\n",
       "\n",
       "    .dataframe tbody tr th {\n",
       "        vertical-align: top;\n",
       "    }\n",
       "\n",
       "    .dataframe thead th {\n",
       "        text-align: right;\n",
       "    }\n",
       "</style>\n",
       "<table border=\"1\" class=\"dataframe\">\n",
       "  <thead>\n",
       "    <tr style=\"text-align: right;\">\n",
       "      <th></th>\n",
       "      <th>price</th>\n",
       "      <th>area</th>\n",
       "      <th>bedrooms</th>\n",
       "      <th>bathrooms</th>\n",
       "      <th>stories</th>\n",
       "      <th>parking</th>\n",
       "    </tr>\n",
       "  </thead>\n",
       "  <tbody>\n",
       "    <tr>\n",
       "      <th>count</th>\n",
       "      <td>5.450000e+02</td>\n",
       "      <td>545.000000</td>\n",
       "      <td>545.000000</td>\n",
       "      <td>545.000000</td>\n",
       "      <td>545.000000</td>\n",
       "      <td>545.000000</td>\n",
       "    </tr>\n",
       "    <tr>\n",
       "      <th>mean</th>\n",
       "      <td>4.766729e+06</td>\n",
       "      <td>5150.541284</td>\n",
       "      <td>2.965138</td>\n",
       "      <td>1.286239</td>\n",
       "      <td>1.805505</td>\n",
       "      <td>0.693578</td>\n",
       "    </tr>\n",
       "    <tr>\n",
       "      <th>std</th>\n",
       "      <td>1.870440e+06</td>\n",
       "      <td>2170.141023</td>\n",
       "      <td>0.738064</td>\n",
       "      <td>0.502470</td>\n",
       "      <td>0.867492</td>\n",
       "      <td>0.861586</td>\n",
       "    </tr>\n",
       "    <tr>\n",
       "      <th>min</th>\n",
       "      <td>1.750000e+06</td>\n",
       "      <td>1650.000000</td>\n",
       "      <td>1.000000</td>\n",
       "      <td>1.000000</td>\n",
       "      <td>1.000000</td>\n",
       "      <td>0.000000</td>\n",
       "    </tr>\n",
       "    <tr>\n",
       "      <th>25%</th>\n",
       "      <td>3.430000e+06</td>\n",
       "      <td>3600.000000</td>\n",
       "      <td>2.000000</td>\n",
       "      <td>1.000000</td>\n",
       "      <td>1.000000</td>\n",
       "      <td>0.000000</td>\n",
       "    </tr>\n",
       "    <tr>\n",
       "      <th>50%</th>\n",
       "      <td>4.340000e+06</td>\n",
       "      <td>4600.000000</td>\n",
       "      <td>3.000000</td>\n",
       "      <td>1.000000</td>\n",
       "      <td>2.000000</td>\n",
       "      <td>0.000000</td>\n",
       "    </tr>\n",
       "    <tr>\n",
       "      <th>75%</th>\n",
       "      <td>5.740000e+06</td>\n",
       "      <td>6360.000000</td>\n",
       "      <td>3.000000</td>\n",
       "      <td>2.000000</td>\n",
       "      <td>2.000000</td>\n",
       "      <td>1.000000</td>\n",
       "    </tr>\n",
       "    <tr>\n",
       "      <th>max</th>\n",
       "      <td>1.330000e+07</td>\n",
       "      <td>16200.000000</td>\n",
       "      <td>6.000000</td>\n",
       "      <td>4.000000</td>\n",
       "      <td>4.000000</td>\n",
       "      <td>3.000000</td>\n",
       "    </tr>\n",
       "  </tbody>\n",
       "</table>\n",
       "</div>"
      ],
      "text/plain": [
       "              price          area    bedrooms   bathrooms     stories  \\\n",
       "count  5.450000e+02    545.000000  545.000000  545.000000  545.000000   \n",
       "mean   4.766729e+06   5150.541284    2.965138    1.286239    1.805505   \n",
       "std    1.870440e+06   2170.141023    0.738064    0.502470    0.867492   \n",
       "min    1.750000e+06   1650.000000    1.000000    1.000000    1.000000   \n",
       "25%    3.430000e+06   3600.000000    2.000000    1.000000    1.000000   \n",
       "50%    4.340000e+06   4600.000000    3.000000    1.000000    2.000000   \n",
       "75%    5.740000e+06   6360.000000    3.000000    2.000000    2.000000   \n",
       "max    1.330000e+07  16200.000000    6.000000    4.000000    4.000000   \n",
       "\n",
       "          parking  \n",
       "count  545.000000  \n",
       "mean     0.693578  \n",
       "std      0.861586  \n",
       "min      0.000000  \n",
       "25%      0.000000  \n",
       "50%      0.000000  \n",
       "75%      1.000000  \n",
       "max      3.000000  "
      ]
     },
     "execution_count": 9,
     "metadata": {},
     "output_type": "execute_result"
    }
   ],
   "source": [
    "dataset.describe()"
   ]
  },
  {
   "cell_type": "code",
   "execution_count": 10,
   "id": "e2c67c86",
   "metadata": {},
   "outputs": [
    {
     "name": "stdout",
     "output_type": "stream",
     "text": [
      "<class 'pandas.core.frame.DataFrame'>\n",
      "RangeIndex: 545 entries, 0 to 544\n",
      "Data columns (total 13 columns):\n",
      " #   Column            Non-Null Count  Dtype \n",
      "---  ------            --------------  ----- \n",
      " 0   price             545 non-null    int64 \n",
      " 1   area              545 non-null    int64 \n",
      " 2   bedrooms          545 non-null    int64 \n",
      " 3   bathrooms         545 non-null    int64 \n",
      " 4   stories           545 non-null    int64 \n",
      " 5   mainroad          545 non-null    object\n",
      " 6   guestroom         545 non-null    object\n",
      " 7   basement          545 non-null    object\n",
      " 8   hotwaterheating   545 non-null    object\n",
      " 9   airconditioning   545 non-null    object\n",
      " 10  parking           545 non-null    int64 \n",
      " 11  prefarea          545 non-null    object\n",
      " 12  furnishingstatus  545 non-null    object\n",
      "dtypes: int64(6), object(7)\n",
      "memory usage: 55.5+ KB\n"
     ]
    }
   ],
   "source": [
    "dataset.info()"
   ]
  },
  {
   "cell_type": "code",
   "execution_count": 11,
   "id": "df7fc3eb",
   "metadata": {},
   "outputs": [
    {
     "data": {
      "text/html": [
       "<div>\n",
       "<style scoped>\n",
       "    .dataframe tbody tr th:only-of-type {\n",
       "        vertical-align: middle;\n",
       "    }\n",
       "\n",
       "    .dataframe tbody tr th {\n",
       "        vertical-align: top;\n",
       "    }\n",
       "\n",
       "    .dataframe thead th {\n",
       "        text-align: right;\n",
       "    }\n",
       "</style>\n",
       "<table border=\"1\" class=\"dataframe\">\n",
       "  <thead>\n",
       "    <tr style=\"text-align: right;\">\n",
       "      <th></th>\n",
       "      <th>price</th>\n",
       "      <th>area</th>\n",
       "      <th>bedrooms</th>\n",
       "      <th>bathrooms</th>\n",
       "      <th>stories</th>\n",
       "      <th>parking</th>\n",
       "    </tr>\n",
       "  </thead>\n",
       "  <tbody>\n",
       "    <tr>\n",
       "      <th>0</th>\n",
       "      <td>13300000</td>\n",
       "      <td>7420</td>\n",
       "      <td>4</td>\n",
       "      <td>2</td>\n",
       "      <td>3</td>\n",
       "      <td>2</td>\n",
       "    </tr>\n",
       "    <tr>\n",
       "      <th>1</th>\n",
       "      <td>12250000</td>\n",
       "      <td>8960</td>\n",
       "      <td>4</td>\n",
       "      <td>4</td>\n",
       "      <td>4</td>\n",
       "      <td>3</td>\n",
       "    </tr>\n",
       "    <tr>\n",
       "      <th>2</th>\n",
       "      <td>12250000</td>\n",
       "      <td>9960</td>\n",
       "      <td>3</td>\n",
       "      <td>2</td>\n",
       "      <td>2</td>\n",
       "      <td>2</td>\n",
       "    </tr>\n",
       "    <tr>\n",
       "      <th>3</th>\n",
       "      <td>12215000</td>\n",
       "      <td>7500</td>\n",
       "      <td>4</td>\n",
       "      <td>2</td>\n",
       "      <td>2</td>\n",
       "      <td>3</td>\n",
       "    </tr>\n",
       "    <tr>\n",
       "      <th>4</th>\n",
       "      <td>11410000</td>\n",
       "      <td>7420</td>\n",
       "      <td>4</td>\n",
       "      <td>1</td>\n",
       "      <td>2</td>\n",
       "      <td>2</td>\n",
       "    </tr>\n",
       "  </tbody>\n",
       "</table>\n",
       "</div>"
      ],
      "text/plain": [
       "      price  area  bedrooms  bathrooms  stories  parking\n",
       "0  13300000  7420         4          2        3        2\n",
       "1  12250000  8960         4          4        4        3\n",
       "2  12250000  9960         3          2        2        2\n",
       "3  12215000  7500         4          2        2        3\n",
       "4  11410000  7420         4          1        2        2"
      ]
     },
     "execution_count": 11,
     "metadata": {},
     "output_type": "execute_result"
    }
   ],
   "source": [
    "# drop columns not used for the training\n",
    "dataset = dataset.drop(['mainroad', 'guestroom', 'basement', 'hotwaterheating', 'airconditioning', 'prefarea', 'furnishingstatus'], axis='columns')\n",
    "dataset.head()"
   ]
  },
  {
   "cell_type": "code",
   "execution_count": 12,
   "id": "2f49137e",
   "metadata": {},
   "outputs": [
    {
     "data": {
      "text/plain": [
       "(381, 6)"
      ]
     },
     "execution_count": 12,
     "metadata": {},
     "output_type": "execute_result"
    }
   ],
   "source": [
    "# split dataset into test(0.3) and train(0.7)\n",
    "np.random.seed(0)\n",
    "dataset_train, dataset_test = train_test_split(dataset, train_size = 0.7, test_size = 0.3, random_state = 1)\n",
    "dataset_train.shape"
   ]
  },
  {
   "cell_type": "code",
   "execution_count": 13,
   "id": "041f6192",
   "metadata": {},
   "outputs": [
    {
     "data": {
      "text/plain": [
       "(164, 6)"
      ]
     },
     "execution_count": 13,
     "metadata": {},
     "output_type": "execute_result"
    }
   ],
   "source": [
    "dataset_test.shape"
   ]
  },
  {
   "cell_type": "code",
   "execution_count": 14,
   "id": "473b9d7b",
   "metadata": {},
   "outputs": [],
   "source": [
    "x_train = dataset_train.values[:, 1:6]          # get input values from 2nd to 6th column\n",
    "y_train = dataset_train.values[:, 0]          # get output values from first column\n",
    "m = len(y_train)          # number of training examples\n",
    "temp_m = len(x_train)\n",
    "assert (m == temp_m)"
   ]
  },
  {
   "cell_type": "code",
   "execution_count": 15,
   "id": "5c706654",
   "metadata": {},
   "outputs": [
    {
     "data": {
      "text/plain": [
       "Text(0.5, 1.0, 'SCATTER PLOT OF TRAINING DATA')"
      ]
     },
     "execution_count": 15,
     "metadata": {},
     "output_type": "execute_result"
    },
    {
     "data": {
      "image/png": "[encoded data removed]",
      "text/plain": [
       "<Figure size 432x288 with 1 Axes>"
      ]
     },
     "metadata": {
      "needs_background": "light"
     },
     "output_type": "display_data"
    }
   ],
   "source": [
    "# plot a scatter graph of dataset\n",
    "plt.scatter(dataset_train.values[:, 1],y_train, color='red',marker= '+')\n",
    "plt.scatter(dataset_train.values[:, 2],y_train, color='yellow',marker= '+')\n",
    "plt.scatter(dataset_train.values[:, 3],y_train, color='blue',marker= '+')\n",
    "plt.scatter(dataset_train.values[:, 4],y_train, color='green',marker= '+')\n",
    "plt.scatter(dataset_train.values[:, 5],y_train, color='indigo',marker= '+')\n",
    "plt.grid()\n",
    "plt.rcParams[\"figure.figsize\"] = (12,8)\n",
    "plt.xlabel('Explanatory Variables')\n",
    "plt.ylabel('Dependent Variables')\n",
    "plt.title('SCATTER PLOT OF TRAINING DATA')"
   ]
  },
  {
   "cell_type": "code",
   "execution_count": 16,
   "id": "54c8d662",
   "metadata": {
    "scrolled": true
   },
   "outputs": [
    {
     "name": "stdout",
     "output_type": "stream",
     "text": [
      "X_norm=  [[2.77777778e-01 2.46913580e-04 1.23456790e-04 6.17283951e-05\n",
      "  1.23456790e-04]\n",
      " [2.18518519e-01 1.23456790e-04 6.17283951e-05 6.17283951e-05\n",
      "  0.00000000e+00]\n",
      " [4.44444444e-01 1.85185185e-04 1.23456790e-04 6.17283951e-05\n",
      "  1.85185185e-04]\n",
      " [1.92592593e-01 1.85185185e-04 6.17283951e-05 1.23456790e-04\n",
      "  0.00000000e+00]\n",
      " [2.46913580e-01 1.85185185e-04 1.23456790e-04 1.23456790e-04\n",
      "  6.17283951e-05]]\n",
      "X_stand=  [[-0.32640558  1.32167636  1.39689225 -0.92698554  1.51846971]\n",
      " [-0.75373534 -1.30102517 -0.5816057  -0.92698554 -0.79567813]\n",
      " [ 0.87545936  0.0103256   1.39689225 -0.92698554  2.67554362]\n",
      " [-0.94069211  0.0103256  -0.5816057   0.25422346 -0.79567813]\n",
      " [-0.54897316  0.0103256   1.39689225  0.25422346  0.36139579]]\n"
     ]
    }
   ],
   "source": [
    "# perform normalization of input(independent) vars\n",
    "x_train_norm = feature_normalize(x_train)\n",
    "print('X_norm= ', x_train_norm[:5])\n",
    "\n",
    "# perform standardization of input(independent) vars\n",
    "x_train_standard, mu, sigma = feature_standardize(x_train)\n",
    "print('X_stand= ', x_train_standard[:5])"
   ]
  },
  {
   "cell_type": "code",
   "execution_count": 17,
   "id": "114811c6",
   "metadata": {},
   "outputs": [],
   "source": [
    "# hstack() function from numpy is used  to add column of ones to X feature \n",
    "# this is the final X matrix (feature matrix)\n",
    "x_train_norm = np.hstack((np.ones((m,1)), x_train_norm))\n",
    "x_train_standard = np.hstack((np.ones((m,1)), x_train_standard))\n",
    "\n",
    "#Initialise theta to zero as recommended by the hw question\n",
    "init_theta = np.zeros(6)\n",
    "\n",
    "# declare and assign values to the gradient descent learning parameters alpha and no of iterations\n",
    "iterations = 1000          # number of iterations\n",
    "#alpha = 0.0000000004\n",
    "#iterations = 800"
   ]
  },
  {
   "cell_type": "markdown",
   "id": "5e34fa38",
   "metadata": {},
   "source": [
    "________________________________________________________________________________________________________________"
   ]
  },
  {
   "cell_type": "markdown",
   "id": "7396047f",
   "metadata": {},
   "source": [
    "> **Feature Normalisation**\n",
    "\n",
    "> **Call *gradient_descent* function**\n",
    "- *penalised_gradient_descent* function returns optimal theta and cost history.\n",
    "- values are printed to screen"
   ]
  },
  {
   "cell_type": "code",
   "execution_count": 18,
   "id": "17cf5eb2",
   "metadata": {
    "scrolled": true
   },
   "outputs": [
    {
     "name": "stdout",
     "output_type": "stream",
     "text": [
      "Final value of train theta:  [3.62411758e+06 3.61992786e+06 1.49024443e+03 1.12477398e+03\n",
      " 1.51799842e+03 1.08767850e+03]\n",
      "First 5 values from cost_history:  [1.22673889e+13 1.15613081e+13 1.09012949e+13 1.02843424e+13\n",
      " 9.70763996e+12]\n",
      "Last 5 values from cost_history:  [1.27344304e+12 1.27333959e+12 1.27323625e+12 1.27313301e+12\n",
      " 1.27302988e+12]\n"
     ]
    }
   ],
   "source": [
    "flag = 'simple regr'\n",
    "optimal_alpha = 0.03\n",
    "optimal_theta_norm, cost_history_norm = gradient_descent(x_train_norm, y_train, init_theta, optimal_alpha, iterations, flag)\n",
    "\n",
    "print('Final value of train theta: ', optimal_theta_norm)\n",
    "print('First 5 values from cost_history: ', cost_history_norm[: 5])\n",
    "print('Last 5 values from cost_history: ', cost_history_norm[-5:])"
   ]
  },
  {
   "cell_type": "markdown",
   "id": "70977f0c",
   "metadata": {},
   "source": [
    "> **Plot the *convergence of gradient descent for cost history* .**\n",
    "- cost_history contains the values of cost for every iteration performed during batch gradient descent\n",
    "- values of cost against no of iterations to visualize the performance of the 'Gradient Descent Algorithm' is plotted"
   ]
  },
  {
   "cell_type": "code",
   "execution_count": 19,
   "id": "38c428a7",
   "metadata": {},
   "outputs": [
    {
     "data": {
      "text/plain": [
       "Text(0.5, 1.0, 'Convergence of gradient descent for train model (alpha = 0.03)')"
      ]
     },
     "execution_count": 19,
     "metadata": {},
     "output_type": "execute_result"
    },
    {
     "data": {
      "image/png": "[encoded data removed]",
      "text/plain": [
       "<Figure size 864x576 with 1 Axes>"
      ]
     },
     "metadata": {
      "needs_background": "light"
     },
     "output_type": "display_data"
    }
   ],
   "source": [
    "plt.plot(range(1, iterations +1), cost_history_norm, color ='blue')\n",
    "plt.rcParams[\"figure.figsize\"] = (10,6)\n",
    "plt.grid()\n",
    "plt.xlabel(\"Number of iterations\")\n",
    "plt.ylabel(\"cost (J)\")\n",
    "plt.title(\"Convergence of gradient descent for train model (alpha = 0.03)\")"
   ]
  },
  {
   "cell_type": "markdown",
   "id": "f462b23b",
   "metadata": {},
   "source": [
    "> **Test model**"
   ]
  },
  {
   "cell_type": "code",
   "execution_count": 20,
   "id": "ef7f3e77",
   "metadata": {},
   "outputs": [],
   "source": [
    "x_test = dataset_test.values[:, 1:6]          # get input values from 2nd to 6th column\n",
    "y_test = dataset_test.values[:, 0]          # get output values from first column\n",
    "m = len(y_test)          # Number of training examples\n",
    "temp_m = len(x_test)\n",
    "assert (m == temp_m)"
   ]
  },
  {
   "cell_type": "code",
   "execution_count": 21,
   "id": "9ddb5189",
   "metadata": {},
   "outputs": [
    {
     "name": "stdout",
     "output_type": "stream",
     "text": [
      "X_test_norm=  [[4.72727273e-01 3.03030303e-04 1.51515152e-04 1.51515152e-04\n",
      "  7.57575758e-05]\n",
      " [6.36363636e-01 3.03030303e-04 7.57575758e-05 3.03030303e-04\n",
      "  2.27272727e-04]\n",
      " [7.95454545e-01 3.03030303e-04 1.51515152e-04 1.51515152e-04\n",
      "  7.57575758e-05]\n",
      " [4.86363636e-01 2.27272727e-04 7.57575758e-05 2.27272727e-04\n",
      "  0.00000000e+00]\n",
      " [5.01136364e-01 2.27272727e-04 7.57575758e-05 1.51515152e-04\n",
      "  0.00000000e+00]]\n"
     ]
    }
   ],
   "source": [
    "x_test_norm = feature_normalize(x_test)\n",
    "print('X_test_norm= ', x_test_norm[:5])"
   ]
  },
  {
   "cell_type": "code",
   "execution_count": 22,
   "id": "09c01cb0",
   "metadata": {},
   "outputs": [],
   "source": [
    "x_test_norm = np.hstack((np.ones((m,1)), x_test_norm))\n",
    "prediction = np.array(x_test_norm).dot(optimal_theta_norm)\n",
    "#prediction = x_test.dot(optimal_theta)"
   ]
  },
  {
   "cell_type": "code",
   "execution_count": 23,
   "id": "7672bba2",
   "metadata": {},
   "outputs": [
    {
     "data": {
      "text/plain": [
       "<matplotlib.legend.Legend at 0x7f5dce2e3d00>"
      ]
     },
     "execution_count": 23,
     "metadata": {},
     "output_type": "execute_result"
    },
    {
     "data": {
      "image/png": "[encoded data removed]",
      "text/plain": [
       "<Figure size 720x432 with 1 Axes>"
      ]
     },
     "metadata": {
      "needs_background": "light"
     },
     "output_type": "display_data"
    }
   ],
   "source": [
    "# plot test data \n",
    "plt.scatter(x_test_norm[:,1], y_test, color='red', marker= '+', label= 'Training Data')\n",
    "plt.plot(x_test_norm[:,1],prediction, color='green', label='Validation Regression')\n",
    "plt.rcParams['figure.figsize'] = (10,6)\n",
    "plt.grid()\n",
    "plt.xlabel('Explanatory Variable')\n",
    "plt.ylabel('Dependent Variable [y]')\n",
    "plt.title('Linear Regression Fit for Test Data')\n",
    "plt.legend()"
   ]
  },
  {
   "cell_type": "markdown",
   "id": "c42c34b9",
   "metadata": {},
   "source": [
    "> **Feature Standardization**\n",
    "\n",
    "> **Call *gradient_descent* function**\n",
    "- *penalised_gradient_descent* function returns optimal theta and cost history.\n",
    "- values are printed to screen"
   ]
  },
  {
   "cell_type": "code",
   "execution_count": 24,
   "id": "e670668b",
   "metadata": {
    "scrolled": true
   },
   "outputs": [
    {
     "name": "stdout",
     "output_type": "stream",
     "text": [
      "Final value of train theta:  [4775201.94225721  703518.35649121   53022.08260659  594731.7381146\n",
      "  471093.35465657  333995.16619778]\n",
      "First 5 values from cost_history:  [2.62017392e+13 2.27458585e+13 1.97933383e+13 1.72668082e+13\n",
      " 1.51017139e+13]\n",
      "Last 5 values from cost_history:  [1.62487864e+12 1.62487864e+12 1.62487864e+12 1.62487864e+12\n",
      " 1.62487864e+12]\n"
     ]
    }
   ],
   "source": [
    "flag = 'simple regr'\n",
    "optimal_alpha = 0.03\n",
    "optimal_theta_standard, cost_history_standard = gradient_descent(x_train_standard, y_train, init_theta, optimal_alpha, iterations, flag)\n",
    "\n",
    "print('Final value of train theta: ', optimal_theta_standard)\n",
    "print('First 5 values from cost_history: ', cost_history_standard[: 5])\n",
    "print('Last 5 values from cost_history: ', cost_history_standard[-5:])"
   ]
  },
  {
   "cell_type": "markdown",
   "id": "bd004afb",
   "metadata": {},
   "source": [
    "> **Plot the *convergence of gradient descent for cost history* .**\n",
    "- cost_history contains the values of cost for every iteration performed during batch gradient descent\n",
    "- values of cost against no of iterations to visualize the performance of the 'Gradient Descent Algorithm' is plotted"
   ]
  },
  {
   "cell_type": "code",
   "execution_count": 25,
   "id": "30233c4a",
   "metadata": {},
   "outputs": [
    {
     "data": {
      "text/plain": [
       "Text(0.5, 1.0, 'Convergence of gradient descent for train model (alpha = 0.03)')"
      ]
     },
     "execution_count": 25,
     "metadata": {},
     "output_type": "execute_result"
    },
    {
     "data": {
      "image/png": "[encoded data removed]",
      "text/plain": [
       "<Figure size 720x432 with 1 Axes>"
      ]
     },
     "metadata": {
      "needs_background": "light"
     },
     "output_type": "display_data"
    }
   ],
   "source": [
    "plt.plot(range(1, iterations +1), cost_history_standard, color ='purple')\n",
    "plt.rcParams[\"figure.figsize\"] = (10,6)\n",
    "plt.grid()\n",
    "plt.xlabel(\"Number of iterations\")\n",
    "plt.ylabel(\"cost (J)\")\n",
    "plt.title(\"Convergence of gradient descent for train model (alpha = 0.03)\")"
   ]
  },
  {
   "cell_type": "markdown",
   "id": "9d4a7f6b",
   "metadata": {},
   "source": [
    "> **Test model**"
   ]
  },
  {
   "cell_type": "code",
   "execution_count": 26,
   "id": "8251dd0d",
   "metadata": {},
   "outputs": [],
   "source": [
    "x_test = dataset_test.values[:, 1:6]          # get input values from 2nd to 6th column\n",
    "y_test = dataset_test.values[:, 0]          # get output values from first column\n",
    "m = len(y_test)          # Number of training examples\n",
    "temp_m = len(x_test)\n",
    "assert (m == temp_m)"
   ]
  },
  {
   "cell_type": "code",
   "execution_count": 27,
   "id": "adc255d1",
   "metadata": {},
   "outputs": [
    {
     "name": "stdout",
     "output_type": "stream",
     "text": [
      "X_stand=  [[ 0.64908286  1.62413499  1.47348095  0.15992423  0.34118416]\n",
      " [ 1.74299277  1.62413499 -0.54027635  2.34555539  2.67260924]\n",
      " [ 2.80651629  1.62413499  1.47348095  0.15992423  0.34118416]\n",
      " [ 0.74024202  0.14436755 -0.54027635  1.25273981 -0.82452838]\n",
      " [ 0.83899777  0.14436755 -0.54027635  0.15992423 -0.82452838]]\n"
     ]
    }
   ],
   "source": [
    "x_test_standard, mu, sigma = feature_standardize(x_test)\n",
    "print('X_stand= ', x_test_standard[:5])"
   ]
  },
  {
   "cell_type": "code",
   "execution_count": 28,
   "id": "0ac18cf7",
   "metadata": {},
   "outputs": [],
   "source": [
    "x_test_standard = np.hstack((np.ones((m,1)), x_test_standard))\n",
    "prediction = np.array(x_test_standard).dot(optimal_theta_standard)\n",
    "#prediction = x_test.dot(optimal_theta_standard)"
   ]
  },
  {
   "cell_type": "code",
   "execution_count": 29,
   "id": "f502bb50",
   "metadata": {},
   "outputs": [
    {
     "data": {
      "text/plain": [
       "<matplotlib.legend.Legend at 0x7f5dce2c0a30>"
      ]
     },
     "execution_count": 29,
     "metadata": {},
     "output_type": "execute_result"
    },
    {
     "data": {
      "image/png": "[encoded data removed]",
      "text/plain": [
       "<Figure size 720x432 with 1 Axes>"
      ]
     },
     "metadata": {
      "needs_background": "light"
     },
     "output_type": "display_data"
    }
   ],
   "source": [
    "# plot test data \n",
    "plt.scatter(x_test_standard[:,1], y_test, color='red', marker= '+', label= 'Training Data')\n",
    "#plt.plot(x_test[:,1], y_test, color='blue', marker= '+', label= 'Training Data')\n",
    "plt.plot(x_test_standard[:,1],prediction, color='purple', marker= 'o', label='Validation Regression')\n",
    "plt.rcParams['figure.figsize'] = (10,6)\n",
    "plt.grid()\n",
    "plt.xlabel('Explanatory Variable')\n",
    "plt.ylabel('Dependent Variable [y]')\n",
    "plt.title('Linear Regression Fit for Test Data')\n",
    "plt.legend()"
   ]
  },
  {
   "cell_type": "markdown",
   "id": "78f0f31e",
   "metadata": {},
   "source": [
    "----------------------------------------------------------------------------------------------------------------"
   ]
  },
  {
   "cell_type": "markdown",
   "id": "b37df368",
   "metadata": {},
   "source": [
    "### Problem 2-B"
   ]
  },
  {
   "cell_type": "code",
   "execution_count": 30,
   "id": "700b7f65",
   "metadata": {},
   "outputs": [
    {
     "data": {
      "text/html": [
       "<div>\n",
       "<style scoped>\n",
       "    .dataframe tbody tr th:only-of-type {\n",
       "        vertical-align: middle;\n",
       "    }\n",
       "\n",
       "    .dataframe tbody tr th {\n",
       "        vertical-align: top;\n",
       "    }\n",
       "\n",
       "    .dataframe thead th {\n",
       "        text-align: right;\n",
       "    }\n",
       "</style>\n",
       "<table border=\"1\" class=\"dataframe\">\n",
       "  <thead>\n",
       "    <tr style=\"text-align: right;\">\n",
       "      <th></th>\n",
       "      <th>price</th>\n",
       "      <th>area</th>\n",
       "      <th>bedrooms</th>\n",
       "      <th>bathrooms</th>\n",
       "      <th>stories</th>\n",
       "      <th>mainroad</th>\n",
       "      <th>guestroom</th>\n",
       "      <th>basement</th>\n",
       "      <th>hotwaterheating</th>\n",
       "      <th>airconditioning</th>\n",
       "      <th>parking</th>\n",
       "      <th>prefarea</th>\n",
       "      <th>furnishingstatus</th>\n",
       "    </tr>\n",
       "  </thead>\n",
       "  <tbody>\n",
       "    <tr>\n",
       "      <th>0</th>\n",
       "      <td>13300000</td>\n",
       "      <td>7420</td>\n",
       "      <td>4</td>\n",
       "      <td>2</td>\n",
       "      <td>3</td>\n",
       "      <td>yes</td>\n",
       "      <td>no</td>\n",
       "      <td>no</td>\n",
       "      <td>no</td>\n",
       "      <td>yes</td>\n",
       "      <td>2</td>\n",
       "      <td>yes</td>\n",
       "      <td>furnished</td>\n",
       "    </tr>\n",
       "    <tr>\n",
       "      <th>1</th>\n",
       "      <td>12250000</td>\n",
       "      <td>8960</td>\n",
       "      <td>4</td>\n",
       "      <td>4</td>\n",
       "      <td>4</td>\n",
       "      <td>yes</td>\n",
       "      <td>no</td>\n",
       "      <td>no</td>\n",
       "      <td>no</td>\n",
       "      <td>yes</td>\n",
       "      <td>3</td>\n",
       "      <td>no</td>\n",
       "      <td>furnished</td>\n",
       "    </tr>\n",
       "    <tr>\n",
       "      <th>2</th>\n",
       "      <td>12250000</td>\n",
       "      <td>9960</td>\n",
       "      <td>3</td>\n",
       "      <td>2</td>\n",
       "      <td>2</td>\n",
       "      <td>yes</td>\n",
       "      <td>no</td>\n",
       "      <td>yes</td>\n",
       "      <td>no</td>\n",
       "      <td>no</td>\n",
       "      <td>2</td>\n",
       "      <td>yes</td>\n",
       "      <td>semi-furnished</td>\n",
       "    </tr>\n",
       "    <tr>\n",
       "      <th>3</th>\n",
       "      <td>12215000</td>\n",
       "      <td>7500</td>\n",
       "      <td>4</td>\n",
       "      <td>2</td>\n",
       "      <td>2</td>\n",
       "      <td>yes</td>\n",
       "      <td>no</td>\n",
       "      <td>yes</td>\n",
       "      <td>no</td>\n",
       "      <td>yes</td>\n",
       "      <td>3</td>\n",
       "      <td>yes</td>\n",
       "      <td>furnished</td>\n",
       "    </tr>\n",
       "    <tr>\n",
       "      <th>4</th>\n",
       "      <td>11410000</td>\n",
       "      <td>7420</td>\n",
       "      <td>4</td>\n",
       "      <td>1</td>\n",
       "      <td>2</td>\n",
       "      <td>yes</td>\n",
       "      <td>yes</td>\n",
       "      <td>yes</td>\n",
       "      <td>no</td>\n",
       "      <td>yes</td>\n",
       "      <td>2</td>\n",
       "      <td>no</td>\n",
       "      <td>furnished</td>\n",
       "    </tr>\n",
       "  </tbody>\n",
       "</table>\n",
       "</div>"
      ],
      "text/plain": [
       "      price  area  bedrooms  bathrooms  stories mainroad guestroom basement  \\\n",
       "0  13300000  7420         4          2        3      yes        no       no   \n",
       "1  12250000  8960         4          4        4      yes        no       no   \n",
       "2  12250000  9960         3          2        2      yes        no      yes   \n",
       "3  12215000  7500         4          2        2      yes        no      yes   \n",
       "4  11410000  7420         4          1        2      yes       yes      yes   \n",
       "\n",
       "  hotwaterheating airconditioning  parking prefarea furnishingstatus  \n",
       "0              no             yes        2      yes        furnished  \n",
       "1              no             yes        3       no        furnished  \n",
       "2              no              no        2      yes   semi-furnished  \n",
       "3              no             yes        3      yes        furnished  \n",
       "4              no             yes        2       no        furnished  "
      ]
     },
     "execution_count": 30,
     "metadata": {},
     "output_type": "execute_result"
    }
   ],
   "source": [
    "dataset = housing\n",
    "dataset.head()"
   ]
  },
  {
   "cell_type": "code",
   "execution_count": 31,
   "id": "528a9312",
   "metadata": {},
   "outputs": [
    {
     "data": {
      "text/plain": [
       "array(['no', 'yes'], dtype=object)"
      ]
     },
     "execution_count": 31,
     "metadata": {},
     "output_type": "execute_result"
    }
   ],
   "source": [
    "dataset.basement.unique()"
   ]
  },
  {
   "cell_type": "code",
   "execution_count": 32,
   "id": "eadc15b8",
   "metadata": {},
   "outputs": [
    {
     "data": {
      "text/html": [
       "<div>\n",
       "<style scoped>\n",
       "    .dataframe tbody tr th:only-of-type {\n",
       "        vertical-align: middle;\n",
       "    }\n",
       "\n",
       "    .dataframe tbody tr th {\n",
       "        vertical-align: top;\n",
       "    }\n",
       "\n",
       "    .dataframe thead th {\n",
       "        text-align: right;\n",
       "    }\n",
       "</style>\n",
       "<table border=\"1\" class=\"dataframe\">\n",
       "  <thead>\n",
       "    <tr style=\"text-align: right;\">\n",
       "      <th></th>\n",
       "      <th>price</th>\n",
       "      <th>area</th>\n",
       "      <th>bedrooms</th>\n",
       "      <th>bathrooms</th>\n",
       "      <th>stories</th>\n",
       "      <th>parking</th>\n",
       "      <th>furnishingstatus</th>\n",
       "      <th>mainroad_no</th>\n",
       "      <th>mainroad_yes</th>\n",
       "      <th>guestroom_no</th>\n",
       "      <th>guestroom_yes</th>\n",
       "      <th>basement_no</th>\n",
       "      <th>basement_yes</th>\n",
       "      <th>hotwaterheating_no</th>\n",
       "      <th>hotwaterheating_yes</th>\n",
       "      <th>airconditioning_no</th>\n",
       "      <th>airconditioning_yes</th>\n",
       "      <th>prefarea_no</th>\n",
       "      <th>prefarea_yes</th>\n",
       "    </tr>\n",
       "  </thead>\n",
       "  <tbody>\n",
       "    <tr>\n",
       "      <th>0</th>\n",
       "      <td>13300000</td>\n",
       "      <td>7420</td>\n",
       "      <td>4</td>\n",
       "      <td>2</td>\n",
       "      <td>3</td>\n",
       "      <td>2</td>\n",
       "      <td>furnished</td>\n",
       "      <td>0</td>\n",
       "      <td>1</td>\n",
       "      <td>1</td>\n",
       "      <td>0</td>\n",
       "      <td>1</td>\n",
       "      <td>0</td>\n",
       "      <td>1</td>\n",
       "      <td>0</td>\n",
       "      <td>0</td>\n",
       "      <td>1</td>\n",
       "      <td>0</td>\n",
       "      <td>1</td>\n",
       "    </tr>\n",
       "    <tr>\n",
       "      <th>1</th>\n",
       "      <td>12250000</td>\n",
       "      <td>8960</td>\n",
       "      <td>4</td>\n",
       "      <td>4</td>\n",
       "      <td>4</td>\n",
       "      <td>3</td>\n",
       "      <td>furnished</td>\n",
       "      <td>0</td>\n",
       "      <td>1</td>\n",
       "      <td>1</td>\n",
       "      <td>0</td>\n",
       "      <td>1</td>\n",
       "      <td>0</td>\n",
       "      <td>1</td>\n",
       "      <td>0</td>\n",
       "      <td>0</td>\n",
       "      <td>1</td>\n",
       "      <td>1</td>\n",
       "      <td>0</td>\n",
       "    </tr>\n",
       "    <tr>\n",
       "      <th>2</th>\n",
       "      <td>12250000</td>\n",
       "      <td>9960</td>\n",
       "      <td>3</td>\n",
       "      <td>2</td>\n",
       "      <td>2</td>\n",
       "      <td>2</td>\n",
       "      <td>semi-furnished</td>\n",
       "      <td>0</td>\n",
       "      <td>1</td>\n",
       "      <td>1</td>\n",
       "      <td>0</td>\n",
       "      <td>0</td>\n",
       "      <td>1</td>\n",
       "      <td>1</td>\n",
       "      <td>0</td>\n",
       "      <td>1</td>\n",
       "      <td>0</td>\n",
       "      <td>0</td>\n",
       "      <td>1</td>\n",
       "    </tr>\n",
       "    <tr>\n",
       "      <th>3</th>\n",
       "      <td>12215000</td>\n",
       "      <td>7500</td>\n",
       "      <td>4</td>\n",
       "      <td>2</td>\n",
       "      <td>2</td>\n",
       "      <td>3</td>\n",
       "      <td>furnished</td>\n",
       "      <td>0</td>\n",
       "      <td>1</td>\n",
       "      <td>1</td>\n",
       "      <td>0</td>\n",
       "      <td>0</td>\n",
       "      <td>1</td>\n",
       "      <td>1</td>\n",
       "      <td>0</td>\n",
       "      <td>0</td>\n",
       "      <td>1</td>\n",
       "      <td>0</td>\n",
       "      <td>1</td>\n",
       "    </tr>\n",
       "    <tr>\n",
       "      <th>4</th>\n",
       "      <td>11410000</td>\n",
       "      <td>7420</td>\n",
       "      <td>4</td>\n",
       "      <td>1</td>\n",
       "      <td>2</td>\n",
       "      <td>2</td>\n",
       "      <td>furnished</td>\n",
       "      <td>0</td>\n",
       "      <td>1</td>\n",
       "      <td>0</td>\n",
       "      <td>1</td>\n",
       "      <td>0</td>\n",
       "      <td>1</td>\n",
       "      <td>1</td>\n",
       "      <td>0</td>\n",
       "      <td>0</td>\n",
       "      <td>1</td>\n",
       "      <td>1</td>\n",
       "      <td>0</td>\n",
       "    </tr>\n",
       "  </tbody>\n",
       "</table>\n",
       "</div>"
      ],
      "text/plain": [
       "      price  area  bedrooms  bathrooms  stories  parking furnishingstatus  \\\n",
       "0  13300000  7420         4          2        3        2        furnished   \n",
       "1  12250000  8960         4          4        4        3        furnished   \n",
       "2  12250000  9960         3          2        2        2   semi-furnished   \n",
       "3  12215000  7500         4          2        2        3        furnished   \n",
       "4  11410000  7420         4          1        2        2        furnished   \n",
       "\n",
       "   mainroad_no  mainroad_yes  guestroom_no  guestroom_yes  basement_no  \\\n",
       "0            0             1             1              0            1   \n",
       "1            0             1             1              0            1   \n",
       "2            0             1             1              0            0   \n",
       "3            0             1             1              0            0   \n",
       "4            0             1             0              1            0   \n",
       "\n",
       "   basement_yes  hotwaterheating_no  hotwaterheating_yes  airconditioning_no  \\\n",
       "0             0                   1                    0                   0   \n",
       "1             0                   1                    0                   0   \n",
       "2             1                   1                    0                   1   \n",
       "3             1                   1                    0                   0   \n",
       "4             1                   1                    0                   0   \n",
       "\n",
       "   airconditioning_yes  prefarea_no  prefarea_yes  \n",
       "0                    1            0             1  \n",
       "1                    1            1             0  \n",
       "2                    0            0             1  \n",
       "3                    1            0             1  \n",
       "4                    1            1             0  "
      ]
     },
     "execution_count": 32,
     "metadata": {},
     "output_type": "execute_result"
    }
   ],
   "source": [
    "categorical_columns = ['mainroad', 'guestroom', 'basement', 'hotwaterheating', 'airconditioning', 'prefarea']\n",
    "for column in categorical_columns:\n",
    "    tempdataset = pd.get_dummies(dataset[column], prefix=column)\n",
    "    dataset = pd.merge(\n",
    "        left=dataset,\n",
    "        right=tempdataset,\n",
    "        left_index=True,\n",
    "        right_index=True,\n",
    "    )\n",
    "    dataset = dataset.drop(columns=column)\n",
    "dataset.head()"
   ]
  },
  {
   "cell_type": "code",
   "execution_count": 33,
   "id": "f36f254c",
   "metadata": {},
   "outputs": [
    {
     "name": "stdout",
     "output_type": "stream",
     "text": [
      "<class 'pandas.core.frame.DataFrame'>\n",
      "RangeIndex: 545 entries, 0 to 544\n",
      "Data columns (total 19 columns):\n",
      " #   Column               Non-Null Count  Dtype \n",
      "---  ------               --------------  ----- \n",
      " 0   price                545 non-null    int64 \n",
      " 1   area                 545 non-null    int64 \n",
      " 2   bedrooms             545 non-null    int64 \n",
      " 3   bathrooms            545 non-null    int64 \n",
      " 4   stories              545 non-null    int64 \n",
      " 5   parking              545 non-null    int64 \n",
      " 6   furnishingstatus     545 non-null    object\n",
      " 7   mainroad_no          545 non-null    uint8 \n",
      " 8   mainroad_yes         545 non-null    uint8 \n",
      " 9   guestroom_no         545 non-null    uint8 \n",
      " 10  guestroom_yes        545 non-null    uint8 \n",
      " 11  basement_no          545 non-null    uint8 \n",
      " 12  basement_yes         545 non-null    uint8 \n",
      " 13  hotwaterheating_no   545 non-null    uint8 \n",
      " 14  hotwaterheating_yes  545 non-null    uint8 \n",
      " 15  airconditioning_no   545 non-null    uint8 \n",
      " 16  airconditioning_yes  545 non-null    uint8 \n",
      " 17  prefarea_no          545 non-null    uint8 \n",
      " 18  prefarea_yes         545 non-null    uint8 \n",
      "dtypes: int64(6), object(1), uint8(12)\n",
      "memory usage: 36.3+ KB\n"
     ]
    }
   ],
   "source": [
    "dataset.info()"
   ]
  },
  {
   "cell_type": "code",
   "execution_count": 34,
   "id": "197514e7",
   "metadata": {},
   "outputs": [
    {
     "data": {
      "text/html": [
       "<div>\n",
       "<style scoped>\n",
       "    .dataframe tbody tr th:only-of-type {\n",
       "        vertical-align: middle;\n",
       "    }\n",
       "\n",
       "    .dataframe tbody tr th {\n",
       "        vertical-align: top;\n",
       "    }\n",
       "\n",
       "    .dataframe thead th {\n",
       "        text-align: right;\n",
       "    }\n",
       "</style>\n",
       "<table border=\"1\" class=\"dataframe\">\n",
       "  <thead>\n",
       "    <tr style=\"text-align: right;\">\n",
       "      <th></th>\n",
       "      <th>price</th>\n",
       "      <th>area</th>\n",
       "      <th>bedrooms</th>\n",
       "      <th>bathrooms</th>\n",
       "      <th>stories</th>\n",
       "      <th>parking</th>\n",
       "      <th>mainroad_no</th>\n",
       "      <th>mainroad_yes</th>\n",
       "      <th>guestroom_no</th>\n",
       "      <th>guestroom_yes</th>\n",
       "      <th>basement_no</th>\n",
       "      <th>basement_yes</th>\n",
       "      <th>hotwaterheating_no</th>\n",
       "      <th>hotwaterheating_yes</th>\n",
       "      <th>airconditioning_no</th>\n",
       "      <th>airconditioning_yes</th>\n",
       "      <th>prefarea_no</th>\n",
       "      <th>prefarea_yes</th>\n",
       "    </tr>\n",
       "  </thead>\n",
       "  <tbody>\n",
       "    <tr>\n",
       "      <th>0</th>\n",
       "      <td>13300000</td>\n",
       "      <td>7420</td>\n",
       "      <td>4</td>\n",
       "      <td>2</td>\n",
       "      <td>3</td>\n",
       "      <td>2</td>\n",
       "      <td>0</td>\n",
       "      <td>1</td>\n",
       "      <td>1</td>\n",
       "      <td>0</td>\n",
       "      <td>1</td>\n",
       "      <td>0</td>\n",
       "      <td>1</td>\n",
       "      <td>0</td>\n",
       "      <td>0</td>\n",
       "      <td>1</td>\n",
       "      <td>0</td>\n",
       "      <td>1</td>\n",
       "    </tr>\n",
       "    <tr>\n",
       "      <th>1</th>\n",
       "      <td>12250000</td>\n",
       "      <td>8960</td>\n",
       "      <td>4</td>\n",
       "      <td>4</td>\n",
       "      <td>4</td>\n",
       "      <td>3</td>\n",
       "      <td>0</td>\n",
       "      <td>1</td>\n",
       "      <td>1</td>\n",
       "      <td>0</td>\n",
       "      <td>1</td>\n",
       "      <td>0</td>\n",
       "      <td>1</td>\n",
       "      <td>0</td>\n",
       "      <td>0</td>\n",
       "      <td>1</td>\n",
       "      <td>1</td>\n",
       "      <td>0</td>\n",
       "    </tr>\n",
       "    <tr>\n",
       "      <th>2</th>\n",
       "      <td>12250000</td>\n",
       "      <td>9960</td>\n",
       "      <td>3</td>\n",
       "      <td>2</td>\n",
       "      <td>2</td>\n",
       "      <td>2</td>\n",
       "      <td>0</td>\n",
       "      <td>1</td>\n",
       "      <td>1</td>\n",
       "      <td>0</td>\n",
       "      <td>0</td>\n",
       "      <td>1</td>\n",
       "      <td>1</td>\n",
       "      <td>0</td>\n",
       "      <td>1</td>\n",
       "      <td>0</td>\n",
       "      <td>0</td>\n",
       "      <td>1</td>\n",
       "    </tr>\n",
       "    <tr>\n",
       "      <th>3</th>\n",
       "      <td>12215000</td>\n",
       "      <td>7500</td>\n",
       "      <td>4</td>\n",
       "      <td>2</td>\n",
       "      <td>2</td>\n",
       "      <td>3</td>\n",
       "      <td>0</td>\n",
       "      <td>1</td>\n",
       "      <td>1</td>\n",
       "      <td>0</td>\n",
       "      <td>0</td>\n",
       "      <td>1</td>\n",
       "      <td>1</td>\n",
       "      <td>0</td>\n",
       "      <td>0</td>\n",
       "      <td>1</td>\n",
       "      <td>0</td>\n",
       "      <td>1</td>\n",
       "    </tr>\n",
       "    <tr>\n",
       "      <th>4</th>\n",
       "      <td>11410000</td>\n",
       "      <td>7420</td>\n",
       "      <td>4</td>\n",
       "      <td>1</td>\n",
       "      <td>2</td>\n",
       "      <td>2</td>\n",
       "      <td>0</td>\n",
       "      <td>1</td>\n",
       "      <td>0</td>\n",
       "      <td>1</td>\n",
       "      <td>0</td>\n",
       "      <td>1</td>\n",
       "      <td>1</td>\n",
       "      <td>0</td>\n",
       "      <td>0</td>\n",
       "      <td>1</td>\n",
       "      <td>1</td>\n",
       "      <td>0</td>\n",
       "    </tr>\n",
       "  </tbody>\n",
       "</table>\n",
       "</div>"
      ],
      "text/plain": [
       "      price  area  bedrooms  bathrooms  stories  parking  mainroad_no  \\\n",
       "0  13300000  7420         4          2        3        2            0   \n",
       "1  12250000  8960         4          4        4        3            0   \n",
       "2  12250000  9960         3          2        2        2            0   \n",
       "3  12215000  7500         4          2        2        3            0   \n",
       "4  11410000  7420         4          1        2        2            0   \n",
       "\n",
       "   mainroad_yes  guestroom_no  guestroom_yes  basement_no  basement_yes  \\\n",
       "0             1             1              0            1             0   \n",
       "1             1             1              0            1             0   \n",
       "2             1             1              0            0             1   \n",
       "3             1             1              0            0             1   \n",
       "4             1             0              1            0             1   \n",
       "\n",
       "   hotwaterheating_no  hotwaterheating_yes  airconditioning_no  \\\n",
       "0                   1                    0                   0   \n",
       "1                   1                    0                   0   \n",
       "2                   1                    0                   1   \n",
       "3                   1                    0                   0   \n",
       "4                   1                    0                   0   \n",
       "\n",
       "   airconditioning_yes  prefarea_no  prefarea_yes  \n",
       "0                    1            0             1  \n",
       "1                    1            1             0  \n",
       "2                    0            0             1  \n",
       "3                    1            0             1  \n",
       "4                    1            1             0  "
      ]
     },
     "execution_count": 34,
     "metadata": {},
     "output_type": "execute_result"
    }
   ],
   "source": [
    "dataset = dataset.drop(['furnishingstatus'], axis='columns')\n",
    "dataset.head()"
   ]
  },
  {
   "cell_type": "code",
   "execution_count": 35,
   "id": "ea47af93",
   "metadata": {},
   "outputs": [
    {
     "data": {
      "text/plain": [
       "(381, 18)"
      ]
     },
     "execution_count": 35,
     "metadata": {},
     "output_type": "execute_result"
    }
   ],
   "source": [
    "np.random.seed(0)\n",
    "dataset_train, dataset_test = train_test_split(dataset, train_size = 0.7, test_size = 0.3, random_state = 1)\n",
    "dataset_train.shape"
   ]
  },
  {
   "cell_type": "code",
   "execution_count": 36,
   "id": "6ed3664d",
   "metadata": {},
   "outputs": [],
   "source": [
    "x_train = dataset_train.values[:, 1:18]          # get input values from first column\n",
    "y_train = dataset_train.values[:, 0]          # get output values from second column\n",
    "m = len(y_train)          # Number of training examples\n",
    "temp_m = len(x_train)\n",
    "assert (m == temp_m)"
   ]
  },
  {
   "cell_type": "code",
   "execution_count": 37,
   "id": "8bf53fdb",
   "metadata": {},
   "outputs": [
    {
     "data": {
      "text/plain": [
       "Text(0.5, 1.0, 'SCATTER PLOT OF TRAINING DATA')"
      ]
     },
     "execution_count": 37,
     "metadata": {},
     "output_type": "execute_result"
    },
    {
     "data": {
      "image/png": "[encoded data removed]",
      "text/plain": [
       "<Figure size 720x432 with 1 Axes>"
      ]
     },
     "metadata": {
      "needs_background": "light"
     },
     "output_type": "display_data"
    }
   ],
   "source": [
    "#plt.scatter(dataset_train.values[:, 1],y_train, color='red',marker= '+')\n",
    "#plt.scatter(dataset_train.values[:, 2],y_train, color='yellow',marker= '+')\n",
    "#plt.scatter(dataset_train.values[:, 3],y_train, color='blue',marker= '+')\n",
    "#plt.scatter(dataset_train.values[:, 4],y_train, color='green',marker= '+')\n",
    "#plt.scatter(dataset_train.values[:, 5],y_train, color='indigo',marker= '+')\n",
    "\n",
    "for var in range(1,18):\n",
    "    plt.scatter(dataset_train.values[:, var],y_train)\n",
    "    plt.rcParams['figure.figsize'] = (12,8)\n",
    "    \n",
    "plt.grid()\n",
    "plt.xlabel('Explanatory Variables')\n",
    "plt.ylabel('Dependent Variables')\n",
    "plt.title('SCATTER PLOT OF TRAINING DATA')"
   ]
  },
  {
   "cell_type": "code",
   "execution_count": 38,
   "id": "40cceb14",
   "metadata": {
    "scrolled": true
   },
   "outputs": [
    {
     "name": "stdout",
     "output_type": "stream",
     "text": [
      "X_norm=  [[2.77777778e-01 2.46913580e-04 1.23456790e-04 6.17283951e-05\n",
      "  1.23456790e-04 6.17283951e-05 0.00000000e+00 6.17283951e-05\n",
      "  0.00000000e+00 0.00000000e+00 6.17283951e-05 6.17283951e-05\n",
      "  0.00000000e+00 0.00000000e+00 6.17283951e-05 6.17283951e-05\n",
      "  0.00000000e+00]\n",
      " [2.18518519e-01 1.23456790e-04 6.17283951e-05 6.17283951e-05\n",
      "  0.00000000e+00 6.17283951e-05 0.00000000e+00 0.00000000e+00\n",
      "  6.17283951e-05 0.00000000e+00 6.17283951e-05 6.17283951e-05\n",
      "  0.00000000e+00 6.17283951e-05 0.00000000e+00 6.17283951e-05\n",
      "  0.00000000e+00]\n",
      " [4.44444444e-01 1.85185185e-04 1.23456790e-04 6.17283951e-05\n",
      "  1.85185185e-04 0.00000000e+00 6.17283951e-05 6.17283951e-05\n",
      "  0.00000000e+00 0.00000000e+00 6.17283951e-05 6.17283951e-05\n",
      "  0.00000000e+00 0.00000000e+00 6.17283951e-05 6.17283951e-05\n",
      "  0.00000000e+00]\n",
      " [1.92592593e-01 1.85185185e-04 6.17283951e-05 1.23456790e-04\n",
      "  0.00000000e+00 6.17283951e-05 0.00000000e+00 6.17283951e-05\n",
      "  0.00000000e+00 6.17283951e-05 0.00000000e+00 6.17283951e-05\n",
      "  0.00000000e+00 6.17283951e-05 0.00000000e+00 6.17283951e-05\n",
      "  0.00000000e+00]\n",
      " [2.46913580e-01 1.85185185e-04 1.23456790e-04 1.23456790e-04\n",
      "  6.17283951e-05 0.00000000e+00 6.17283951e-05 6.17283951e-05\n",
      "  0.00000000e+00 0.00000000e+00 6.17283951e-05 6.17283951e-05\n",
      "  0.00000000e+00 0.00000000e+00 6.17283951e-05 6.17283951e-05\n",
      "  0.00000000e+00]]\n",
      "X_stand=  [[-0.32640558  1.32167636  1.39689225 -0.92698554  1.51846971  2.43140198\n",
      "  -2.43140198  0.45294185 -0.45294185 -1.34042617  1.34042617  0.22238846\n",
      "  -0.22238846 -1.53800407  1.53800407  0.57154745 -0.57154745]\n",
      " [-0.75373534 -1.30102517 -0.5816057  -0.92698554 -0.79567813  2.43140198\n",
      "  -2.43140198 -2.20199421  2.20199421 -1.34042617  1.34042617  0.22238846\n",
      "  -0.22238846  0.64848679 -0.64848679  0.57154745 -0.57154745]\n",
      " [ 0.87545936  0.0103256   1.39689225 -0.92698554  2.67554362 -0.41020586\n",
      "   0.41020586  0.45294185 -0.45294185 -1.34042617  1.34042617  0.22238846\n",
      "  -0.22238846 -1.53800407  1.53800407  0.57154745 -0.57154745]\n",
      " [-0.94069211  0.0103256  -0.5816057   0.25422346 -0.79567813  2.43140198\n",
      "  -2.43140198  0.45294185 -0.45294185  0.7440733  -0.7440733   0.22238846\n",
      "  -0.22238846  0.64848679 -0.64848679  0.57154745 -0.57154745]\n",
      " [-0.54897316  0.0103256   1.39689225  0.25422346  0.36139579 -0.41020586\n",
      "   0.41020586  0.45294185 -0.45294185 -1.34042617  1.34042617  0.22238846\n",
      "  -0.22238846 -1.53800407  1.53800407  0.57154745 -0.57154745]]\n"
     ]
    }
   ],
   "source": [
    "# perform normalization of input(independent) vars\n",
    "x_train_norm = feature_normalize(x_train)\n",
    "print('X_norm= ', x_train_norm[:5])\n",
    "\n",
    "# perform standardization of input(independent) vars\n",
    "x_train_standard, mu, sigma = feature_standardize(x_train)\n",
    "print('X_stand= ', x_train_standard[:5])"
   ]
  },
  {
   "cell_type": "code",
   "execution_count": 39,
   "id": "9ad57bbd",
   "metadata": {},
   "outputs": [],
   "source": [
    "# hstack() function from numpy is used  to add column of ones to X feature \n",
    "# this is the final X matrix (feature matrix)\n",
    "x_train_norm = np.hstack((np.ones((m,1)), x_train_norm))\n",
    "x_train_standard = np.hstack((np.ones((m,1)), x_train_standard))\n",
    "\n",
    "#Initialise theta to zero as recommended by the hw question\n",
    "init_theta = np.zeros(18)\n",
    "\n",
    "# declare and assign values to the gradient descent learning parameters alpha and no of iterations\n",
    "iterations = 1000          # number of iterations\n",
    "#alpha = 0.0000000004\n",
    "#iterations = 800"
   ]
  },
  {
   "cell_type": "markdown",
   "id": "35f17351",
   "metadata": {},
   "source": [
    "> **Feature Normalisation**"
   ]
  },
  {
   "cell_type": "markdown",
   "id": "612c6049",
   "metadata": {},
   "source": [
    "> **Call *gradient_descent* function**\n",
    "- *gradient_descent* function returns optimal theta and cost history.\n",
    "- values are printed to screen"
   ]
  },
  {
   "cell_type": "code",
   "execution_count": 40,
   "id": "0d843451",
   "metadata": {
    "scrolled": true
   },
   "outputs": [
    {
     "name": "stdout",
     "output_type": "stream",
     "text": [
      "Final value of train theta:  [ 3.62411756e+06  3.61992783e+06  1.49024442e+03  1.12477398e+03\n",
      "  1.51799842e+03  1.08767849e+03 -2.70369595e+02  4.94080556e+02\n",
      " -9.42312725e+01  3.17942233e+02 -2.19081943e+02  4.42792903e+02\n",
      "  1.42179241e+02  8.15317192e+01 -3.73285707e+02  5.96996667e+02\n",
      " -2.04870154e+02  4.28581115e+02]\n",
      "First 5 values from cost_history:  [1.22673889e+13 1.15613081e+13 1.09012949e+13 1.02843423e+13\n",
      " 9.70763992e+12]\n",
      "Last 5 values from cost_history:  [1.27344300e+12 1.27333955e+12 1.27323621e+12 1.27313297e+12\n",
      " 1.27302984e+12]\n"
     ]
    }
   ],
   "source": [
    "flag = 'simple regr'\n",
    "optimal_alpha = 0.03\n",
    "init_theta = np.zeros(18)\n",
    "optimal_theta_norm, cost_history_norm = gradient_descent(x_train_norm, y_train, init_theta, optimal_alpha, iterations, flag)\n",
    "\n",
    "print('Final value of train theta: ', optimal_theta_norm)\n",
    "print('First 5 values from cost_history: ', cost_history_norm[: 5])\n",
    "print('Last 5 values from cost_history: ', cost_history_norm[-5:])"
   ]
  },
  {
   "cell_type": "markdown",
   "id": "1a59b4b5",
   "metadata": {},
   "source": [
    "> **Plot the *convergence of gradient descent for cost history* .**\n",
    "- cost_history contains the values of cost for every iteration performed during batch gradient descent\n",
    "- values of cost against no of iterations to visualize the performance of the 'Gradient Descent Algorithm' is plotted"
   ]
  },
  {
   "cell_type": "code",
   "execution_count": 41,
   "id": "e6ee4efb",
   "metadata": {},
   "outputs": [
    {
     "data": {
      "text/plain": [
       "Text(0.5, 1.0, 'Convergence of gradient descent for train model (alpha = 0.03)')"
      ]
     },
     "execution_count": 41,
     "metadata": {},
     "output_type": "execute_result"
    },
    {
     "data": {
      "image/png": "[encoded data removed]",
      "text/plain": [
       "<Figure size 864x576 with 1 Axes>"
      ]
     },
     "metadata": {
      "needs_background": "light"
     },
     "output_type": "display_data"
    }
   ],
   "source": [
    "plt.plot(range(1, iterations +1), cost_history_norm, color ='blue')\n",
    "plt.rcParams[\"figure.figsize\"] = (10,6)\n",
    "plt.grid()\n",
    "plt.xlabel(\"Number of iterations\")\n",
    "plt.ylabel(\"cost (J)\")\n",
    "plt.title(\"Convergence of gradient descent for train model (alpha = 0.03)\")"
   ]
  },
  {
   "cell_type": "markdown",
   "id": "9e4ba3b4",
   "metadata": {},
   "source": [
    "> **Test model**"
   ]
  },
  {
   "cell_type": "code",
   "execution_count": 42,
   "id": "e42db259",
   "metadata": {},
   "outputs": [],
   "source": [
    "x_test = dataset_test.values[:, 1:18]          # get input values from 2nd to 6th column\n",
    "y_test = dataset_test.values[:, 0]          # get output values from first column\n",
    "m = len(y_test)          # Number of training examples\n",
    "temp_m = len(x_test)\n",
    "assert (m == temp_m)"
   ]
  },
  {
   "cell_type": "code",
   "execution_count": 43,
   "id": "43828f5c",
   "metadata": {},
   "outputs": [
    {
     "name": "stdout",
     "output_type": "stream",
     "text": [
      "X_test_norm=  [[4.72727273e-01 3.03030303e-04 1.51515152e-04 1.51515152e-04\n",
      "  7.57575758e-05 0.00000000e+00 7.57575758e-05 7.57575758e-05\n",
      "  0.00000000e+00 7.57575758e-05 0.00000000e+00 7.57575758e-05\n",
      "  0.00000000e+00 0.00000000e+00 7.57575758e-05 7.57575758e-05\n",
      "  0.00000000e+00]\n",
      " [6.36363636e-01 3.03030303e-04 7.57575758e-05 3.03030303e-04\n",
      "  2.27272727e-04 0.00000000e+00 7.57575758e-05 7.57575758e-05\n",
      "  0.00000000e+00 7.57575758e-05 0.00000000e+00 7.57575758e-05\n",
      "  0.00000000e+00 7.57575758e-05 0.00000000e+00 7.57575758e-05\n",
      "  0.00000000e+00]\n",
      " [7.95454545e-01 3.03030303e-04 1.51515152e-04 1.51515152e-04\n",
      "  7.57575758e-05 0.00000000e+00 7.57575758e-05 7.57575758e-05\n",
      "  0.00000000e+00 7.57575758e-05 0.00000000e+00 7.57575758e-05\n",
      "  0.00000000e+00 7.57575758e-05 0.00000000e+00 7.57575758e-05\n",
      "  0.00000000e+00]\n",
      " [4.86363636e-01 2.27272727e-04 7.57575758e-05 2.27272727e-04\n",
      "  0.00000000e+00 0.00000000e+00 7.57575758e-05 7.57575758e-05\n",
      "  0.00000000e+00 0.00000000e+00 7.57575758e-05 7.57575758e-05\n",
      "  0.00000000e+00 7.57575758e-05 0.00000000e+00 0.00000000e+00\n",
      "  7.57575758e-05]\n",
      " [5.01136364e-01 2.27272727e-04 7.57575758e-05 1.51515152e-04\n",
      "  0.00000000e+00 0.00000000e+00 7.57575758e-05 7.57575758e-05\n",
      "  0.00000000e+00 7.57575758e-05 0.00000000e+00 7.57575758e-05\n",
      "  0.00000000e+00 7.57575758e-05 0.00000000e+00 7.57575758e-05\n",
      "  0.00000000e+00]]\n"
     ]
    }
   ],
   "source": [
    "x_test_norm = feature_normalize(x_test)\n",
    "print('X_test_norm= ', x_test_norm[:5])"
   ]
  },
  {
   "cell_type": "code",
   "execution_count": 44,
   "id": "a5cc252e",
   "metadata": {},
   "outputs": [],
   "source": [
    "x_test_norm = np.hstack((np.ones((m,1)), x_test_norm))\n",
    "prediction = np.array(x_test_norm).dot(optimal_theta_norm)\n",
    "#prediction = x_test.dot(optimal_theta)"
   ]
  },
  {
   "cell_type": "code",
   "execution_count": 45,
   "id": "5bb47cd4",
   "metadata": {},
   "outputs": [
    {
     "data": {
      "text/plain": [
       "<matplotlib.legend.Legend at 0x7f5dcc757a60>"
      ]
     },
     "execution_count": 45,
     "metadata": {},
     "output_type": "execute_result"
    },
    {
     "data": {
      "image/png": "[encoded data removed]",
      "text/plain": [
       "<Figure size 720x432 with 1 Axes>"
      ]
     },
     "metadata": {
      "needs_background": "light"
     },
     "output_type": "display_data"
    }
   ],
   "source": [
    "# plot test data \n",
    "plt.scatter(x_test_norm[:,1], y_test, color='red', marker= '+', label= 'Training Data')\n",
    "#plt.plot(x_test[:,1], y_test, color='blue', marker= '+', label= 'Training Data')\n",
    "plt.plot(x_test_norm[:,1],prediction, color='green', label='Validation Regression')\n",
    "plt.rcParams['figure.figsize'] = (10,6)\n",
    "plt.grid()\n",
    "plt.xlabel('Explanatory Variable')\n",
    "plt.ylabel('Dependent Variable [y]')\n",
    "plt.title('Linear Regression Fit for Test Data')\n",
    "plt.legend()"
   ]
  },
  {
   "cell_type": "markdown",
   "id": "0a777155",
   "metadata": {},
   "source": [
    "----------------------------------------------------------------------------------------------------------------"
   ]
  },
  {
   "cell_type": "markdown",
   "id": "e8d66223",
   "metadata": {},
   "source": [
    "> **Feature Standardization**"
   ]
  },
  {
   "cell_type": "markdown",
   "id": "a38389eb",
   "metadata": {},
   "source": [
    "> **Call *gradient_descent* function**\n",
    "- *gradient_descent* function returns optimal theta and cost history.\n",
    "- values are printed to screen"
   ]
  },
  {
   "cell_type": "code",
   "execution_count": 46,
   "id": "9f1999cb",
   "metadata": {
    "scrolled": true
   },
   "outputs": [
    {
     "name": "stdout",
     "output_type": "stream",
     "text": [
      "Final value of train theta:  [4775201.94225721  563150.78371992   33261.30624403  529357.44371379\n",
      "  443939.60211415  257906.39644756  -89231.39501346   89231.39501346\n",
      "  -55317.80293467   55317.80293467 -139681.51209025  139681.51209025\n",
      "  -90105.42199757   90105.42199758 -142227.43802649  142227.43802649\n",
      " -111022.9674188   111022.9674188 ]\n",
      "First 5 values from cost_history:  [2.57863129e+13 2.21522247e+13 1.91424372e+13 1.66169591e+13\n",
      " 1.44781819e+13]\n",
      "Last 5 values from cost_history:  [1.2304103e+12 1.2304103e+12 1.2304103e+12 1.2304103e+12 1.2304103e+12]\n"
     ]
    }
   ],
   "source": [
    "flag = 'simple regr'\n",
    "optimal_alpha = 0.03\n",
    "optimal_theta_standard, cost_history_standard = gradient_descent(x_train_standard, y_train, init_theta, optimal_alpha, iterations, flag)\n",
    "\n",
    "print('Final value of train theta: ', optimal_theta_standard)\n",
    "print('First 5 values from cost_history: ', cost_history_standard[: 5])\n",
    "print('Last 5 values from cost_history: ', cost_history_standard[-5:])"
   ]
  },
  {
   "cell_type": "markdown",
   "id": "ff33f0d1",
   "metadata": {},
   "source": [
    "> **Plot the *convergence of gradient descent for cost history* .**\n",
    "- cost_history contains the values of cost for every iteration performed during batch gradient descent\n",
    "- values of cost against no of iterations to visualize the performance of the 'Gradient Descent Algorithm' is plotted"
   ]
  },
  {
   "cell_type": "code",
   "execution_count": 47,
   "id": "e2b1225b",
   "metadata": {},
   "outputs": [
    {
     "data": {
      "text/plain": [
       "Text(0.5, 1.0, 'Convergence of gradient descent for train model (alpha = 0.03)')"
      ]
     },
     "execution_count": 47,
     "metadata": {},
     "output_type": "execute_result"
    },
    {
     "data": {
      "image/png": "[encoded data removed]",
      "text/plain": [
       "<Figure size 720x432 with 1 Axes>"
      ]
     },
     "metadata": {
      "needs_background": "light"
     },
     "output_type": "display_data"
    }
   ],
   "source": [
    "plt.plot(range(1, iterations +1), cost_history_standard, color ='purple')\n",
    "plt.rcParams[\"figure.figsize\"] = (10,6)\n",
    "plt.grid()\n",
    "plt.xlabel(\"Number of iterations\")\n",
    "plt.ylabel(\"cost (J)\")\n",
    "plt.title(\"Convergence of gradient descent for train model (alpha = 0.03)\")"
   ]
  },
  {
   "cell_type": "markdown",
   "id": "d0d43db6",
   "metadata": {},
   "source": [
    "> **Test model**"
   ]
  },
  {
   "cell_type": "code",
   "execution_count": 48,
   "id": "e07d805c",
   "metadata": {},
   "outputs": [],
   "source": [
    "x_test = dataset_test.values[:, 1:18]          # get input values from 2nd to 6th column\n",
    "y_test = dataset_test.values[:, 0]          # get output values from first column\n",
    "m = len(y_test)          # Number of training examples\n",
    "temp_m = len(x_test)\n",
    "assert (m == temp_m)"
   ]
  },
  {
   "cell_type": "code",
   "execution_count": 49,
   "id": "2c135694",
   "metadata": {},
   "outputs": [
    {
     "name": "stdout",
     "output_type": "stream",
     "text": [
      "X_stand=  [[ 0.64908286  1.62413499  1.47348095  0.15992423  0.34118416 -0.39240908\n",
      "   0.39240908  0.49086255 -0.49086255  0.70817399 -0.70817399  0.2105092\n",
      "  -0.2105092  -1.32996595  1.32996595  0.50984676 -0.50984676]\n",
      " [ 1.74299277  1.62413499 -0.54027635  2.34555539  2.67260924 -0.39240908\n",
      "   0.39240908  0.49086255 -0.49086255  0.70817399 -0.70817399  0.2105092\n",
      "  -0.2105092   0.7473142  -0.7473142   0.50984676 -0.50984676]\n",
      " [ 2.80651629  1.62413499  1.47348095  0.15992423  0.34118416 -0.39240908\n",
      "   0.39240908  0.49086255 -0.49086255  0.70817399 -0.70817399  0.2105092\n",
      "  -0.2105092   0.7473142  -0.7473142   0.50984676 -0.50984676]\n",
      " [ 0.74024202  0.14436755 -0.54027635  1.25273981 -0.82452838 -0.39240908\n",
      "   0.39240908  0.49086255 -0.49086255 -1.4034721   1.4034721   0.2105092\n",
      "  -0.2105092   0.7473142  -0.7473142  -1.94941407  1.94941407]\n",
      " [ 0.83899777  0.14436755 -0.54027635  0.15992423 -0.82452838 -0.39240908\n",
      "   0.39240908  0.49086255 -0.49086255  0.70817399 -0.70817399  0.2105092\n",
      "  -0.2105092   0.7473142  -0.7473142   0.50984676 -0.50984676]]\n"
     ]
    }
   ],
   "source": [
    "x_test_standard, mu, sigma = feature_standardize(x_test)\n",
    "print('X_stand= ', x_test_standard[:5])"
   ]
  },
  {
   "cell_type": "code",
   "execution_count": 50,
   "id": "0587923d",
   "metadata": {},
   "outputs": [],
   "source": [
    "x_test_standard = np.hstack((np.ones((m,1)), x_test_standard))\n",
    "prediction = np.array(x_test_standard).dot(optimal_theta_standard)\n",
    "#prediction = x_test.dot(optimal_theta_standard)"
   ]
  },
  {
   "cell_type": "code",
   "execution_count": 51,
   "id": "d3b05ef9",
   "metadata": {},
   "outputs": [
    {
     "data": {
      "text/plain": [
       "<matplotlib.legend.Legend at 0x7f5dcc699040>"
      ]
     },
     "execution_count": 51,
     "metadata": {},
     "output_type": "execute_result"
    },
    {
     "data": {
      "image/png": "[encoded data removed]",
      "text/plain": [
       "<Figure size 720x432 with 1 Axes>"
      ]
     },
     "metadata": {
      "needs_background": "light"
     },
     "output_type": "display_data"
    }
   ],
   "source": [
    "# plot test data \n",
    "plt.scatter(x_test_standard[:,1], y_test, color='red', marker= '+', label= 'Training Data')\n",
    "#plt.plot(x_test[:,1], y_test, color='blue', marker= '+', label= 'Training Data')\n",
    "plt.plot(x_test_standard[:,1],prediction, color='purple', marker= 'o', label='Validation Regression')\n",
    "plt.rcParams['figure.figsize'] = (10,6)\n",
    "plt.grid()\n",
    "plt.xlabel('Explanatory Variable')\n",
    "plt.ylabel('Dependent Variable [y]')\n",
    "plt.title('Linear Regression Fit for Test Data')\n",
    "plt.legend()"
   ]
  },
  {
   "cell_type": "code",
   "execution_count": null,
   "id": "1eda71ae",
   "metadata": {},
   "outputs": [],
   "source": []
  }
 ],
 "metadata": {
  "kernelspec": {
   "display_name": "Python 3 (ipykernel)",
   "language": "python",
   "name": "python3"
  },
  "language_info": {
   "codemirror_mode": {
    "name": "ipython",
    "version": 3
   },
   "file_extension": ".py",
   "mimetype": "text/x-python",
   "name": "python",
   "nbconvert_exporter": "python",
   "pygments_lexer": "ipython3",
   "version": "3.8.10"
  }
 },
 "nbformat": 4,
 "nbformat_minor": 5
}
