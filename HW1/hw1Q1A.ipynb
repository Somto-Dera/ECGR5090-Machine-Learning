{
 "cells": [
  {
   "cell_type": "markdown",
   "id": "a854f7a8",
   "metadata": {},
   "source": [
    "### NAME: SOMTO A.\n",
    "### ID: 801215537\n",
    "### HW#: 1\n",
    "### GITHUB: *https://github.com/Somto-Dera/ECGR5090-Machine-Learning*"
   ]
  },
  {
   "cell_type": "markdown",
   "id": "2a01072c",
   "metadata": {},
   "source": [
    "In this homework, we will use US Housing dataset. You will develop linear regression with gradient decent algorithm to estimate the price of the house. In this homework, we will use 70% and 30% split between training and evaluation (test) sets across all problems. (Note: You cannot use the built-in function from ML libraries for gradient descent, you must implement it yourself. However, you can use built-in function for normalization/standardization)"
   ]
  },
  {
   "cell_type": "markdown",
   "id": "3659aec3",
   "metadata": {},
   "source": [
    "#### Problem 1\n",
    "1. A) \n",
    "Develop a gradient decent training and evaluation code that predicts housing price based on the following input variables;\n",
    "\n",
    "area, bedrooms, bathrooms, stories, parking\n",
    "\n",
    "Identify the best parameters for your linear regression model, based on the above input variables.\n",
    "Plot the training and validation losses (in a single graph, but two different lines). For the learning rate, explore different values between 0.1 and 0.01 (your choice). Initialize your parameters (thetas to zero). For the training iteration, choose what you believe fits the best."
   ]
  },
  {
   "cell_type": "markdown",
   "id": "f993d1de",
   "metadata": {},
   "source": [
    "##### Steps/ Algorithm/ Pseudo\n",
    "* import necessary library\n",
    "* load data set\n",
    "* create a cost function\n",
    "* create gradient descent function\n",
    "* do some minor data preprocessing and analysis\n",
    "* split data set into test and train\n",
    "* call gradient descent function to get values for theta and cost history in relation to the explanatory variables\n",
    "* plot a convergence of gradient descent graph with cost history.\n",
    "* plot a graph showing the effect of changing the learning rate in convergence of the gradient descent with cost history.\n",
    "* test result with test data set.\n",
    "* plot graph comparing validation and train losses"
   ]
  },
  {
   "cell_type": "markdown",
   "id": "399b94d0",
   "metadata": {},
   "source": [
    "##### import the necessary libraries\n",
    "<br> * *numpy* is used for array and matrics manipulation.\n",
    "<br> * *pandas* is used for data manipulation and analysis.\n",
    "<br> * *matplotlib* is used for data visualisation\n",
    "<br> * *sklearn.model_selection* is used to split data sets"
   ]
  },
  {
   "cell_type": "code",
   "execution_count": 1,
   "id": "002ee9f1",
   "metadata": {},
   "outputs": [],
   "source": [
    "import numpy as np\n",
    "import pandas as pd\n",
    "import matplotlib.pyplot as plt\n",
    "from sklearn.model_selection import train_test_split"
   ]
  },
  {
   "cell_type": "markdown",
   "id": "7330c664",
   "metadata": {},
   "source": [
    "#### create a cost function\n",
    "<br>\n",
    "\n",
    "* The hypotheis function is h(θ,x)= θ_0 + θ_1 * x_1\n",
    "\n",
    "* Matrix operations are much faster than loops operations, so matrice of x, θ and (x * θ) were used"
   ]
  },
  {
   "cell_type": "code",
   "execution_count": 2,
   "id": "0c6d4bc3",
   "metadata": {},
   "outputs": [],
   "source": [
    "def compute_cost(X, y, theta):\n",
    "    \n",
    "    predictions = X.dot(theta)\n",
    "    errors = np.subtract(predictions, y)\n",
    "    sqrErrors = np.square(errors)\n",
    "    J = 1 / (2 * m) * errors.T.dot(errors)\n",
    "    \n",
    "    return J"
   ]
  },
  {
   "cell_type": "markdown",
   "id": "6b3e6f54",
   "metadata": {},
   "source": [
    "#### compute-cost function for linear regression.\n",
    "\n",
    "<br>**Input Parameters**\n",
    "<br> *'X' :* 2D array where each row represent the training example and each column represent the feature ndarray. Dimension(m x n)\n",
    "<br> *'m' :* number of training examples\n",
    "<br> *'n' :* number of features (including X_0 column of ones)\n",
    "<br> *'y' :* 1D array of labels/target value for each traing example. dimension(1 x m)\n",
    "<br> *'theta' :* 1D array of fitting parameters or weights. Dimension (1 x n)\n",
    "<br><br>**Output Parameters**\n",
    "<br> *'J' :* Scalar value.\n",
    "<br><br>**Library Functions Used**\n",
    "<br> *numpy.dot()* returns the product of two arrays.\n",
    "<br> *numpy.subtract()* performs vector entree subtraction\n",
    "<br> *numpy.square()* performs the vector entree square"
   ]
  },
  {
   "cell_type": "code",
   "execution_count": 3,
   "id": "1a3efa32",
   "metadata": {},
   "outputs": [],
   "source": [
    "def gradient_descent(X, y, theta, alpha, iterations):\n",
    "    cost_history = np.zeros(iterations)\n",
    "    \n",
    "    for i in range(iterations):\n",
    "        predictions = X.dot(theta)\n",
    "        errors = np.subtract(predictions, y)\n",
    "        sum_delta = (alpha / m) * X.transpose().dot(errors);\n",
    "        theta = theta - sum_delta;\n",
    "        \n",
    "        cost_history[i] = compute_cost(X, y, theta)\n",
    "        \n",
    "    return theta, cost_history"
   ]
  },
  {
   "cell_type": "markdown",
   "id": "d93d0109",
   "metadata": {},
   "source": [
    "#### load dataset housing.csv into variable 'dataset'\n",
    "\n",
    "<br>\n",
    "* This dataset was provided by this HW. It contains 13 columns, the 11 columns are explanatory variables x1, ..., x10; and the final/fourth column is the dependent variable y. It has 545 data per column."
   ]
  },
  {
   "cell_type": "code",
   "execution_count": 4,
   "id": "8d5611f9",
   "metadata": {},
   "outputs": [
    {
     "data": {
      "text/html": [
       "<div>\n",
       "<style scoped>\n",
       "    .dataframe tbody tr th:only-of-type {\n",
       "        vertical-align: middle;\n",
       "    }\n",
       "\n",
       "    .dataframe tbody tr th {\n",
       "        vertical-align: top;\n",
       "    }\n",
       "\n",
       "    .dataframe thead th {\n",
       "        text-align: right;\n",
       "    }\n",
       "</style>\n",
       "<table border=\"1\" class=\"dataframe\">\n",
       "  <thead>\n",
       "    <tr style=\"text-align: right;\">\n",
       "      <th></th>\n",
       "      <th>price</th>\n",
       "      <th>area</th>\n",
       "      <th>bedrooms</th>\n",
       "      <th>bathrooms</th>\n",
       "      <th>stories</th>\n",
       "      <th>mainroad</th>\n",
       "      <th>guestroom</th>\n",
       "      <th>basement</th>\n",
       "      <th>hotwaterheating</th>\n",
       "      <th>airconditioning</th>\n",
       "      <th>parking</th>\n",
       "      <th>prefarea</th>\n",
       "      <th>furnishingstatus</th>\n",
       "    </tr>\n",
       "  </thead>\n",
       "  <tbody>\n",
       "    <tr>\n",
       "      <th>0</th>\n",
       "      <td>13300000</td>\n",
       "      <td>7420</td>\n",
       "      <td>4</td>\n",
       "      <td>2</td>\n",
       "      <td>3</td>\n",
       "      <td>yes</td>\n",
       "      <td>no</td>\n",
       "      <td>no</td>\n",
       "      <td>no</td>\n",
       "      <td>yes</td>\n",
       "      <td>2</td>\n",
       "      <td>yes</td>\n",
       "      <td>furnished</td>\n",
       "    </tr>\n",
       "    <tr>\n",
       "      <th>1</th>\n",
       "      <td>12250000</td>\n",
       "      <td>8960</td>\n",
       "      <td>4</td>\n",
       "      <td>4</td>\n",
       "      <td>4</td>\n",
       "      <td>yes</td>\n",
       "      <td>no</td>\n",
       "      <td>no</td>\n",
       "      <td>no</td>\n",
       "      <td>yes</td>\n",
       "      <td>3</td>\n",
       "      <td>no</td>\n",
       "      <td>furnished</td>\n",
       "    </tr>\n",
       "    <tr>\n",
       "      <th>2</th>\n",
       "      <td>12250000</td>\n",
       "      <td>9960</td>\n",
       "      <td>3</td>\n",
       "      <td>2</td>\n",
       "      <td>2</td>\n",
       "      <td>yes</td>\n",
       "      <td>no</td>\n",
       "      <td>yes</td>\n",
       "      <td>no</td>\n",
       "      <td>no</td>\n",
       "      <td>2</td>\n",
       "      <td>yes</td>\n",
       "      <td>semi-furnished</td>\n",
       "    </tr>\n",
       "    <tr>\n",
       "      <th>3</th>\n",
       "      <td>12215000</td>\n",
       "      <td>7500</td>\n",
       "      <td>4</td>\n",
       "      <td>2</td>\n",
       "      <td>2</td>\n",
       "      <td>yes</td>\n",
       "      <td>no</td>\n",
       "      <td>yes</td>\n",
       "      <td>no</td>\n",
       "      <td>yes</td>\n",
       "      <td>3</td>\n",
       "      <td>yes</td>\n",
       "      <td>furnished</td>\n",
       "    </tr>\n",
       "    <tr>\n",
       "      <th>4</th>\n",
       "      <td>11410000</td>\n",
       "      <td>7420</td>\n",
       "      <td>4</td>\n",
       "      <td>1</td>\n",
       "      <td>2</td>\n",
       "      <td>yes</td>\n",
       "      <td>yes</td>\n",
       "      <td>yes</td>\n",
       "      <td>no</td>\n",
       "      <td>yes</td>\n",
       "      <td>2</td>\n",
       "      <td>no</td>\n",
       "      <td>furnished</td>\n",
       "    </tr>\n",
       "  </tbody>\n",
       "</table>\n",
       "</div>"
      ],
      "text/plain": [
       "      price  area  bedrooms  bathrooms  stories mainroad guestroom basement  \\\n",
       "0  13300000  7420         4          2        3      yes        no       no   \n",
       "1  12250000  8960         4          4        4      yes        no       no   \n",
       "2  12250000  9960         3          2        2      yes        no      yes   \n",
       "3  12215000  7500         4          2        2      yes        no      yes   \n",
       "4  11410000  7420         4          1        2      yes       yes      yes   \n",
       "\n",
       "  hotwaterheating airconditioning  parking prefarea furnishingstatus  \n",
       "0              no             yes        2      yes        furnished  \n",
       "1              no             yes        3       no        furnished  \n",
       "2              no              no        2      yes   semi-furnished  \n",
       "3              no             yes        3      yes        furnished  \n",
       "4              no             yes        2       no        furnished  "
      ]
     },
     "execution_count": 4,
     "metadata": {},
     "output_type": "execute_result"
    }
   ],
   "source": [
    "housing = pd.read_csv('Housing.csv')\n",
    "housing.head() # To get first n rows from the dataset default value of n is 5"
   ]
  },
  {
   "cell_type": "markdown",
   "id": "ac494ccf",
   "metadata": {},
   "source": [
    "#### minor data processing and analysis"
   ]
  },
  {
   "cell_type": "code",
   "execution_count": 5,
   "id": "9d6f1dee",
   "metadata": {},
   "outputs": [
    {
     "data": {
      "text/html": [
       "<div>\n",
       "<style scoped>\n",
       "    .dataframe tbody tr th:only-of-type {\n",
       "        vertical-align: middle;\n",
       "    }\n",
       "\n",
       "    .dataframe tbody tr th {\n",
       "        vertical-align: top;\n",
       "    }\n",
       "\n",
       "    .dataframe thead th {\n",
       "        text-align: right;\n",
       "    }\n",
       "</style>\n",
       "<table border=\"1\" class=\"dataframe\">\n",
       "  <thead>\n",
       "    <tr style=\"text-align: right;\">\n",
       "      <th></th>\n",
       "      <th>price</th>\n",
       "      <th>area</th>\n",
       "      <th>bedrooms</th>\n",
       "      <th>bathrooms</th>\n",
       "      <th>stories</th>\n",
       "      <th>mainroad</th>\n",
       "      <th>guestroom</th>\n",
       "      <th>basement</th>\n",
       "      <th>hotwaterheating</th>\n",
       "      <th>airconditioning</th>\n",
       "      <th>parking</th>\n",
       "      <th>prefarea</th>\n",
       "      <th>furnishingstatus</th>\n",
       "    </tr>\n",
       "  </thead>\n",
       "  <tbody>\n",
       "    <tr>\n",
       "      <th>0</th>\n",
       "      <td>13300000</td>\n",
       "      <td>7420</td>\n",
       "      <td>4</td>\n",
       "      <td>2</td>\n",
       "      <td>3</td>\n",
       "      <td>yes</td>\n",
       "      <td>no</td>\n",
       "      <td>no</td>\n",
       "      <td>no</td>\n",
       "      <td>yes</td>\n",
       "      <td>2</td>\n",
       "      <td>yes</td>\n",
       "      <td>furnished</td>\n",
       "    </tr>\n",
       "    <tr>\n",
       "      <th>1</th>\n",
       "      <td>12250000</td>\n",
       "      <td>8960</td>\n",
       "      <td>4</td>\n",
       "      <td>4</td>\n",
       "      <td>4</td>\n",
       "      <td>yes</td>\n",
       "      <td>no</td>\n",
       "      <td>no</td>\n",
       "      <td>no</td>\n",
       "      <td>yes</td>\n",
       "      <td>3</td>\n",
       "      <td>no</td>\n",
       "      <td>furnished</td>\n",
       "    </tr>\n",
       "    <tr>\n",
       "      <th>2</th>\n",
       "      <td>12250000</td>\n",
       "      <td>9960</td>\n",
       "      <td>3</td>\n",
       "      <td>2</td>\n",
       "      <td>2</td>\n",
       "      <td>yes</td>\n",
       "      <td>no</td>\n",
       "      <td>yes</td>\n",
       "      <td>no</td>\n",
       "      <td>no</td>\n",
       "      <td>2</td>\n",
       "      <td>yes</td>\n",
       "      <td>semi-furnished</td>\n",
       "    </tr>\n",
       "    <tr>\n",
       "      <th>3</th>\n",
       "      <td>12215000</td>\n",
       "      <td>7500</td>\n",
       "      <td>4</td>\n",
       "      <td>2</td>\n",
       "      <td>2</td>\n",
       "      <td>yes</td>\n",
       "      <td>no</td>\n",
       "      <td>yes</td>\n",
       "      <td>no</td>\n",
       "      <td>yes</td>\n",
       "      <td>3</td>\n",
       "      <td>yes</td>\n",
       "      <td>furnished</td>\n",
       "    </tr>\n",
       "    <tr>\n",
       "      <th>4</th>\n",
       "      <td>11410000</td>\n",
       "      <td>7420</td>\n",
       "      <td>4</td>\n",
       "      <td>1</td>\n",
       "      <td>2</td>\n",
       "      <td>yes</td>\n",
       "      <td>yes</td>\n",
       "      <td>yes</td>\n",
       "      <td>no</td>\n",
       "      <td>yes</td>\n",
       "      <td>2</td>\n",
       "      <td>no</td>\n",
       "      <td>furnished</td>\n",
       "    </tr>\n",
       "  </tbody>\n",
       "</table>\n",
       "</div>"
      ],
      "text/plain": [
       "      price  area  bedrooms  bathrooms  stories mainroad guestroom basement  \\\n",
       "0  13300000  7420         4          2        3      yes        no       no   \n",
       "1  12250000  8960         4          4        4      yes        no       no   \n",
       "2  12250000  9960         3          2        2      yes        no      yes   \n",
       "3  12215000  7500         4          2        2      yes        no      yes   \n",
       "4  11410000  7420         4          1        2      yes       yes      yes   \n",
       "\n",
       "  hotwaterheating airconditioning  parking prefarea furnishingstatus  \n",
       "0              no             yes        2      yes        furnished  \n",
       "1              no             yes        3       no        furnished  \n",
       "2              no              no        2      yes   semi-furnished  \n",
       "3              no             yes        3      yes        furnished  \n",
       "4              no             yes        2       no        furnished  "
      ]
     },
     "execution_count": 5,
     "metadata": {},
     "output_type": "execute_result"
    }
   ],
   "source": [
    "dataset = housing\n",
    "dataset.head()"
   ]
  },
  {
   "cell_type": "code",
   "execution_count": 6,
   "id": "0094fbcc",
   "metadata": {
    "scrolled": true
   },
   "outputs": [
    {
     "name": "stdout",
     "output_type": "stream",
     "text": [
      "<class 'pandas.core.frame.DataFrame'>\n",
      "RangeIndex: 545 entries, 0 to 544\n",
      "Data columns (total 13 columns):\n",
      " #   Column            Non-Null Count  Dtype \n",
      "---  ------            --------------  ----- \n",
      " 0   price             545 non-null    int64 \n",
      " 1   area              545 non-null    int64 \n",
      " 2   bedrooms          545 non-null    int64 \n",
      " 3   bathrooms         545 non-null    int64 \n",
      " 4   stories           545 non-null    int64 \n",
      " 5   mainroad          545 non-null    object\n",
      " 6   guestroom         545 non-null    object\n",
      " 7   basement          545 non-null    object\n",
      " 8   hotwaterheating   545 non-null    object\n",
      " 9   airconditioning   545 non-null    object\n",
      " 10  parking           545 non-null    int64 \n",
      " 11  prefarea          545 non-null    object\n",
      " 12  furnishingstatus  545 non-null    object\n",
      "dtypes: int64(6), object(7)\n",
      "memory usage: 55.5+ KB\n"
     ]
    }
   ],
   "source": [
    "dataset.shape\n",
    "dataset.describe\n",
    "dataset.info()"
   ]
  },
  {
   "cell_type": "markdown",
   "id": "9382fad3",
   "metadata": {},
   "source": [
    "#### Drop columns not used for the training from the dataset set"
   ]
  },
  {
   "cell_type": "code",
   "execution_count": 7,
   "id": "5a7a0ee5",
   "metadata": {
    "scrolled": true
   },
   "outputs": [
    {
     "data": {
      "text/html": [
       "<div>\n",
       "<style scoped>\n",
       "    .dataframe tbody tr th:only-of-type {\n",
       "        vertical-align: middle;\n",
       "    }\n",
       "\n",
       "    .dataframe tbody tr th {\n",
       "        vertical-align: top;\n",
       "    }\n",
       "\n",
       "    .dataframe thead th {\n",
       "        text-align: right;\n",
       "    }\n",
       "</style>\n",
       "<table border=\"1\" class=\"dataframe\">\n",
       "  <thead>\n",
       "    <tr style=\"text-align: right;\">\n",
       "      <th></th>\n",
       "      <th>price</th>\n",
       "      <th>area</th>\n",
       "      <th>bedrooms</th>\n",
       "      <th>bathrooms</th>\n",
       "      <th>stories</th>\n",
       "      <th>parking</th>\n",
       "    </tr>\n",
       "  </thead>\n",
       "  <tbody>\n",
       "    <tr>\n",
       "      <th>0</th>\n",
       "      <td>13300000</td>\n",
       "      <td>7420</td>\n",
       "      <td>4</td>\n",
       "      <td>2</td>\n",
       "      <td>3</td>\n",
       "      <td>2</td>\n",
       "    </tr>\n",
       "    <tr>\n",
       "      <th>1</th>\n",
       "      <td>12250000</td>\n",
       "      <td>8960</td>\n",
       "      <td>4</td>\n",
       "      <td>4</td>\n",
       "      <td>4</td>\n",
       "      <td>3</td>\n",
       "    </tr>\n",
       "    <tr>\n",
       "      <th>2</th>\n",
       "      <td>12250000</td>\n",
       "      <td>9960</td>\n",
       "      <td>3</td>\n",
       "      <td>2</td>\n",
       "      <td>2</td>\n",
       "      <td>2</td>\n",
       "    </tr>\n",
       "    <tr>\n",
       "      <th>3</th>\n",
       "      <td>12215000</td>\n",
       "      <td>7500</td>\n",
       "      <td>4</td>\n",
       "      <td>2</td>\n",
       "      <td>2</td>\n",
       "      <td>3</td>\n",
       "    </tr>\n",
       "    <tr>\n",
       "      <th>4</th>\n",
       "      <td>11410000</td>\n",
       "      <td>7420</td>\n",
       "      <td>4</td>\n",
       "      <td>1</td>\n",
       "      <td>2</td>\n",
       "      <td>2</td>\n",
       "    </tr>\n",
       "  </tbody>\n",
       "</table>\n",
       "</div>"
      ],
      "text/plain": [
       "      price  area  bedrooms  bathrooms  stories  parking\n",
       "0  13300000  7420         4          2        3        2\n",
       "1  12250000  8960         4          4        4        3\n",
       "2  12250000  9960         3          2        2        2\n",
       "3  12215000  7500         4          2        2        3\n",
       "4  11410000  7420         4          1        2        2"
      ]
     },
     "execution_count": 7,
     "metadata": {},
     "output_type": "execute_result"
    }
   ],
   "source": [
    "dataset = dataset.drop(['mainroad', 'guestroom', 'basement', 'hotwaterheating', 'airconditioning', 'prefarea', 'furnishingstatus'], axis='columns')\n",
    "dataset.head()"
   ]
  },
  {
   "cell_type": "markdown",
   "id": "dc20dfb7",
   "metadata": {},
   "source": [
    "#### Split dataset into test(0.3) and train(0.7)"
   ]
  },
  {
   "cell_type": "code",
   "execution_count": 8,
   "id": "d184968c",
   "metadata": {},
   "outputs": [
    {
     "data": {
      "text/plain": [
       "(381, 6)"
      ]
     },
     "execution_count": 8,
     "metadata": {},
     "output_type": "execute_result"
    }
   ],
   "source": [
    "np.random.seed(0)\n",
    "datasetOneA_train, datasetOneA_test = train_test_split(dataset, train_size = 0.7, test_size = 0.3, random_state = 1)\n",
    "datasetOneA_train.shape"
   ]
  },
  {
   "cell_type": "code",
   "execution_count": 9,
   "id": "71be37b1",
   "metadata": {},
   "outputs": [
    {
     "data": {
      "text/plain": [
       "(164, 6)"
      ]
     },
     "execution_count": 9,
     "metadata": {},
     "output_type": "execute_result"
    }
   ],
   "source": [
    "datasetOneA_test.shape"
   ]
  },
  {
   "cell_type": "code",
   "execution_count": 10,
   "id": "f0d34b31",
   "metadata": {},
   "outputs": [],
   "source": [
    "x = datasetOneA_train.values[:, 1:6]  # get input values from first column\n",
    "y = datasetOneA_train.values[:, 0]  # get output values from second column\n",
    "m = len(y) # Number of training examples\n",
    "temp_m = len(x)\n",
    "assert (m == temp_m)"
   ]
  },
  {
   "cell_type": "code",
   "execution_count": 11,
   "id": "7324b1c7",
   "metadata": {},
   "outputs": [
    {
     "data": {
      "text/plain": [
       "Text(0.5, 1.0, 'SCATTER PLOT OF TRAINING DATA')"
      ]
     },
     "execution_count": 11,
     "metadata": {},
     "output_type": "execute_result"
    },
    {
     "data": {
      "image/png": "[encoded data removed]",
      "text/plain": [
       "<Figure size 432x288 with 1 Axes>"
      ]
     },
     "metadata": {
      "needs_background": "light"
     },
     "output_type": "display_data"
    }
   ],
   "source": [
    "plt.scatter(datasetOneA_train.values[:, 1],y, color='red',marker= '+')\n",
    "plt.scatter(datasetOneA_train.values[:, 2],y, color='yellow',marker= '+')\n",
    "plt.scatter(datasetOneA_train.values[:, 3],y, color='blue',marker= '+')\n",
    "plt.scatter(datasetOneA_train.values[:, 4],y, color='green',marker= '+')\n",
    "plt.scatter(datasetOneA_train.values[:, 5],y, color='indigo',marker= '+')\n",
    "plt.grid()\n",
    "plt.rcParams[\"figure.figsize\"] = (12,8)\n",
    "plt.xlabel('Explanatory Variables')\n",
    "plt.ylabel('Dependent Variables')\n",
    "plt.title('SCATTER PLOT OF TRAINING DATA')"
   ]
  },
  {
   "cell_type": "markdown",
   "id": "90706f29",
   "metadata": {},
   "source": [
    "#### call the cost function\n",
    "* The hypotheis function is h(θ,x)= θ_0 + θ_1 * x_1\n",
    "* Matrix operations are much faster than loops operations, so matrice of x, θ and (x * θ) were used"
   ]
  },
  {
   "cell_type": "code",
   "execution_count": 12,
   "id": "7953e231",
   "metadata": {},
   "outputs": [],
   "source": [
    "# Lets use hstack() function from numpy to add column of ones to X feature \n",
    "# This will be our final X matrix (feature matrix)\n",
    "X = np.hstack((np.ones((m,1)), x))\n",
    "\n",
    "#Initialise theta to zero as recommended by the hw question\n",
    "theta = np.zeros(6)\n",
    "\n",
    "# declare and assign values to the gradient descent learning parameters alpha and no of iterations\n",
    "#iterations = 800;\n",
    "alpha = 0.04;\n",
    "iterations =1000;\n",
    "#alpha = 0.0000000004;"
   ]
  },
  {
   "cell_type": "markdown",
   "id": "ea20af16",
   "metadata": {},
   "source": [
    "#### compute cost"
   ]
  },
  {
   "cell_type": "code",
   "execution_count": 13,
   "id": "f9bc8e2b",
   "metadata": {},
   "outputs": [
    {
     "name": "stdout",
     "output_type": "stream",
     "text": [
      "Final value of train theta = [nan nan nan nan nan nan]\n",
      "First 5 values from train cost_history = [1.90655572e+25 3.20637250e+37 5.39235464e+49 9.06865582e+61\n",
      " 1.52513185e+74]\n",
      "Last 5 values from train cost_history = [nan nan nan nan nan]\n"
     ]
    },
    {
     "name": "stderr",
     "output_type": "stream",
     "text": [
      "/tmp/ipykernel_6598/937980692.py:5: RuntimeWarning: overflow encountered in square\n",
      "  sqrErrors = np.square(errors)\n"
     ]
    }
   ],
   "source": [
    "trainTheta, trainCostHistory = gradient_descent(X, y, theta, alpha, iterations)\n",
    "print('Final value of train theta =', trainTheta)\n",
    "print('First 5 values from train cost_history =', trainCostHistory[:5])\n",
    "print('Last 5 values from train cost_history =', trainCostHistory[-5 :])"
   ]
  },
  {
   "cell_type": "code",
   "execution_count": 14,
   "id": "cdb875d2",
   "metadata": {
    "scrolled": false
   },
   "outputs": [
    {
     "data": {
      "text/plain": [
       "Text(0.5, 1.0, 'Convergence of gradient descent for train model')"
      ]
     },
     "execution_count": 14,
     "metadata": {},
     "output_type": "execute_result"
    },
    {
     "data": {
      "image/png": "[encoded data removed]",
      "text/plain": [
       "<Figure size 864x576 with 1 Axes>"
      ]
     },
     "metadata": {
      "needs_background": "light"
     },
     "output_type": "display_data"
    }
   ],
   "source": [
    "plt.plot(range(1, iterations +1), trainCostHistory, color ='blue')\n",
    "plt.rcParams[\"figure.figsize\"] = (10,6)\n",
    "plt.grid()\n",
    "plt.xlabel(\"Number of iterations\")\n",
    "plt.ylabel(\"cost (J)\")\n",
    "plt.title(\"Convergence of gradient descent for train model\")"
   ]
  },
  {
   "cell_type": "markdown",
   "id": "5b2e46d7",
   "metadata": {},
   "source": [
    "#### experiment with different values of alpha"
   ]
  },
  {
   "cell_type": "code",
   "execution_count": 15,
   "id": "f8d6c4f8",
   "metadata": {},
   "outputs": [
    {
     "name": "stderr",
     "output_type": "stream",
     "text": [
      "/tmp/ipykernel_6598/937980692.py:5: RuntimeWarning: overflow encountered in square\n",
      "  sqrErrors = np.square(errors)\n",
      "/tmp/ipykernel_6598/998736291.py:8: RuntimeWarning: invalid value encountered in subtract\n",
      "  theta = theta - sum_delta;\n"
     ]
    },
    {
     "data": {
      "text/plain": [
       "<matplotlib.legend.Legend at 0x7f2c624088b0>"
      ]
     },
     "execution_count": 15,
     "metadata": {},
     "output_type": "execute_result"
    },
    {
     "data": {
      "image/png": "[encoded data removed]",
      "text/plain": [
       "<Figure size 720x432 with 1 Axes>"
      ]
     },
     "metadata": {
      "needs_background": "light"
     },
     "output_type": "display_data"
    }
   ],
   "source": [
    "alpha = 0.01;\n",
    "#alpha = 0.0000000001;\n",
    "trainTheta_1, trainCostHistory_1 = gradient_descent(X, y, theta, alpha, iterations)\n",
    "\n",
    "alpha = 0.03;\n",
    "#alpha = 0.0000000003;\n",
    "trainTheta_2, trainCostHistory_2 = gradient_descent(X, y, theta, alpha, iterations)\n",
    "\n",
    "alpha = 0.05;\n",
    "#alpha = 0.0000000005;\n",
    "trainTheta_3, trainCostHistory_3 = gradient_descent(X, y, theta, alpha, iterations)\n",
    "\n",
    "alpha = 0.08;\n",
    "#alpha = 0.0000000008;\n",
    "trainTheta_4, trainCostHistory_4 = gradient_descent(X, y, theta, alpha, iterations)\n",
    "\n",
    "alpha = 0.10;\n",
    "#alpha = 0.0000000010;\n",
    "trainTheta_5, trainCostHistory_5 = gradient_descent(X, y, theta, alpha, iterations)\n",
    "\n",
    "plt.plot(range(1, iterations +1), trainCostHistory_1, color ='purple', label = 'alpha = 0.01e-8')\n",
    "plt.plot(range(1, iterations +1), trainCostHistory_2, color ='red', label = 'alpha = 0.03e-8')\n",
    "plt.plot(range(1, iterations +1), trainCostHistory_3, color ='green', label = 'alpha = 0.05e-8')\n",
    "plt.plot(range(1, iterations +1), trainCostHistory_4, color ='yellow', label = 'alpha = 0.08e-8')\n",
    "plt.plot(range(1, iterations +1), trainCostHistory_5, color ='blue', label = 'alpha = 0.10e-8')\n",
    "\n",
    "plt.rcParams[\"figure.figsize\"] = (10,6)\n",
    "plt.grid()\n",
    "plt.xlabel(\"Number of iterations\")\n",
    "plt.ylabel(\"cost (J)\")\n",
    "plt.title(\"Effect of Learning Rate On Convergence of Gradient Descent (Train)\")\n",
    "plt.legend()"
   ]
  },
  {
   "cell_type": "markdown",
   "id": "01b2f18a",
   "metadata": {},
   "source": [
    "#### test linear model"
   ]
  },
  {
   "cell_type": "code",
   "execution_count": 16,
   "id": "6aa06031",
   "metadata": {},
   "outputs": [],
   "source": [
    "xTest = datasetOneA_test.values[:, 1:6]  # get input values from first column\n",
    "yTest = datasetOneA_test.values[:, 0]  # get output values from second column\n",
    "m = len(yTest) # Number of training examples\n",
    "temp_m = len(xTest)\n",
    "assert (m == temp_m)"
   ]
  },
  {
   "cell_type": "code",
   "execution_count": 17,
   "id": "e9e72f2a",
   "metadata": {},
   "outputs": [
    {
     "data": {
      "text/plain": [
       "Text(0.5, 1.0, 'SCATTER PLOT OF TEST DATA')"
      ]
     },
     "execution_count": 17,
     "metadata": {},
     "output_type": "execute_result"
    },
    {
     "data": {
      "image/png": "[encoded data removed]",
      "text/plain": [
       "<Figure size 720x432 with 1 Axes>"
      ]
     },
     "metadata": {
      "needs_background": "light"
     },
     "output_type": "display_data"
    }
   ],
   "source": [
    "plt.scatter(datasetOneA_test.values[:, 1],yTest, color='red',marker= '+')\n",
    "plt.scatter(datasetOneA_test.values[:, 2],yTest, color='yellow',marker= '+')\n",
    "plt.scatter(datasetOneA_test.values[:, 3],yTest, color='blue',marker= '+')\n",
    "plt.scatter(datasetOneA_test.values[:, 4],yTest, color='green',marker= '+')\n",
    "plt.scatter(datasetOneA_test.values[:, 5],yTest, color='indigo',marker= '+')\n",
    "plt.grid()\n",
    "plt.rcParams[\"figure.figsize\"] = (12,8)\n",
    "plt.xlabel('Explanatory Variables')\n",
    "plt.ylabel('Dependent Variables')\n",
    "plt.title('SCATTER PLOT OF TEST DATA')"
   ]
  },
  {
   "cell_type": "code",
   "execution_count": 18,
   "id": "d8ae2837",
   "metadata": {},
   "outputs": [],
   "source": [
    "# Lets use hstack() function from numpy to add column of ones to X feature \n",
    "# This will be our final X matrix (feature matrix)\n",
    "X_Test = np.hstack((np.ones((m,1)), xTest))\n",
    "\n",
    "#Initialise theta to theta from train linear model as recommended by the hw question\n",
    "evalTheta = trainTheta\n",
    "alpha = 0.04;"
   ]
  },
  {
   "cell_type": "code",
   "execution_count": 19,
   "id": "dde8ba8c",
   "metadata": {},
   "outputs": [
    {
     "name": "stdout",
     "output_type": "stream",
     "text": [
      "Value of theta from test model = [nan nan nan nan nan nan]\n",
      "First 5 values from test cost_history = [nan nan nan nan nan]\n",
      "Last 5 values from test cost_history = [nan nan nan nan nan]\n"
     ]
    }
   ],
   "source": [
    "testTheta, testCostHistory = gradient_descent(X_Test, yTest, evalTheta, alpha, iterations)\n",
    "print('Value of theta from test model =', testTheta)\n",
    "print('First 5 values from test cost_history =', testCostHistory[:5])\n",
    "print('Last 5 values from test cost_history =', testCostHistory[-5 :])"
   ]
  },
  {
   "cell_type": "code",
   "execution_count": 20,
   "id": "b760ce03",
   "metadata": {},
   "outputs": [
    {
     "data": {
      "text/plain": [
       "<matplotlib.legend.Legend at 0x7f2c6234deb0>"
      ]
     },
     "execution_count": 20,
     "metadata": {},
     "output_type": "execute_result"
    },
    {
     "data": {
      "image/png": "[encoded data removed]",
      "text/plain": [
       "<Figure size 864x576 with 1 Axes>"
      ]
     },
     "metadata": {
      "needs_background": "light"
     },
     "output_type": "display_data"
    }
   ],
   "source": [
    "plt.plot(range(1, iterations +1), trainCostHistory, color ='blue', label = 'Train')\n",
    "plt.plot(range(1, iterations +1), testCostHistory, color ='green', label = 'Test')\n",
    "plt.rcParams[\"figure.figsize\"] = (10,6)\n",
    "plt.grid()\n",
    "plt.xlabel(\"Number of iterations\")\n",
    "plt.ylabel(\"cost (J)\")\n",
    "plt.title(\"Convergence of gradient descent (Test vs Train)\")\n",
    "plt.legend()"
   ]
  }
 ],
 "metadata": {
  "kernelspec": {
   "display_name": "Python 3 (ipykernel)",
   "language": "python",
   "name": "python3"
  },
  "language_info": {
   "codemirror_mode": {
    "name": "ipython",
    "version": 3
   },
   "file_extension": ".py",
   "mimetype": "text/x-python",
   "name": "python",
   "nbconvert_exporter": "python",
   "pygments_lexer": "ipython3",
   "version": "3.8.10"
  }
 },
 "nbformat": 4,
 "nbformat_minor": 5
}
