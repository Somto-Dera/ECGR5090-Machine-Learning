{
 "cells": [
  {
   "cell_type": "markdown",
   "id": "a854f7a8",
   "metadata": {},
   "source": [
    "**NAME: Somto Anyaegbu\n",
    "<br>\n",
    "ID: 801215537\n",
    "<br>\n",
    "Github: https://github.com/Somto-Dera/ECGR5090-Machine-Learning.git**"
   ]
  },
  {
   "cell_type": "markdown",
   "id": "2a01072c",
   "metadata": {},
   "source": [
    "## HW1\n",
    "\n",
    "In this homework, we will use US Housing dataset. You will develop linear regression with gradient decent algorithm to estimate the price of the house. In this homework, we will use 70% and 30% split between training and evaluation (test) sets across all problems. (Note: You cannot use the built-in function from ML libraries for gradient descent, you must implement it yourself. However, you can use built-in function for normalization/standardization)."
   ]
  },
  {
   "cell_type": "markdown",
   "id": "9f7dc835",
   "metadata": {},
   "source": [
    "**STEPS**\n",
    "<br>\n",
    "* Function Definition\n",
    "    * Define cost function\n",
    "    * Define gradient function\n",
    "    * Define standardization function\n",
    "    * Define normalization function\n",
    "\n",
    "* Import Needed libraries\n",
    "\n",
    "* Data Preparation\n",
    "    * Load and understand data\n",
    "    * Perform minor EDA\n",
    "\n",
    "* Problem 1.A: Linear Regression Model\n",
    "    * Split the dataset into X and y\n",
    "    * Split the dataset into training and test data set 70-30\n",
    "    * Build the linear regression model\n",
    "    * Evaluate the model\n",
    "    * Plot a convergence of gradient descent graph with cost history\n",
    "    * Plot a graph showing the effect of changing the learning rate in convergence of the gradient descent with cost history\n",
    "    * Test linear regression model test dataset\n",
    "    * Evaluate results\n",
    "\n",
    "* Problem 1.B: Linear Regression Model(One Hot Encoding)\n",
    "    * Use one hot encoding to convert non number data to binary\n",
    "    * Split the dataset into X and y\n",
    "    * Split the dataset into training and test data set 70-30\n",
    "    * Build the linear regression model\n",
    "    * Evaluate the model\n",
    "    * Plot a convergence of gradient descent graph with cost history\n",
    "    * Plot a graph showing the effect of changing the learning rate in convergence of the gradient descent with cost history\n",
    "    * Test linear regression model test dataset\n",
    "    * Evaluate results\n",
    "\n",
    "* Problem 2.A: Linear Regression Model(NormStandard)\n",
    "    * Split the data into X and y\n",
    "    * Split the data into training and test data set\n",
    "    * Scale train and test set\n",
    "    * Fit LDA model\n",
    "    * Build the Gaussian NB model\n",
    "    * Apply model to the test data\n",
    "    * Evaluate the model\n",
    "        * Calculate accuracy, recall, precision and log loss error\n",
    "        * Confusion Metrics\n",
    "        \n",
    "        \n",
    "* Problem 2.B: Linear Regression Model(NormStandard)\n",
    "    * Split the data into X and y\n",
    "    * Split the data into training and test data set\n",
    "    * Scale train and test set\n",
    "    * Fit LDA model\n",
    "    * Build the Gaussian NB model\n",
    "    * Apply model to the test data\n",
    "    * Evaluate the model\n",
    "        * Calculate accuracy, recall, precision and log loss error\n",
    "        * Confusion Metrics\n",
    "       \n",
    "* Problem 3.A: Linear Regression Model(NormStandard)\n",
    "    * Split the data into X and y\n",
    "    * Split the data into training and test data set\n",
    "    * Scale train and test set\n",
    "    * Fit LDA model\n",
    "    * Build the Gaussian NB model\n",
    "    * Apply model to the test data\n",
    "    * Evaluate the model\n",
    "        * Calculate accuracy, recall, precision and log loss error\n",
    "        * Confusion Metrics\n",
    "        \n",
    "* Problem 3.B: Linear Regression Model(NormStandard)\n",
    "    * Split the data into X and y\n",
    "    * Split the data into training and test data set\n",
    "    * Scale train and test set\n",
    "    * Fit LDA model\n",
    "    * Build the Gaussian NB model\n",
    "    * Apply model to the test data\n",
    "    * Evaluate the model\n",
    "        * Calculate accuracy, recall, precision and log loss error\n",
    "        * Confusion Metrics"
   ]
  },
  {
   "cell_type": "markdown",
   "id": "607cbea2",
   "metadata": {},
   "source": []
  },
  {
   "cell_type": "markdown",
   "id": "6aeb2867",
   "metadata": {},
   "source": [
    "<br> \n",
    "\n",
    "**Import the necessary libraries**"
   ]
  },
  {
   "cell_type": "code",
   "execution_count": 1,
   "id": "a7ca6843",
   "metadata": {},
   "outputs": [],
   "source": [
    "import numpy as np    # used for array and matrics manipulation\n",
    "import pandas as pd    # used for data manipulation and analysis\n",
    "import matplotlib.pyplot as plt    # is used for data visualisation\n",
    "from sklearn.model_selection import train_test_split    # is used to split data sets\n",
    "from sklearn.compose import ColumnTransformer    # apply transformers to columns of an array or pandas DataFrame\n",
    "from sklearn.preprocessing import OneHotEncoder    # used for onehot encoding"
   ]
  },
  {
   "cell_type": "markdown",
   "id": "469d628e",
   "metadata": {},
   "source": [
    "<br>**Create a cost function**\n",
    "<br>\n",
    "\n",
    "* The hypotheis function is h(θ,x)= θ_0 + θ_1 * x_1\n",
    "* Matrix operations are much faster than loops operations, so matrice of x, θ and (x * θ) were used"
   ]
  },
  {
   "cell_type": "code",
   "execution_count": 2,
   "id": "b085334d",
   "metadata": {},
   "outputs": [],
   "source": [
    "def compute_cost(X, y, theta):\n",
    "    \n",
    "    predictions = X.dot(theta)\n",
    "    errors = np.subtract(predictions, y)\n",
    "    sqrErrors = np.square(errors)\n",
    "    J = 1 / (2 * m) * errors.T.dot(errors)\n",
    "    \n",
    "    return J"
   ]
  },
  {
   "cell_type": "markdown",
   "id": "76709f0d",
   "metadata": {},
   "source": [
    "#### Compute cost function for linear regression\n",
    "\n",
    "<br> **Input Parameters** \n",
    "<br> *'X' :* 2D array where each row represent the training example and each column represent the feature ndarray. Dimension(m x n)\n",
    "<br> *'m' :* number of training examples\n",
    "<br> *'n' :* number of features (including X_0 column of ones)\n",
    "<br> *'y' :* 1D array of labels/target value for each traing example. dimension(1 x m)\n",
    "<br> *'theta' :* 1D array of fitting parameters or weights. Dimension (1 x n)\n",
    "<br><br>**Output Parameters**\n",
    "<br> *'J' :* Scalar value.\n",
    "<br><br>**Library Functions Used**\n",
    "<br> *numpy.dot()* returns the product of two arrays.\n",
    "<br> *numpy.subtract()* performs vector entree subtraction\n",
    "<br> *numpy.square()* performs the vector entree square"
   ]
  },
  {
   "cell_type": "code",
   "execution_count": 3,
   "id": "e6bb6a8f",
   "metadata": {},
   "outputs": [],
   "source": [
    "def gradient_descent(X, y, theta, alpha, iterations):\n",
    "    cost_history = np.zeros(iterations)\n",
    "    \n",
    "    for i in range(iterations):\n",
    "        predictions = X.dot(theta)\n",
    "        errors = np.subtract(predictions, y)\n",
    "        sum_delta = (alpha / m) * X.transpose().dot(errors);\n",
    "        theta = theta - sum_delta;\n",
    "        \n",
    "        cost_history[i] = compute_cost(X, y, theta)\n",
    "        \n",
    "    return theta, cost_history"
   ]
  },
  {
   "cell_type": "markdown",
   "id": "ec88609a",
   "metadata": {},
   "source": [
    "**Normalizes the features(input variables) in X**\n",
    "<br>**Parameters**\n",
    "* X : n dimensional array (matrix), shape (n_samples, n_features). Features(input varibale) to be normalized.\n",
    "\n",
    "**Returns**\n",
    "* X_norm : n dimensional array (matrix), shape (n_samples,n_features). A normalized version of X."
   ]
  },
  {
   "cell_type": "code",
   "execution_count": 4,
   "id": "4c7bd18d",
   "metadata": {},
   "outputs": [],
   "source": [
    "def feature_normalize(X):\n",
    "    \n",
    "    X_norm = (X - np.min(X))/(np.max(X) - np.min(X))\n",
    "    \n",
    "    return X_norm"
   ]
  },
  {
   "cell_type": "markdown",
   "id": "4e5d5655",
   "metadata": {},
   "source": [
    "**Standardizes the features(input variables) in X.**\n",
    "<br>**Parameters**\n",
    "* X : n dimensional array (matrix), shape (n_samples, n_features). Features(input varibale) to be standardized.\n",
    "\n",
    "**Returns**\n",
    "* X_standard : n dimensional array (matrix), shape (n_samples,n_features). A normalized version of X.\n",
    "* mu : n dimensional array (matrix), shape (n_features,). The mean value.\n",
    "* sigma : n dimensional array (matrix), shape (n_features,). The standard deviation."
   ]
  },
  {
   "cell_type": "code",
   "execution_count": 5,
   "id": "d5f301f6",
   "metadata": {},
   "outputs": [],
   "source": [
    "def feature_standardize(X):\n",
    "    \n",
    "    #Note here we need mean of indivdual column here, hence axis = 0\n",
    "    mu = np.mean(X, axis = 0)\n",
    "    # Notice the parameter ddof (Delta Degrees of Freedom)  value is 1\n",
    "    sigma = np.std(X, axis= 0, ddof = 1)  # Standard deviation (can also use range)\n",
    "    X_standard = (X - mu)/sigma\n",
    "    return X_standard, mu, sigma"
   ]
  },
  {
   "cell_type": "code",
   "execution_count": null,
   "id": "602489f2",
   "metadata": {},
   "outputs": [],
   "source": []
  },
  {
   "cell_type": "code",
   "execution_count": null,
   "id": "33c8cb37",
   "metadata": {},
   "outputs": [],
   "source": []
  },
  {
   "cell_type": "code",
   "execution_count": null,
   "id": "0fb7e69c",
   "metadata": {},
   "outputs": [],
   "source": []
  },
  {
   "cell_type": "code",
   "execution_count": null,
   "id": "3fa645a6",
   "metadata": {},
   "outputs": [],
   "source": []
  },
  {
   "cell_type": "markdown",
   "id": "d93d0109",
   "metadata": {},
   "source": [
    "#### load dataset housing.csv into variable 'dataset'\n",
    "\n",
    "* This dataset was provided by this HW. It contains 13 columns, the 11 columns are explanatory variables x1, ..., x10; and the final/fourth column is the dependent variable y. It has 545 data per column."
   ]
  },
  {
   "cell_type": "markdown",
   "id": "f2747d02",
   "metadata": {},
   "source": [
    "**Load dataset**"
   ]
  },
  {
   "cell_type": "code",
   "execution_count": 6,
   "id": "8d5611f9",
   "metadata": {
    "scrolled": true
   },
   "outputs": [
    {
     "data": {
      "text/html": [
       "<div>\n",
       "<style scoped>\n",
       "    .dataframe tbody tr th:only-of-type {\n",
       "        vertical-align: middle;\n",
       "    }\n",
       "\n",
       "    .dataframe tbody tr th {\n",
       "        vertical-align: top;\n",
       "    }\n",
       "\n",
       "    .dataframe thead th {\n",
       "        text-align: right;\n",
       "    }\n",
       "</style>\n",
       "<table border=\"1\" class=\"dataframe\">\n",
       "  <thead>\n",
       "    <tr style=\"text-align: right;\">\n",
       "      <th></th>\n",
       "      <th>price</th>\n",
       "      <th>area</th>\n",
       "      <th>bedrooms</th>\n",
       "      <th>bathrooms</th>\n",
       "      <th>stories</th>\n",
       "      <th>mainroad</th>\n",
       "      <th>guestroom</th>\n",
       "      <th>basement</th>\n",
       "      <th>hotwaterheating</th>\n",
       "      <th>airconditioning</th>\n",
       "      <th>parking</th>\n",
       "      <th>prefarea</th>\n",
       "      <th>furnishingstatus</th>\n",
       "    </tr>\n",
       "  </thead>\n",
       "  <tbody>\n",
       "    <tr>\n",
       "      <th>0</th>\n",
       "      <td>13300000</td>\n",
       "      <td>7420</td>\n",
       "      <td>4</td>\n",
       "      <td>2</td>\n",
       "      <td>3</td>\n",
       "      <td>yes</td>\n",
       "      <td>no</td>\n",
       "      <td>no</td>\n",
       "      <td>no</td>\n",
       "      <td>yes</td>\n",
       "      <td>2</td>\n",
       "      <td>yes</td>\n",
       "      <td>furnished</td>\n",
       "    </tr>\n",
       "    <tr>\n",
       "      <th>1</th>\n",
       "      <td>12250000</td>\n",
       "      <td>8960</td>\n",
       "      <td>4</td>\n",
       "      <td>4</td>\n",
       "      <td>4</td>\n",
       "      <td>yes</td>\n",
       "      <td>no</td>\n",
       "      <td>no</td>\n",
       "      <td>no</td>\n",
       "      <td>yes</td>\n",
       "      <td>3</td>\n",
       "      <td>no</td>\n",
       "      <td>furnished</td>\n",
       "    </tr>\n",
       "    <tr>\n",
       "      <th>2</th>\n",
       "      <td>12250000</td>\n",
       "      <td>9960</td>\n",
       "      <td>3</td>\n",
       "      <td>2</td>\n",
       "      <td>2</td>\n",
       "      <td>yes</td>\n",
       "      <td>no</td>\n",
       "      <td>yes</td>\n",
       "      <td>no</td>\n",
       "      <td>no</td>\n",
       "      <td>2</td>\n",
       "      <td>yes</td>\n",
       "      <td>semi-furnished</td>\n",
       "    </tr>\n",
       "    <tr>\n",
       "      <th>3</th>\n",
       "      <td>12215000</td>\n",
       "      <td>7500</td>\n",
       "      <td>4</td>\n",
       "      <td>2</td>\n",
       "      <td>2</td>\n",
       "      <td>yes</td>\n",
       "      <td>no</td>\n",
       "      <td>yes</td>\n",
       "      <td>no</td>\n",
       "      <td>yes</td>\n",
       "      <td>3</td>\n",
       "      <td>yes</td>\n",
       "      <td>furnished</td>\n",
       "    </tr>\n",
       "    <tr>\n",
       "      <th>4</th>\n",
       "      <td>11410000</td>\n",
       "      <td>7420</td>\n",
       "      <td>4</td>\n",
       "      <td>1</td>\n",
       "      <td>2</td>\n",
       "      <td>yes</td>\n",
       "      <td>yes</td>\n",
       "      <td>yes</td>\n",
       "      <td>no</td>\n",
       "      <td>yes</td>\n",
       "      <td>2</td>\n",
       "      <td>no</td>\n",
       "      <td>furnished</td>\n",
       "    </tr>\n",
       "  </tbody>\n",
       "</table>\n",
       "</div>"
      ],
      "text/plain": [
       "      price  area  bedrooms  bathrooms  stories mainroad guestroom basement  \\\n",
       "0  13300000  7420         4          2        3      yes        no       no   \n",
       "1  12250000  8960         4          4        4      yes        no       no   \n",
       "2  12250000  9960         3          2        2      yes        no      yes   \n",
       "3  12215000  7500         4          2        2      yes        no      yes   \n",
       "4  11410000  7420         4          1        2      yes       yes      yes   \n",
       "\n",
       "  hotwaterheating airconditioning  parking prefarea furnishingstatus  \n",
       "0              no             yes        2      yes        furnished  \n",
       "1              no             yes        3       no        furnished  \n",
       "2              no              no        2      yes   semi-furnished  \n",
       "3              no             yes        3      yes        furnished  \n",
       "4              no             yes        2       no        furnished  "
      ]
     },
     "execution_count": 6,
     "metadata": {},
     "output_type": "execute_result"
    }
   ],
   "source": [
    "housing_dataset = pd.read_csv('Housing.csv')    # load datatset from directory\n",
    "housing_dataset.head()    # display first n rows from the dataset default value of n is 5"
   ]
  },
  {
   "cell_type": "markdown",
   "id": "ac494ccf",
   "metadata": {},
   "source": [
    "<br>\n",
    "\n",
    "**Minor data processing and analysis**"
   ]
  },
  {
   "cell_type": "code",
   "execution_count": 7,
   "id": "9d6f1dee",
   "metadata": {},
   "outputs": [
    {
     "data": {
      "text/html": [
       "<div>\n",
       "<style scoped>\n",
       "    .dataframe tbody tr th:only-of-type {\n",
       "        vertical-align: middle;\n",
       "    }\n",
       "\n",
       "    .dataframe tbody tr th {\n",
       "        vertical-align: top;\n",
       "    }\n",
       "\n",
       "    .dataframe thead th {\n",
       "        text-align: right;\n",
       "    }\n",
       "</style>\n",
       "<table border=\"1\" class=\"dataframe\">\n",
       "  <thead>\n",
       "    <tr style=\"text-align: right;\">\n",
       "      <th></th>\n",
       "      <th>price</th>\n",
       "      <th>area</th>\n",
       "      <th>bedrooms</th>\n",
       "      <th>bathrooms</th>\n",
       "      <th>stories</th>\n",
       "      <th>mainroad</th>\n",
       "      <th>guestroom</th>\n",
       "      <th>basement</th>\n",
       "      <th>hotwaterheating</th>\n",
       "      <th>airconditioning</th>\n",
       "      <th>parking</th>\n",
       "      <th>prefarea</th>\n",
       "      <th>furnishingstatus</th>\n",
       "    </tr>\n",
       "  </thead>\n",
       "  <tbody>\n",
       "    <tr>\n",
       "      <th>0</th>\n",
       "      <td>13300000</td>\n",
       "      <td>7420</td>\n",
       "      <td>4</td>\n",
       "      <td>2</td>\n",
       "      <td>3</td>\n",
       "      <td>yes</td>\n",
       "      <td>no</td>\n",
       "      <td>no</td>\n",
       "      <td>no</td>\n",
       "      <td>yes</td>\n",
       "      <td>2</td>\n",
       "      <td>yes</td>\n",
       "      <td>furnished</td>\n",
       "    </tr>\n",
       "    <tr>\n",
       "      <th>1</th>\n",
       "      <td>12250000</td>\n",
       "      <td>8960</td>\n",
       "      <td>4</td>\n",
       "      <td>4</td>\n",
       "      <td>4</td>\n",
       "      <td>yes</td>\n",
       "      <td>no</td>\n",
       "      <td>no</td>\n",
       "      <td>no</td>\n",
       "      <td>yes</td>\n",
       "      <td>3</td>\n",
       "      <td>no</td>\n",
       "      <td>furnished</td>\n",
       "    </tr>\n",
       "    <tr>\n",
       "      <th>2</th>\n",
       "      <td>12250000</td>\n",
       "      <td>9960</td>\n",
       "      <td>3</td>\n",
       "      <td>2</td>\n",
       "      <td>2</td>\n",
       "      <td>yes</td>\n",
       "      <td>no</td>\n",
       "      <td>yes</td>\n",
       "      <td>no</td>\n",
       "      <td>no</td>\n",
       "      <td>2</td>\n",
       "      <td>yes</td>\n",
       "      <td>semi-furnished</td>\n",
       "    </tr>\n",
       "    <tr>\n",
       "      <th>3</th>\n",
       "      <td>12215000</td>\n",
       "      <td>7500</td>\n",
       "      <td>4</td>\n",
       "      <td>2</td>\n",
       "      <td>2</td>\n",
       "      <td>yes</td>\n",
       "      <td>no</td>\n",
       "      <td>yes</td>\n",
       "      <td>no</td>\n",
       "      <td>yes</td>\n",
       "      <td>3</td>\n",
       "      <td>yes</td>\n",
       "      <td>furnished</td>\n",
       "    </tr>\n",
       "    <tr>\n",
       "      <th>4</th>\n",
       "      <td>11410000</td>\n",
       "      <td>7420</td>\n",
       "      <td>4</td>\n",
       "      <td>1</td>\n",
       "      <td>2</td>\n",
       "      <td>yes</td>\n",
       "      <td>yes</td>\n",
       "      <td>yes</td>\n",
       "      <td>no</td>\n",
       "      <td>yes</td>\n",
       "      <td>2</td>\n",
       "      <td>no</td>\n",
       "      <td>furnished</td>\n",
       "    </tr>\n",
       "  </tbody>\n",
       "</table>\n",
       "</div>"
      ],
      "text/plain": [
       "      price  area  bedrooms  bathrooms  stories mainroad guestroom basement  \\\n",
       "0  13300000  7420         4          2        3      yes        no       no   \n",
       "1  12250000  8960         4          4        4      yes        no       no   \n",
       "2  12250000  9960         3          2        2      yes        no      yes   \n",
       "3  12215000  7500         4          2        2      yes        no      yes   \n",
       "4  11410000  7420         4          1        2      yes       yes      yes   \n",
       "\n",
       "  hotwaterheating airconditioning  parking prefarea furnishingstatus  \n",
       "0              no             yes        2      yes        furnished  \n",
       "1              no             yes        3       no        furnished  \n",
       "2              no              no        2      yes   semi-furnished  \n",
       "3              no             yes        3      yes        furnished  \n",
       "4              no             yes        2       no        furnished  "
      ]
     },
     "execution_count": 7,
     "metadata": {},
     "output_type": "execute_result"
    }
   ],
   "source": [
    "dataset = housing_dataset    # pass dataset to new variable \"dataset\"\n",
    "# from here on we will be working with \"dataset\"\n",
    "dataset.head()    # display 1-5 rows of dataset"
   ]
  },
  {
   "cell_type": "code",
   "execution_count": 8,
   "id": "0094fbcc",
   "metadata": {
    "scrolled": true
   },
   "outputs": [
    {
     "data": {
      "text/plain": [
       "(545, 13)"
      ]
     },
     "execution_count": 8,
     "metadata": {},
     "output_type": "execute_result"
    }
   ],
   "source": [
    "dataset.shape    # display dimensions of the dataframe"
   ]
  },
  {
   "cell_type": "code",
   "execution_count": 9,
   "id": "bd7e6367",
   "metadata": {},
   "outputs": [
    {
     "data": {
      "text/html": [
       "<div>\n",
       "<style scoped>\n",
       "    .dataframe tbody tr th:only-of-type {\n",
       "        vertical-align: middle;\n",
       "    }\n",
       "\n",
       "    .dataframe tbody tr th {\n",
       "        vertical-align: top;\n",
       "    }\n",
       "\n",
       "    .dataframe thead th {\n",
       "        text-align: right;\n",
       "    }\n",
       "</style>\n",
       "<table border=\"1\" class=\"dataframe\">\n",
       "  <thead>\n",
       "    <tr style=\"text-align: right;\">\n",
       "      <th></th>\n",
       "      <th>price</th>\n",
       "      <th>area</th>\n",
       "      <th>bedrooms</th>\n",
       "      <th>bathrooms</th>\n",
       "      <th>stories</th>\n",
       "      <th>parking</th>\n",
       "    </tr>\n",
       "  </thead>\n",
       "  <tbody>\n",
       "    <tr>\n",
       "      <th>count</th>\n",
       "      <td>5.450000e+02</td>\n",
       "      <td>545.000000</td>\n",
       "      <td>545.000000</td>\n",
       "      <td>545.000000</td>\n",
       "      <td>545.000000</td>\n",
       "      <td>545.000000</td>\n",
       "    </tr>\n",
       "    <tr>\n",
       "      <th>mean</th>\n",
       "      <td>4.766729e+06</td>\n",
       "      <td>5150.541284</td>\n",
       "      <td>2.965138</td>\n",
       "      <td>1.286239</td>\n",
       "      <td>1.805505</td>\n",
       "      <td>0.693578</td>\n",
       "    </tr>\n",
       "    <tr>\n",
       "      <th>std</th>\n",
       "      <td>1.870440e+06</td>\n",
       "      <td>2170.141023</td>\n",
       "      <td>0.738064</td>\n",
       "      <td>0.502470</td>\n",
       "      <td>0.867492</td>\n",
       "      <td>0.861586</td>\n",
       "    </tr>\n",
       "    <tr>\n",
       "      <th>min</th>\n",
       "      <td>1.750000e+06</td>\n",
       "      <td>1650.000000</td>\n",
       "      <td>1.000000</td>\n",
       "      <td>1.000000</td>\n",
       "      <td>1.000000</td>\n",
       "      <td>0.000000</td>\n",
       "    </tr>\n",
       "    <tr>\n",
       "      <th>25%</th>\n",
       "      <td>3.430000e+06</td>\n",
       "      <td>3600.000000</td>\n",
       "      <td>2.000000</td>\n",
       "      <td>1.000000</td>\n",
       "      <td>1.000000</td>\n",
       "      <td>0.000000</td>\n",
       "    </tr>\n",
       "    <tr>\n",
       "      <th>50%</th>\n",
       "      <td>4.340000e+06</td>\n",
       "      <td>4600.000000</td>\n",
       "      <td>3.000000</td>\n",
       "      <td>1.000000</td>\n",
       "      <td>2.000000</td>\n",
       "      <td>0.000000</td>\n",
       "    </tr>\n",
       "    <tr>\n",
       "      <th>75%</th>\n",
       "      <td>5.740000e+06</td>\n",
       "      <td>6360.000000</td>\n",
       "      <td>3.000000</td>\n",
       "      <td>2.000000</td>\n",
       "      <td>2.000000</td>\n",
       "      <td>1.000000</td>\n",
       "    </tr>\n",
       "    <tr>\n",
       "      <th>max</th>\n",
       "      <td>1.330000e+07</td>\n",
       "      <td>16200.000000</td>\n",
       "      <td>6.000000</td>\n",
       "      <td>4.000000</td>\n",
       "      <td>4.000000</td>\n",
       "      <td>3.000000</td>\n",
       "    </tr>\n",
       "  </tbody>\n",
       "</table>\n",
       "</div>"
      ],
      "text/plain": [
       "              price          area    bedrooms   bathrooms     stories  \\\n",
       "count  5.450000e+02    545.000000  545.000000  545.000000  545.000000   \n",
       "mean   4.766729e+06   5150.541284    2.965138    1.286239    1.805505   \n",
       "std    1.870440e+06   2170.141023    0.738064    0.502470    0.867492   \n",
       "min    1.750000e+06   1650.000000    1.000000    1.000000    1.000000   \n",
       "25%    3.430000e+06   3600.000000    2.000000    1.000000    1.000000   \n",
       "50%    4.340000e+06   4600.000000    3.000000    1.000000    2.000000   \n",
       "75%    5.740000e+06   6360.000000    3.000000    2.000000    2.000000   \n",
       "max    1.330000e+07  16200.000000    6.000000    4.000000    4.000000   \n",
       "\n",
       "          parking  \n",
       "count  545.000000  \n",
       "mean     0.693578  \n",
       "std      0.861586  \n",
       "min      0.000000  \n",
       "25%      0.000000  \n",
       "50%      0.000000  \n",
       "75%      1.000000  \n",
       "max      3.000000  "
      ]
     },
     "execution_count": 9,
     "metadata": {},
     "output_type": "execute_result"
    }
   ],
   "source": [
    "dataset.describe()    # generate descriptive analysis of dataset"
   ]
  },
  {
   "cell_type": "code",
   "execution_count": 10,
   "id": "0707e666",
   "metadata": {},
   "outputs": [
    {
     "name": "stdout",
     "output_type": "stream",
     "text": [
      "<class 'pandas.core.frame.DataFrame'>\n",
      "RangeIndex: 545 entries, 0 to 544\n",
      "Data columns (total 13 columns):\n",
      " #   Column            Non-Null Count  Dtype \n",
      "---  ------            --------------  ----- \n",
      " 0   price             545 non-null    int64 \n",
      " 1   area              545 non-null    int64 \n",
      " 2   bedrooms          545 non-null    int64 \n",
      " 3   bathrooms         545 non-null    int64 \n",
      " 4   stories           545 non-null    int64 \n",
      " 5   mainroad          545 non-null    object\n",
      " 6   guestroom         545 non-null    object\n",
      " 7   basement          545 non-null    object\n",
      " 8   hotwaterheating   545 non-null    object\n",
      " 9   airconditioning   545 non-null    object\n",
      " 10  parking           545 non-null    int64 \n",
      " 11  prefarea          545 non-null    object\n",
      " 12  furnishingstatus  545 non-null    object\n",
      "dtypes: int64(6), object(7)\n",
      "memory usage: 55.5+ KB\n"
     ]
    }
   ],
   "source": [
    "dataset.info()    # prints a concise summary of a dataframe"
   ]
  },
  {
   "cell_type": "markdown",
   "id": "99725af6",
   "metadata": {},
   "source": [
    "---"
   ]
  },
  {
   "cell_type": "markdown",
   "id": "673e6cb3",
   "metadata": {},
   "source": [
    "---"
   ]
  },
  {
   "cell_type": "markdown",
   "id": "90af0033",
   "metadata": {},
   "source": [
    "### Problem 1.A\n",
    "Develop a gradient decent training and evaluation code that predicts housing price based on the following input variables; \n",
    "\n",
    "\"area, bedrooms, bathrooms, stories, parking\".\n",
    "\n",
    "Identify the best parameters for your linear regression model, based on the above input variables. Plot the training and validation losses (in a single graph, but two different lines). For the learning rate, explore different values between 0.1 and 0.01 (your choice). Initialize your parameters (thetas to zero). For the training iteration, choose what you believe fits the best."
   ]
  },
  {
   "cell_type": "code",
   "execution_count": 11,
   "id": "5a7a0ee5",
   "metadata": {
    "scrolled": true
   },
   "outputs": [
    {
     "data": {
      "text/html": [
       "<div>\n",
       "<style scoped>\n",
       "    .dataframe tbody tr th:only-of-type {\n",
       "        vertical-align: middle;\n",
       "    }\n",
       "\n",
       "    .dataframe tbody tr th {\n",
       "        vertical-align: top;\n",
       "    }\n",
       "\n",
       "    .dataframe thead th {\n",
       "        text-align: right;\n",
       "    }\n",
       "</style>\n",
       "<table border=\"1\" class=\"dataframe\">\n",
       "  <thead>\n",
       "    <tr style=\"text-align: right;\">\n",
       "      <th></th>\n",
       "      <th>price</th>\n",
       "      <th>area</th>\n",
       "      <th>bedrooms</th>\n",
       "      <th>bathrooms</th>\n",
       "      <th>stories</th>\n",
       "      <th>parking</th>\n",
       "    </tr>\n",
       "  </thead>\n",
       "  <tbody>\n",
       "    <tr>\n",
       "      <th>0</th>\n",
       "      <td>13300000</td>\n",
       "      <td>7420</td>\n",
       "      <td>4</td>\n",
       "      <td>2</td>\n",
       "      <td>3</td>\n",
       "      <td>2</td>\n",
       "    </tr>\n",
       "    <tr>\n",
       "      <th>1</th>\n",
       "      <td>12250000</td>\n",
       "      <td>8960</td>\n",
       "      <td>4</td>\n",
       "      <td>4</td>\n",
       "      <td>4</td>\n",
       "      <td>3</td>\n",
       "    </tr>\n",
       "    <tr>\n",
       "      <th>2</th>\n",
       "      <td>12250000</td>\n",
       "      <td>9960</td>\n",
       "      <td>3</td>\n",
       "      <td>2</td>\n",
       "      <td>2</td>\n",
       "      <td>2</td>\n",
       "    </tr>\n",
       "    <tr>\n",
       "      <th>3</th>\n",
       "      <td>12215000</td>\n",
       "      <td>7500</td>\n",
       "      <td>4</td>\n",
       "      <td>2</td>\n",
       "      <td>2</td>\n",
       "      <td>3</td>\n",
       "    </tr>\n",
       "    <tr>\n",
       "      <th>4</th>\n",
       "      <td>11410000</td>\n",
       "      <td>7420</td>\n",
       "      <td>4</td>\n",
       "      <td>1</td>\n",
       "      <td>2</td>\n",
       "      <td>2</td>\n",
       "    </tr>\n",
       "  </tbody>\n",
       "</table>\n",
       "</div>"
      ],
      "text/plain": [
       "      price  area  bedrooms  bathrooms  stories  parking\n",
       "0  13300000  7420         4          2        3        2\n",
       "1  12250000  8960         4          4        4        3\n",
       "2  12250000  9960         3          2        2        2\n",
       "3  12215000  7500         4          2        2        3\n",
       "4  11410000  7420         4          1        2        2"
      ]
     },
     "execution_count": 11,
     "metadata": {},
     "output_type": "execute_result"
    }
   ],
   "source": [
    "# Drop unused feature columns\n",
    "dataset = housing_dataset    # pass dataset to new variable \"dataset\"\n",
    "dataset_one_a = dataset.drop(['mainroad', 'guestroom', 'basement', 'hotwaterheating', 'airconditioning', 'prefarea', 'furnishingstatus'], axis='columns')\n",
    "\n",
    "dataset_one_a.head()    # display 1-5 rows of dataset"
   ]
  },
  {
   "cell_type": "markdown",
   "id": "dc20dfb7",
   "metadata": {},
   "source": [
    "#### Split dataset into test(0.3) and train(0.7)"
   ]
  },
  {
   "cell_type": "code",
   "execution_count": 12,
   "id": "d184968c",
   "metadata": {},
   "outputs": [],
   "source": [
    "np.random.seed(0)    # generate pseudo-rand numbers based on a seed value \"0\"\n",
    "\n",
    "# split \"dataset_one\" dataset into train and test sets; 70-30 split\n",
    "df_train, df_test = train_test_split(dataset_one_a, train_size = 0.7, test_size = 0.3, random_state = 1)"
   ]
  },
  {
   "cell_type": "code",
   "execution_count": 13,
   "id": "d6a6a477",
   "metadata": {},
   "outputs": [
    {
     "data": {
      "text/plain": [
       "(381, 6)"
      ]
     },
     "execution_count": 13,
     "metadata": {},
     "output_type": "execute_result"
    }
   ],
   "source": [
    "df_train.shape    # display dimensions of the train set"
   ]
  },
  {
   "cell_type": "code",
   "execution_count": 14,
   "id": "71be37b1",
   "metadata": {},
   "outputs": [
    {
     "data": {
      "text/plain": [
       "(164, 6)"
      ]
     },
     "execution_count": 14,
     "metadata": {},
     "output_type": "execute_result"
    }
   ],
   "source": [
    "df_test.shape    # display dimensions of the test set"
   ]
  },
  {
   "cell_type": "code",
   "execution_count": 15,
   "id": "f0d34b31",
   "metadata": {},
   "outputs": [],
   "source": [
    "x = df_train.values[:, 1:6]    # get input values from first column\n",
    "y = df_train.values[:, 0]    # get output values from second column\n",
    "m = len(y)    # number of training examples, length of target variable rows\n",
    "temp_m = len(x)    # length of feature columns variable rows\n",
    "assert (m == temp_m)    # confirm they have equivalent length"
   ]
  },
  {
   "cell_type": "code",
   "execution_count": 16,
   "id": "7324b1c7",
   "metadata": {},
   "outputs": [
    {
     "data": {
      "text/plain": [
       "Text(0.5, 1.0, 'SCATTER PLOT OF TRAINING DATA')"
      ]
     },
     "execution_count": 16,
     "metadata": {},
     "output_type": "execute_result"
    },
    {
     "data": {
      "image/png": "[encoded data removed]",
      "text/plain": [
       "<Figure size 432x288 with 1 Axes>"
      ]
     },
     "metadata": {
      "needs_background": "light"
     },
     "output_type": "display_data"
    }
   ],
   "source": [
    "# plot dataset columns\n",
    "plt.scatter(df_train.values[:, 1],y, color='red',marker= '+')\n",
    "plt.scatter(df_train.values[:, 2],y, color='yellow',marker= '+')\n",
    "plt.scatter(df_train.values[:, 3],y, color='blue',marker= '+')\n",
    "plt.scatter(df_train.values[:, 4],y, color='green',marker= '+')\n",
    "plt.scatter(df_train.values[:, 5],y, color='indigo',marker= '+')\n",
    "plt.grid()\n",
    "plt.rcParams[\"figure.figsize\"] = (16, 12)\n",
    "plt.xlabel('Explanatory Variables')\n",
    "plt.ylabel('Dependent Variables')\n",
    "plt.title('SCATTER PLOT OF TRAINING DATA') "
   ]
  },
  {
   "cell_type": "markdown",
   "id": "90706f29",
   "metadata": {},
   "source": [
    "**Compute the cost function**\n",
    "\n",
    "* Matrix operations are much faster than loops operations, so matrice of x, θ and (x * θ) were used"
   ]
  },
  {
   "cell_type": "code",
   "execution_count": 17,
   "id": "7953e231",
   "metadata": {},
   "outputs": [
    {
     "name": "stdout",
     "output_type": "stream",
     "text": [
      "[[1.00e+00 4.50e+03 4.00e+00 2.00e+00 1.00e+00 2.00e+00]\n",
      " [1.00e+00 3.54e+03 2.00e+00 1.00e+00 1.00e+00 0.00e+00]\n",
      " [1.00e+00 7.20e+03 3.00e+00 2.00e+00 1.00e+00 3.00e+00]\n",
      " ...\n",
      " [1.00e+00 5.02e+03 3.00e+00 1.00e+00 4.00e+00 0.00e+00]\n",
      " [1.00e+00 5.68e+03 3.00e+00 1.00e+00 2.00e+00 1.00e+00]\n",
      " [1.00e+00 9.00e+03 4.00e+00 2.00e+00 4.00e+00 2.00e+00]]\n"
     ]
    }
   ],
   "source": [
    "# lets use hstack() function from numpy to add column of ones to X feature \n",
    "# this will be our final X matrix (feature matrix)\n",
    "X = np.hstack((np.ones((m,1)), x))\n",
    "print(X)\n",
    "\n",
    "# initialise theta to zero as recommended by the hw question\n",
    "theta = np.zeros(6)\n",
    "\n",
    "# declare and assign values to the gradient descent learning parameters alpha and no of iterations\n",
    "alpha = 0.04\n",
    "iterations =1000"
   ]
  },
  {
   "cell_type": "markdown",
   "id": "51c09b06",
   "metadata": {},
   "source": [
    "**Compute cost**"
   ]
  },
  {
   "cell_type": "code",
   "execution_count": 18,
   "id": "f9bc8e2b",
   "metadata": {},
   "outputs": [
    {
     "name": "stdout",
     "output_type": "stream",
     "text": [
      "Final value of train theta = [nan nan nan nan nan nan]\n",
      "First 5 values from train cost_history = [1.90655572e+25 3.20637250e+37 5.39235464e+49 9.06865582e+61\n",
      " 1.52513185e+74]\n",
      "Last 5 values from train cost_history = [nan nan nan nan nan]\n"
     ]
    },
    {
     "name": "stderr",
     "output_type": "stream",
     "text": [
      "/tmp/ipykernel_11055/937980692.py:5: RuntimeWarning: overflow encountered in square\n",
      "  sqrErrors = np.square(errors)\n"
     ]
    }
   ],
   "source": [
    "train_theta, train_cost_history = gradient_descent(X, y, theta, alpha, iterations)    # call cost function\n",
    "print('Final value of train theta =', train_theta)    # print train theta\n",
    "print('First 5 values from train cost_history =', train_cost_history[:5])    # print 1-5 train cost history\n",
    "print('Last 5 values from train cost_history =', train_cost_history[-5 :])    # print last 5 train cost history"
   ]
  },
  {
   "cell_type": "code",
   "execution_count": 19,
   "id": "8a86c404",
   "metadata": {},
   "outputs": [
    {
     "name": "stdout",
     "output_type": "stream",
     "text": [
      "[nan nan nan nan nan nan]\n"
     ]
    }
   ],
   "source": [
    "print(train_theta)"
   ]
  },
  {
   "cell_type": "code",
   "execution_count": 20,
   "id": "a56095ba",
   "metadata": {},
   "outputs": [
    {
     "name": "stdout",
     "output_type": "stream",
     "text": [
      "[1.90655572e+025 3.20637250e+037 5.39235464e+049 9.06865582e+061\n",
      " 1.52513185e+074 2.56490843e+086 4.31356490e+098 7.25438849e+110\n",
      " 1.22001531e+123 2.05177510e+135 3.45059689e+147 5.80308190e+159\n",
      " 9.75940121e+171 1.64129877e+184 2.76027351e+196 4.64212242e+208\n",
      " 7.80694397e+220 1.31294198e+233 2.20805561e+245 3.71342349e+257\n",
      " 6.24509361e+269 1.05027596e+282 1.76631394e+294             inf\n",
      "             inf             inf             inf             inf\n",
      "             inf             inf             inf             inf\n",
      "             inf             inf             inf             inf\n",
      "             inf             inf             inf             inf\n",
      "             inf             inf             inf             inf\n",
      "             inf             inf             inf             inf\n",
      "             inf             nan             nan             nan\n",
      "             nan             nan             nan             nan\n",
      "             nan             nan             nan             nan\n",
      "             nan             nan             nan             nan\n",
      "             nan             nan             nan             nan\n",
      "             nan             nan             nan             nan\n",
      "             nan             nan             nan             nan\n",
      "             nan             nan             nan             nan\n",
      "             nan             nan             nan             nan\n",
      "             nan             nan             nan             nan\n",
      "             nan             nan             nan             nan\n",
      "             nan             nan             nan             nan\n",
      "             nan             nan             nan             nan\n",
      "             nan             nan             nan             nan\n",
      "             nan             nan             nan             nan\n",
      "             nan             nan             nan             nan\n",
      "             nan             nan             nan             nan\n",
      "             nan             nan             nan             nan\n",
      "             nan             nan             nan             nan\n",
      "             nan             nan             nan             nan\n",
      "             nan             nan             nan             nan\n",
      "             nan             nan             nan             nan\n",
      "             nan             nan             nan             nan\n",
      "             nan             nan             nan             nan\n",
      "             nan             nan             nan             nan\n",
      "             nan             nan             nan             nan\n",
      "             nan             nan             nan             nan\n",
      "             nan             nan             nan             nan\n",
      "             nan             nan             nan             nan\n",
      "             nan             nan             nan             nan\n",
      "             nan             nan             nan             nan\n",
      "             nan             nan             nan             nan\n",
      "             nan             nan             nan             nan\n",
      "             nan             nan             nan             nan\n",
      "             nan             nan             nan             nan\n",
      "             nan             nan             nan             nan\n",
      "             nan             nan             nan             nan\n",
      "             nan             nan             nan             nan\n",
      "             nan             nan             nan             nan\n",
      "             nan             nan             nan             nan\n",
      "             nan             nan             nan             nan\n",
      "             nan             nan             nan             nan\n",
      "             nan             nan             nan             nan\n",
      "             nan             nan             nan             nan\n",
      "             nan             nan             nan             nan\n",
      "             nan             nan             nan             nan\n",
      "             nan             nan             nan             nan\n",
      "             nan             nan             nan             nan\n",
      "             nan             nan             nan             nan\n",
      "             nan             nan             nan             nan\n",
      "             nan             nan             nan             nan\n",
      "             nan             nan             nan             nan\n",
      "             nan             nan             nan             nan\n",
      "             nan             nan             nan             nan\n",
      "             nan             nan             nan             nan\n",
      "             nan             nan             nan             nan\n",
      "             nan             nan             nan             nan\n",
      "             nan             nan             nan             nan\n",
      "             nan             nan             nan             nan\n",
      "             nan             nan             nan             nan\n",
      "             nan             nan             nan             nan\n",
      "             nan             nan             nan             nan\n",
      "             nan             nan             nan             nan\n",
      "             nan             nan             nan             nan\n",
      "             nan             nan             nan             nan\n",
      "             nan             nan             nan             nan\n",
      "             nan             nan             nan             nan\n",
      "             nan             nan             nan             nan\n",
      "             nan             nan             nan             nan\n",
      "             nan             nan             nan             nan\n",
      "             nan             nan             nan             nan\n",
      "             nan             nan             nan             nan\n",
      "             nan             nan             nan             nan\n",
      "             nan             nan             nan             nan\n",
      "             nan             nan             nan             nan\n",
      "             nan             nan             nan             nan\n",
      "             nan             nan             nan             nan\n",
      "             nan             nan             nan             nan\n",
      "             nan             nan             nan             nan\n",
      "             nan             nan             nan             nan\n",
      "             nan             nan             nan             nan\n",
      "             nan             nan             nan             nan\n",
      "             nan             nan             nan             nan\n",
      "             nan             nan             nan             nan\n",
      "             nan             nan             nan             nan\n",
      "             nan             nan             nan             nan\n",
      "             nan             nan             nan             nan\n",
      "             nan             nan             nan             nan\n",
      "             nan             nan             nan             nan\n",
      "             nan             nan             nan             nan\n",
      "             nan             nan             nan             nan\n",
      "             nan             nan             nan             nan\n",
      "             nan             nan             nan             nan\n",
      "             nan             nan             nan             nan\n",
      "             nan             nan             nan             nan\n",
      "             nan             nan             nan             nan\n",
      "             nan             nan             nan             nan\n",
      "             nan             nan             nan             nan\n",
      "             nan             nan             nan             nan\n",
      "             nan             nan             nan             nan\n",
      "             nan             nan             nan             nan\n",
      "             nan             nan             nan             nan\n",
      "             nan             nan             nan             nan\n",
      "             nan             nan             nan             nan\n",
      "             nan             nan             nan             nan\n",
      "             nan             nan             nan             nan\n",
      "             nan             nan             nan             nan\n",
      "             nan             nan             nan             nan\n",
      "             nan             nan             nan             nan\n",
      "             nan             nan             nan             nan\n",
      "             nan             nan             nan             nan\n",
      "             nan             nan             nan             nan\n",
      "             nan             nan             nan             nan\n",
      "             nan             nan             nan             nan\n",
      "             nan             nan             nan             nan\n",
      "             nan             nan             nan             nan\n",
      "             nan             nan             nan             nan\n",
      "             nan             nan             nan             nan\n",
      "             nan             nan             nan             nan\n",
      "             nan             nan             nan             nan\n",
      "             nan             nan             nan             nan\n",
      "             nan             nan             nan             nan\n",
      "             nan             nan             nan             nan\n",
      "             nan             nan             nan             nan\n",
      "             nan             nan             nan             nan\n",
      "             nan             nan             nan             nan\n",
      "             nan             nan             nan             nan\n",
      "             nan             nan             nan             nan\n",
      "             nan             nan             nan             nan\n",
      "             nan             nan             nan             nan\n",
      "             nan             nan             nan             nan\n",
      "             nan             nan             nan             nan\n",
      "             nan             nan             nan             nan\n",
      "             nan             nan             nan             nan\n",
      "             nan             nan             nan             nan\n",
      "             nan             nan             nan             nan\n",
      "             nan             nan             nan             nan\n",
      "             nan             nan             nan             nan\n",
      "             nan             nan             nan             nan\n",
      "             nan             nan             nan             nan\n",
      "             nan             nan             nan             nan\n",
      "             nan             nan             nan             nan\n",
      "             nan             nan             nan             nan\n",
      "             nan             nan             nan             nan\n",
      "             nan             nan             nan             nan\n",
      "             nan             nan             nan             nan\n",
      "             nan             nan             nan             nan\n",
      "             nan             nan             nan             nan\n",
      "             nan             nan             nan             nan\n",
      "             nan             nan             nan             nan\n",
      "             nan             nan             nan             nan\n",
      "             nan             nan             nan             nan\n",
      "             nan             nan             nan             nan\n",
      "             nan             nan             nan             nan\n",
      "             nan             nan             nan             nan\n",
      "             nan             nan             nan             nan\n",
      "             nan             nan             nan             nan\n",
      "             nan             nan             nan             nan\n",
      "             nan             nan             nan             nan\n",
      "             nan             nan             nan             nan\n",
      "             nan             nan             nan             nan\n",
      "             nan             nan             nan             nan\n",
      "             nan             nan             nan             nan\n",
      "             nan             nan             nan             nan\n",
      "             nan             nan             nan             nan\n",
      "             nan             nan             nan             nan\n",
      "             nan             nan             nan             nan\n",
      "             nan             nan             nan             nan\n",
      "             nan             nan             nan             nan\n",
      "             nan             nan             nan             nan\n",
      "             nan             nan             nan             nan\n",
      "             nan             nan             nan             nan\n",
      "             nan             nan             nan             nan\n",
      "             nan             nan             nan             nan\n",
      "             nan             nan             nan             nan\n",
      "             nan             nan             nan             nan\n",
      "             nan             nan             nan             nan\n",
      "             nan             nan             nan             nan\n",
      "             nan             nan             nan             nan\n",
      "             nan             nan             nan             nan\n",
      "             nan             nan             nan             nan\n",
      "             nan             nan             nan             nan\n",
      "             nan             nan             nan             nan\n",
      "             nan             nan             nan             nan\n",
      "             nan             nan             nan             nan\n",
      "             nan             nan             nan             nan\n",
      "             nan             nan             nan             nan\n",
      "             nan             nan             nan             nan\n",
      "             nan             nan             nan             nan\n",
      "             nan             nan             nan             nan\n",
      "             nan             nan             nan             nan\n",
      "             nan             nan             nan             nan\n",
      "             nan             nan             nan             nan\n",
      "             nan             nan             nan             nan\n",
      "             nan             nan             nan             nan\n",
      "             nan             nan             nan             nan\n",
      "             nan             nan             nan             nan\n",
      "             nan             nan             nan             nan\n",
      "             nan             nan             nan             nan\n",
      "             nan             nan             nan             nan\n",
      "             nan             nan             nan             nan\n",
      "             nan             nan             nan             nan\n",
      "             nan             nan             nan             nan\n",
      "             nan             nan             nan             nan\n",
      "             nan             nan             nan             nan\n",
      "             nan             nan             nan             nan\n",
      "             nan             nan             nan             nan\n",
      "             nan             nan             nan             nan\n",
      "             nan             nan             nan             nan\n",
      "             nan             nan             nan             nan\n",
      "             nan             nan             nan             nan\n",
      "             nan             nan             nan             nan\n",
      "             nan             nan             nan             nan\n",
      "             nan             nan             nan             nan\n",
      "             nan             nan             nan             nan\n",
      "             nan             nan             nan             nan\n",
      "             nan             nan             nan             nan\n",
      "             nan             nan             nan             nan\n",
      "             nan             nan             nan             nan\n",
      "             nan             nan             nan             nan\n",
      "             nan             nan             nan             nan\n",
      "             nan             nan             nan             nan\n",
      "             nan             nan             nan             nan\n",
      "             nan             nan             nan             nan\n",
      "             nan             nan             nan             nan\n",
      "             nan             nan             nan             nan\n",
      "             nan             nan             nan             nan\n",
      "             nan             nan             nan             nan\n",
      "             nan             nan             nan             nan\n",
      "             nan             nan             nan             nan\n",
      "             nan             nan             nan             nan\n",
      "             nan             nan             nan             nan\n",
      "             nan             nan             nan             nan\n",
      "             nan             nan             nan             nan\n",
      "             nan             nan             nan             nan\n",
      "             nan             nan             nan             nan\n",
      "             nan             nan             nan             nan\n",
      "             nan             nan             nan             nan]\n"
     ]
    }
   ],
   "source": [
    "print(train_cost_history)"
   ]
  },
  {
   "cell_type": "code",
   "execution_count": 21,
   "id": "cdb875d2",
   "metadata": {
    "scrolled": false
   },
   "outputs": [
    {
     "data": {
      "text/plain": [
       "Text(0.5, 1.0, 'Convergence of gradient descent for train model')"
      ]
     },
     "execution_count": 21,
     "metadata": {},
     "output_type": "execute_result"
    },
    {
     "data": {
      "image/png": "[encoded data removed]",
      "text/plain": [
       "<Figure size 1152x864 with 1 Axes>"
      ]
     },
     "metadata": {
      "needs_background": "light"
     },
     "output_type": "display_data"
    }
   ],
   "source": [
    "# plot gradient descent\n",
    "plt.plot(range(1, iterations +1), train_cost_history, color ='blue')\n",
    "plt.rcParams[\"figure.figsize\"] = (10, 6)\n",
    "plt.grid()\n",
    "plt.xlabel(\"Number of iterations\")\n",
    "plt.ylabel(\"cost (J)\")\n",
    "plt.title(\"Convergence of gradient descent for train model\")"
   ]
  },
  {
   "cell_type": "markdown",
   "id": "5b2e46d7",
   "metadata": {},
   "source": [
    "**Experiment with different values of alpha**"
   ]
  },
  {
   "cell_type": "markdown",
   "id": "32c2597f",
   "metadata": {},
   "source": [
    "idx = 0\n",
    "max_alpha = 11\n",
    "min_alpha = 1\n",
    "step = 2\n",
    "train_theta_exp = []\n",
    "train_cost_history_exp = []\n",
    "alphas_lst = []"
   ]
  },
  {
   "cell_type": "markdown",
   "id": "c3735caa",
   "metadata": {},
   "source": [
    "for alphas in range(min_alpha, max_alpha, step):\n",
    "    alphas = alphas * 0.01\n",
    "    print(alphas)\n",
    "    train_theta_exp[idx], train_cost_history_exp[idx] = gradient_descent(X, y, theta, alphas, iterations)\n",
    "    idx = idx + 1\n",
    "    alphas_lst.append(alphas)\n",
    "    \n",
    "    \n",
    "    \n",
    "\n",
    "    \n",
    "    \n",
    "plt.plot(range(1, iterations +1), train_cost_history_exp[0], color ='red', label = alphas_lst[0])\n",
    "plt.plot(range(1, iterations +1), train_cost_history_exp[1], color ='orange', label = alphas_lst[1])\n",
    "plt.plot(range(1, iterations +1), train_cost_history_exp[2], color ='yellow', label = alphas_lst[2])\n",
    "plt.plot(range(1, iterations +1), train_cost_history_exp[3], color ='green', label = alphas_lst[3])\n",
    "plt.plot(range(1, iterations +1), train_cost_history_exp[4], color ='blue', label = alphas_lst[4])\n",
    "plt.plot(range(1, iterations +1), train_cost_history_exp[5], color ='indigo', label = alphas_lst[5])\n",
    "plt.plot(range(1, iterations +1), train_cost_history_exp[6], color ='violet', label = alphas_lst[6])\n",
    "plt.plot(range(1, iterations +1), train_cost_history_exp[7], color ='darkgreen', label = alphas_lst[7])\n",
    "plt.plot(range(1, iterations +1), train_cost_history_exp[8], color ='darkblue', label = alphas_lst[8])\n",
    "plt.plot(range(1, iterations +1), train_cost_history_exp[9], color ='darkyellow', label = alphas_lst[9])\n",
    "\n",
    "\n",
    "plt.rcParams[\"figure.figsize\"] = (10,6)\n",
    "plt.grid()\n",
    "plt.xlabel(\"Number of iterations\")\n",
    "plt.ylabel(\"cost (J)\")\n",
    "plt.title(\"Effect of Learning Rate On Convergence of Gradient Descent (Train)\")\n",
    "plt.legend()"
   ]
  },
  {
   "cell_type": "code",
   "execution_count": 22,
   "id": "f8d6c4f8",
   "metadata": {},
   "outputs": [
    {
     "name": "stderr",
     "output_type": "stream",
     "text": [
      "/tmp/ipykernel_11055/937980692.py:5: RuntimeWarning: overflow encountered in square\n",
      "  sqrErrors = np.square(errors)\n",
      "/tmp/ipykernel_11055/998736291.py:8: RuntimeWarning: invalid value encountered in subtract\n",
      "  theta = theta - sum_delta;\n"
     ]
    },
    {
     "data": {
      "text/plain": [
       "<matplotlib.legend.Legend at 0x7f15fada7310>"
      ]
     },
     "execution_count": 22,
     "metadata": {},
     "output_type": "execute_result"
    },
    {
     "data": {
      "image/png": "[encoded data removed]",
      "text/plain": [
       "<Figure size 720x432 with 1 Axes>"
      ]
     },
     "metadata": {
      "needs_background": "light"
     },
     "output_type": "display_data"
    }
   ],
   "source": [
    "alphas_lst = [0.01, 0.03, 0.05, 0.08, 0.10]\n",
    "alpha = 0.01;\n",
    "#alpha = 0.0000000001;\n",
    "trainTheta_1, trainCostHistory_1 = gradient_descent(X, y, theta, alpha, iterations)\n",
    "\n",
    "alpha = 0.03;\n",
    "#alpha = 0.0000000003;\n",
    "trainTheta_2, trainCostHistory_2 = gradient_descent(X, y, theta, alpha, iterations)\n",
    "\n",
    "alpha = 0.05;\n",
    "#alpha = 0.0000000005;\n",
    "trainTheta_3, trainCostHistory_3 = gradient_descent(X, y, theta, alpha, iterations)\n",
    "\n",
    "alpha = 0.08;\n",
    "#alpha = 0.0000000008;\n",
    "trainTheta_4, trainCostHistory_4 = gradient_descent(X, y, theta, alpha, iterations)\n",
    "\n",
    "alpha = 0.10;\n",
    "#alpha = 0.0000000010;\n",
    "trainTheta_5, trainCostHistory_5 = gradient_descent(X, y, theta, alpha, iterations)\n",
    "\n",
    "# plot models for different alphas\n",
    "plt.plot(range(1, iterations +1), trainCostHistory_1, color ='purple', label = 'alpha = 0.01e-8')\n",
    "plt.plot(range(1, iterations +1), trainCostHistory_2, color ='red', label = 'alpha = 0.03e-8')\n",
    "plt.plot(range(1, iterations +1), trainCostHistory_3, color ='green', label = 'alpha = 0.05e-8')\n",
    "plt.plot(range(1, iterations +1), trainCostHistory_4, color ='yellow', label = 'alpha = 0.08e-8')\n",
    "plt.plot(range(1, iterations +1), trainCostHistory_5, color ='blue', label = 'alpha = 0.10e-8')\n",
    "\n",
    "plt.rcParams[\"figure.figsize\"] = (10, 6)\n",
    "plt.grid()\n",
    "plt.xlabel(\"Number of iterations\")\n",
    "plt.ylabel(\"cost (J)\")\n",
    "plt.title(\"Effect of Learning Rate On Convergence of Gradient Descent (Train)\")\n",
    "plt.legend()"
   ]
  },
  {
   "cell_type": "markdown",
   "id": "01b2f18a",
   "metadata": {},
   "source": [
    "<br>\n",
    "\n",
    "**Test linear model**"
   ]
  },
  {
   "cell_type": "code",
   "execution_count": 24,
   "id": "ed219c3b",
   "metadata": {},
   "outputs": [
    {
     "name": "stdout",
     "output_type": "stream",
     "text": [
      "[[ 6240     4     2     2     1]\n",
      " [ 8400     4     1     4     3]\n",
      " [10500     4     2     2     1]\n",
      " [ 6420     3     1     3     0]\n",
      " [ 6615     3     1     2     0]\n",
      " [ 3600     2     1     1     0]\n",
      " [ 3240     2     1     1     1]\n",
      " [ 6600     3     1     4     3]\n",
      " [ 2700     2     1     1     0]\n",
      " [ 5000     3     1     2     0]\n",
      " [ 2650     3     1     2     1]\n",
      " [ 4775     4     1     2     0]\n",
      " [ 4800     3     1     3     0]\n",
      " [ 3700     4     1     2     0]\n",
      " [ 7700     3     2     1     2]\n",
      " [ 7420     4     2     3     2]\n",
      " [ 4280     2     1     1     2]\n",
      " [ 6000     2     1     1     0]\n",
      " [ 6600     4     2     2     0]\n",
      " [ 3649     2     1     1     0]\n",
      " [ 3420     2     1     2     1]\n",
      " [ 5500     3     2     2     1]\n",
      " [ 3630     3     3     2     0]\n",
      " [ 3180     3     1     2     0]\n",
      " [ 3600     2     2     2     1]\n",
      " [ 8400     3     1     2     2]\n",
      " [ 3000     2     1     1     1]\n",
      " [ 8880     3     2     2     1]\n",
      " [ 5750     3     2     4     1]\n",
      " [ 2145     3     1     3     0]\n",
      " [ 6360     3     2     4     0]\n",
      " [ 6525     3     2     4     1]\n",
      " [ 1950     3     2     2     0]\n",
      " [ 5850     3     1     2     1]\n",
      " [ 8372     3     1     3     2]\n",
      " [ 2870     2     1     2     0]\n",
      " [ 4990     4     2     2     0]\n",
      " [ 2684     2     1     1     1]\n",
      " [ 5200     3     1     3     0]\n",
      " [ 6321     3     1     2     1]\n",
      " [ 4960     4     1     3     0]\n",
      " [ 3480     3     1     2     1]\n",
      " [ 3210     3     1     2     0]\n",
      " [ 4950     4     1     2     0]\n",
      " [ 6840     5     1     2     1]\n",
      " [ 4350     2     1     1     0]\n",
      " [ 5850     2     1     1     2]\n",
      " [ 4410     2     1     1     1]\n",
      " [ 2500     2     1     1     0]\n",
      " [ 3850     3     1     2     0]\n",
      " [ 3180     3     2     2     2]\n",
      " [ 3162     3     1     2     1]\n",
      " [ 3500     2     1     1     0]\n",
      " [ 4340     3     1     1     0]\n",
      " [ 6440     2     1     1     3]\n",
      " [ 5010     3     1     2     0]\n",
      " [ 3000     2     1     2     0]\n",
      " [ 4920     3     1     2     1]\n",
      " [ 3760     3     1     1     2]\n",
      " [ 3816     2     1     1     2]\n",
      " [ 6000     3     2     4     0]\n",
      " [ 7000     3     1     4     2]\n",
      " [ 3640     2     1     1     0]\n",
      " [ 4080     3     1     2     2]\n",
      " [ 4160     3     1     1     0]\n",
      " [ 2910     2     1     1     0]\n",
      " [ 6060     2     1     1     1]\n",
      " [ 3000     4     1     2     0]\n",
      " [ 2787     4     2     2     0]\n",
      " [ 4815     2     1     1     0]\n",
      " [ 4785     3     1     2     1]\n",
      " [ 6600     3     1     1     0]\n",
      " [ 5300     4     2     1     0]\n",
      " [ 3600     2     1     1     0]\n",
      " [ 6000     3     1     1     1]\n",
      " [ 2176     2     1     2     0]\n",
      " [ 3000     2     1     1     2]\n",
      " [ 7420     4     1     2     2]\n",
      " [ 7020     3     1     1     2]\n",
      " [ 3480     2     1     1     0]\n",
      " [ 5960     3     1     2     0]\n",
      " [ 3510     3     1     3     0]\n",
      " [ 6420     3     2     2     1]\n",
      " [ 6450     3     2     1     0]\n",
      " [ 6210     4     1     4     0]\n",
      " [ 4500     3     2     2     0]\n",
      " [ 3000     3     1     2     0]\n",
      " [ 3180     2     1     1     0]\n",
      " [ 5700     3     1     1     2]\n",
      " [ 3520     3     1     1     2]\n",
      " [ 4040     2     1     1     1]\n",
      " [ 5800     3     1     1     2]\n",
      " [ 2800     3     1     1     0]\n",
      " [ 6480     3     2     4     2]\n",
      " [ 4960     2     1     1     0]\n",
      " [ 4260     4     1     2     0]\n",
      " [ 7500     3     3     1     2]\n",
      " [ 5880     3     1     1     1]\n",
      " [10500     2     1     1     1]\n",
      " [ 4500     4     2     2     2]\n",
      " [ 3850     2     1     1     0]\n",
      " [ 8500     3     2     4     2]\n",
      " [ 3120     3     1     2     0]\n",
      " [ 3990     3     1     2     0]\n",
      " [ 4095     3     1     2     0]\n",
      " [ 4800     3     2     4     0]\n",
      " [13200     2     1     1     1]\n",
      " [ 7770     2     1     1     1]\n",
      " [ 6100     3     1     1     0]\n",
      " [ 4075     3     1     1     2]\n",
      " [ 6550     3     1     2     0]\n",
      " [ 4100     4     1     1     0]\n",
      " [ 4370     3     1     2     0]\n",
      " [ 3180     3     1     1     0]\n",
      " [ 7350     2     1     1     1]\n",
      " [ 3510     3     1     2     0]\n",
      " [ 3640     3     1     2     0]\n",
      " [ 5500     4     2     2     1]\n",
      " [ 8250     3     1     1     3]\n",
      " [ 6600     4     2     2     1]\n",
      " [ 8250     3     2     3     0]\n",
      " [ 2475     3     1     2     0]\n",
      " [ 3850     3     1     1     0]\n",
      " [ 4500     3     1     2     0]\n",
      " [ 3720     2     1     1     0]\n",
      " [ 4360     4     1     2     0]\n",
      " [10240     2     1     1     2]\n",
      " [ 5500     3     2     4     1]\n",
      " [ 3970     3     1     2     0]\n",
      " [ 3450     3     1     2     1]\n",
      " [ 3850     3     1     1     2]\n",
      " [ 5500     3     1     3     1]\n",
      " [ 3520     3     1     1     0]\n",
      " [ 2145     3     1     2     0]\n",
      " [ 6600     3     1     1     2]\n",
      " [ 3640     2     1     1     1]\n",
      " [ 3986     2     2     1     1]\n",
      " [ 2953     3     1     2     0]\n",
      " [ 8250     3     1     1     2]\n",
      " [ 4130     3     2     2     2]\n",
      " [ 8580     4     3     4     2]\n",
      " [ 6000     4     3     2     2]\n",
      " [ 3500     4     1     2     2]\n",
      " [ 5885     2     1     1     1]\n",
      " [ 7680     4     2     4     1]\n",
      " [ 2430     3     1     1     0]\n",
      " [ 3150     3     2     1     0]\n",
      " [ 6450     4     1     2     0]\n",
      " [ 8100     2     1     1     1]\n",
      " [ 5500     3     1     3     1]\n",
      " [ 1650     3     1     2     0]\n",
      " [ 3040     2     1     1     0]\n",
      " [ 4079     3     1     3     0]\n",
      " [ 2747     4     2     2     0]\n",
      " [ 4600     3     2     2     2]\n",
      " [ 2325     3     1     2     0]\n",
      " [ 7231     3     1     2     0]\n",
      " [ 3520     2     2     1     0]\n",
      " [ 2145     3     1     3     0]\n",
      " [ 3450     3     1     2     0]\n",
      " [ 3620     2     1     1     0]\n",
      " [ 4000     2     1     1     0]\n",
      " [ 6000     3     1     2     1]\n",
      " [ 6000     3     2     4     1]]\n"
     ]
    }
   ],
   "source": [
    "xTest = df_test.values[:, 1:6]  # get input values from first column\n",
    "yTest = df_test.values[:, 0]  # get output values from second column\n",
    "print(xTest)\n",
    "m = len(yTest)    # number of training examples, length of target variable rows\n",
    "temp_m = len(xTest)    # length of feature columns variable rows\n",
    "assert (m == temp_m)    # confirm they have equivalent length"
   ]
  },
  {
   "cell_type": "code",
   "execution_count": 27,
   "id": "7f50ffcc",
   "metadata": {},
   "outputs": [
    {
     "name": "stdout",
     "output_type": "stream",
     "text": [
      "[nan nan nan nan nan nan]\n"
     ]
    }
   ],
   "source": [
    "print(train_theta)"
   ]
  },
  {
   "cell_type": "code",
   "execution_count": 28,
   "id": "1e01bb93",
   "metadata": {},
   "outputs": [],
   "source": [
    "xTest = np.hstack((np.ones((m,1)), xTest))"
   ]
  },
  {
   "cell_type": "code",
   "execution_count": 29,
   "id": "46056343",
   "metadata": {},
   "outputs": [
    {
     "name": "stdout",
     "output_type": "stream",
     "text": [
      "[[1.000e+00 6.240e+03 4.000e+00 2.000e+00 2.000e+00 1.000e+00]\n",
      " [1.000e+00 8.400e+03 4.000e+00 1.000e+00 4.000e+00 3.000e+00]\n",
      " [1.000e+00 1.050e+04 4.000e+00 2.000e+00 2.000e+00 1.000e+00]\n",
      " [1.000e+00 6.420e+03 3.000e+00 1.000e+00 3.000e+00 0.000e+00]\n",
      " [1.000e+00 6.615e+03 3.000e+00 1.000e+00 2.000e+00 0.000e+00]\n",
      " [1.000e+00 3.600e+03 2.000e+00 1.000e+00 1.000e+00 0.000e+00]\n",
      " [1.000e+00 3.240e+03 2.000e+00 1.000e+00 1.000e+00 1.000e+00]\n",
      " [1.000e+00 6.600e+03 3.000e+00 1.000e+00 4.000e+00 3.000e+00]\n",
      " [1.000e+00 2.700e+03 2.000e+00 1.000e+00 1.000e+00 0.000e+00]\n",
      " [1.000e+00 5.000e+03 3.000e+00 1.000e+00 2.000e+00 0.000e+00]\n",
      " [1.000e+00 2.650e+03 3.000e+00 1.000e+00 2.000e+00 1.000e+00]\n",
      " [1.000e+00 4.775e+03 4.000e+00 1.000e+00 2.000e+00 0.000e+00]\n",
      " [1.000e+00 4.800e+03 3.000e+00 1.000e+00 3.000e+00 0.000e+00]\n",
      " [1.000e+00 3.700e+03 4.000e+00 1.000e+00 2.000e+00 0.000e+00]\n",
      " [1.000e+00 7.700e+03 3.000e+00 2.000e+00 1.000e+00 2.000e+00]\n",
      " [1.000e+00 7.420e+03 4.000e+00 2.000e+00 3.000e+00 2.000e+00]\n",
      " [1.000e+00 4.280e+03 2.000e+00 1.000e+00 1.000e+00 2.000e+00]\n",
      " [1.000e+00 6.000e+03 2.000e+00 1.000e+00 1.000e+00 0.000e+00]\n",
      " [1.000e+00 6.600e+03 4.000e+00 2.000e+00 2.000e+00 0.000e+00]\n",
      " [1.000e+00 3.649e+03 2.000e+00 1.000e+00 1.000e+00 0.000e+00]\n",
      " [1.000e+00 3.420e+03 2.000e+00 1.000e+00 2.000e+00 1.000e+00]\n",
      " [1.000e+00 5.500e+03 3.000e+00 2.000e+00 2.000e+00 1.000e+00]\n",
      " [1.000e+00 3.630e+03 3.000e+00 3.000e+00 2.000e+00 0.000e+00]\n",
      " [1.000e+00 3.180e+03 3.000e+00 1.000e+00 2.000e+00 0.000e+00]\n",
      " [1.000e+00 3.600e+03 2.000e+00 2.000e+00 2.000e+00 1.000e+00]\n",
      " [1.000e+00 8.400e+03 3.000e+00 1.000e+00 2.000e+00 2.000e+00]\n",
      " [1.000e+00 3.000e+03 2.000e+00 1.000e+00 1.000e+00 1.000e+00]\n",
      " [1.000e+00 8.880e+03 3.000e+00 2.000e+00 2.000e+00 1.000e+00]\n",
      " [1.000e+00 5.750e+03 3.000e+00 2.000e+00 4.000e+00 1.000e+00]\n",
      " [1.000e+00 2.145e+03 3.000e+00 1.000e+00 3.000e+00 0.000e+00]\n",
      " [1.000e+00 6.360e+03 3.000e+00 2.000e+00 4.000e+00 0.000e+00]\n",
      " [1.000e+00 6.525e+03 3.000e+00 2.000e+00 4.000e+00 1.000e+00]\n",
      " [1.000e+00 1.950e+03 3.000e+00 2.000e+00 2.000e+00 0.000e+00]\n",
      " [1.000e+00 5.850e+03 3.000e+00 1.000e+00 2.000e+00 1.000e+00]\n",
      " [1.000e+00 8.372e+03 3.000e+00 1.000e+00 3.000e+00 2.000e+00]\n",
      " [1.000e+00 2.870e+03 2.000e+00 1.000e+00 2.000e+00 0.000e+00]\n",
      " [1.000e+00 4.990e+03 4.000e+00 2.000e+00 2.000e+00 0.000e+00]\n",
      " [1.000e+00 2.684e+03 2.000e+00 1.000e+00 1.000e+00 1.000e+00]\n",
      " [1.000e+00 5.200e+03 3.000e+00 1.000e+00 3.000e+00 0.000e+00]\n",
      " [1.000e+00 6.321e+03 3.000e+00 1.000e+00 2.000e+00 1.000e+00]\n",
      " [1.000e+00 4.960e+03 4.000e+00 1.000e+00 3.000e+00 0.000e+00]\n",
      " [1.000e+00 3.480e+03 3.000e+00 1.000e+00 2.000e+00 1.000e+00]\n",
      " [1.000e+00 3.210e+03 3.000e+00 1.000e+00 2.000e+00 0.000e+00]\n",
      " [1.000e+00 4.950e+03 4.000e+00 1.000e+00 2.000e+00 0.000e+00]\n",
      " [1.000e+00 6.840e+03 5.000e+00 1.000e+00 2.000e+00 1.000e+00]\n",
      " [1.000e+00 4.350e+03 2.000e+00 1.000e+00 1.000e+00 0.000e+00]\n",
      " [1.000e+00 5.850e+03 2.000e+00 1.000e+00 1.000e+00 2.000e+00]\n",
      " [1.000e+00 4.410e+03 2.000e+00 1.000e+00 1.000e+00 1.000e+00]\n",
      " [1.000e+00 2.500e+03 2.000e+00 1.000e+00 1.000e+00 0.000e+00]\n",
      " [1.000e+00 3.850e+03 3.000e+00 1.000e+00 2.000e+00 0.000e+00]\n",
      " [1.000e+00 3.180e+03 3.000e+00 2.000e+00 2.000e+00 2.000e+00]\n",
      " [1.000e+00 3.162e+03 3.000e+00 1.000e+00 2.000e+00 1.000e+00]\n",
      " [1.000e+00 3.500e+03 2.000e+00 1.000e+00 1.000e+00 0.000e+00]\n",
      " [1.000e+00 4.340e+03 3.000e+00 1.000e+00 1.000e+00 0.000e+00]\n",
      " [1.000e+00 6.440e+03 2.000e+00 1.000e+00 1.000e+00 3.000e+00]\n",
      " [1.000e+00 5.010e+03 3.000e+00 1.000e+00 2.000e+00 0.000e+00]\n",
      " [1.000e+00 3.000e+03 2.000e+00 1.000e+00 2.000e+00 0.000e+00]\n",
      " [1.000e+00 4.920e+03 3.000e+00 1.000e+00 2.000e+00 1.000e+00]\n",
      " [1.000e+00 3.760e+03 3.000e+00 1.000e+00 1.000e+00 2.000e+00]\n",
      " [1.000e+00 3.816e+03 2.000e+00 1.000e+00 1.000e+00 2.000e+00]\n",
      " [1.000e+00 6.000e+03 3.000e+00 2.000e+00 4.000e+00 0.000e+00]\n",
      " [1.000e+00 7.000e+03 3.000e+00 1.000e+00 4.000e+00 2.000e+00]\n",
      " [1.000e+00 3.640e+03 2.000e+00 1.000e+00 1.000e+00 0.000e+00]\n",
      " [1.000e+00 4.080e+03 3.000e+00 1.000e+00 2.000e+00 2.000e+00]\n",
      " [1.000e+00 4.160e+03 3.000e+00 1.000e+00 1.000e+00 0.000e+00]\n",
      " [1.000e+00 2.910e+03 2.000e+00 1.000e+00 1.000e+00 0.000e+00]\n",
      " [1.000e+00 6.060e+03 2.000e+00 1.000e+00 1.000e+00 1.000e+00]\n",
      " [1.000e+00 3.000e+03 4.000e+00 1.000e+00 2.000e+00 0.000e+00]\n",
      " [1.000e+00 2.787e+03 4.000e+00 2.000e+00 2.000e+00 0.000e+00]\n",
      " [1.000e+00 4.815e+03 2.000e+00 1.000e+00 1.000e+00 0.000e+00]\n",
      " [1.000e+00 4.785e+03 3.000e+00 1.000e+00 2.000e+00 1.000e+00]\n",
      " [1.000e+00 6.600e+03 3.000e+00 1.000e+00 1.000e+00 0.000e+00]\n",
      " [1.000e+00 5.300e+03 4.000e+00 2.000e+00 1.000e+00 0.000e+00]\n",
      " [1.000e+00 3.600e+03 2.000e+00 1.000e+00 1.000e+00 0.000e+00]\n",
      " [1.000e+00 6.000e+03 3.000e+00 1.000e+00 1.000e+00 1.000e+00]\n",
      " [1.000e+00 2.176e+03 2.000e+00 1.000e+00 2.000e+00 0.000e+00]\n",
      " [1.000e+00 3.000e+03 2.000e+00 1.000e+00 1.000e+00 2.000e+00]\n",
      " [1.000e+00 7.420e+03 4.000e+00 1.000e+00 2.000e+00 2.000e+00]\n",
      " [1.000e+00 7.020e+03 3.000e+00 1.000e+00 1.000e+00 2.000e+00]\n",
      " [1.000e+00 3.480e+03 2.000e+00 1.000e+00 1.000e+00 0.000e+00]\n",
      " [1.000e+00 5.960e+03 3.000e+00 1.000e+00 2.000e+00 0.000e+00]\n",
      " [1.000e+00 3.510e+03 3.000e+00 1.000e+00 3.000e+00 0.000e+00]\n",
      " [1.000e+00 6.420e+03 3.000e+00 2.000e+00 2.000e+00 1.000e+00]\n",
      " [1.000e+00 6.450e+03 3.000e+00 2.000e+00 1.000e+00 0.000e+00]\n",
      " [1.000e+00 6.210e+03 4.000e+00 1.000e+00 4.000e+00 0.000e+00]\n",
      " [1.000e+00 4.500e+03 3.000e+00 2.000e+00 2.000e+00 0.000e+00]\n",
      " [1.000e+00 3.000e+03 3.000e+00 1.000e+00 2.000e+00 0.000e+00]\n",
      " [1.000e+00 3.180e+03 2.000e+00 1.000e+00 1.000e+00 0.000e+00]\n",
      " [1.000e+00 5.700e+03 3.000e+00 1.000e+00 1.000e+00 2.000e+00]\n",
      " [1.000e+00 3.520e+03 3.000e+00 1.000e+00 1.000e+00 2.000e+00]\n",
      " [1.000e+00 4.040e+03 2.000e+00 1.000e+00 1.000e+00 1.000e+00]\n",
      " [1.000e+00 5.800e+03 3.000e+00 1.000e+00 1.000e+00 2.000e+00]\n",
      " [1.000e+00 2.800e+03 3.000e+00 1.000e+00 1.000e+00 0.000e+00]\n",
      " [1.000e+00 6.480e+03 3.000e+00 2.000e+00 4.000e+00 2.000e+00]\n",
      " [1.000e+00 4.960e+03 2.000e+00 1.000e+00 1.000e+00 0.000e+00]\n",
      " [1.000e+00 4.260e+03 4.000e+00 1.000e+00 2.000e+00 0.000e+00]\n",
      " [1.000e+00 7.500e+03 3.000e+00 3.000e+00 1.000e+00 2.000e+00]\n",
      " [1.000e+00 5.880e+03 3.000e+00 1.000e+00 1.000e+00 1.000e+00]\n",
      " [1.000e+00 1.050e+04 2.000e+00 1.000e+00 1.000e+00 1.000e+00]\n",
      " [1.000e+00 4.500e+03 4.000e+00 2.000e+00 2.000e+00 2.000e+00]\n",
      " [1.000e+00 3.850e+03 2.000e+00 1.000e+00 1.000e+00 0.000e+00]\n",
      " [1.000e+00 8.500e+03 3.000e+00 2.000e+00 4.000e+00 2.000e+00]\n",
      " [1.000e+00 3.120e+03 3.000e+00 1.000e+00 2.000e+00 0.000e+00]\n",
      " [1.000e+00 3.990e+03 3.000e+00 1.000e+00 2.000e+00 0.000e+00]\n",
      " [1.000e+00 4.095e+03 3.000e+00 1.000e+00 2.000e+00 0.000e+00]\n",
      " [1.000e+00 4.800e+03 3.000e+00 2.000e+00 4.000e+00 0.000e+00]\n",
      " [1.000e+00 1.320e+04 2.000e+00 1.000e+00 1.000e+00 1.000e+00]\n",
      " [1.000e+00 7.770e+03 2.000e+00 1.000e+00 1.000e+00 1.000e+00]\n",
      " [1.000e+00 6.100e+03 3.000e+00 1.000e+00 1.000e+00 0.000e+00]\n",
      " [1.000e+00 4.075e+03 3.000e+00 1.000e+00 1.000e+00 2.000e+00]\n",
      " [1.000e+00 6.550e+03 3.000e+00 1.000e+00 2.000e+00 0.000e+00]\n",
      " [1.000e+00 4.100e+03 4.000e+00 1.000e+00 1.000e+00 0.000e+00]\n",
      " [1.000e+00 4.370e+03 3.000e+00 1.000e+00 2.000e+00 0.000e+00]\n",
      " [1.000e+00 3.180e+03 3.000e+00 1.000e+00 1.000e+00 0.000e+00]\n",
      " [1.000e+00 7.350e+03 2.000e+00 1.000e+00 1.000e+00 1.000e+00]\n",
      " [1.000e+00 3.510e+03 3.000e+00 1.000e+00 2.000e+00 0.000e+00]\n",
      " [1.000e+00 3.640e+03 3.000e+00 1.000e+00 2.000e+00 0.000e+00]\n",
      " [1.000e+00 5.500e+03 4.000e+00 2.000e+00 2.000e+00 1.000e+00]\n",
      " [1.000e+00 8.250e+03 3.000e+00 1.000e+00 1.000e+00 3.000e+00]\n",
      " [1.000e+00 6.600e+03 4.000e+00 2.000e+00 2.000e+00 1.000e+00]\n",
      " [1.000e+00 8.250e+03 3.000e+00 2.000e+00 3.000e+00 0.000e+00]\n",
      " [1.000e+00 2.475e+03 3.000e+00 1.000e+00 2.000e+00 0.000e+00]\n",
      " [1.000e+00 3.850e+03 3.000e+00 1.000e+00 1.000e+00 0.000e+00]\n",
      " [1.000e+00 4.500e+03 3.000e+00 1.000e+00 2.000e+00 0.000e+00]\n",
      " [1.000e+00 3.720e+03 2.000e+00 1.000e+00 1.000e+00 0.000e+00]\n",
      " [1.000e+00 4.360e+03 4.000e+00 1.000e+00 2.000e+00 0.000e+00]\n",
      " [1.000e+00 1.024e+04 2.000e+00 1.000e+00 1.000e+00 2.000e+00]\n",
      " [1.000e+00 5.500e+03 3.000e+00 2.000e+00 4.000e+00 1.000e+00]\n",
      " [1.000e+00 3.970e+03 3.000e+00 1.000e+00 2.000e+00 0.000e+00]\n",
      " [1.000e+00 3.450e+03 3.000e+00 1.000e+00 2.000e+00 1.000e+00]\n",
      " [1.000e+00 3.850e+03 3.000e+00 1.000e+00 1.000e+00 2.000e+00]\n",
      " [1.000e+00 5.500e+03 3.000e+00 1.000e+00 3.000e+00 1.000e+00]\n",
      " [1.000e+00 3.520e+03 3.000e+00 1.000e+00 1.000e+00 0.000e+00]\n",
      " [1.000e+00 2.145e+03 3.000e+00 1.000e+00 2.000e+00 0.000e+00]\n",
      " [1.000e+00 6.600e+03 3.000e+00 1.000e+00 1.000e+00 2.000e+00]\n",
      " [1.000e+00 3.640e+03 2.000e+00 1.000e+00 1.000e+00 1.000e+00]\n",
      " [1.000e+00 3.986e+03 2.000e+00 2.000e+00 1.000e+00 1.000e+00]\n",
      " [1.000e+00 2.953e+03 3.000e+00 1.000e+00 2.000e+00 0.000e+00]\n",
      " [1.000e+00 8.250e+03 3.000e+00 1.000e+00 1.000e+00 2.000e+00]\n",
      " [1.000e+00 4.130e+03 3.000e+00 2.000e+00 2.000e+00 2.000e+00]\n",
      " [1.000e+00 8.580e+03 4.000e+00 3.000e+00 4.000e+00 2.000e+00]\n",
      " [1.000e+00 6.000e+03 4.000e+00 3.000e+00 2.000e+00 2.000e+00]\n",
      " [1.000e+00 3.500e+03 4.000e+00 1.000e+00 2.000e+00 2.000e+00]\n",
      " [1.000e+00 5.885e+03 2.000e+00 1.000e+00 1.000e+00 1.000e+00]\n",
      " [1.000e+00 7.680e+03 4.000e+00 2.000e+00 4.000e+00 1.000e+00]\n",
      " [1.000e+00 2.430e+03 3.000e+00 1.000e+00 1.000e+00 0.000e+00]\n",
      " [1.000e+00 3.150e+03 3.000e+00 2.000e+00 1.000e+00 0.000e+00]\n",
      " [1.000e+00 6.450e+03 4.000e+00 1.000e+00 2.000e+00 0.000e+00]\n",
      " [1.000e+00 8.100e+03 2.000e+00 1.000e+00 1.000e+00 1.000e+00]\n",
      " [1.000e+00 5.500e+03 3.000e+00 1.000e+00 3.000e+00 1.000e+00]\n",
      " [1.000e+00 1.650e+03 3.000e+00 1.000e+00 2.000e+00 0.000e+00]\n",
      " [1.000e+00 3.040e+03 2.000e+00 1.000e+00 1.000e+00 0.000e+00]\n",
      " [1.000e+00 4.079e+03 3.000e+00 1.000e+00 3.000e+00 0.000e+00]\n",
      " [1.000e+00 2.747e+03 4.000e+00 2.000e+00 2.000e+00 0.000e+00]\n",
      " [1.000e+00 4.600e+03 3.000e+00 2.000e+00 2.000e+00 2.000e+00]\n",
      " [1.000e+00 2.325e+03 3.000e+00 1.000e+00 2.000e+00 0.000e+00]\n",
      " [1.000e+00 7.231e+03 3.000e+00 1.000e+00 2.000e+00 0.000e+00]\n",
      " [1.000e+00 3.520e+03 2.000e+00 2.000e+00 1.000e+00 0.000e+00]\n",
      " [1.000e+00 2.145e+03 3.000e+00 1.000e+00 3.000e+00 0.000e+00]\n",
      " [1.000e+00 3.450e+03 3.000e+00 1.000e+00 2.000e+00 0.000e+00]\n",
      " [1.000e+00 3.620e+03 2.000e+00 1.000e+00 1.000e+00 0.000e+00]\n",
      " [1.000e+00 4.000e+03 2.000e+00 1.000e+00 1.000e+00 0.000e+00]\n",
      " [1.000e+00 6.000e+03 3.000e+00 1.000e+00 2.000e+00 1.000e+00]\n",
      " [1.000e+00 6.000e+03 3.000e+00 2.000e+00 4.000e+00 1.000e+00]]\n"
     ]
    }
   ],
   "source": [
    "print(xTest)"
   ]
  },
  {
   "cell_type": "code",
   "execution_count": null,
   "id": "5e4605e2",
   "metadata": {},
   "outputs": [],
   "source": []
  },
  {
   "cell_type": "code",
   "execution_count": 30,
   "id": "92bdf667",
   "metadata": {},
   "outputs": [
    {
     "name": "stdout",
     "output_type": "stream",
     "text": [
      "[nan nan nan nan nan nan nan nan nan nan nan nan nan nan nan nan nan nan\n",
      " nan nan nan nan nan nan nan nan nan nan nan nan nan nan nan nan nan nan\n",
      " nan nan nan nan nan nan nan nan nan nan nan nan nan nan nan nan nan nan\n",
      " nan nan nan nan nan nan nan nan nan nan nan nan nan nan nan nan nan nan\n",
      " nan nan nan nan nan nan nan nan nan nan nan nan nan nan nan nan nan nan\n",
      " nan nan nan nan nan nan nan nan nan nan nan nan nan nan nan nan nan nan\n",
      " nan nan nan nan nan nan nan nan nan nan nan nan nan nan nan nan nan nan\n",
      " nan nan nan nan nan nan nan nan nan nan nan nan nan nan nan nan nan nan\n",
      " nan nan nan nan nan nan nan nan nan nan nan nan nan nan nan nan nan nan\n",
      " nan nan]\n"
     ]
    }
   ],
   "source": [
    "price = xTest.dot(train_theta)\n",
    "print(price)"
   ]
  },
  {
   "cell_type": "code",
   "execution_count": null,
   "id": "85be803f",
   "metadata": {},
   "outputs": [],
   "source": []
  },
  {
   "cell_type": "code",
   "execution_count": null,
   "id": "ecf96f48",
   "metadata": {},
   "outputs": [],
   "source": []
  },
  {
   "cell_type": "code",
   "execution_count": null,
   "id": "74aea5c8",
   "metadata": {},
   "outputs": [],
   "source": []
  },
  {
   "cell_type": "code",
   "execution_count": null,
   "id": "4ab24e37",
   "metadata": {},
   "outputs": [],
   "source": []
  },
  {
   "cell_type": "code",
   "execution_count": null,
   "id": "290d1190",
   "metadata": {},
   "outputs": [],
   "source": []
  },
  {
   "cell_type": "code",
   "execution_count": 23,
   "id": "6aa06031",
   "metadata": {},
   "outputs": [],
   "source": [
    "xTest = df_test.values[:, 1:6]  # get input values from first column\n",
    "yTest = df_test.values[:, 0]  # get output values from second column\n",
    "print(XTest)\n",
    "m = len(yTest)    # number of training examples, length of target variable rows\n",
    "temp_m = len(xTest)    # length of feature columns variable rows\n",
    "assert (m == temp_m)    # confirm they have equivalent length"
   ]
  },
  {
   "cell_type": "code",
   "execution_count": 24,
   "id": "e9e72f2a",
   "metadata": {},
   "outputs": [
    {
     "data": {
      "text/plain": [
       "Text(0.5, 1.0, 'SCATTER PLOT OF TEST DATA')"
      ]
     },
     "execution_count": 24,
     "metadata": {},
     "output_type": "execute_result"
    },
    {
     "data": {
      "image/png": "[encoded data removed]",
      "text/plain": [
       "<Figure size 720x432 with 1 Axes>"
      ]
     },
     "metadata": {
      "needs_background": "light"
     },
     "output_type": "display_data"
    }
   ],
   "source": [
    "# plot test model\n",
    "plt.scatter(df_test.values[:, 1],yTest, color='red',marker= '+')\n",
    "plt.scatter(df_test.values[:, 2],yTest, color='yellow',marker= '+')\n",
    "plt.scatter(df_test.values[:, 3],yTest, color='blue',marker= '+')\n",
    "plt.scatter(df_test.values[:, 4],yTest, color='green',marker= '+')\n",
    "plt.scatter(df_test.values[:, 5],yTest, color='indigo',marker= '+')\n",
    "plt.grid()\n",
    "plt.rcParams[\"figure.figsize\"] = (12,8)\n",
    "plt.xlabel('Explanatory Variables')\n",
    "plt.ylabel('Dependent Variables')\n",
    "plt.title('SCATTER PLOT OF TEST DATA')"
   ]
  },
  {
   "cell_type": "code",
   "execution_count": 25,
   "id": "d8ae2837",
   "metadata": {},
   "outputs": [],
   "source": [
    "# Lets use hstack() function from numpy to add column of ones to X feature \n",
    "# This will be our final X matrix (feature matrix)\n",
    "X_Test = np.hstack((np.ones((m,1)), xTest))\n",
    "\n",
    "#Initialise theta to theta from train linear model as recommended by the hw question\n",
    "eval_theta = train_theta"
   ]
  },
  {
   "cell_type": "code",
   "execution_count": null,
   "id": "d275f59d",
   "metadata": {},
   "outputs": [],
   "source": []
  },
  {
   "cell_type": "code",
   "execution_count": null,
   "id": "9013abda",
   "metadata": {},
   "outputs": [],
   "source": []
  },
  {
   "cell_type": "code",
   "execution_count": null,
   "id": "aefae12b",
   "metadata": {},
   "outputs": [],
   "source": []
  },
  {
   "cell_type": "code",
   "execution_count": null,
   "id": "44b2c1a0",
   "metadata": {},
   "outputs": [],
   "source": []
  },
  {
   "cell_type": "code",
   "execution_count": null,
   "id": "2f8974ff",
   "metadata": {},
   "outputs": [],
   "source": []
  },
  {
   "cell_type": "code",
   "execution_count": 26,
   "id": "dde8ba8c",
   "metadata": {},
   "outputs": [
    {
     "name": "stdout",
     "output_type": "stream",
     "text": [
      "Value of theta from test model = [nan nan nan nan nan nan]\n",
      "First 5 values from test cost_history = [nan nan nan nan nan]\n",
      "Last 5 values from test cost_history = [nan nan nan nan nan]\n"
     ]
    }
   ],
   "source": [
    "# test linear regression model\n",
    "alpha = 0.04\n",
    "test_theta, test_cost_history = gradient_descent(X_Test, yTest, eval_theta, alpha, iterations)\n",
    "\n",
    "# print theta and cost history\n",
    "print('Value of theta from test model =', test_theta)\n",
    "print('First 5 values from test cost_history =', test_cost_history[:5])\n",
    "print('Last 5 values from test cost_history =', test_cost_history[-5 :])"
   ]
  },
  {
   "cell_type": "code",
   "execution_count": 27,
   "id": "b760ce03",
   "metadata": {},
   "outputs": [
    {
     "data": {
      "text/plain": [
       "<matplotlib.legend.Legend at 0x7f8d058bccd0>"
      ]
     },
     "execution_count": 27,
     "metadata": {},
     "output_type": "execute_result"
    },
    {
     "data": {
      "image/png": "[encoded data removed]",
      "text/plain": [
       "<Figure size 864x576 with 1 Axes>"
      ]
     },
     "metadata": {
      "needs_background": "light"
     },
     "output_type": "display_data"
    }
   ],
   "source": [
    "# plot test model\n",
    "plt.plot(range(1, iterations +1), train_cost_history, color ='darkblue', label = 'Train')\n",
    "plt.plot(range(1, iterations +1), test_cost_history, color ='darkgreen', label = 'Test')\n",
    "plt.rcParams[\"figure.figsize\"] = (12, 8)\n",
    "plt.grid()\n",
    "plt.xlabel(\"Number of iterations\")\n",
    "plt.ylabel(\"cost (J)\")\n",
    "plt.title(\"Convergence of gradient descent (Test vs Train)\")\n",
    "plt.legend()"
   ]
  },
  {
   "cell_type": "markdown",
   "id": "c04d601e",
   "metadata": {},
   "source": [
    "---"
   ]
  },
  {
   "cell_type": "markdown",
   "id": "7a8c2b95",
   "metadata": {},
   "source": [
    "---"
   ]
  },
  {
   "cell_type": "markdown",
   "id": "7461330d",
   "metadata": {},
   "source": [
    "---"
   ]
  },
  {
   "cell_type": "markdown",
   "id": "4512b5ef",
   "metadata": {},
   "source": [
    "---"
   ]
  },
  {
   "cell_type": "markdown",
   "id": "a12654ae",
   "metadata": {},
   "source": [
    "### Problem 1.B\n",
    "\n",
    "Develop a gradient decent training and evaluation code that predicts housing price based on the following input variables:\n",
    "\n",
    "**\"Area, bedrooms, bathrooms, stories, mainroad, guestroom, basement, hotwaterheating, airconditioning, parking, prefarea\"**.\n",
    "\n",
    "Identify the best parameters for your linear regression model, based on the above input variables. Plot the training and validation losses (in a single graph, but two different lines) over your training iteration. Compare your linear regression model against problem 1 a. For the learning rate, explore different values between 0.1 and 0.01 (your choice). Initialize your parameters (thetas to zero). For the training iteration, choose what you believe fits the best. "
   ]
  },
  {
   "cell_type": "code",
   "execution_count": 28,
   "id": "b2247f97",
   "metadata": {},
   "outputs": [
    {
     "data": {
      "text/html": [
       "<div>\n",
       "<style scoped>\n",
       "    .dataframe tbody tr th:only-of-type {\n",
       "        vertical-align: middle;\n",
       "    }\n",
       "\n",
       "    .dataframe tbody tr th {\n",
       "        vertical-align: top;\n",
       "    }\n",
       "\n",
       "    .dataframe thead th {\n",
       "        text-align: right;\n",
       "    }\n",
       "</style>\n",
       "<table border=\"1\" class=\"dataframe\">\n",
       "  <thead>\n",
       "    <tr style=\"text-align: right;\">\n",
       "      <th></th>\n",
       "      <th>price</th>\n",
       "      <th>area</th>\n",
       "      <th>bedrooms</th>\n",
       "      <th>bathrooms</th>\n",
       "      <th>stories</th>\n",
       "      <th>mainroad</th>\n",
       "      <th>guestroom</th>\n",
       "      <th>basement</th>\n",
       "      <th>hotwaterheating</th>\n",
       "      <th>airconditioning</th>\n",
       "      <th>parking</th>\n",
       "      <th>prefarea</th>\n",
       "      <th>furnishingstatus</th>\n",
       "    </tr>\n",
       "  </thead>\n",
       "  <tbody>\n",
       "    <tr>\n",
       "      <th>0</th>\n",
       "      <td>13300000</td>\n",
       "      <td>7420</td>\n",
       "      <td>4</td>\n",
       "      <td>2</td>\n",
       "      <td>3</td>\n",
       "      <td>yes</td>\n",
       "      <td>no</td>\n",
       "      <td>no</td>\n",
       "      <td>no</td>\n",
       "      <td>yes</td>\n",
       "      <td>2</td>\n",
       "      <td>yes</td>\n",
       "      <td>furnished</td>\n",
       "    </tr>\n",
       "    <tr>\n",
       "      <th>1</th>\n",
       "      <td>12250000</td>\n",
       "      <td>8960</td>\n",
       "      <td>4</td>\n",
       "      <td>4</td>\n",
       "      <td>4</td>\n",
       "      <td>yes</td>\n",
       "      <td>no</td>\n",
       "      <td>no</td>\n",
       "      <td>no</td>\n",
       "      <td>yes</td>\n",
       "      <td>3</td>\n",
       "      <td>no</td>\n",
       "      <td>furnished</td>\n",
       "    </tr>\n",
       "    <tr>\n",
       "      <th>2</th>\n",
       "      <td>12250000</td>\n",
       "      <td>9960</td>\n",
       "      <td>3</td>\n",
       "      <td>2</td>\n",
       "      <td>2</td>\n",
       "      <td>yes</td>\n",
       "      <td>no</td>\n",
       "      <td>yes</td>\n",
       "      <td>no</td>\n",
       "      <td>no</td>\n",
       "      <td>2</td>\n",
       "      <td>yes</td>\n",
       "      <td>semi-furnished</td>\n",
       "    </tr>\n",
       "    <tr>\n",
       "      <th>3</th>\n",
       "      <td>12215000</td>\n",
       "      <td>7500</td>\n",
       "      <td>4</td>\n",
       "      <td>2</td>\n",
       "      <td>2</td>\n",
       "      <td>yes</td>\n",
       "      <td>no</td>\n",
       "      <td>yes</td>\n",
       "      <td>no</td>\n",
       "      <td>yes</td>\n",
       "      <td>3</td>\n",
       "      <td>yes</td>\n",
       "      <td>furnished</td>\n",
       "    </tr>\n",
       "    <tr>\n",
       "      <th>4</th>\n",
       "      <td>11410000</td>\n",
       "      <td>7420</td>\n",
       "      <td>4</td>\n",
       "      <td>1</td>\n",
       "      <td>2</td>\n",
       "      <td>yes</td>\n",
       "      <td>yes</td>\n",
       "      <td>yes</td>\n",
       "      <td>no</td>\n",
       "      <td>yes</td>\n",
       "      <td>2</td>\n",
       "      <td>no</td>\n",
       "      <td>furnished</td>\n",
       "    </tr>\n",
       "  </tbody>\n",
       "</table>\n",
       "</div>"
      ],
      "text/plain": [
       "      price  area  bedrooms  bathrooms  stories mainroad guestroom basement  \\\n",
       "0  13300000  7420         4          2        3      yes        no       no   \n",
       "1  12250000  8960         4          4        4      yes        no       no   \n",
       "2  12250000  9960         3          2        2      yes        no      yes   \n",
       "3  12215000  7500         4          2        2      yes        no      yes   \n",
       "4  11410000  7420         4          1        2      yes       yes      yes   \n",
       "\n",
       "  hotwaterheating airconditioning  parking prefarea furnishingstatus  \n",
       "0              no             yes        2      yes        furnished  \n",
       "1              no             yes        3       no        furnished  \n",
       "2              no              no        2      yes   semi-furnished  \n",
       "3              no             yes        3      yes        furnished  \n",
       "4              no             yes        2       no        furnished  "
      ]
     },
     "execution_count": 28,
     "metadata": {},
     "output_type": "execute_result"
    }
   ],
   "source": [
    "# Drop unused feature columns\n",
    "dataset = housing_dataset    # pass dataset to new variable \"dataset\"\n",
    "dataset.head()"
   ]
  },
  {
   "cell_type": "code",
   "execution_count": 29,
   "id": "da9991ad",
   "metadata": {
    "scrolled": true
   },
   "outputs": [
    {
     "data": {
      "text/plain": [
       "array(['no', 'yes'], dtype=object)"
      ]
     },
     "execution_count": 29,
     "metadata": {},
     "output_type": "execute_result"
    }
   ],
   "source": [
    "dataset.basement.unique()"
   ]
  },
  {
   "cell_type": "code",
   "execution_count": 30,
   "id": "fcd1f3fe",
   "metadata": {},
   "outputs": [
    {
     "data": {
      "text/html": [
       "<div>\n",
       "<style scoped>\n",
       "    .dataframe tbody tr th:only-of-type {\n",
       "        vertical-align: middle;\n",
       "    }\n",
       "\n",
       "    .dataframe tbody tr th {\n",
       "        vertical-align: top;\n",
       "    }\n",
       "\n",
       "    .dataframe thead th {\n",
       "        text-align: right;\n",
       "    }\n",
       "</style>\n",
       "<table border=\"1\" class=\"dataframe\">\n",
       "  <thead>\n",
       "    <tr style=\"text-align: right;\">\n",
       "      <th></th>\n",
       "      <th>price</th>\n",
       "      <th>area</th>\n",
       "      <th>bedrooms</th>\n",
       "      <th>bathrooms</th>\n",
       "      <th>stories</th>\n",
       "      <th>parking</th>\n",
       "      <th>mainroad_no</th>\n",
       "      <th>mainroad_yes</th>\n",
       "      <th>guestroom_no</th>\n",
       "      <th>guestroom_yes</th>\n",
       "      <th>basement_no</th>\n",
       "      <th>basement_yes</th>\n",
       "      <th>hotwaterheating_no</th>\n",
       "      <th>hotwaterheating_yes</th>\n",
       "      <th>airconditioning_no</th>\n",
       "      <th>airconditioning_yes</th>\n",
       "      <th>prefarea_no</th>\n",
       "      <th>prefarea_yes</th>\n",
       "    </tr>\n",
       "  </thead>\n",
       "  <tbody>\n",
       "    <tr>\n",
       "      <th>0</th>\n",
       "      <td>13300000</td>\n",
       "      <td>7420</td>\n",
       "      <td>4</td>\n",
       "      <td>2</td>\n",
       "      <td>3</td>\n",
       "      <td>2</td>\n",
       "      <td>0</td>\n",
       "      <td>1</td>\n",
       "      <td>1</td>\n",
       "      <td>0</td>\n",
       "      <td>1</td>\n",
       "      <td>0</td>\n",
       "      <td>1</td>\n",
       "      <td>0</td>\n",
       "      <td>0</td>\n",
       "      <td>1</td>\n",
       "      <td>0</td>\n",
       "      <td>1</td>\n",
       "    </tr>\n",
       "    <tr>\n",
       "      <th>1</th>\n",
       "      <td>12250000</td>\n",
       "      <td>8960</td>\n",
       "      <td>4</td>\n",
       "      <td>4</td>\n",
       "      <td>4</td>\n",
       "      <td>3</td>\n",
       "      <td>0</td>\n",
       "      <td>1</td>\n",
       "      <td>1</td>\n",
       "      <td>0</td>\n",
       "      <td>1</td>\n",
       "      <td>0</td>\n",
       "      <td>1</td>\n",
       "      <td>0</td>\n",
       "      <td>0</td>\n",
       "      <td>1</td>\n",
       "      <td>1</td>\n",
       "      <td>0</td>\n",
       "    </tr>\n",
       "    <tr>\n",
       "      <th>2</th>\n",
       "      <td>12250000</td>\n",
       "      <td>9960</td>\n",
       "      <td>3</td>\n",
       "      <td>2</td>\n",
       "      <td>2</td>\n",
       "      <td>2</td>\n",
       "      <td>0</td>\n",
       "      <td>1</td>\n",
       "      <td>1</td>\n",
       "      <td>0</td>\n",
       "      <td>0</td>\n",
       "      <td>1</td>\n",
       "      <td>1</td>\n",
       "      <td>0</td>\n",
       "      <td>1</td>\n",
       "      <td>0</td>\n",
       "      <td>0</td>\n",
       "      <td>1</td>\n",
       "    </tr>\n",
       "    <tr>\n",
       "      <th>3</th>\n",
       "      <td>12215000</td>\n",
       "      <td>7500</td>\n",
       "      <td>4</td>\n",
       "      <td>2</td>\n",
       "      <td>2</td>\n",
       "      <td>3</td>\n",
       "      <td>0</td>\n",
       "      <td>1</td>\n",
       "      <td>1</td>\n",
       "      <td>0</td>\n",
       "      <td>0</td>\n",
       "      <td>1</td>\n",
       "      <td>1</td>\n",
       "      <td>0</td>\n",
       "      <td>0</td>\n",
       "      <td>1</td>\n",
       "      <td>0</td>\n",
       "      <td>1</td>\n",
       "    </tr>\n",
       "    <tr>\n",
       "      <th>4</th>\n",
       "      <td>11410000</td>\n",
       "      <td>7420</td>\n",
       "      <td>4</td>\n",
       "      <td>1</td>\n",
       "      <td>2</td>\n",
       "      <td>2</td>\n",
       "      <td>0</td>\n",
       "      <td>1</td>\n",
       "      <td>0</td>\n",
       "      <td>1</td>\n",
       "      <td>0</td>\n",
       "      <td>1</td>\n",
       "      <td>1</td>\n",
       "      <td>0</td>\n",
       "      <td>0</td>\n",
       "      <td>1</td>\n",
       "      <td>1</td>\n",
       "      <td>0</td>\n",
       "    </tr>\n",
       "  </tbody>\n",
       "</table>\n",
       "</div>"
      ],
      "text/plain": [
       "      price  area  bedrooms  bathrooms  stories  parking  mainroad_no  \\\n",
       "0  13300000  7420         4          2        3        2            0   \n",
       "1  12250000  8960         4          4        4        3            0   \n",
       "2  12250000  9960         3          2        2        2            0   \n",
       "3  12215000  7500         4          2        2        3            0   \n",
       "4  11410000  7420         4          1        2        2            0   \n",
       "\n",
       "   mainroad_yes  guestroom_no  guestroom_yes  basement_no  basement_yes  \\\n",
       "0             1             1              0            1             0   \n",
       "1             1             1              0            1             0   \n",
       "2             1             1              0            0             1   \n",
       "3             1             1              0            0             1   \n",
       "4             1             0              1            0             1   \n",
       "\n",
       "   hotwaterheating_no  hotwaterheating_yes  airconditioning_no  \\\n",
       "0                   1                    0                   0   \n",
       "1                   1                    0                   0   \n",
       "2                   1                    0                   1   \n",
       "3                   1                    0                   0   \n",
       "4                   1                    0                   0   \n",
       "\n",
       "   airconditioning_yes  prefarea_no  prefarea_yes  \n",
       "0                    1            0             1  \n",
       "1                    1            1             0  \n",
       "2                    0            0             1  \n",
       "3                    1            0             1  \n",
       "4                    1            1             0  "
      ]
     },
     "execution_count": 30,
     "metadata": {},
     "output_type": "execute_result"
    }
   ],
   "source": [
    "categorical_columns = ['mainroad', 'guestroom', 'basement', 'hotwaterheating', 'airconditioning', 'prefarea']\n",
    "for column in categorical_columns:\n",
    "    tempdataset = pd.get_dummies(dataset[column], prefix=column)\n",
    "    dataset = pd.merge(\n",
    "        left=dataset,\n",
    "        right=tempdataset,\n",
    "        left_index=True,\n",
    "        right_index=True,\n",
    "    )\n",
    "    dataset = dataset.drop(columns=column)\n",
    "\n",
    "\n",
    "# Drop unused feature columns\n",
    "dataset = dataset.drop(['furnishingstatus'], axis='columns')\n",
    "dataset.head()"
   ]
  },
  {
   "cell_type": "code",
   "execution_count": 31,
   "id": "351cae2d",
   "metadata": {
    "scrolled": false
   },
   "outputs": [
    {
     "data": {
      "text/html": [
       "<div>\n",
       "<style scoped>\n",
       "    .dataframe tbody tr th:only-of-type {\n",
       "        vertical-align: middle;\n",
       "    }\n",
       "\n",
       "    .dataframe tbody tr th {\n",
       "        vertical-align: top;\n",
       "    }\n",
       "\n",
       "    .dataframe thead th {\n",
       "        text-align: right;\n",
       "    }\n",
       "</style>\n",
       "<table border=\"1\" class=\"dataframe\">\n",
       "  <thead>\n",
       "    <tr style=\"text-align: right;\">\n",
       "      <th></th>\n",
       "      <th>price</th>\n",
       "      <th>area</th>\n",
       "      <th>bedrooms</th>\n",
       "      <th>bathrooms</th>\n",
       "      <th>stories</th>\n",
       "      <th>parking</th>\n",
       "      <th>mainroad_no</th>\n",
       "      <th>mainroad_yes</th>\n",
       "      <th>guestroom_no</th>\n",
       "      <th>guestroom_yes</th>\n",
       "      <th>basement_no</th>\n",
       "      <th>basement_yes</th>\n",
       "      <th>hotwaterheating_no</th>\n",
       "      <th>hotwaterheating_yes</th>\n",
       "      <th>airconditioning_no</th>\n",
       "      <th>airconditioning_yes</th>\n",
       "      <th>prefarea_no</th>\n",
       "      <th>prefarea_yes</th>\n",
       "    </tr>\n",
       "  </thead>\n",
       "  <tbody>\n",
       "    <tr>\n",
       "      <th>count</th>\n",
       "      <td>5.450000e+02</td>\n",
       "      <td>545.000000</td>\n",
       "      <td>545.000000</td>\n",
       "      <td>545.000000</td>\n",
       "      <td>545.000000</td>\n",
       "      <td>545.000000</td>\n",
       "      <td>545.000000</td>\n",
       "      <td>545.000000</td>\n",
       "      <td>545.000000</td>\n",
       "      <td>545.000000</td>\n",
       "      <td>545.000000</td>\n",
       "      <td>545.000000</td>\n",
       "      <td>545.000000</td>\n",
       "      <td>545.000000</td>\n",
       "      <td>545.000000</td>\n",
       "      <td>545.000000</td>\n",
       "      <td>545.000000</td>\n",
       "      <td>545.000000</td>\n",
       "    </tr>\n",
       "    <tr>\n",
       "      <th>mean</th>\n",
       "      <td>4.766729e+06</td>\n",
       "      <td>5150.541284</td>\n",
       "      <td>2.965138</td>\n",
       "      <td>1.286239</td>\n",
       "      <td>1.805505</td>\n",
       "      <td>0.693578</td>\n",
       "      <td>0.141284</td>\n",
       "      <td>0.858716</td>\n",
       "      <td>0.822018</td>\n",
       "      <td>0.177982</td>\n",
       "      <td>0.649541</td>\n",
       "      <td>0.350459</td>\n",
       "      <td>0.954128</td>\n",
       "      <td>0.045872</td>\n",
       "      <td>0.684404</td>\n",
       "      <td>0.315596</td>\n",
       "      <td>0.765138</td>\n",
       "      <td>0.234862</td>\n",
       "    </tr>\n",
       "    <tr>\n",
       "      <th>std</th>\n",
       "      <td>1.870440e+06</td>\n",
       "      <td>2170.141023</td>\n",
       "      <td>0.738064</td>\n",
       "      <td>0.502470</td>\n",
       "      <td>0.867492</td>\n",
       "      <td>0.861586</td>\n",
       "      <td>0.348635</td>\n",
       "      <td>0.348635</td>\n",
       "      <td>0.382849</td>\n",
       "      <td>0.382849</td>\n",
       "      <td>0.477552</td>\n",
       "      <td>0.477552</td>\n",
       "      <td>0.209399</td>\n",
       "      <td>0.209399</td>\n",
       "      <td>0.465180</td>\n",
       "      <td>0.465180</td>\n",
       "      <td>0.424302</td>\n",
       "      <td>0.424302</td>\n",
       "    </tr>\n",
       "    <tr>\n",
       "      <th>min</th>\n",
       "      <td>1.750000e+06</td>\n",
       "      <td>1650.000000</td>\n",
       "      <td>1.000000</td>\n",
       "      <td>1.000000</td>\n",
       "      <td>1.000000</td>\n",
       "      <td>0.000000</td>\n",
       "      <td>0.000000</td>\n",
       "      <td>0.000000</td>\n",
       "      <td>0.000000</td>\n",
       "      <td>0.000000</td>\n",
       "      <td>0.000000</td>\n",
       "      <td>0.000000</td>\n",
       "      <td>0.000000</td>\n",
       "      <td>0.000000</td>\n",
       "      <td>0.000000</td>\n",
       "      <td>0.000000</td>\n",
       "      <td>0.000000</td>\n",
       "      <td>0.000000</td>\n",
       "    </tr>\n",
       "    <tr>\n",
       "      <th>25%</th>\n",
       "      <td>3.430000e+06</td>\n",
       "      <td>3600.000000</td>\n",
       "      <td>2.000000</td>\n",
       "      <td>1.000000</td>\n",
       "      <td>1.000000</td>\n",
       "      <td>0.000000</td>\n",
       "      <td>0.000000</td>\n",
       "      <td>1.000000</td>\n",
       "      <td>1.000000</td>\n",
       "      <td>0.000000</td>\n",
       "      <td>0.000000</td>\n",
       "      <td>0.000000</td>\n",
       "      <td>1.000000</td>\n",
       "      <td>0.000000</td>\n",
       "      <td>0.000000</td>\n",
       "      <td>0.000000</td>\n",
       "      <td>1.000000</td>\n",
       "      <td>0.000000</td>\n",
       "    </tr>\n",
       "    <tr>\n",
       "      <th>50%</th>\n",
       "      <td>4.340000e+06</td>\n",
       "      <td>4600.000000</td>\n",
       "      <td>3.000000</td>\n",
       "      <td>1.000000</td>\n",
       "      <td>2.000000</td>\n",
       "      <td>0.000000</td>\n",
       "      <td>0.000000</td>\n",
       "      <td>1.000000</td>\n",
       "      <td>1.000000</td>\n",
       "      <td>0.000000</td>\n",
       "      <td>1.000000</td>\n",
       "      <td>0.000000</td>\n",
       "      <td>1.000000</td>\n",
       "      <td>0.000000</td>\n",
       "      <td>1.000000</td>\n",
       "      <td>0.000000</td>\n",
       "      <td>1.000000</td>\n",
       "      <td>0.000000</td>\n",
       "    </tr>\n",
       "    <tr>\n",
       "      <th>75%</th>\n",
       "      <td>5.740000e+06</td>\n",
       "      <td>6360.000000</td>\n",
       "      <td>3.000000</td>\n",
       "      <td>2.000000</td>\n",
       "      <td>2.000000</td>\n",
       "      <td>1.000000</td>\n",
       "      <td>0.000000</td>\n",
       "      <td>1.000000</td>\n",
       "      <td>1.000000</td>\n",
       "      <td>0.000000</td>\n",
       "      <td>1.000000</td>\n",
       "      <td>1.000000</td>\n",
       "      <td>1.000000</td>\n",
       "      <td>0.000000</td>\n",
       "      <td>1.000000</td>\n",
       "      <td>1.000000</td>\n",
       "      <td>1.000000</td>\n",
       "      <td>0.000000</td>\n",
       "    </tr>\n",
       "    <tr>\n",
       "      <th>max</th>\n",
       "      <td>1.330000e+07</td>\n",
       "      <td>16200.000000</td>\n",
       "      <td>6.000000</td>\n",
       "      <td>4.000000</td>\n",
       "      <td>4.000000</td>\n",
       "      <td>3.000000</td>\n",
       "      <td>1.000000</td>\n",
       "      <td>1.000000</td>\n",
       "      <td>1.000000</td>\n",
       "      <td>1.000000</td>\n",
       "      <td>1.000000</td>\n",
       "      <td>1.000000</td>\n",
       "      <td>1.000000</td>\n",
       "      <td>1.000000</td>\n",
       "      <td>1.000000</td>\n",
       "      <td>1.000000</td>\n",
       "      <td>1.000000</td>\n",
       "      <td>1.000000</td>\n",
       "    </tr>\n",
       "  </tbody>\n",
       "</table>\n",
       "</div>"
      ],
      "text/plain": [
       "              price          area    bedrooms   bathrooms     stories  \\\n",
       "count  5.450000e+02    545.000000  545.000000  545.000000  545.000000   \n",
       "mean   4.766729e+06   5150.541284    2.965138    1.286239    1.805505   \n",
       "std    1.870440e+06   2170.141023    0.738064    0.502470    0.867492   \n",
       "min    1.750000e+06   1650.000000    1.000000    1.000000    1.000000   \n",
       "25%    3.430000e+06   3600.000000    2.000000    1.000000    1.000000   \n",
       "50%    4.340000e+06   4600.000000    3.000000    1.000000    2.000000   \n",
       "75%    5.740000e+06   6360.000000    3.000000    2.000000    2.000000   \n",
       "max    1.330000e+07  16200.000000    6.000000    4.000000    4.000000   \n",
       "\n",
       "          parking  mainroad_no  mainroad_yes  guestroom_no  guestroom_yes  \\\n",
       "count  545.000000   545.000000    545.000000    545.000000     545.000000   \n",
       "mean     0.693578     0.141284      0.858716      0.822018       0.177982   \n",
       "std      0.861586     0.348635      0.348635      0.382849       0.382849   \n",
       "min      0.000000     0.000000      0.000000      0.000000       0.000000   \n",
       "25%      0.000000     0.000000      1.000000      1.000000       0.000000   \n",
       "50%      0.000000     0.000000      1.000000      1.000000       0.000000   \n",
       "75%      1.000000     0.000000      1.000000      1.000000       0.000000   \n",
       "max      3.000000     1.000000      1.000000      1.000000       1.000000   \n",
       "\n",
       "       basement_no  basement_yes  hotwaterheating_no  hotwaterheating_yes  \\\n",
       "count   545.000000    545.000000          545.000000           545.000000   \n",
       "mean      0.649541      0.350459            0.954128             0.045872   \n",
       "std       0.477552      0.477552            0.209399             0.209399   \n",
       "min       0.000000      0.000000            0.000000             0.000000   \n",
       "25%       0.000000      0.000000            1.000000             0.000000   \n",
       "50%       1.000000      0.000000            1.000000             0.000000   \n",
       "75%       1.000000      1.000000            1.000000             0.000000   \n",
       "max       1.000000      1.000000            1.000000             1.000000   \n",
       "\n",
       "       airconditioning_no  airconditioning_yes  prefarea_no  prefarea_yes  \n",
       "count          545.000000           545.000000   545.000000    545.000000  \n",
       "mean             0.684404             0.315596     0.765138      0.234862  \n",
       "std              0.465180             0.465180     0.424302      0.424302  \n",
       "min              0.000000             0.000000     0.000000      0.000000  \n",
       "25%              0.000000             0.000000     1.000000      0.000000  \n",
       "50%              1.000000             0.000000     1.000000      0.000000  \n",
       "75%              1.000000             1.000000     1.000000      0.000000  \n",
       "max              1.000000             1.000000     1.000000      1.000000  "
      ]
     },
     "execution_count": 31,
     "metadata": {},
     "output_type": "execute_result"
    }
   ],
   "source": [
    "dataset.describe()"
   ]
  },
  {
   "cell_type": "code",
   "execution_count": 32,
   "id": "a0292bec",
   "metadata": {},
   "outputs": [
    {
     "name": "stdout",
     "output_type": "stream",
     "text": [
      "<class 'pandas.core.frame.DataFrame'>\n",
      "RangeIndex: 545 entries, 0 to 544\n",
      "Data columns (total 18 columns):\n",
      " #   Column               Non-Null Count  Dtype\n",
      "---  ------               --------------  -----\n",
      " 0   price                545 non-null    int64\n",
      " 1   area                 545 non-null    int64\n",
      " 2   bedrooms             545 non-null    int64\n",
      " 3   bathrooms            545 non-null    int64\n",
      " 4   stories              545 non-null    int64\n",
      " 5   parking              545 non-null    int64\n",
      " 6   mainroad_no          545 non-null    uint8\n",
      " 7   mainroad_yes         545 non-null    uint8\n",
      " 8   guestroom_no         545 non-null    uint8\n",
      " 9   guestroom_yes        545 non-null    uint8\n",
      " 10  basement_no          545 non-null    uint8\n",
      " 11  basement_yes         545 non-null    uint8\n",
      " 12  hotwaterheating_no   545 non-null    uint8\n",
      " 13  hotwaterheating_yes  545 non-null    uint8\n",
      " 14  airconditioning_no   545 non-null    uint8\n",
      " 15  airconditioning_yes  545 non-null    uint8\n",
      " 16  prefarea_no          545 non-null    uint8\n",
      " 17  prefarea_yes         545 non-null    uint8\n",
      "dtypes: int64(6), uint8(12)\n",
      "memory usage: 32.1 KB\n"
     ]
    }
   ],
   "source": [
    "dataset.info()"
   ]
  },
  {
   "cell_type": "markdown",
   "id": "84f24864",
   "metadata": {},
   "source": [
    "#### Split dataset into test(0.3) and train(0.7)"
   ]
  },
  {
   "cell_type": "code",
   "execution_count": 33,
   "id": "fdbb0a85",
   "metadata": {},
   "outputs": [],
   "source": [
    "np.random.seed(0)    # generate pseudo-rand numbers based on a seed value \"0\"\n",
    "\n",
    "# split \"dataset_one\" dataset into train and test sets; 70-30 split\n",
    "df_train, df_test = train_test_split(dataset, train_size = 0.7, test_size = 0.3, random_state = 1)"
   ]
  },
  {
   "cell_type": "code",
   "execution_count": 34,
   "id": "69e085d1",
   "metadata": {},
   "outputs": [
    {
     "data": {
      "text/plain": [
       "(381, 18)"
      ]
     },
     "execution_count": 34,
     "metadata": {},
     "output_type": "execute_result"
    }
   ],
   "source": [
    "df_train.shape    # display dimensions of the train set"
   ]
  },
  {
   "cell_type": "code",
   "execution_count": 35,
   "id": "cd928228",
   "metadata": {},
   "outputs": [
    {
     "data": {
      "text/plain": [
       "(164, 18)"
      ]
     },
     "execution_count": 35,
     "metadata": {},
     "output_type": "execute_result"
    }
   ],
   "source": [
    "df_test.shape    # display dimensions of the test set"
   ]
  },
  {
   "cell_type": "code",
   "execution_count": 36,
   "id": "f81a03f1",
   "metadata": {},
   "outputs": [],
   "source": [
    "x = df_train.values[:, 1:18]    # get input values from first column\n",
    "y = df_train.values[:, 0]    # get output values from second column\n",
    "m = len(y)    # number of training examples, length of target variable rows\n",
    "temp_m = len(x)    # length of feature columns variable rows\n",
    "assert (m == temp_m)    # confirm they have equivalent length"
   ]
  },
  {
   "cell_type": "code",
   "execution_count": 37,
   "id": "a4eb00c3",
   "metadata": {},
   "outputs": [
    {
     "data": {
      "text/plain": [
       "Text(0.5, 1.0, 'SCATTER PLOT OF TRAINING DATA')"
      ]
     },
     "execution_count": 37,
     "metadata": {},
     "output_type": "execute_result"
    },
    {
     "data": {
      "image/png": "[encoded data removed]",
      "text/plain": [
       "<Figure size 864x576 with 1 Axes>"
      ]
     },
     "metadata": {
      "needs_background": "light"
     },
     "output_type": "display_data"
    }
   ],
   "source": [
    "# plot dataset columns\n",
    "plt.scatter(df_train.values[:, 1],y, color='red',marker= '+')\n",
    "plt.scatter(df_train.values[:, 2],y, color='yellow',marker= '+')\n",
    "plt.scatter(df_train.values[:, 3],y, color='blue',marker= '+')\n",
    "plt.scatter(df_train.values[:, 4],y, color='green',marker= '+')\n",
    "plt.scatter(df_train.values[:, 5],y, color='indigo',marker= '+')\n",
    "plt.grid()\n",
    "plt.rcParams[\"figure.figsize\"] = (10, 8)\n",
    "plt.xlabel('Explanatory Variables')\n",
    "plt.ylabel('Dependent Variables')\n",
    "plt.title('SCATTER PLOT OF TRAINING DATA') "
   ]
  },
  {
   "cell_type": "markdown",
   "id": "8107a78b",
   "metadata": {},
   "source": [
    "**Compute the cost function**\n",
    "\n",
    "* Matrix operations are much faster than loops operations, so matrice of x, θ and (x * θ) were used"
   ]
  },
  {
   "cell_type": "code",
   "execution_count": 38,
   "id": "2c455540",
   "metadata": {},
   "outputs": [],
   "source": [
    "# lets use hstack() function from numpy to add column of ones to X feature \n",
    "# this will be our final X matrix (feature matrix)\n",
    "X = np.hstack((np.ones((m,1)), x))\n",
    "\n",
    "# initialise theta to zero as recommended by the hw question\n",
    "theta = np.zeros(18)\n",
    "\n",
    "# declare and assign values to the gradient descent learning parameters alpha and no of iterations\n",
    "alpha = 0.04\n",
    "iterations =1000"
   ]
  },
  {
   "cell_type": "code",
   "execution_count": 39,
   "id": "63cbe309",
   "metadata": {},
   "outputs": [
    {
     "name": "stdout",
     "output_type": "stream",
     "text": [
      "Final value of train theta = [nan nan nan nan nan nan nan nan nan nan nan nan nan nan nan nan nan nan]\n",
      "\n",
      "First 5 values from train cost_history = [1.90655616e+25 3.20637392e+37 5.39235819e+49 9.06866372e+61\n",
      " 1.52513351e+74]\n",
      "\n",
      "Last 5 values from train cost_history = [nan nan nan nan nan]\n",
      "\n",
      "Training Theta List:  [nan nan nan nan nan nan nan nan nan nan nan nan nan nan nan nan nan nan]\n",
      "\n",
      "Training Cost History: \n",
      " [1.90655616e+025 3.20637392e+037 5.39235819e+049 9.06866372e+061\n",
      " 1.52513351e+074 2.56491176e+086 4.31357142e+098 7.25440101e+110\n",
      " 1.22001768e+123 2.05177951e+135 3.45060506e+147 5.80309686e+159\n",
      " 9.75942846e+171 1.64130371e+184 2.76028239e+196 4.64213836e+208\n",
      " 7.80697244e+220 1.31294705e+233 2.20806461e+245 3.71343941e+257\n",
      " 6.24512171e+269 1.05028091e+282 1.76632265e+294             inf\n",
      "             inf             inf             inf             inf\n",
      "             inf             inf             inf             inf\n",
      "             inf             inf             inf             inf\n",
      "             inf             inf             inf             inf\n",
      "             inf             inf             inf             inf\n",
      "             inf             inf             inf             inf\n",
      "             inf             nan             nan             nan\n",
      "             nan             nan             nan             nan\n",
      "             nan             nan             nan             nan\n",
      "             nan             nan             nan             nan\n",
      "             nan             nan             nan             nan\n",
      "             nan             nan             nan             nan\n",
      "             nan             nan             nan             nan\n",
      "             nan             nan             nan             nan\n",
      "             nan             nan             nan             nan\n",
      "             nan             nan             nan             nan\n",
      "             nan             nan             nan             nan\n",
      "             nan             nan             nan             nan\n",
      "             nan             nan             nan             nan\n",
      "             nan             nan             nan             nan\n",
      "             nan             nan             nan             nan\n",
      "             nan             nan             nan             nan\n",
      "             nan             nan             nan             nan\n",
      "             nan             nan             nan             nan\n",
      "             nan             nan             nan             nan\n",
      "             nan             nan             nan             nan\n",
      "             nan             nan             nan             nan\n",
      "             nan             nan             nan             nan\n",
      "             nan             nan             nan             nan\n",
      "             nan             nan             nan             nan\n",
      "             nan             nan             nan             nan\n",
      "             nan             nan             nan             nan\n",
      "             nan             nan             nan             nan\n",
      "             nan             nan             nan             nan\n",
      "             nan             nan             nan             nan\n",
      "             nan             nan             nan             nan\n",
      "             nan             nan             nan             nan\n",
      "             nan             nan             nan             nan\n",
      "             nan             nan             nan             nan\n",
      "             nan             nan             nan             nan\n",
      "             nan             nan             nan             nan\n",
      "             nan             nan             nan             nan\n",
      "             nan             nan             nan             nan\n",
      "             nan             nan             nan             nan\n",
      "             nan             nan             nan             nan\n",
      "             nan             nan             nan             nan\n",
      "             nan             nan             nan             nan\n",
      "             nan             nan             nan             nan\n",
      "             nan             nan             nan             nan\n",
      "             nan             nan             nan             nan\n",
      "             nan             nan             nan             nan\n",
      "             nan             nan             nan             nan\n",
      "             nan             nan             nan             nan\n",
      "             nan             nan             nan             nan\n",
      "             nan             nan             nan             nan\n",
      "             nan             nan             nan             nan\n",
      "             nan             nan             nan             nan\n",
      "             nan             nan             nan             nan\n",
      "             nan             nan             nan             nan\n",
      "             nan             nan             nan             nan\n",
      "             nan             nan             nan             nan\n",
      "             nan             nan             nan             nan\n",
      "             nan             nan             nan             nan\n",
      "             nan             nan             nan             nan\n",
      "             nan             nan             nan             nan\n",
      "             nan             nan             nan             nan\n",
      "             nan             nan             nan             nan\n",
      "             nan             nan             nan             nan\n",
      "             nan             nan             nan             nan\n",
      "             nan             nan             nan             nan\n",
      "             nan             nan             nan             nan\n",
      "             nan             nan             nan             nan\n",
      "             nan             nan             nan             nan\n",
      "             nan             nan             nan             nan\n",
      "             nan             nan             nan             nan\n",
      "             nan             nan             nan             nan\n",
      "             nan             nan             nan             nan\n",
      "             nan             nan             nan             nan\n",
      "             nan             nan             nan             nan\n",
      "             nan             nan             nan             nan\n",
      "             nan             nan             nan             nan\n",
      "             nan             nan             nan             nan\n",
      "             nan             nan             nan             nan\n",
      "             nan             nan             nan             nan\n",
      "             nan             nan             nan             nan\n",
      "             nan             nan             nan             nan\n",
      "             nan             nan             nan             nan\n",
      "             nan             nan             nan             nan\n",
      "             nan             nan             nan             nan\n",
      "             nan             nan             nan             nan\n",
      "             nan             nan             nan             nan\n",
      "             nan             nan             nan             nan\n",
      "             nan             nan             nan             nan\n",
      "             nan             nan             nan             nan\n",
      "             nan             nan             nan             nan\n",
      "             nan             nan             nan             nan\n",
      "             nan             nan             nan             nan\n",
      "             nan             nan             nan             nan\n",
      "             nan             nan             nan             nan\n",
      "             nan             nan             nan             nan\n",
      "             nan             nan             nan             nan\n",
      "             nan             nan             nan             nan\n",
      "             nan             nan             nan             nan\n",
      "             nan             nan             nan             nan\n",
      "             nan             nan             nan             nan\n",
      "             nan             nan             nan             nan\n",
      "             nan             nan             nan             nan\n",
      "             nan             nan             nan             nan\n",
      "             nan             nan             nan             nan\n",
      "             nan             nan             nan             nan\n",
      "             nan             nan             nan             nan\n",
      "             nan             nan             nan             nan\n",
      "             nan             nan             nan             nan\n",
      "             nan             nan             nan             nan\n",
      "             nan             nan             nan             nan\n",
      "             nan             nan             nan             nan\n",
      "             nan             nan             nan             nan\n",
      "             nan             nan             nan             nan\n",
      "             nan             nan             nan             nan\n",
      "             nan             nan             nan             nan\n",
      "             nan             nan             nan             nan\n",
      "             nan             nan             nan             nan\n",
      "             nan             nan             nan             nan\n",
      "             nan             nan             nan             nan\n",
      "             nan             nan             nan             nan\n",
      "             nan             nan             nan             nan\n",
      "             nan             nan             nan             nan\n",
      "             nan             nan             nan             nan\n",
      "             nan             nan             nan             nan\n",
      "             nan             nan             nan             nan\n",
      "             nan             nan             nan             nan\n",
      "             nan             nan             nan             nan\n",
      "             nan             nan             nan             nan\n",
      "             nan             nan             nan             nan\n",
      "             nan             nan             nan             nan\n",
      "             nan             nan             nan             nan\n",
      "             nan             nan             nan             nan\n",
      "             nan             nan             nan             nan\n",
      "             nan             nan             nan             nan\n",
      "             nan             nan             nan             nan\n",
      "             nan             nan             nan             nan\n",
      "             nan             nan             nan             nan\n",
      "             nan             nan             nan             nan\n",
      "             nan             nan             nan             nan\n",
      "             nan             nan             nan             nan\n",
      "             nan             nan             nan             nan\n",
      "             nan             nan             nan             nan\n",
      "             nan             nan             nan             nan\n",
      "             nan             nan             nan             nan\n",
      "             nan             nan             nan             nan\n",
      "             nan             nan             nan             nan\n",
      "             nan             nan             nan             nan\n",
      "             nan             nan             nan             nan\n",
      "             nan             nan             nan             nan\n",
      "             nan             nan             nan             nan\n",
      "             nan             nan             nan             nan\n",
      "             nan             nan             nan             nan\n",
      "             nan             nan             nan             nan\n",
      "             nan             nan             nan             nan\n",
      "             nan             nan             nan             nan\n",
      "             nan             nan             nan             nan\n",
      "             nan             nan             nan             nan\n",
      "             nan             nan             nan             nan\n",
      "             nan             nan             nan             nan\n",
      "             nan             nan             nan             nan\n",
      "             nan             nan             nan             nan\n",
      "             nan             nan             nan             nan\n",
      "             nan             nan             nan             nan\n",
      "             nan             nan             nan             nan\n",
      "             nan             nan             nan             nan\n",
      "             nan             nan             nan             nan\n",
      "             nan             nan             nan             nan\n",
      "             nan             nan             nan             nan\n",
      "             nan             nan             nan             nan\n",
      "             nan             nan             nan             nan\n",
      "             nan             nan             nan             nan\n",
      "             nan             nan             nan             nan\n",
      "             nan             nan             nan             nan\n",
      "             nan             nan             nan             nan\n",
      "             nan             nan             nan             nan\n",
      "             nan             nan             nan             nan\n",
      "             nan             nan             nan             nan\n",
      "             nan             nan             nan             nan\n",
      "             nan             nan             nan             nan\n",
      "             nan             nan             nan             nan\n",
      "             nan             nan             nan             nan\n",
      "             nan             nan             nan             nan\n",
      "             nan             nan             nan             nan\n",
      "             nan             nan             nan             nan\n",
      "             nan             nan             nan             nan\n",
      "             nan             nan             nan             nan\n",
      "             nan             nan             nan             nan\n",
      "             nan             nan             nan             nan\n",
      "             nan             nan             nan             nan\n",
      "             nan             nan             nan             nan\n",
      "             nan             nan             nan             nan\n",
      "             nan             nan             nan             nan\n",
      "             nan             nan             nan             nan\n",
      "             nan             nan             nan             nan\n",
      "             nan             nan             nan             nan\n",
      "             nan             nan             nan             nan\n",
      "             nan             nan             nan             nan\n",
      "             nan             nan             nan             nan\n",
      "             nan             nan             nan             nan\n",
      "             nan             nan             nan             nan\n",
      "             nan             nan             nan             nan\n",
      "             nan             nan             nan             nan\n",
      "             nan             nan             nan             nan\n",
      "             nan             nan             nan             nan\n",
      "             nan             nan             nan             nan\n",
      "             nan             nan             nan             nan\n",
      "             nan             nan             nan             nan\n",
      "             nan             nan             nan             nan\n",
      "             nan             nan             nan             nan\n",
      "             nan             nan             nan             nan\n",
      "             nan             nan             nan             nan\n",
      "             nan             nan             nan             nan\n",
      "             nan             nan             nan             nan\n",
      "             nan             nan             nan             nan\n",
      "             nan             nan             nan             nan\n",
      "             nan             nan             nan             nan\n",
      "             nan             nan             nan             nan\n",
      "             nan             nan             nan             nan\n",
      "             nan             nan             nan             nan\n",
      "             nan             nan             nan             nan\n",
      "             nan             nan             nan             nan\n",
      "             nan             nan             nan             nan\n",
      "             nan             nan             nan             nan\n",
      "             nan             nan             nan             nan\n",
      "             nan             nan             nan             nan\n",
      "             nan             nan             nan             nan\n",
      "             nan             nan             nan             nan\n",
      "             nan             nan             nan             nan\n",
      "             nan             nan             nan             nan\n",
      "             nan             nan             nan             nan\n",
      "             nan             nan             nan             nan\n",
      "             nan             nan             nan             nan\n",
      "             nan             nan             nan             nan\n",
      "             nan             nan             nan             nan\n",
      "             nan             nan             nan             nan\n",
      "             nan             nan             nan             nan\n",
      "             nan             nan             nan             nan\n",
      "             nan             nan             nan             nan\n",
      "             nan             nan             nan             nan]\n"
     ]
    },
    {
     "name": "stderr",
     "output_type": "stream",
     "text": [
      "/tmp/ipykernel_7563/937980692.py:5: RuntimeWarning: overflow encountered in square\n",
      "  sqrErrors = np.square(errors)\n"
     ]
    }
   ],
   "source": [
    "train_theta, train_cost_history = gradient_descent(X, y, theta, alpha, iterations)    # call cost function\n",
    "print('Final value of train theta =', train_theta)    # print train theta\n",
    "print('\\nFirst 5 values from train cost_history =', train_cost_history[:5])    # print 1-5 train cost history\n",
    "print('\\nLast 5 values from train cost_history =', train_cost_history[-5 :])    # print last 5 train cost history\n",
    "print('\\nTraining Theta List: ', train_theta)\n",
    "print('\\nTraining Cost History: \\n', train_cost_history)\n"
   ]
  },
  {
   "cell_type": "code",
   "execution_count": 40,
   "id": "3b978d78",
   "metadata": {
    "scrolled": false
   },
   "outputs": [
    {
     "data": {
      "text/plain": [
       "Text(0.5, 1.0, 'Convergence of gradient descent for train model')"
      ]
     },
     "execution_count": 40,
     "metadata": {},
     "output_type": "execute_result"
    },
    {
     "data": {
      "image/png": "[encoded data removed]",
      "text/plain": [
       "<Figure size 720x576 with 1 Axes>"
      ]
     },
     "metadata": {
      "needs_background": "light"
     },
     "output_type": "display_data"
    }
   ],
   "source": [
    "# plot gradient descent\n",
    "plt.plot(range(1, iterations +1), train_cost_history, color ='blue')\n",
    "plt.rcParams[\"figure.figsize\"] = (10, 6)\n",
    "plt.grid()\n",
    "plt.xlabel(\"Number of iterations\")\n",
    "plt.ylabel(\"cost (J)\")\n",
    "plt.title(\"Convergence of gradient descent for train model\")"
   ]
  },
  {
   "cell_type": "markdown",
   "id": "269cda60",
   "metadata": {},
   "source": [
    "**Experiment with different values of alpha**"
   ]
  },
  {
   "cell_type": "code",
   "execution_count": 41,
   "id": "4cca48e6",
   "metadata": {},
   "outputs": [
    {
     "name": "stderr",
     "output_type": "stream",
     "text": [
      "/tmp/ipykernel_7563/937980692.py:5: RuntimeWarning: overflow encountered in square\n",
      "  sqrErrors = np.square(errors)\n",
      "/tmp/ipykernel_7563/998736291.py:8: RuntimeWarning: invalid value encountered in subtract\n",
      "  theta = theta - sum_delta;\n"
     ]
    },
    {
     "data": {
      "text/plain": [
       "<matplotlib.legend.Legend at 0x7f8d0574e790>"
      ]
     },
     "execution_count": 41,
     "metadata": {},
     "output_type": "execute_result"
    },
    {
     "data": {
      "image/png": "[encoded data removed]",
      "text/plain": [
       "<Figure size 720x432 with 1 Axes>"
      ]
     },
     "metadata": {
      "needs_background": "light"
     },
     "output_type": "display_data"
    }
   ],
   "source": [
    "alpha = 0.01;\n",
    "#alpha = 0.0000000001;\n",
    "trainTheta_1, trainCostHistory_1 = gradient_descent(X, y, theta, alpha, iterations)\n",
    "\n",
    "alpha = 0.03;\n",
    "#alpha = 0.0000000003;\n",
    "trainTheta_2, trainCostHistory_2 = gradient_descent(X, y, theta, alpha, iterations)\n",
    "\n",
    "alpha = 0.05;\n",
    "#alpha = 0.0000000005;\n",
    "trainTheta_3, trainCostHistory_3 = gradient_descent(X, y, theta, alpha, iterations)\n",
    "\n",
    "alpha = 0.08;\n",
    "#alpha = 0.0000000008;\n",
    "trainTheta_4, trainCostHistory_4 = gradient_descent(X, y, theta, alpha, iterations)\n",
    "\n",
    "alpha = 0.10;\n",
    "#alpha = 0.0000000010;\n",
    "trainTheta_5, trainCostHistory_5 = gradient_descent(X, y, theta, alpha, iterations)\n",
    "\n",
    "# plot models for different alphas\n",
    "plt.plot(range(1, iterations +1), trainCostHistory_1, color ='purple', label = 'alpha = 0.01e-8')\n",
    "plt.plot(range(1, iterations +1), trainCostHistory_2, color ='red', label = 'alpha = 0.03e-8')\n",
    "plt.plot(range(1, iterations +1), trainCostHistory_3, color ='green', label = 'alpha = 0.05e-8')\n",
    "plt.plot(range(1, iterations +1), trainCostHistory_4, color ='yellow', label = 'alpha = 0.08e-8')\n",
    "plt.plot(range(1, iterations +1), trainCostHistory_5, color ='blue', label = 'alpha = 0.10e-8')\n",
    "\n",
    "plt.rcParams[\"figure.figsize\"] = (12, 8)\n",
    "plt.grid()\n",
    "plt.xlabel(\"Number of iterations\")\n",
    "plt.ylabel(\"cost (J)\")\n",
    "plt.title(\"Effect of Learning Rate On Convergence of Gradient Descent (Train)\")\n",
    "plt.legend()"
   ]
  },
  {
   "cell_type": "markdown",
   "id": "ee12f404",
   "metadata": {},
   "source": [
    "<br>\n",
    "\n",
    "**Test linear model**"
   ]
  },
  {
   "cell_type": "code",
   "execution_count": null,
   "id": "2bae20c7",
   "metadata": {},
   "outputs": [],
   "source": [
    "print(xTest)"
   ]
  },
  {
   "cell_type": "code",
   "execution_count": null,
   "id": "a03c6258",
   "metadata": {},
   "outputs": [],
   "source": []
  },
  {
   "cell_type": "code",
   "execution_count": null,
   "id": "81cb3122",
   "metadata": {},
   "outputs": [],
   "source": []
  },
  {
   "cell_type": "code",
   "execution_count": null,
   "id": "30a938dd",
   "metadata": {},
   "outputs": [],
   "source": []
  },
  {
   "cell_type": "code",
   "execution_count": null,
   "id": "67af6c80",
   "metadata": {},
   "outputs": [],
   "source": []
  },
  {
   "cell_type": "code",
   "execution_count": 42,
   "id": "1c18a9f9",
   "metadata": {},
   "outputs": [],
   "source": [
    "xTest = df_test.values[:, 1:18]  # get input values from first column\n",
    "yTest = df_test.values[:, 0]  # get output values from second column\n",
    "m = len(yTest)    # number of training examples, length of target variable rows\n",
    "temp_m = len(xTest)    # length of feature columns variable rows\n",
    "assert (m == temp_m)    # confirm they have equivalent length"
   ]
  },
  {
   "cell_type": "code",
   "execution_count": 43,
   "id": "73b9ed2c",
   "metadata": {},
   "outputs": [
    {
     "data": {
      "text/plain": [
       "Text(0.5, 1.0, 'SCATTER PLOT OF TEST DATA')"
      ]
     },
     "execution_count": 43,
     "metadata": {},
     "output_type": "execute_result"
    },
    {
     "data": {
      "image/png": "[encoded data removed]",
      "text/plain": [
       "<Figure size 864x576 with 1 Axes>"
      ]
     },
     "metadata": {
      "needs_background": "light"
     },
     "output_type": "display_data"
    }
   ],
   "source": [
    "# plot test model\n",
    "plt.scatter(df_test.values[:, 1],yTest, color='red',marker= '+')\n",
    "plt.scatter(df_test.values[:, 2],yTest, color='yellow',marker= '+')\n",
    "plt.scatter(df_test.values[:, 3],yTest, color='blue',marker= '+')\n",
    "plt.scatter(df_test.values[:, 4],yTest, color='green',marker= '+')\n",
    "plt.scatter(df_test.values[:, 5],yTest, color='indigo',marker= '+')\n",
    "plt.grid()\n",
    "plt.rcParams[\"figure.figsize\"] = (12, 8)\n",
    "plt.xlabel('Explanatory Variables')\n",
    "plt.ylabel('Dependent Variables')\n",
    "plt.title('SCATTER PLOT OF TEST DATA')"
   ]
  },
  {
   "cell_type": "code",
   "execution_count": 44,
   "id": "b5d48df0",
   "metadata": {},
   "outputs": [],
   "source": [
    "# Lets use hstack() function from numpy to add column of ones to X feature \n",
    "# This will be our final X matrix (feature matrix)\n",
    "X_Test = np.hstack((np.ones((m,1)), xTest))\n",
    "\n",
    "#Initialise theta to theta from train linear model as recommended by the hw question\n",
    "eval_theta = train_theta"
   ]
  },
  {
   "cell_type": "code",
   "execution_count": 45,
   "id": "56111c1f",
   "metadata": {},
   "outputs": [
    {
     "name": "stdout",
     "output_type": "stream",
     "text": [
      "Value of theta from test model = [nan nan nan nan nan nan nan nan nan nan nan nan nan nan nan nan nan nan]\n",
      "First 5 values from test cost_history = [nan nan nan nan nan]\n",
      "Last 5 values from test cost_history = [nan nan nan nan nan]\n"
     ]
    }
   ],
   "source": [
    "# test linear regression model\n",
    "alpha = 0.04\n",
    "test_theta, test_cost_history = gradient_descent(X_Test, yTest, eval_theta, alpha, iterations)\n",
    "\n",
    "# print theta and cost history\n",
    "print('Value of theta from test model =', test_theta)\n",
    "print('First 5 values from test cost_history =', test_cost_history[:5])\n",
    "print('Last 5 values from test cost_history =', test_cost_history[-5 :])"
   ]
  },
  {
   "cell_type": "code",
   "execution_count": 46,
   "id": "600bad5d",
   "metadata": {},
   "outputs": [
    {
     "data": {
      "text/plain": [
       "<matplotlib.legend.Legend at 0x7f8d05687f70>"
      ]
     },
     "execution_count": 46,
     "metadata": {},
     "output_type": "execute_result"
    },
    {
     "data": {
      "image/png": "[encoded data removed]",
      "text/plain": [
       "<Figure size 864x576 with 1 Axes>"
      ]
     },
     "metadata": {
      "needs_background": "light"
     },
     "output_type": "display_data"
    }
   ],
   "source": [
    "# plot test model\n",
    "plt.plot(range(1, iterations +1), train_cost_history, color ='blue', label = 'Train')\n",
    "plt.plot(range(1, iterations +1), test_cost_history, color ='green', label = 'Test')\n",
    "plt.rcParams[\"figure.figsize\"] = (12, 8)\n",
    "plt.grid()\n",
    "plt.xlabel(\"Number of iterations\")\n",
    "plt.ylabel(\"cost (J)\")\n",
    "plt.title(\"Convergence of gradient descent (Test vs Train)\")\n",
    "plt.legend()"
   ]
  },
  {
   "cell_type": "markdown",
   "id": "b35e0441",
   "metadata": {},
   "source": [
    "---"
   ]
  },
  {
   "cell_type": "markdown",
   "id": "1501c222",
   "metadata": {},
   "source": [
    "---"
   ]
  },
  {
   "cell_type": "markdown",
   "id": "2cfaa1be",
   "metadata": {},
   "source": [
    "---"
   ]
  },
  {
   "cell_type": "markdown",
   "id": "2ab28853",
   "metadata": {},
   "source": [
    "---"
   ]
  },
  {
   "cell_type": "markdown",
   "id": "427096bc",
   "metadata": {},
   "source": [
    "### Problem 2.A\n",
    "Repeat problem 1 a, this time with input normalization and input standardization as part of your pre-processing logic. You need to perform two separate trainings for standardization and normalization. \n",
    "\n",
    "Plot the training and validation losses for both training and validation set based on input standardization and input normalization. Compare your training accuracy between both scaling approaches as well as the baseline training in problem 1 a. Which input scaling achieves the best training? Explain your results."
   ]
  },
  {
   "cell_type": "code",
   "execution_count": 47,
   "id": "e8d7187f",
   "metadata": {
    "scrolled": true
   },
   "outputs": [
    {
     "data": {
      "text/html": [
       "<div>\n",
       "<style scoped>\n",
       "    .dataframe tbody tr th:only-of-type {\n",
       "        vertical-align: middle;\n",
       "    }\n",
       "\n",
       "    .dataframe tbody tr th {\n",
       "        vertical-align: top;\n",
       "    }\n",
       "\n",
       "    .dataframe thead th {\n",
       "        text-align: right;\n",
       "    }\n",
       "</style>\n",
       "<table border=\"1\" class=\"dataframe\">\n",
       "  <thead>\n",
       "    <tr style=\"text-align: right;\">\n",
       "      <th></th>\n",
       "      <th>price</th>\n",
       "      <th>area</th>\n",
       "      <th>bedrooms</th>\n",
       "      <th>bathrooms</th>\n",
       "      <th>stories</th>\n",
       "      <th>parking</th>\n",
       "    </tr>\n",
       "  </thead>\n",
       "  <tbody>\n",
       "    <tr>\n",
       "      <th>0</th>\n",
       "      <td>13300000</td>\n",
       "      <td>7420</td>\n",
       "      <td>4</td>\n",
       "      <td>2</td>\n",
       "      <td>3</td>\n",
       "      <td>2</td>\n",
       "    </tr>\n",
       "    <tr>\n",
       "      <th>1</th>\n",
       "      <td>12250000</td>\n",
       "      <td>8960</td>\n",
       "      <td>4</td>\n",
       "      <td>4</td>\n",
       "      <td>4</td>\n",
       "      <td>3</td>\n",
       "    </tr>\n",
       "    <tr>\n",
       "      <th>2</th>\n",
       "      <td>12250000</td>\n",
       "      <td>9960</td>\n",
       "      <td>3</td>\n",
       "      <td>2</td>\n",
       "      <td>2</td>\n",
       "      <td>2</td>\n",
       "    </tr>\n",
       "    <tr>\n",
       "      <th>3</th>\n",
       "      <td>12215000</td>\n",
       "      <td>7500</td>\n",
       "      <td>4</td>\n",
       "      <td>2</td>\n",
       "      <td>2</td>\n",
       "      <td>3</td>\n",
       "    </tr>\n",
       "    <tr>\n",
       "      <th>4</th>\n",
       "      <td>11410000</td>\n",
       "      <td>7420</td>\n",
       "      <td>4</td>\n",
       "      <td>1</td>\n",
       "      <td>2</td>\n",
       "      <td>2</td>\n",
       "    </tr>\n",
       "  </tbody>\n",
       "</table>\n",
       "</div>"
      ],
      "text/plain": [
       "      price  area  bedrooms  bathrooms  stories  parking\n",
       "0  13300000  7420         4          2        3        2\n",
       "1  12250000  8960         4          4        4        3\n",
       "2  12250000  9960         3          2        2        2\n",
       "3  12215000  7500         4          2        2        3\n",
       "4  11410000  7420         4          1        2        2"
      ]
     },
     "execution_count": 47,
     "metadata": {},
     "output_type": "execute_result"
    }
   ],
   "source": [
    "# Drop unused feature columns\n",
    "dataset = housing_dataset    # pass housing dataset to new variable \"dataset\"\n",
    "dataset_two_a = dataset.drop(['mainroad', 'guestroom', 'basement', 'hotwaterheating', 'airconditioning', 'prefarea', 'furnishingstatus'], axis='columns')\n",
    "\n",
    "dataset_two_a.head()    # display 1-5 rows of dataset"
   ]
  },
  {
   "cell_type": "markdown",
   "id": "a30d386c",
   "metadata": {},
   "source": [
    "#### Split dataset into test(0.3) and train(0.7)"
   ]
  },
  {
   "cell_type": "code",
   "execution_count": 48,
   "id": "8d217abc",
   "metadata": {},
   "outputs": [],
   "source": [
    "np.random.seed(0)    # generate pseudo-rand numbers based on a seed value \"0\"\n",
    "\n",
    "# split \"dataset_one\" dataset into train and test sets; 70-30 split\n",
    "# X_train,X_test,y_train,y_test=train_test_split(X,y,test_size=0.30,random_state=1)\n",
    "df_train, df_test = train_test_split(dataset_two_a, train_size = 0.7, test_size = 0.3, random_state = 1)"
   ]
  },
  {
   "cell_type": "code",
   "execution_count": 49,
   "id": "72edabad",
   "metadata": {},
   "outputs": [
    {
     "data": {
      "text/plain": [
       "(381, 6)"
      ]
     },
     "execution_count": 49,
     "metadata": {},
     "output_type": "execute_result"
    }
   ],
   "source": [
    "df_train.shape    # display dimensions of the train set"
   ]
  },
  {
   "cell_type": "code",
   "execution_count": 50,
   "id": "3748a3b9",
   "metadata": {},
   "outputs": [
    {
     "data": {
      "text/plain": [
       "(164, 6)"
      ]
     },
     "execution_count": 50,
     "metadata": {},
     "output_type": "execute_result"
    }
   ],
   "source": [
    "df_test.shape    # display dimensions of the test set"
   ]
  },
  {
   "cell_type": "code",
   "execution_count": 51,
   "id": "1aa94cb2",
   "metadata": {},
   "outputs": [],
   "source": [
    "x = df_train.values[:, 1:6]    # get input values from first column\n",
    "y = df_train.values[:, 0]    # get output values from second column\n",
    "m = len(y)    # number of training examples, length of target variable rows\n",
    "temp_m = len(x)    # length of feature columns variable rows\n",
    "assert (m == temp_m)    # confirm they have equivalent length"
   ]
  },
  {
   "cell_type": "code",
   "execution_count": 52,
   "id": "da3383bf",
   "metadata": {},
   "outputs": [
    {
     "data": {
      "text/plain": [
       "Text(0.5, 1.0, 'SCATTER PLOT OF TRAINING DATA')"
      ]
     },
     "execution_count": 52,
     "metadata": {},
     "output_type": "execute_result"
    },
    {
     "data": {
      "image/png": "[encoded data removed]",
      "text/plain": [
       "<Figure size 864x576 with 1 Axes>"
      ]
     },
     "metadata": {
      "needs_background": "light"
     },
     "output_type": "display_data"
    }
   ],
   "source": [
    "# plot dataset columns\n",
    "plt.scatter(df_train.values[:, 1],y, color='red',marker= '+')\n",
    "plt.scatter(df_train.values[:, 2],y, color='yellow',marker= '+')\n",
    "plt.scatter(df_train.values[:, 3],y, color='blue',marker= '+')\n",
    "plt.scatter(df_train.values[:, 4],y, color='green',marker= '+')\n",
    "plt.scatter(df_train.values[:, 5],y, color='indigo',marker= '+')\n",
    "plt.grid()\n",
    "plt.rcParams[\"figure.figsize\"] = (16, 12)\n",
    "plt.xlabel('Explanatory Variables')\n",
    "plt.ylabel('Dependent Variables')\n",
    "plt.title('SCATTER PLOT OF TRAINING DATA') "
   ]
  },
  {
   "cell_type": "markdown",
   "id": "80c0a7a7",
   "metadata": {},
   "source": [
    "**Normalize features and call the cost function**"
   ]
  },
  {
   "cell_type": "code",
   "execution_count": 53,
   "id": "e190ec0b",
   "metadata": {},
   "outputs": [
    {
     "name": "stdout",
     "output_type": "stream",
     "text": [
      "X_norm=  [[2.77777778e-01 2.46913580e-04 1.23456790e-04 6.17283951e-05\n",
      "  1.23456790e-04]\n",
      " [2.18518519e-01 1.23456790e-04 6.17283951e-05 6.17283951e-05\n",
      "  0.00000000e+00]\n",
      " [4.44444444e-01 1.85185185e-04 1.23456790e-04 6.17283951e-05\n",
      "  1.85185185e-04]\n",
      " [1.92592593e-01 1.85185185e-04 6.17283951e-05 1.23456790e-04\n",
      "  0.00000000e+00]\n",
      " [2.46913580e-01 1.85185185e-04 1.23456790e-04 1.23456790e-04\n",
      "  6.17283951e-05]]\n"
     ]
    }
   ],
   "source": [
    "x_norm = feature_normalize(x)\n",
    "print('X_norm= ', x_norm[:5])"
   ]
  },
  {
   "cell_type": "markdown",
   "id": "cc44f560",
   "metadata": {},
   "source": [
    "**Compute the cost function**\n",
    "\n",
    "* Matrix operations are much faster than loops operations, so matrice of x, θ and (x * θ) were used"
   ]
  },
  {
   "cell_type": "code",
   "execution_count": 54,
   "id": "2ca19a4f",
   "metadata": {},
   "outputs": [],
   "source": [
    "# lets use hstack() function from numpy to add column of ones to X feature \n",
    "# this will be our final X matrix (feature matrix)\n",
    "X = np.hstack((np.ones((m,1)), x_norm))\n",
    "\n",
    "# initialise theta to zero as recommended by the hw question\n",
    "theta = np.zeros(6)\n",
    "\n",
    "# declare and assign values to the gradient descent learning parameters alpha and no of iterations\n",
    "alpha = 0.04\n",
    "iterations =1000"
   ]
  },
  {
   "cell_type": "code",
   "execution_count": 55,
   "id": "d69d087a",
   "metadata": {},
   "outputs": [
    {
     "name": "stdout",
     "output_type": "stream",
     "text": [
      "Final value of train theta = [3.45598021e+06 4.13138531e+06 1.72077276e+03 1.37954298e+03\n",
      " 1.86818338e+03 1.36082498e+03]\n",
      "First 5 values from train cost_history = [1.20212630e+13 1.11064056e+13 1.02706851e+13 9.50725302e+12\n",
      " 8.80985379e+12]\n",
      "Last 5 values from train cost_history = [1.24437860e+12 1.24428098e+12 1.24418350e+12 1.24408614e+12\n",
      " 1.24398893e+12]\n"
     ]
    }
   ],
   "source": [
    "train_theta, train_cost_history = gradient_descent(X, y, theta, alpha, iterations)    # call cost function\n",
    "print('Final value of train theta =', train_theta)    # print train theta\n",
    "print('First 5 values from train cost_history =', train_cost_history[:5])    # print 1-5 train cost history\n",
    "print('Last 5 values from train cost_history =', train_cost_history[-5 :])    # print last 5 train cost history"
   ]
  },
  {
   "cell_type": "code",
   "execution_count": 56,
   "id": "49d479ad",
   "metadata": {},
   "outputs": [
    {
     "name": "stdout",
     "output_type": "stream",
     "text": [
      "[3.45598021e+06 4.13138531e+06 1.72077276e+03 1.37954298e+03\n",
      " 1.86818338e+03 1.36082498e+03]\n"
     ]
    }
   ],
   "source": [
    "print(train_theta)"
   ]
  },
  {
   "cell_type": "code",
   "execution_count": 57,
   "id": "2d88b822",
   "metadata": {
    "scrolled": true
   },
   "outputs": [
    {
     "name": "stdout",
     "output_type": "stream",
     "text": [
      "[1.20212630e+13 1.11064056e+13 1.02706851e+13 9.50725302e+12\n",
      " 8.80985379e+12 8.17277310e+12 7.59079116e+12 7.05913987e+12\n",
      " 6.57346379e+12 6.12978435e+12 5.72446730e+12 5.35419289e+12\n",
      " 5.01592863e+12 4.70690450e+12 4.42459015e+12 4.16667422e+12\n",
      " 3.93104536e+12 3.71577495e+12 3.51910125e+12 3.33941499e+12\n",
      " 3.17524616e+12 3.02525194e+12 2.88820576e+12 2.76298715e+12\n",
      " 2.64857263e+12 2.54402728e+12 2.44849708e+12 2.36120193e+12\n",
      " 2.28142923e+12 2.20852804e+12 2.14190377e+12 2.08101326e+12\n",
      " 2.02536038e+12 1.97449191e+12 1.92799386e+12 1.88548808e+12\n",
      " 1.84662911e+12 1.81110143e+12 1.77861678e+12 1.74891188e+12\n",
      " 1.72174622e+12 1.69690009e+12 1.67417282e+12 1.65338108e+12\n",
      " 1.63435743e+12 1.61694890e+12 1.60101576e+12 1.58643038e+12\n",
      " 1.57307617e+12 1.56084663e+12 1.54964448e+12 1.53938084e+12\n",
      " 1.52997456e+12 1.52135147e+12 1.51344385e+12 1.50618981e+12\n",
      " 1.49953285e+12 1.49342134e+12 1.48780811e+12 1.48265009e+12\n",
      " 1.47790793e+12 1.47354569e+12 1.46953052e+12 1.46583243e+12\n",
      " 1.46242404e+12 1.45928030e+12 1.45637837e+12 1.45369735e+12\n",
      " 1.45121817e+12 1.44892341e+12 1.44679714e+12 1.44482483e+12\n",
      " 1.44299321e+12 1.44129012e+12 1.43970450e+12 1.43822622e+12\n",
      " 1.43684603e+12 1.43555548e+12 1.43434686e+12 1.43321312e+12\n",
      " 1.43214782e+12 1.43114508e+12 1.43019953e+12 1.42930625e+12\n",
      " 1.42846078e+12 1.42765900e+12 1.42689718e+12 1.42617190e+12\n",
      " 1.42548004e+12 1.42481875e+12 1.42418543e+12 1.42357769e+12\n",
      " 1.42299337e+12 1.42243047e+12 1.42188718e+12 1.42136184e+12\n",
      " 1.42085295e+12 1.42035912e+12 1.41987908e+12 1.41941169e+12\n",
      " 1.41895589e+12 1.41851071e+12 1.41807527e+12 1.41764878e+12\n",
      " 1.41723050e+12 1.41681976e+12 1.41641594e+12 1.41601849e+12\n",
      " 1.41562689e+12 1.41524068e+12 1.41485943e+12 1.41448275e+12\n",
      " 1.41411028e+12 1.41374171e+12 1.41337673e+12 1.41301506e+12\n",
      " 1.41265647e+12 1.41230073e+12 1.41194762e+12 1.41159697e+12\n",
      " 1.41124859e+12 1.41090232e+12 1.41055803e+12 1.41021559e+12\n",
      " 1.40987486e+12 1.40953575e+12 1.40919814e+12 1.40886195e+12\n",
      " 1.40852710e+12 1.40819351e+12 1.40786110e+12 1.40752981e+12\n",
      " 1.40719958e+12 1.40687037e+12 1.40654212e+12 1.40621478e+12\n",
      " 1.40588832e+12 1.40556269e+12 1.40523787e+12 1.40491381e+12\n",
      " 1.40459050e+12 1.40426791e+12 1.40394600e+12 1.40362477e+12\n",
      " 1.40330418e+12 1.40298423e+12 1.40266489e+12 1.40234615e+12\n",
      " 1.40202799e+12 1.40171040e+12 1.40139338e+12 1.40107690e+12\n",
      " 1.40076095e+12 1.40044554e+12 1.40013065e+12 1.39981626e+12\n",
      " 1.39950239e+12 1.39918901e+12 1.39887612e+12 1.39856372e+12\n",
      " 1.39825180e+12 1.39794035e+12 1.39762938e+12 1.39731888e+12\n",
      " 1.39700884e+12 1.39669926e+12 1.39639013e+12 1.39608146e+12\n",
      " 1.39577325e+12 1.39546548e+12 1.39515815e+12 1.39485127e+12\n",
      " 1.39454484e+12 1.39423884e+12 1.39393328e+12 1.39362815e+12\n",
      " 1.39332347e+12 1.39301921e+12 1.39271538e+12 1.39241199e+12\n",
      " 1.39210902e+12 1.39180648e+12 1.39150437e+12 1.39120268e+12\n",
      " 1.39090141e+12 1.39060057e+12 1.39030015e+12 1.39000015e+12\n",
      " 1.38970057e+12 1.38940141e+12 1.38910266e+12 1.38880434e+12\n",
      " 1.38850643e+12 1.38820893e+12 1.38791185e+12 1.38761519e+12\n",
      " 1.38731893e+12 1.38702309e+12 1.38672766e+12 1.38643265e+12\n",
      " 1.38613804e+12 1.38584384e+12 1.38555005e+12 1.38525667e+12\n",
      " 1.38496370e+12 1.38467114e+12 1.38437898e+12 1.38408722e+12\n",
      " 1.38379588e+12 1.38350493e+12 1.38321439e+12 1.38292426e+12\n",
      " 1.38263452e+12 1.38234519e+12 1.38205626e+12 1.38176773e+12\n",
      " 1.38147961e+12 1.38119188e+12 1.38090455e+12 1.38061762e+12\n",
      " 1.38033109e+12 1.38004495e+12 1.37975921e+12 1.37947387e+12\n",
      " 1.37918892e+12 1.37890437e+12 1.37862022e+12 1.37833646e+12\n",
      " 1.37805309e+12 1.37777011e+12 1.37748753e+12 1.37720534e+12\n",
      " 1.37692354e+12 1.37664213e+12 1.37636111e+12 1.37608048e+12\n",
      " 1.37580024e+12 1.37552039e+12 1.37524093e+12 1.37496185e+12\n",
      " 1.37468316e+12 1.37440486e+12 1.37412695e+12 1.37384941e+12\n",
      " 1.37357227e+12 1.37329551e+12 1.37301913e+12 1.37274313e+12\n",
      " 1.37246752e+12 1.37219229e+12 1.37191745e+12 1.37164298e+12\n",
      " 1.37136889e+12 1.37109519e+12 1.37082186e+12 1.37054891e+12\n",
      " 1.37027634e+12 1.37000415e+12 1.36973234e+12 1.36946090e+12\n",
      " 1.36918984e+12 1.36891916e+12 1.36864885e+12 1.36837891e+12\n",
      " 1.36810935e+12 1.36784016e+12 1.36757135e+12 1.36730291e+12\n",
      " 1.36703484e+12 1.36676715e+12 1.36649982e+12 1.36623287e+12\n",
      " 1.36596628e+12 1.36570007e+12 1.36543422e+12 1.36516874e+12\n",
      " 1.36490363e+12 1.36463889e+12 1.36437452e+12 1.36411051e+12\n",
      " 1.36384687e+12 1.36358359e+12 1.36332068e+12 1.36305814e+12\n",
      " 1.36279595e+12 1.36253413e+12 1.36227268e+12 1.36201159e+12\n",
      " 1.36175085e+12 1.36149048e+12 1.36123048e+12 1.36097083e+12\n",
      " 1.36071154e+12 1.36045261e+12 1.36019404e+12 1.35993583e+12\n",
      " 1.35967798e+12 1.35942048e+12 1.35916334e+12 1.35890656e+12\n",
      " 1.35865014e+12 1.35839407e+12 1.35813835e+12 1.35788299e+12\n",
      " 1.35762798e+12 1.35737333e+12 1.35711903e+12 1.35686508e+12\n",
      " 1.35661149e+12 1.35635824e+12 1.35610535e+12 1.35585281e+12\n",
      " 1.35560062e+12 1.35534878e+12 1.35509728e+12 1.35484614e+12\n",
      " 1.35459534e+12 1.35434490e+12 1.35409480e+12 1.35384504e+12\n",
      " 1.35359563e+12 1.35334657e+12 1.35309786e+12 1.35284949e+12\n",
      " 1.35260146e+12 1.35235378e+12 1.35210644e+12 1.35185944e+12\n",
      " 1.35161278e+12 1.35136647e+12 1.35112050e+12 1.35087487e+12\n",
      " 1.35062958e+12 1.35038463e+12 1.35014002e+12 1.34989575e+12\n",
      " 1.34965182e+12 1.34940823e+12 1.34916497e+12 1.34892206e+12\n",
      " 1.34867947e+12 1.34843723e+12 1.34819532e+12 1.34795375e+12\n",
      " 1.34771251e+12 1.34747160e+12 1.34723103e+12 1.34699080e+12\n",
      " 1.34675089e+12 1.34651132e+12 1.34627208e+12 1.34603318e+12\n",
      " 1.34579460e+12 1.34555636e+12 1.34531844e+12 1.34508086e+12\n",
      " 1.34484360e+12 1.34460668e+12 1.34437008e+12 1.34413381e+12\n",
      " 1.34389787e+12 1.34366225e+12 1.34342697e+12 1.34319200e+12\n",
      " 1.34295737e+12 1.34272306e+12 1.34248907e+12 1.34225541e+12\n",
      " 1.34202207e+12 1.34178906e+12 1.34155637e+12 1.34132400e+12\n",
      " 1.34109195e+12 1.34086023e+12 1.34062883e+12 1.34039775e+12\n",
      " 1.34016698e+12 1.33993654e+12 1.33970642e+12 1.33947662e+12\n",
      " 1.33924713e+12 1.33901797e+12 1.33878912e+12 1.33856059e+12\n",
      " 1.33833237e+12 1.33810448e+12 1.33787689e+12 1.33764963e+12\n",
      " 1.33742268e+12 1.33719604e+12 1.33696972e+12 1.33674371e+12\n",
      " 1.33651802e+12 1.33629263e+12 1.33606756e+12 1.33584281e+12\n",
      " 1.33561836e+12 1.33539423e+12 1.33517040e+12 1.33494689e+12\n",
      " 1.33472369e+12 1.33450079e+12 1.33427821e+12 1.33405593e+12\n",
      " 1.33383396e+12 1.33361230e+12 1.33339095e+12 1.33316991e+12\n",
      " 1.33294917e+12 1.33272873e+12 1.33250861e+12 1.33228878e+12\n",
      " 1.33206927e+12 1.33185005e+12 1.33163114e+12 1.33141254e+12\n",
      " 1.33119423e+12 1.33097623e+12 1.33075854e+12 1.33054114e+12\n",
      " 1.33032405e+12 1.33010725e+12 1.32989076e+12 1.32967457e+12\n",
      " 1.32945868e+12 1.32924308e+12 1.32902779e+12 1.32881279e+12\n",
      " 1.32859809e+12 1.32838369e+12 1.32816959e+12 1.32795579e+12\n",
      " 1.32774228e+12 1.32752906e+12 1.32731614e+12 1.32710352e+12\n",
      " 1.32689119e+12 1.32667916e+12 1.32646742e+12 1.32625598e+12\n",
      " 1.32604482e+12 1.32583396e+12 1.32562340e+12 1.32541312e+12\n",
      " 1.32520314e+12 1.32499344e+12 1.32478404e+12 1.32457493e+12\n",
      " 1.32436611e+12 1.32415758e+12 1.32394933e+12 1.32374138e+12\n",
      " 1.32353371e+12 1.32332634e+12 1.32311925e+12 1.32291244e+12\n",
      " 1.32270593e+12 1.32249970e+12 1.32229375e+12 1.32208809e+12\n",
      " 1.32188272e+12 1.32167763e+12 1.32147283e+12 1.32126831e+12\n",
      " 1.32106407e+12 1.32086012e+12 1.32065645e+12 1.32045306e+12\n",
      " 1.32024995e+12 1.32004713e+12 1.31984459e+12 1.31964232e+12\n",
      " 1.31944034e+12 1.31923864e+12 1.31903722e+12 1.31883607e+12\n",
      " 1.31863521e+12 1.31843462e+12 1.31823432e+12 1.31803429e+12\n",
      " 1.31783453e+12 1.31763506e+12 1.31743586e+12 1.31723694e+12\n",
      " 1.31703829e+12 1.31683992e+12 1.31664182e+12 1.31644400e+12\n",
      " 1.31624646e+12 1.31604918e+12 1.31585218e+12 1.31565546e+12\n",
      " 1.31545900e+12 1.31526282e+12 1.31506691e+12 1.31487127e+12\n",
      " 1.31467591e+12 1.31448081e+12 1.31428599e+12 1.31409143e+12\n",
      " 1.31389715e+12 1.31370313e+12 1.31350938e+12 1.31331591e+12\n",
      " 1.31312270e+12 1.31292975e+12 1.31273708e+12 1.31254467e+12\n",
      " 1.31235253e+12 1.31216066e+12 1.31196905e+12 1.31177771e+12\n",
      " 1.31158663e+12 1.31139582e+12 1.31120527e+12 1.31101499e+12\n",
      " 1.31082497e+12 1.31063521e+12 1.31044572e+12 1.31025649e+12\n",
      " 1.31006752e+12 1.30987882e+12 1.30969037e+12 1.30950219e+12\n",
      " 1.30931427e+12 1.30912661e+12 1.30893921e+12 1.30875207e+12\n",
      " 1.30856518e+12 1.30837856e+12 1.30819220e+12 1.30800609e+12\n",
      " 1.30782025e+12 1.30763466e+12 1.30744932e+12 1.30726425e+12\n",
      " 1.30707943e+12 1.30689487e+12 1.30671056e+12 1.30652651e+12\n",
      " 1.30634271e+12 1.30615917e+12 1.30597589e+12 1.30579286e+12\n",
      " 1.30561008e+12 1.30542755e+12 1.30524528e+12 1.30506326e+12\n",
      " 1.30488149e+12 1.30469998e+12 1.30451872e+12 1.30433771e+12\n",
      " 1.30415694e+12 1.30397643e+12 1.30379617e+12 1.30361617e+12\n",
      " 1.30343641e+12 1.30325689e+12 1.30307763e+12 1.30289862e+12\n",
      " 1.30271985e+12 1.30254134e+12 1.30236307e+12 1.30218504e+12\n",
      " 1.30200727e+12 1.30182974e+12 1.30165246e+12 1.30147542e+12\n",
      " 1.30129863e+12 1.30112208e+12 1.30094578e+12 1.30076972e+12\n",
      " 1.30059391e+12 1.30041834e+12 1.30024301e+12 1.30006793e+12\n",
      " 1.29989309e+12 1.29971849e+12 1.29954414e+12 1.29937002e+12\n",
      " 1.29919615e+12 1.29902252e+12 1.29884913e+12 1.29867598e+12\n",
      " 1.29850307e+12 1.29833040e+12 1.29815797e+12 1.29798577e+12\n",
      " 1.29781382e+12 1.29764211e+12 1.29747063e+12 1.29729939e+12\n",
      " 1.29712839e+12 1.29695763e+12 1.29678710e+12 1.29661681e+12\n",
      " 1.29644675e+12 1.29627693e+12 1.29610735e+12 1.29593800e+12\n",
      " 1.29576889e+12 1.29560001e+12 1.29543136e+12 1.29526295e+12\n",
      " 1.29509478e+12 1.29492683e+12 1.29475912e+12 1.29459164e+12\n",
      " 1.29442439e+12 1.29425738e+12 1.29409060e+12 1.29392404e+12\n",
      " 1.29375772e+12 1.29359163e+12 1.29342577e+12 1.29326014e+12\n",
      " 1.29309474e+12 1.29292957e+12 1.29276463e+12 1.29259992e+12\n",
      " 1.29243543e+12 1.29227117e+12 1.29210714e+12 1.29194334e+12\n",
      " 1.29177977e+12 1.29161642e+12 1.29145330e+12 1.29129040e+12\n",
      " 1.29112773e+12 1.29096529e+12 1.29080307e+12 1.29064108e+12\n",
      " 1.29047931e+12 1.29031777e+12 1.29015644e+12 1.28999535e+12\n",
      " 1.28983447e+12 1.28967382e+12 1.28951340e+12 1.28935319e+12\n",
      " 1.28919321e+12 1.28903345e+12 1.28887391e+12 1.28871459e+12\n",
      " 1.28855549e+12 1.28839661e+12 1.28823796e+12 1.28807952e+12\n",
      " 1.28792130e+12 1.28776331e+12 1.28760553e+12 1.28744797e+12\n",
      " 1.28729063e+12 1.28713350e+12 1.28697660e+12 1.28681991e+12\n",
      " 1.28666344e+12 1.28650719e+12 1.28635115e+12 1.28619533e+12\n",
      " 1.28603972e+12 1.28588434e+12 1.28572916e+12 1.28557420e+12\n",
      " 1.28541946e+12 1.28526493e+12 1.28511062e+12 1.28495652e+12\n",
      " 1.28480263e+12 1.28464896e+12 1.28449550e+12 1.28434225e+12\n",
      " 1.28418922e+12 1.28403639e+12 1.28388378e+12 1.28373138e+12\n",
      " 1.28357919e+12 1.28342722e+12 1.28327545e+12 1.28312390e+12\n",
      " 1.28297255e+12 1.28282141e+12 1.28267049e+12 1.28251977e+12\n",
      " 1.28236926e+12 1.28221896e+12 1.28206887e+12 1.28191899e+12\n",
      " 1.28176932e+12 1.28161985e+12 1.28147059e+12 1.28132154e+12\n",
      " 1.28117269e+12 1.28102405e+12 1.28087562e+12 1.28072739e+12\n",
      " 1.28057937e+12 1.28043155e+12 1.28028394e+12 1.28013653e+12\n",
      " 1.27998932e+12 1.27984233e+12 1.27969553e+12 1.27954894e+12\n",
      " 1.27940255e+12 1.27925636e+12 1.27911038e+12 1.27896460e+12\n",
      " 1.27881902e+12 1.27867365e+12 1.27852847e+12 1.27838350e+12\n",
      " 1.27823873e+12 1.27809415e+12 1.27794978e+12 1.27780561e+12\n",
      " 1.27766164e+12 1.27751787e+12 1.27737430e+12 1.27723092e+12\n",
      " 1.27708775e+12 1.27694477e+12 1.27680200e+12 1.27665942e+12\n",
      " 1.27651703e+12 1.27637485e+12 1.27623286e+12 1.27609107e+12\n",
      " 1.27594948e+12 1.27580808e+12 1.27566688e+12 1.27552587e+12\n",
      " 1.27538506e+12 1.27524445e+12 1.27510403e+12 1.27496380e+12\n",
      " 1.27482377e+12 1.27468394e+12 1.27454429e+12 1.27440484e+12\n",
      " 1.27426559e+12 1.27412653e+12 1.27398766e+12 1.27384898e+12\n",
      " 1.27371049e+12 1.27357220e+12 1.27343410e+12 1.27329619e+12\n",
      " 1.27315847e+12 1.27302094e+12 1.27288361e+12 1.27274646e+12\n",
      " 1.27260950e+12 1.27247274e+12 1.27233616e+12 1.27219977e+12\n",
      " 1.27206358e+12 1.27192757e+12 1.27179175e+12 1.27165611e+12\n",
      " 1.27152067e+12 1.27138541e+12 1.27125034e+12 1.27111546e+12\n",
      " 1.27098077e+12 1.27084626e+12 1.27071194e+12 1.27057780e+12\n",
      " 1.27044385e+12 1.27031009e+12 1.27017651e+12 1.27004312e+12\n",
      " 1.26990991e+12 1.26977689e+12 1.26964405e+12 1.26951140e+12\n",
      " 1.26937893e+12 1.26924664e+12 1.26911454e+12 1.26898262e+12\n",
      " 1.26885088e+12 1.26871932e+12 1.26858795e+12 1.26845676e+12\n",
      " 1.26832575e+12 1.26819493e+12 1.26806428e+12 1.26793382e+12\n",
      " 1.26780354e+12 1.26767343e+12 1.26754351e+12 1.26741377e+12\n",
      " 1.26728421e+12 1.26715482e+12 1.26702562e+12 1.26689660e+12\n",
      " 1.26676775e+12 1.26663909e+12 1.26651060e+12 1.26638229e+12\n",
      " 1.26625416e+12 1.26612620e+12 1.26599843e+12 1.26587083e+12\n",
      " 1.26574341e+12 1.26561616e+12 1.26548909e+12 1.26536220e+12\n",
      " 1.26523548e+12 1.26510894e+12 1.26498257e+12 1.26485638e+12\n",
      " 1.26473037e+12 1.26460453e+12 1.26447886e+12 1.26435337e+12\n",
      " 1.26422805e+12 1.26410290e+12 1.26397793e+12 1.26385314e+12\n",
      " 1.26372851e+12 1.26360406e+12 1.26347978e+12 1.26335567e+12\n",
      " 1.26323174e+12 1.26310797e+12 1.26298438e+12 1.26286096e+12\n",
      " 1.26273771e+12 1.26261464e+12 1.26249173e+12 1.26236899e+12\n",
      " 1.26224642e+12 1.26212403e+12 1.26200180e+12 1.26187974e+12\n",
      " 1.26175785e+12 1.26163613e+12 1.26151458e+12 1.26139320e+12\n",
      " 1.26127199e+12 1.26115094e+12 1.26103006e+12 1.26090935e+12\n",
      " 1.26078881e+12 1.26066844e+12 1.26054823e+12 1.26042819e+12\n",
      " 1.26030831e+12 1.26018860e+12 1.26006906e+12 1.25994968e+12\n",
      " 1.25983047e+12 1.25971142e+12 1.25959254e+12 1.25947382e+12\n",
      " 1.25935527e+12 1.25923688e+12 1.25911866e+12 1.25900060e+12\n",
      " 1.25888270e+12 1.25876497e+12 1.25864740e+12 1.25852999e+12\n",
      " 1.25841275e+12 1.25829567e+12 1.25817875e+12 1.25806199e+12\n",
      " 1.25794540e+12 1.25782896e+12 1.25771269e+12 1.25759658e+12\n",
      " 1.25748063e+12 1.25736484e+12 1.25724922e+12 1.25713375e+12\n",
      " 1.25701844e+12 1.25690329e+12 1.25678831e+12 1.25667348e+12\n",
      " 1.25655881e+12 1.25644430e+12 1.25632995e+12 1.25621575e+12\n",
      " 1.25610172e+12 1.25598784e+12 1.25587412e+12 1.25576056e+12\n",
      " 1.25564716e+12 1.25553391e+12 1.25542082e+12 1.25530789e+12\n",
      " 1.25519511e+12 1.25508249e+12 1.25497003e+12 1.25485772e+12\n",
      " 1.25474557e+12 1.25463358e+12 1.25452173e+12 1.25441005e+12\n",
      " 1.25429852e+12 1.25418714e+12 1.25407592e+12 1.25396485e+12\n",
      " 1.25385394e+12 1.25374318e+12 1.25363257e+12 1.25352212e+12\n",
      " 1.25341182e+12 1.25330167e+12 1.25319168e+12 1.25308184e+12\n",
      " 1.25297215e+12 1.25286261e+12 1.25275323e+12 1.25264399e+12\n",
      " 1.25253491e+12 1.25242598e+12 1.25231720e+12 1.25220857e+12\n",
      " 1.25210009e+12 1.25199176e+12 1.25188359e+12 1.25177556e+12\n",
      " 1.25166768e+12 1.25155995e+12 1.25145237e+12 1.25134494e+12\n",
      " 1.25123766e+12 1.25113053e+12 1.25102355e+12 1.25091671e+12\n",
      " 1.25081003e+12 1.25070349e+12 1.25059709e+12 1.25049085e+12\n",
      " 1.25038475e+12 1.25027880e+12 1.25017300e+12 1.25006735e+12\n",
      " 1.24996184e+12 1.24985647e+12 1.24975126e+12 1.24964619e+12\n",
      " 1.24954126e+12 1.24943648e+12 1.24933185e+12 1.24922736e+12\n",
      " 1.24912301e+12 1.24901881e+12 1.24891476e+12 1.24881085e+12\n",
      " 1.24870708e+12 1.24860346e+12 1.24849998e+12 1.24839664e+12\n",
      " 1.24829345e+12 1.24819040e+12 1.24808749e+12 1.24798473e+12\n",
      " 1.24788210e+12 1.24777963e+12 1.24767729e+12 1.24757509e+12\n",
      " 1.24747304e+12 1.24737113e+12 1.24726936e+12 1.24716773e+12\n",
      " 1.24706624e+12 1.24696489e+12 1.24686368e+12 1.24676262e+12\n",
      " 1.24666169e+12 1.24656090e+12 1.24646025e+12 1.24635975e+12\n",
      " 1.24625938e+12 1.24615915e+12 1.24605906e+12 1.24595911e+12\n",
      " 1.24585929e+12 1.24575962e+12 1.24566008e+12 1.24556069e+12\n",
      " 1.24546143e+12 1.24536230e+12 1.24526332e+12 1.24516447e+12\n",
      " 1.24506576e+12 1.24496718e+12 1.24486875e+12 1.24477045e+12\n",
      " 1.24467228e+12 1.24457425e+12 1.24447636e+12 1.24437860e+12\n",
      " 1.24428098e+12 1.24418350e+12 1.24408614e+12 1.24398893e+12]\n"
     ]
    }
   ],
   "source": [
    "print(train_cost_history)"
   ]
  },
  {
   "cell_type": "code",
   "execution_count": 58,
   "id": "a63aad24",
   "metadata": {
    "scrolled": false
   },
   "outputs": [
    {
     "data": {
      "text/plain": [
       "Text(0.5, 1.0, 'Convergence of gradient descent for train model')"
      ]
     },
     "execution_count": 58,
     "metadata": {},
     "output_type": "execute_result"
    },
    {
     "data": {
      "image/png": "[encoded data removed]",
      "text/plain": [
       "<Figure size 1152x864 with 1 Axes>"
      ]
     },
     "metadata": {
      "needs_background": "light"
     },
     "output_type": "display_data"
    }
   ],
   "source": [
    "# plot gradient descent\n",
    "plt.plot(range(1, iterations +1), train_cost_history, color ='blue')\n",
    "plt.rcParams[\"figure.figsize\"] = (10, 6)\n",
    "plt.grid()\n",
    "plt.xlabel(\"Number of iterations\")\n",
    "plt.ylabel(\"cost (J)\")\n",
    "plt.title(\"Convergence of gradient descent for train model\")"
   ]
  },
  {
   "cell_type": "markdown",
   "id": "cf6ac158",
   "metadata": {},
   "source": [
    "**Experiment with different values of alpha**"
   ]
  },
  {
   "cell_type": "markdown",
   "id": "6dbe2576",
   "metadata": {},
   "source": [
    "idx = 0\n",
    "max_alpha = 11\n",
    "min_alpha = 1\n",
    "step = 2\n",
    "train_theta_exp = []\n",
    "train_cost_history_exp = []\n",
    "alphas_lst = []"
   ]
  },
  {
   "cell_type": "markdown",
   "id": "e2175b05",
   "metadata": {},
   "source": [
    "for alphas in range(min_alpha, max_alpha, step):\n",
    "    alphas = alphas * 0.01\n",
    "    print(alphas)\n",
    "    train_theta_exp[idx], train_cost_history_exp[idx] = gradient_descent(X, y, theta, alphas, iterations)\n",
    "    idx = idx + 1\n",
    "    alphas_lst.append(alphas)\n",
    "    \n",
    "    \n",
    "    \n",
    "\n",
    "    \n",
    "    \n",
    "plt.plot(range(1, iterations +1), train_cost_history_exp[0], color ='red', label = alphas_lst[0])\n",
    "plt.plot(range(1, iterations +1), train_cost_history_exp[1], color ='orange', label = alphas_lst[1])\n",
    "plt.plot(range(1, iterations +1), train_cost_history_exp[2], color ='yellow', label = alphas_lst[2])\n",
    "plt.plot(range(1, iterations +1), train_cost_history_exp[3], color ='green', label = alphas_lst[3])\n",
    "plt.plot(range(1, iterations +1), train_cost_history_exp[4], color ='blue', label = alphas_lst[4])\n",
    "plt.plot(range(1, iterations +1), train_cost_history_exp[5], color ='indigo', label = alphas_lst[5])\n",
    "plt.plot(range(1, iterations +1), train_cost_history_exp[6], color ='violet', label = alphas_lst[6])\n",
    "plt.plot(range(1, iterations +1), train_cost_history_exp[7], color ='darkgreen', label = alphas_lst[7])\n",
    "plt.plot(range(1, iterations +1), train_cost_history_exp[8], color ='darkblue', label = alphas_lst[8])\n",
    "plt.plot(range(1, iterations +1), train_cost_history_exp[9], color ='darkyellow', label = alphas_lst[9])\n",
    "\n",
    "\n",
    "plt.rcParams[\"figure.figsize\"] = (10,6)\n",
    "plt.grid()\n",
    "plt.xlabel(\"Number of iterations\")\n",
    "plt.ylabel(\"cost (J)\")\n",
    "plt.title(\"Effect of Learning Rate On Convergence of Gradient Descent (Train)\")\n",
    "plt.legend()"
   ]
  },
  {
   "cell_type": "markdown",
   "id": "29939e44",
   "metadata": {},
   "source": [
    "<br>\n",
    "\n",
    "**Test linear model**"
   ]
  },
  {
   "cell_type": "code",
   "execution_count": null,
   "id": "e17a0290",
   "metadata": {},
   "outputs": [],
   "source": []
  },
  {
   "cell_type": "code",
   "execution_count": null,
   "id": "415d50a0",
   "metadata": {},
   "outputs": [],
   "source": []
  },
  {
   "cell_type": "code",
   "execution_count": null,
   "id": "c3735ff3",
   "metadata": {},
   "outputs": [],
   "source": []
  },
  {
   "cell_type": "code",
   "execution_count": 59,
   "id": "26bb9d1f",
   "metadata": {},
   "outputs": [],
   "source": [
    "xTest = df_test.values[:, 1:6]  # get input values from first column\n",
    "yTest = df_test.values[:, 0]  # get output values from second column\n",
    "m = len(yTest)    # number of training examples, length of target variable rows\n",
    "temp_m = len(xTest)    # length of feature columns variable rows\n",
    "assert (m == temp_m)    # confirm they have equivalent length\n"
   ]
  },
  {
   "cell_type": "code",
   "execution_count": 60,
   "id": "5e80756f",
   "metadata": {},
   "outputs": [
    {
     "data": {
      "text/plain": [
       "Text(0.5, 1.0, 'SCATTER PLOT OF TEST DATA')"
      ]
     },
     "execution_count": 60,
     "metadata": {},
     "output_type": "execute_result"
    },
    {
     "data": {
      "image/png": "[encoded data removed]",
      "text/plain": [
       "<Figure size 720x432 with 1 Axes>"
      ]
     },
     "metadata": {
      "needs_background": "light"
     },
     "output_type": "display_data"
    }
   ],
   "source": [
    "# plot test model\n",
    "plt.scatter(df_test.values[:, 1],yTest, color='red',marker= '+')\n",
    "plt.scatter(df_test.values[:, 2],yTest, color='yellow',marker= '+')\n",
    "plt.scatter(df_test.values[:, 3],yTest, color='blue',marker= '+')\n",
    "plt.scatter(df_test.values[:, 4],yTest, color='green',marker= '+')\n",
    "plt.scatter(df_test.values[:, 5],yTest, color='indigo',marker= '+')\n",
    "plt.grid()\n",
    "plt.rcParams[\"figure.figsize\"] = (12,8)\n",
    "plt.xlabel('Explanatory Variables')\n",
    "plt.ylabel('Dependent Variables')\n",
    "plt.title('SCATTER PLOT OF TEST DATA')"
   ]
  },
  {
   "cell_type": "code",
   "execution_count": 61,
   "id": "a145feed",
   "metadata": {},
   "outputs": [
    {
     "name": "stdout",
     "output_type": "stream",
     "text": [
      "[[1.000e+00 6.240e+03 4.000e+00 2.000e+00 2.000e+00 1.000e+00]\n",
      " [1.000e+00 8.400e+03 4.000e+00 1.000e+00 4.000e+00 3.000e+00]\n",
      " [1.000e+00 1.050e+04 4.000e+00 2.000e+00 2.000e+00 1.000e+00]\n",
      " [1.000e+00 6.420e+03 3.000e+00 1.000e+00 3.000e+00 0.000e+00]\n",
      " [1.000e+00 6.615e+03 3.000e+00 1.000e+00 2.000e+00 0.000e+00]\n",
      " [1.000e+00 3.600e+03 2.000e+00 1.000e+00 1.000e+00 0.000e+00]\n",
      " [1.000e+00 3.240e+03 2.000e+00 1.000e+00 1.000e+00 1.000e+00]\n",
      " [1.000e+00 6.600e+03 3.000e+00 1.000e+00 4.000e+00 3.000e+00]\n",
      " [1.000e+00 2.700e+03 2.000e+00 1.000e+00 1.000e+00 0.000e+00]\n",
      " [1.000e+00 5.000e+03 3.000e+00 1.000e+00 2.000e+00 0.000e+00]\n",
      " [1.000e+00 2.650e+03 3.000e+00 1.000e+00 2.000e+00 1.000e+00]\n",
      " [1.000e+00 4.775e+03 4.000e+00 1.000e+00 2.000e+00 0.000e+00]\n",
      " [1.000e+00 4.800e+03 3.000e+00 1.000e+00 3.000e+00 0.000e+00]\n",
      " [1.000e+00 3.700e+03 4.000e+00 1.000e+00 2.000e+00 0.000e+00]\n",
      " [1.000e+00 7.700e+03 3.000e+00 2.000e+00 1.000e+00 2.000e+00]\n",
      " [1.000e+00 7.420e+03 4.000e+00 2.000e+00 3.000e+00 2.000e+00]\n",
      " [1.000e+00 4.280e+03 2.000e+00 1.000e+00 1.000e+00 2.000e+00]\n",
      " [1.000e+00 6.000e+03 2.000e+00 1.000e+00 1.000e+00 0.000e+00]\n",
      " [1.000e+00 6.600e+03 4.000e+00 2.000e+00 2.000e+00 0.000e+00]\n",
      " [1.000e+00 3.649e+03 2.000e+00 1.000e+00 1.000e+00 0.000e+00]\n",
      " [1.000e+00 3.420e+03 2.000e+00 1.000e+00 2.000e+00 1.000e+00]\n",
      " [1.000e+00 5.500e+03 3.000e+00 2.000e+00 2.000e+00 1.000e+00]\n",
      " [1.000e+00 3.630e+03 3.000e+00 3.000e+00 2.000e+00 0.000e+00]\n",
      " [1.000e+00 3.180e+03 3.000e+00 1.000e+00 2.000e+00 0.000e+00]\n",
      " [1.000e+00 3.600e+03 2.000e+00 2.000e+00 2.000e+00 1.000e+00]\n",
      " [1.000e+00 8.400e+03 3.000e+00 1.000e+00 2.000e+00 2.000e+00]\n",
      " [1.000e+00 3.000e+03 2.000e+00 1.000e+00 1.000e+00 1.000e+00]\n",
      " [1.000e+00 8.880e+03 3.000e+00 2.000e+00 2.000e+00 1.000e+00]\n",
      " [1.000e+00 5.750e+03 3.000e+00 2.000e+00 4.000e+00 1.000e+00]\n",
      " [1.000e+00 2.145e+03 3.000e+00 1.000e+00 3.000e+00 0.000e+00]\n",
      " [1.000e+00 6.360e+03 3.000e+00 2.000e+00 4.000e+00 0.000e+00]\n",
      " [1.000e+00 6.525e+03 3.000e+00 2.000e+00 4.000e+00 1.000e+00]\n",
      " [1.000e+00 1.950e+03 3.000e+00 2.000e+00 2.000e+00 0.000e+00]\n",
      " [1.000e+00 5.850e+03 3.000e+00 1.000e+00 2.000e+00 1.000e+00]\n",
      " [1.000e+00 8.372e+03 3.000e+00 1.000e+00 3.000e+00 2.000e+00]\n",
      " [1.000e+00 2.870e+03 2.000e+00 1.000e+00 2.000e+00 0.000e+00]\n",
      " [1.000e+00 4.990e+03 4.000e+00 2.000e+00 2.000e+00 0.000e+00]\n",
      " [1.000e+00 2.684e+03 2.000e+00 1.000e+00 1.000e+00 1.000e+00]\n",
      " [1.000e+00 5.200e+03 3.000e+00 1.000e+00 3.000e+00 0.000e+00]\n",
      " [1.000e+00 6.321e+03 3.000e+00 1.000e+00 2.000e+00 1.000e+00]\n",
      " [1.000e+00 4.960e+03 4.000e+00 1.000e+00 3.000e+00 0.000e+00]\n",
      " [1.000e+00 3.480e+03 3.000e+00 1.000e+00 2.000e+00 1.000e+00]\n",
      " [1.000e+00 3.210e+03 3.000e+00 1.000e+00 2.000e+00 0.000e+00]\n",
      " [1.000e+00 4.950e+03 4.000e+00 1.000e+00 2.000e+00 0.000e+00]\n",
      " [1.000e+00 6.840e+03 5.000e+00 1.000e+00 2.000e+00 1.000e+00]\n",
      " [1.000e+00 4.350e+03 2.000e+00 1.000e+00 1.000e+00 0.000e+00]\n",
      " [1.000e+00 5.850e+03 2.000e+00 1.000e+00 1.000e+00 2.000e+00]\n",
      " [1.000e+00 4.410e+03 2.000e+00 1.000e+00 1.000e+00 1.000e+00]\n",
      " [1.000e+00 2.500e+03 2.000e+00 1.000e+00 1.000e+00 0.000e+00]\n",
      " [1.000e+00 3.850e+03 3.000e+00 1.000e+00 2.000e+00 0.000e+00]\n",
      " [1.000e+00 3.180e+03 3.000e+00 2.000e+00 2.000e+00 2.000e+00]\n",
      " [1.000e+00 3.162e+03 3.000e+00 1.000e+00 2.000e+00 1.000e+00]\n",
      " [1.000e+00 3.500e+03 2.000e+00 1.000e+00 1.000e+00 0.000e+00]\n",
      " [1.000e+00 4.340e+03 3.000e+00 1.000e+00 1.000e+00 0.000e+00]\n",
      " [1.000e+00 6.440e+03 2.000e+00 1.000e+00 1.000e+00 3.000e+00]\n",
      " [1.000e+00 5.010e+03 3.000e+00 1.000e+00 2.000e+00 0.000e+00]\n",
      " [1.000e+00 3.000e+03 2.000e+00 1.000e+00 2.000e+00 0.000e+00]\n",
      " [1.000e+00 4.920e+03 3.000e+00 1.000e+00 2.000e+00 1.000e+00]\n",
      " [1.000e+00 3.760e+03 3.000e+00 1.000e+00 1.000e+00 2.000e+00]\n",
      " [1.000e+00 3.816e+03 2.000e+00 1.000e+00 1.000e+00 2.000e+00]\n",
      " [1.000e+00 6.000e+03 3.000e+00 2.000e+00 4.000e+00 0.000e+00]\n",
      " [1.000e+00 7.000e+03 3.000e+00 1.000e+00 4.000e+00 2.000e+00]\n",
      " [1.000e+00 3.640e+03 2.000e+00 1.000e+00 1.000e+00 0.000e+00]\n",
      " [1.000e+00 4.080e+03 3.000e+00 1.000e+00 2.000e+00 2.000e+00]\n",
      " [1.000e+00 4.160e+03 3.000e+00 1.000e+00 1.000e+00 0.000e+00]\n",
      " [1.000e+00 2.910e+03 2.000e+00 1.000e+00 1.000e+00 0.000e+00]\n",
      " [1.000e+00 6.060e+03 2.000e+00 1.000e+00 1.000e+00 1.000e+00]\n",
      " [1.000e+00 3.000e+03 4.000e+00 1.000e+00 2.000e+00 0.000e+00]\n",
      " [1.000e+00 2.787e+03 4.000e+00 2.000e+00 2.000e+00 0.000e+00]\n",
      " [1.000e+00 4.815e+03 2.000e+00 1.000e+00 1.000e+00 0.000e+00]\n",
      " [1.000e+00 4.785e+03 3.000e+00 1.000e+00 2.000e+00 1.000e+00]\n",
      " [1.000e+00 6.600e+03 3.000e+00 1.000e+00 1.000e+00 0.000e+00]\n",
      " [1.000e+00 5.300e+03 4.000e+00 2.000e+00 1.000e+00 0.000e+00]\n",
      " [1.000e+00 3.600e+03 2.000e+00 1.000e+00 1.000e+00 0.000e+00]\n",
      " [1.000e+00 6.000e+03 3.000e+00 1.000e+00 1.000e+00 1.000e+00]\n",
      " [1.000e+00 2.176e+03 2.000e+00 1.000e+00 2.000e+00 0.000e+00]\n",
      " [1.000e+00 3.000e+03 2.000e+00 1.000e+00 1.000e+00 2.000e+00]\n",
      " [1.000e+00 7.420e+03 4.000e+00 1.000e+00 2.000e+00 2.000e+00]\n",
      " [1.000e+00 7.020e+03 3.000e+00 1.000e+00 1.000e+00 2.000e+00]\n",
      " [1.000e+00 3.480e+03 2.000e+00 1.000e+00 1.000e+00 0.000e+00]\n",
      " [1.000e+00 5.960e+03 3.000e+00 1.000e+00 2.000e+00 0.000e+00]\n",
      " [1.000e+00 3.510e+03 3.000e+00 1.000e+00 3.000e+00 0.000e+00]\n",
      " [1.000e+00 6.420e+03 3.000e+00 2.000e+00 2.000e+00 1.000e+00]\n",
      " [1.000e+00 6.450e+03 3.000e+00 2.000e+00 1.000e+00 0.000e+00]\n",
      " [1.000e+00 6.210e+03 4.000e+00 1.000e+00 4.000e+00 0.000e+00]\n",
      " [1.000e+00 4.500e+03 3.000e+00 2.000e+00 2.000e+00 0.000e+00]\n",
      " [1.000e+00 3.000e+03 3.000e+00 1.000e+00 2.000e+00 0.000e+00]\n",
      " [1.000e+00 3.180e+03 2.000e+00 1.000e+00 1.000e+00 0.000e+00]\n",
      " [1.000e+00 5.700e+03 3.000e+00 1.000e+00 1.000e+00 2.000e+00]\n",
      " [1.000e+00 3.520e+03 3.000e+00 1.000e+00 1.000e+00 2.000e+00]\n",
      " [1.000e+00 4.040e+03 2.000e+00 1.000e+00 1.000e+00 1.000e+00]\n",
      " [1.000e+00 5.800e+03 3.000e+00 1.000e+00 1.000e+00 2.000e+00]\n",
      " [1.000e+00 2.800e+03 3.000e+00 1.000e+00 1.000e+00 0.000e+00]\n",
      " [1.000e+00 6.480e+03 3.000e+00 2.000e+00 4.000e+00 2.000e+00]\n",
      " [1.000e+00 4.960e+03 2.000e+00 1.000e+00 1.000e+00 0.000e+00]\n",
      " [1.000e+00 4.260e+03 4.000e+00 1.000e+00 2.000e+00 0.000e+00]\n",
      " [1.000e+00 7.500e+03 3.000e+00 3.000e+00 1.000e+00 2.000e+00]\n",
      " [1.000e+00 5.880e+03 3.000e+00 1.000e+00 1.000e+00 1.000e+00]\n",
      " [1.000e+00 1.050e+04 2.000e+00 1.000e+00 1.000e+00 1.000e+00]\n",
      " [1.000e+00 4.500e+03 4.000e+00 2.000e+00 2.000e+00 2.000e+00]\n",
      " [1.000e+00 3.850e+03 2.000e+00 1.000e+00 1.000e+00 0.000e+00]\n",
      " [1.000e+00 8.500e+03 3.000e+00 2.000e+00 4.000e+00 2.000e+00]\n",
      " [1.000e+00 3.120e+03 3.000e+00 1.000e+00 2.000e+00 0.000e+00]\n",
      " [1.000e+00 3.990e+03 3.000e+00 1.000e+00 2.000e+00 0.000e+00]\n",
      " [1.000e+00 4.095e+03 3.000e+00 1.000e+00 2.000e+00 0.000e+00]\n",
      " [1.000e+00 4.800e+03 3.000e+00 2.000e+00 4.000e+00 0.000e+00]\n",
      " [1.000e+00 1.320e+04 2.000e+00 1.000e+00 1.000e+00 1.000e+00]\n",
      " [1.000e+00 7.770e+03 2.000e+00 1.000e+00 1.000e+00 1.000e+00]\n",
      " [1.000e+00 6.100e+03 3.000e+00 1.000e+00 1.000e+00 0.000e+00]\n",
      " [1.000e+00 4.075e+03 3.000e+00 1.000e+00 1.000e+00 2.000e+00]\n",
      " [1.000e+00 6.550e+03 3.000e+00 1.000e+00 2.000e+00 0.000e+00]\n",
      " [1.000e+00 4.100e+03 4.000e+00 1.000e+00 1.000e+00 0.000e+00]\n",
      " [1.000e+00 4.370e+03 3.000e+00 1.000e+00 2.000e+00 0.000e+00]\n",
      " [1.000e+00 3.180e+03 3.000e+00 1.000e+00 1.000e+00 0.000e+00]\n",
      " [1.000e+00 7.350e+03 2.000e+00 1.000e+00 1.000e+00 1.000e+00]\n",
      " [1.000e+00 3.510e+03 3.000e+00 1.000e+00 2.000e+00 0.000e+00]\n",
      " [1.000e+00 3.640e+03 3.000e+00 1.000e+00 2.000e+00 0.000e+00]\n",
      " [1.000e+00 5.500e+03 4.000e+00 2.000e+00 2.000e+00 1.000e+00]\n",
      " [1.000e+00 8.250e+03 3.000e+00 1.000e+00 1.000e+00 3.000e+00]\n",
      " [1.000e+00 6.600e+03 4.000e+00 2.000e+00 2.000e+00 1.000e+00]\n",
      " [1.000e+00 8.250e+03 3.000e+00 2.000e+00 3.000e+00 0.000e+00]\n",
      " [1.000e+00 2.475e+03 3.000e+00 1.000e+00 2.000e+00 0.000e+00]\n",
      " [1.000e+00 3.850e+03 3.000e+00 1.000e+00 1.000e+00 0.000e+00]\n",
      " [1.000e+00 4.500e+03 3.000e+00 1.000e+00 2.000e+00 0.000e+00]\n",
      " [1.000e+00 3.720e+03 2.000e+00 1.000e+00 1.000e+00 0.000e+00]\n",
      " [1.000e+00 4.360e+03 4.000e+00 1.000e+00 2.000e+00 0.000e+00]\n",
      " [1.000e+00 1.024e+04 2.000e+00 1.000e+00 1.000e+00 2.000e+00]\n",
      " [1.000e+00 5.500e+03 3.000e+00 2.000e+00 4.000e+00 1.000e+00]\n",
      " [1.000e+00 3.970e+03 3.000e+00 1.000e+00 2.000e+00 0.000e+00]\n",
      " [1.000e+00 3.450e+03 3.000e+00 1.000e+00 2.000e+00 1.000e+00]\n",
      " [1.000e+00 3.850e+03 3.000e+00 1.000e+00 1.000e+00 2.000e+00]\n",
      " [1.000e+00 5.500e+03 3.000e+00 1.000e+00 3.000e+00 1.000e+00]\n",
      " [1.000e+00 3.520e+03 3.000e+00 1.000e+00 1.000e+00 0.000e+00]\n",
      " [1.000e+00 2.145e+03 3.000e+00 1.000e+00 2.000e+00 0.000e+00]\n",
      " [1.000e+00 6.600e+03 3.000e+00 1.000e+00 1.000e+00 2.000e+00]\n",
      " [1.000e+00 3.640e+03 2.000e+00 1.000e+00 1.000e+00 1.000e+00]\n",
      " [1.000e+00 3.986e+03 2.000e+00 2.000e+00 1.000e+00 1.000e+00]\n",
      " [1.000e+00 2.953e+03 3.000e+00 1.000e+00 2.000e+00 0.000e+00]\n",
      " [1.000e+00 8.250e+03 3.000e+00 1.000e+00 1.000e+00 2.000e+00]\n",
      " [1.000e+00 4.130e+03 3.000e+00 2.000e+00 2.000e+00 2.000e+00]\n",
      " [1.000e+00 8.580e+03 4.000e+00 3.000e+00 4.000e+00 2.000e+00]\n",
      " [1.000e+00 6.000e+03 4.000e+00 3.000e+00 2.000e+00 2.000e+00]\n",
      " [1.000e+00 3.500e+03 4.000e+00 1.000e+00 2.000e+00 2.000e+00]\n",
      " [1.000e+00 5.885e+03 2.000e+00 1.000e+00 1.000e+00 1.000e+00]\n",
      " [1.000e+00 7.680e+03 4.000e+00 2.000e+00 4.000e+00 1.000e+00]\n",
      " [1.000e+00 2.430e+03 3.000e+00 1.000e+00 1.000e+00 0.000e+00]\n",
      " [1.000e+00 3.150e+03 3.000e+00 2.000e+00 1.000e+00 0.000e+00]\n",
      " [1.000e+00 6.450e+03 4.000e+00 1.000e+00 2.000e+00 0.000e+00]\n",
      " [1.000e+00 8.100e+03 2.000e+00 1.000e+00 1.000e+00 1.000e+00]\n",
      " [1.000e+00 5.500e+03 3.000e+00 1.000e+00 3.000e+00 1.000e+00]\n",
      " [1.000e+00 1.650e+03 3.000e+00 1.000e+00 2.000e+00 0.000e+00]\n",
      " [1.000e+00 3.040e+03 2.000e+00 1.000e+00 1.000e+00 0.000e+00]\n",
      " [1.000e+00 4.079e+03 3.000e+00 1.000e+00 3.000e+00 0.000e+00]\n",
      " [1.000e+00 2.747e+03 4.000e+00 2.000e+00 2.000e+00 0.000e+00]\n",
      " [1.000e+00 4.600e+03 3.000e+00 2.000e+00 2.000e+00 2.000e+00]\n",
      " [1.000e+00 2.325e+03 3.000e+00 1.000e+00 2.000e+00 0.000e+00]\n",
      " [1.000e+00 7.231e+03 3.000e+00 1.000e+00 2.000e+00 0.000e+00]\n",
      " [1.000e+00 3.520e+03 2.000e+00 2.000e+00 1.000e+00 0.000e+00]\n",
      " [1.000e+00 2.145e+03 3.000e+00 1.000e+00 3.000e+00 0.000e+00]\n",
      " [1.000e+00 3.450e+03 3.000e+00 1.000e+00 2.000e+00 0.000e+00]\n",
      " [1.000e+00 3.620e+03 2.000e+00 1.000e+00 1.000e+00 0.000e+00]\n",
      " [1.000e+00 4.000e+03 2.000e+00 1.000e+00 1.000e+00 0.000e+00]\n",
      " [1.000e+00 6.000e+03 3.000e+00 1.000e+00 2.000e+00 1.000e+00]\n",
      " [1.000e+00 6.000e+03 3.000e+00 2.000e+00 4.000e+00 1.000e+00]]\n"
     ]
    }
   ],
   "source": [
    "# Lets use hstack() function from numpy to add column of ones to X feature \n",
    "# This will be our final X matrix (feature matrix)\n",
    "X_Test = np.hstack((np.ones((m,1)), xTest))\n",
    "\n",
    "print(X_Test)\n",
    "\n",
    "#Initialise theta to theta from train linear model as recommended by the hw question\n",
    "eval_theta = train_theta"
   ]
  },
  {
   "cell_type": "code",
   "execution_count": 62,
   "id": "3c86b007",
   "metadata": {},
   "outputs": [
    {
     "name": "stdout",
     "output_type": "stream",
     "text": [
      "Value of theta from test model = [nan nan nan nan nan nan]\n",
      "First 5 values from test cost_history = [3.14728161e+32 4.07881578e+44 5.28606594e+56 6.85063868e+68\n",
      " 8.87829452e+80]\n",
      "Last 5 values from test cost_history = [nan nan nan nan nan]\n"
     ]
    },
    {
     "name": "stderr",
     "output_type": "stream",
     "text": [
      "/tmp/ipykernel_7563/937980692.py:5: RuntimeWarning: overflow encountered in square\n",
      "  sqrErrors = np.square(errors)\n"
     ]
    }
   ],
   "source": [
    "# test linear regression model\n",
    "alpha = 0.04\n",
    "test_theta, test_cost_history = gradient_descent(X_Test, yTest, eval_theta, alpha, iterations)\n",
    "\n",
    "# print theta and cost history\n",
    "print('Value of theta from test model =', test_theta)\n",
    "print('First 5 values from test cost_history =', test_cost_history[:5])\n",
    "print('Last 5 values from test cost_history =', test_cost_history[-5 :])"
   ]
  },
  {
   "cell_type": "code",
   "execution_count": 63,
   "id": "07b7f044",
   "metadata": {},
   "outputs": [
    {
     "data": {
      "text/plain": [
       "<matplotlib.legend.Legend at 0x7f8d051c3ca0>"
      ]
     },
     "execution_count": 63,
     "metadata": {},
     "output_type": "execute_result"
    },
    {
     "data": {
      "image/png": "[encoded data removed]",
      "text/plain": [
       "<Figure size 864x576 with 1 Axes>"
      ]
     },
     "metadata": {
      "needs_background": "light"
     },
     "output_type": "display_data"
    }
   ],
   "source": [
    "# plot test model\n",
    "plt.plot(range(1, iterations +1), train_cost_history, color ='darkblue', label = 'Train')\n",
    "plt.plot(range(1, iterations +1), test_cost_history, color ='darkgreen', label = 'Test')\n",
    "plt.rcParams[\"figure.figsize\"] = (12, 8)\n",
    "plt.grid()\n",
    "plt.xlabel(\"Number of iterations\")\n",
    "plt.ylabel(\"cost (J)\")\n",
    "plt.title(\"Convergence of gradient descent (Test vs Train)\")\n",
    "plt.legend()"
   ]
  },
  {
   "cell_type": "code",
   "execution_count": null,
   "id": "a9e9d8e5",
   "metadata": {},
   "outputs": [],
   "source": []
  },
  {
   "cell_type": "markdown",
   "id": "90273eef",
   "metadata": {},
   "source": [
    "**Standardize features and call the cost function**"
   ]
  },
  {
   "cell_type": "code",
   "execution_count": 64,
   "id": "2a0e1721",
   "metadata": {},
   "outputs": [
    {
     "name": "stdout",
     "output_type": "stream",
     "text": [
      "X_stand=  [[-0.32640558  1.32167636  1.39689225 -0.92698554  1.51846971]\n",
      " [-0.75373534 -1.30102517 -0.5816057  -0.92698554 -0.79567813]\n",
      " [ 0.87545936  0.0103256   1.39689225 -0.92698554  2.67554362]\n",
      " [-0.94069211  0.0103256  -0.5816057   0.25422346 -0.79567813]\n",
      " [-0.54897316  0.0103256   1.39689225  0.25422346  0.36139579]]\n"
     ]
    }
   ],
   "source": [
    "x_standard, mu, sigma = feature_standardize(x)\n",
    "print('X_stand= ', x_standard[:5])"
   ]
  },
  {
   "cell_type": "markdown",
   "id": "8ca2b464",
   "metadata": {},
   "source": [
    "**Compute the cost function**\n",
    "\n",
    "* Matrix operations are much faster than loops operations, so matrice of x, θ and (x * θ) were used"
   ]
  },
  {
   "cell_type": "code",
   "execution_count": 65,
   "id": "82ce71cb",
   "metadata": {},
   "outputs": [],
   "source": [
    "# lets use hstack() function from numpy to add column of ones to X feature \n",
    "# this will be our final X matrix (feature matrix)\n",
    "m = len(y)\n",
    "X = np.hstack((np.ones((m,1)), x_standard))\n",
    "\n",
    "# initialise theta to zero as recommended by the hw question\n",
    "theta = np.zeros(6)\n",
    "\n",
    "# declare and assign values to the gradient descent learning parameters alpha and no of iterations\n",
    "alpha = 0.04\n",
    "iterations =1000"
   ]
  },
  {
   "cell_type": "code",
   "execution_count": 66,
   "id": "77d83f12",
   "metadata": {},
   "outputs": [
    {
     "name": "stdout",
     "output_type": "stream",
     "text": [
      "Final value of train theta = [4775201.94225721  703518.35649321   53022.08263576  594731.7381038\n",
      "  471093.35463824  333995.16619082]\n",
      "First 5 values from train cost_history = [1.20045724e+13 1.10740737e+13 1.02232190e+13 9.44477138e+12\n",
      " 8.73220765e+12]\n",
      "Last 5 values from train cost_history = [6.99422826e+11 6.99422826e+11 6.99422826e+11 6.99422826e+11\n",
      " 6.99422826e+11]\n"
     ]
    }
   ],
   "source": [
    "train_theta, train_cost_history = gradient_descent(X, y, theta, alpha, iterations)    # call cost function\n",
    "print('Final value of train theta =', train_theta)    # print train theta\n",
    "print('First 5 values from train cost_history =', train_cost_history[:5])    # print 1-5 train cost history\n",
    "print('Last 5 values from train cost_history =', train_cost_history[-5 :])    # print last 5 train cost history"
   ]
  },
  {
   "cell_type": "code",
   "execution_count": 67,
   "id": "4460ee43",
   "metadata": {},
   "outputs": [
    {
     "name": "stdout",
     "output_type": "stream",
     "text": [
      "[4775201.94225721  703518.35649321   53022.08263576  594731.7381038\n",
      "  471093.35463824  333995.16619082]\n"
     ]
    }
   ],
   "source": [
    "print(train_theta)"
   ]
  },
  {
   "cell_type": "code",
   "execution_count": 68,
   "id": "7beee5c6",
   "metadata": {},
   "outputs": [
    {
     "name": "stdout",
     "output_type": "stream",
     "text": [
      "[1.20045724e+13 1.10740737e+13 1.02232190e+13 9.44477138e+12\n",
      " 8.73220765e+12 8.07964087e+12 7.48175211e+12 6.93373024e+12\n",
      " 6.43121874e+12 5.97026867e+12 5.54729697e+12 5.15904953e+12\n",
      " 4.80256826e+12 4.47516192e+12 4.17438001e+12 3.89798952e+12\n",
      " 3.64395415e+12 3.41041569e+12 3.19567733e+12 2.99818871e+12\n",
      " 2.81653242e+12 2.64941193e+12 2.49564064e+12 2.35413207e+12\n",
      " 2.22389093e+12 2.10400510e+12 1.99363834e+12 1.89202370e+12\n",
      " 1.79845752e+12 1.71229402e+12 1.63294032e+12 1.55985200e+12\n",
      " 1.49252898e+12 1.43051179e+12 1.37337819e+12 1.32074005e+12\n",
      " 1.27224057e+12 1.22755161e+12 1.18637141e+12 1.14842239e+12\n",
      " 1.11344917e+12 1.08121678e+12 1.05150899e+12 1.02412677e+12\n",
      " 9.98886941e+11 9.75620871e+11 9.54173305e+11 9.34401294e+11\n",
      " 9.16173205e+11 8.99367819e+11 8.83873498e+11 8.69587416e+11\n",
      " 8.56414862e+11 8.44268591e+11 8.33068233e+11 8.22739744e+11\n",
      " 8.13214907e+11 8.04430870e+11 7.96329719e+11 7.88858090e+11\n",
      " 7.81966809e+11 7.75610561e+11 7.69747585e+11 7.64339394e+11\n",
      " 7.59350518e+11 7.54748264e+11 7.50502500e+11 7.46585454e+11\n",
      " 7.42971525e+11 7.39637116e+11 7.36560474e+11 7.33721547e+11\n",
      " 7.31101850e+11 7.28684342e+11 7.26453312e+11 7.24394276e+11\n",
      " 7.22493880e+11 7.20739812e+11 7.19120720e+11 7.17626139e+11\n",
      " 7.16246416e+11 7.14972653e+11 7.13796644e+11 7.12710822e+11\n",
      " 7.11708208e+11 7.10782370e+11 7.09927371e+11 7.09137739e+11\n",
      " 7.08408427e+11 7.07734779e+11 7.07112502e+11 7.06537636e+11\n",
      " 7.06006528e+11 7.05515808e+11 7.05062369e+11 7.04643343e+11\n",
      " 7.04256086e+11 7.03898158e+11 7.03567307e+11 7.03261457e+11\n",
      " 7.02978692e+11 7.02717245e+11 7.02475482e+11 7.02251900e+11\n",
      " 7.02045110e+11 7.01853829e+11 7.01676874e+11 7.01513155e+11\n",
      " 7.01361662e+11 7.01221467e+11 7.01091710e+11 7.00971600e+11\n",
      " 7.00860404e+11 7.00757447e+11 7.00662107e+11 7.00573806e+11\n",
      " 7.00492014e+11 7.00416240e+11 7.00346031e+11 7.00280967e+11\n",
      " 7.00220662e+11 7.00164760e+11 7.00112930e+11 7.00064867e+11\n",
      " 7.00020291e+11 6.99978940e+11 6.99940576e+11 6.99904975e+11\n",
      " 6.99871932e+11 6.99841258e+11 6.99812777e+11 6.99786328e+11\n",
      " 6.99761760e+11 6.99738935e+11 6.99717725e+11 6.99698011e+11\n",
      " 6.99679685e+11 6.99662644e+11 6.99646795e+11 6.99632051e+11\n",
      " 6.99618332e+11 6.99605563e+11 6.99593677e+11 6.99582609e+11\n",
      " 6.99572301e+11 6.99562698e+11 6.99553749e+11 6.99545408e+11\n",
      " 6.99537632e+11 6.99530380e+11 6.99523616e+11 6.99517304e+11\n",
      " 6.99511414e+11 6.99505915e+11 6.99500780e+11 6.99495983e+11\n",
      " 6.99491502e+11 6.99487314e+11 6.99483399e+11 6.99479737e+11\n",
      " 6.99476313e+11 6.99473109e+11 6.99470110e+11 6.99467303e+11\n",
      " 6.99464674e+11 6.99462211e+11 6.99459904e+11 6.99457742e+11\n",
      " 6.99455714e+11 6.99453813e+11 6.99452029e+11 6.99450356e+11\n",
      " 6.99448785e+11 6.99447310e+11 6.99445925e+11 6.99444624e+11\n",
      " 6.99443401e+11 6.99442251e+11 6.99441171e+11 6.99440154e+11\n",
      " 6.99439198e+11 6.99438299e+11 6.99437452e+11 6.99436654e+11\n",
      " 6.99435903e+11 6.99435196e+11 6.99434529e+11 6.99433901e+11\n",
      " 6.99433308e+11 6.99432749e+11 6.99432222e+11 6.99431725e+11\n",
      " 6.99431256e+11 6.99430813e+11 6.99430394e+11 6.99429999e+11\n",
      " 6.99429626e+11 6.99429273e+11 6.99428940e+11 6.99428625e+11\n",
      " 6.99428327e+11 6.99428045e+11 6.99427778e+11 6.99427526e+11\n",
      " 6.99427287e+11 6.99427061e+11 6.99426847e+11 6.99426645e+11\n",
      " 6.99426453e+11 6.99426271e+11 6.99426099e+11 6.99425936e+11\n",
      " 6.99425781e+11 6.99425634e+11 6.99425495e+11 6.99425363e+11\n",
      " 6.99425238e+11 6.99425119e+11 6.99425007e+11 6.99424900e+11\n",
      " 6.99424798e+11 6.99424702e+11 6.99424611e+11 6.99424524e+11\n",
      " 6.99424441e+11 6.99424363e+11 6.99424289e+11 6.99424218e+11\n",
      " 6.99424151e+11 6.99424087e+11 6.99424027e+11 6.99423969e+11\n",
      " 6.99423914e+11 6.99423862e+11 6.99423813e+11 6.99423765e+11\n",
      " 6.99423721e+11 6.99423678e+11 6.99423638e+11 6.99423599e+11\n",
      " 6.99423562e+11 6.99423527e+11 6.99423494e+11 6.99423463e+11\n",
      " 6.99423433e+11 6.99423404e+11 6.99423377e+11 6.99423351e+11\n",
      " 6.99423326e+11 6.99423303e+11 6.99423280e+11 6.99423259e+11\n",
      " 6.99423239e+11 6.99423219e+11 6.99423201e+11 6.99423183e+11\n",
      " 6.99423167e+11 6.99423151e+11 6.99423136e+11 6.99423121e+11\n",
      " 6.99423107e+11 6.99423094e+11 6.99423082e+11 6.99423070e+11\n",
      " 6.99423059e+11 6.99423048e+11 6.99423037e+11 6.99423028e+11\n",
      " 6.99423018e+11 6.99423009e+11 6.99423001e+11 6.99422993e+11\n",
      " 6.99422985e+11 6.99422978e+11 6.99422971e+11 6.99422964e+11\n",
      " 6.99422958e+11 6.99422952e+11 6.99422946e+11 6.99422940e+11\n",
      " 6.99422935e+11 6.99422930e+11 6.99422925e+11 6.99422921e+11\n",
      " 6.99422916e+11 6.99422912e+11 6.99422908e+11 6.99422904e+11\n",
      " 6.99422901e+11 6.99422897e+11 6.99422894e+11 6.99422891e+11\n",
      " 6.99422888e+11 6.99422885e+11 6.99422882e+11 6.99422880e+11\n",
      " 6.99422877e+11 6.99422875e+11 6.99422873e+11 6.99422871e+11\n",
      " 6.99422869e+11 6.99422867e+11 6.99422865e+11 6.99422863e+11\n",
      " 6.99422861e+11 6.99422860e+11 6.99422858e+11 6.99422857e+11\n",
      " 6.99422855e+11 6.99422854e+11 6.99422853e+11 6.99422851e+11\n",
      " 6.99422850e+11 6.99422849e+11 6.99422848e+11 6.99422847e+11\n",
      " 6.99422846e+11 6.99422845e+11 6.99422844e+11 6.99422843e+11\n",
      " 6.99422843e+11 6.99422842e+11 6.99422841e+11 6.99422840e+11\n",
      " 6.99422840e+11 6.99422839e+11 6.99422839e+11 6.99422838e+11\n",
      " 6.99422837e+11 6.99422837e+11 6.99422836e+11 6.99422836e+11\n",
      " 6.99422835e+11 6.99422835e+11 6.99422835e+11 6.99422834e+11\n",
      " 6.99422834e+11 6.99422834e+11 6.99422833e+11 6.99422833e+11\n",
      " 6.99422833e+11 6.99422832e+11 6.99422832e+11 6.99422832e+11\n",
      " 6.99422831e+11 6.99422831e+11 6.99422831e+11 6.99422831e+11\n",
      " 6.99422830e+11 6.99422830e+11 6.99422830e+11 6.99422830e+11\n",
      " 6.99422830e+11 6.99422830e+11 6.99422829e+11 6.99422829e+11\n",
      " 6.99422829e+11 6.99422829e+11 6.99422829e+11 6.99422829e+11\n",
      " 6.99422829e+11 6.99422828e+11 6.99422828e+11 6.99422828e+11\n",
      " 6.99422828e+11 6.99422828e+11 6.99422828e+11 6.99422828e+11\n",
      " 6.99422828e+11 6.99422828e+11 6.99422828e+11 6.99422828e+11\n",
      " 6.99422827e+11 6.99422827e+11 6.99422827e+11 6.99422827e+11\n",
      " 6.99422827e+11 6.99422827e+11 6.99422827e+11 6.99422827e+11\n",
      " 6.99422827e+11 6.99422827e+11 6.99422827e+11 6.99422827e+11\n",
      " 6.99422827e+11 6.99422827e+11 6.99422827e+11 6.99422827e+11\n",
      " 6.99422827e+11 6.99422827e+11 6.99422827e+11 6.99422827e+11\n",
      " 6.99422827e+11 6.99422827e+11 6.99422826e+11 6.99422826e+11\n",
      " 6.99422826e+11 6.99422826e+11 6.99422826e+11 6.99422826e+11\n",
      " 6.99422826e+11 6.99422826e+11 6.99422826e+11 6.99422826e+11\n",
      " 6.99422826e+11 6.99422826e+11 6.99422826e+11 6.99422826e+11\n",
      " 6.99422826e+11 6.99422826e+11 6.99422826e+11 6.99422826e+11\n",
      " 6.99422826e+11 6.99422826e+11 6.99422826e+11 6.99422826e+11\n",
      " 6.99422826e+11 6.99422826e+11 6.99422826e+11 6.99422826e+11\n",
      " 6.99422826e+11 6.99422826e+11 6.99422826e+11 6.99422826e+11\n",
      " 6.99422826e+11 6.99422826e+11 6.99422826e+11 6.99422826e+11\n",
      " 6.99422826e+11 6.99422826e+11 6.99422826e+11 6.99422826e+11\n",
      " 6.99422826e+11 6.99422826e+11 6.99422826e+11 6.99422826e+11\n",
      " 6.99422826e+11 6.99422826e+11 6.99422826e+11 6.99422826e+11\n",
      " 6.99422826e+11 6.99422826e+11 6.99422826e+11 6.99422826e+11\n",
      " 6.99422826e+11 6.99422826e+11 6.99422826e+11 6.99422826e+11\n",
      " 6.99422826e+11 6.99422826e+11 6.99422826e+11 6.99422826e+11\n",
      " 6.99422826e+11 6.99422826e+11 6.99422826e+11 6.99422826e+11\n",
      " 6.99422826e+11 6.99422826e+11 6.99422826e+11 6.99422826e+11\n",
      " 6.99422826e+11 6.99422826e+11 6.99422826e+11 6.99422826e+11\n",
      " 6.99422826e+11 6.99422826e+11 6.99422826e+11 6.99422826e+11\n",
      " 6.99422826e+11 6.99422826e+11 6.99422826e+11 6.99422826e+11\n",
      " 6.99422826e+11 6.99422826e+11 6.99422826e+11 6.99422826e+11\n",
      " 6.99422826e+11 6.99422826e+11 6.99422826e+11 6.99422826e+11\n",
      " 6.99422826e+11 6.99422826e+11 6.99422826e+11 6.99422826e+11\n",
      " 6.99422826e+11 6.99422826e+11 6.99422826e+11 6.99422826e+11\n",
      " 6.99422826e+11 6.99422826e+11 6.99422826e+11 6.99422826e+11\n",
      " 6.99422826e+11 6.99422826e+11 6.99422826e+11 6.99422826e+11\n",
      " 6.99422826e+11 6.99422826e+11 6.99422826e+11 6.99422826e+11\n",
      " 6.99422826e+11 6.99422826e+11 6.99422826e+11 6.99422826e+11\n",
      " 6.99422826e+11 6.99422826e+11 6.99422826e+11 6.99422826e+11\n",
      " 6.99422826e+11 6.99422826e+11 6.99422826e+11 6.99422826e+11\n",
      " 6.99422826e+11 6.99422826e+11 6.99422826e+11 6.99422826e+11\n",
      " 6.99422826e+11 6.99422826e+11 6.99422826e+11 6.99422826e+11\n",
      " 6.99422826e+11 6.99422826e+11 6.99422826e+11 6.99422826e+11\n",
      " 6.99422826e+11 6.99422826e+11 6.99422826e+11 6.99422826e+11\n",
      " 6.99422826e+11 6.99422826e+11 6.99422826e+11 6.99422826e+11\n",
      " 6.99422826e+11 6.99422826e+11 6.99422826e+11 6.99422826e+11\n",
      " 6.99422826e+11 6.99422826e+11 6.99422826e+11 6.99422826e+11\n",
      " 6.99422826e+11 6.99422826e+11 6.99422826e+11 6.99422826e+11\n",
      " 6.99422826e+11 6.99422826e+11 6.99422826e+11 6.99422826e+11\n",
      " 6.99422826e+11 6.99422826e+11 6.99422826e+11 6.99422826e+11\n",
      " 6.99422826e+11 6.99422826e+11 6.99422826e+11 6.99422826e+11\n",
      " 6.99422826e+11 6.99422826e+11 6.99422826e+11 6.99422826e+11\n",
      " 6.99422826e+11 6.99422826e+11 6.99422826e+11 6.99422826e+11\n",
      " 6.99422826e+11 6.99422826e+11 6.99422826e+11 6.99422826e+11\n",
      " 6.99422826e+11 6.99422826e+11 6.99422826e+11 6.99422826e+11\n",
      " 6.99422826e+11 6.99422826e+11 6.99422826e+11 6.99422826e+11\n",
      " 6.99422826e+11 6.99422826e+11 6.99422826e+11 6.99422826e+11\n",
      " 6.99422826e+11 6.99422826e+11 6.99422826e+11 6.99422826e+11\n",
      " 6.99422826e+11 6.99422826e+11 6.99422826e+11 6.99422826e+11\n",
      " 6.99422826e+11 6.99422826e+11 6.99422826e+11 6.99422826e+11\n",
      " 6.99422826e+11 6.99422826e+11 6.99422826e+11 6.99422826e+11\n",
      " 6.99422826e+11 6.99422826e+11 6.99422826e+11 6.99422826e+11\n",
      " 6.99422826e+11 6.99422826e+11 6.99422826e+11 6.99422826e+11\n",
      " 6.99422826e+11 6.99422826e+11 6.99422826e+11 6.99422826e+11\n",
      " 6.99422826e+11 6.99422826e+11 6.99422826e+11 6.99422826e+11\n",
      " 6.99422826e+11 6.99422826e+11 6.99422826e+11 6.99422826e+11\n",
      " 6.99422826e+11 6.99422826e+11 6.99422826e+11 6.99422826e+11\n",
      " 6.99422826e+11 6.99422826e+11 6.99422826e+11 6.99422826e+11\n",
      " 6.99422826e+11 6.99422826e+11 6.99422826e+11 6.99422826e+11\n",
      " 6.99422826e+11 6.99422826e+11 6.99422826e+11 6.99422826e+11\n",
      " 6.99422826e+11 6.99422826e+11 6.99422826e+11 6.99422826e+11\n",
      " 6.99422826e+11 6.99422826e+11 6.99422826e+11 6.99422826e+11\n",
      " 6.99422826e+11 6.99422826e+11 6.99422826e+11 6.99422826e+11\n",
      " 6.99422826e+11 6.99422826e+11 6.99422826e+11 6.99422826e+11\n",
      " 6.99422826e+11 6.99422826e+11 6.99422826e+11 6.99422826e+11\n",
      " 6.99422826e+11 6.99422826e+11 6.99422826e+11 6.99422826e+11\n",
      " 6.99422826e+11 6.99422826e+11 6.99422826e+11 6.99422826e+11\n",
      " 6.99422826e+11 6.99422826e+11 6.99422826e+11 6.99422826e+11\n",
      " 6.99422826e+11 6.99422826e+11 6.99422826e+11 6.99422826e+11\n",
      " 6.99422826e+11 6.99422826e+11 6.99422826e+11 6.99422826e+11\n",
      " 6.99422826e+11 6.99422826e+11 6.99422826e+11 6.99422826e+11\n",
      " 6.99422826e+11 6.99422826e+11 6.99422826e+11 6.99422826e+11\n",
      " 6.99422826e+11 6.99422826e+11 6.99422826e+11 6.99422826e+11\n",
      " 6.99422826e+11 6.99422826e+11 6.99422826e+11 6.99422826e+11\n",
      " 6.99422826e+11 6.99422826e+11 6.99422826e+11 6.99422826e+11\n",
      " 6.99422826e+11 6.99422826e+11 6.99422826e+11 6.99422826e+11\n",
      " 6.99422826e+11 6.99422826e+11 6.99422826e+11 6.99422826e+11\n",
      " 6.99422826e+11 6.99422826e+11 6.99422826e+11 6.99422826e+11\n",
      " 6.99422826e+11 6.99422826e+11 6.99422826e+11 6.99422826e+11\n",
      " 6.99422826e+11 6.99422826e+11 6.99422826e+11 6.99422826e+11\n",
      " 6.99422826e+11 6.99422826e+11 6.99422826e+11 6.99422826e+11\n",
      " 6.99422826e+11 6.99422826e+11 6.99422826e+11 6.99422826e+11\n",
      " 6.99422826e+11 6.99422826e+11 6.99422826e+11 6.99422826e+11\n",
      " 6.99422826e+11 6.99422826e+11 6.99422826e+11 6.99422826e+11\n",
      " 6.99422826e+11 6.99422826e+11 6.99422826e+11 6.99422826e+11\n",
      " 6.99422826e+11 6.99422826e+11 6.99422826e+11 6.99422826e+11\n",
      " 6.99422826e+11 6.99422826e+11 6.99422826e+11 6.99422826e+11\n",
      " 6.99422826e+11 6.99422826e+11 6.99422826e+11 6.99422826e+11\n",
      " 6.99422826e+11 6.99422826e+11 6.99422826e+11 6.99422826e+11\n",
      " 6.99422826e+11 6.99422826e+11 6.99422826e+11 6.99422826e+11\n",
      " 6.99422826e+11 6.99422826e+11 6.99422826e+11 6.99422826e+11\n",
      " 6.99422826e+11 6.99422826e+11 6.99422826e+11 6.99422826e+11\n",
      " 6.99422826e+11 6.99422826e+11 6.99422826e+11 6.99422826e+11\n",
      " 6.99422826e+11 6.99422826e+11 6.99422826e+11 6.99422826e+11\n",
      " 6.99422826e+11 6.99422826e+11 6.99422826e+11 6.99422826e+11\n",
      " 6.99422826e+11 6.99422826e+11 6.99422826e+11 6.99422826e+11\n",
      " 6.99422826e+11 6.99422826e+11 6.99422826e+11 6.99422826e+11\n",
      " 6.99422826e+11 6.99422826e+11 6.99422826e+11 6.99422826e+11\n",
      " 6.99422826e+11 6.99422826e+11 6.99422826e+11 6.99422826e+11\n",
      " 6.99422826e+11 6.99422826e+11 6.99422826e+11 6.99422826e+11\n",
      " 6.99422826e+11 6.99422826e+11 6.99422826e+11 6.99422826e+11\n",
      " 6.99422826e+11 6.99422826e+11 6.99422826e+11 6.99422826e+11\n",
      " 6.99422826e+11 6.99422826e+11 6.99422826e+11 6.99422826e+11\n",
      " 6.99422826e+11 6.99422826e+11 6.99422826e+11 6.99422826e+11\n",
      " 6.99422826e+11 6.99422826e+11 6.99422826e+11 6.99422826e+11\n",
      " 6.99422826e+11 6.99422826e+11 6.99422826e+11 6.99422826e+11\n",
      " 6.99422826e+11 6.99422826e+11 6.99422826e+11 6.99422826e+11\n",
      " 6.99422826e+11 6.99422826e+11 6.99422826e+11 6.99422826e+11\n",
      " 6.99422826e+11 6.99422826e+11 6.99422826e+11 6.99422826e+11\n",
      " 6.99422826e+11 6.99422826e+11 6.99422826e+11 6.99422826e+11\n",
      " 6.99422826e+11 6.99422826e+11 6.99422826e+11 6.99422826e+11\n",
      " 6.99422826e+11 6.99422826e+11 6.99422826e+11 6.99422826e+11\n",
      " 6.99422826e+11 6.99422826e+11 6.99422826e+11 6.99422826e+11\n",
      " 6.99422826e+11 6.99422826e+11 6.99422826e+11 6.99422826e+11\n",
      " 6.99422826e+11 6.99422826e+11 6.99422826e+11 6.99422826e+11\n",
      " 6.99422826e+11 6.99422826e+11 6.99422826e+11 6.99422826e+11\n",
      " 6.99422826e+11 6.99422826e+11 6.99422826e+11 6.99422826e+11\n",
      " 6.99422826e+11 6.99422826e+11 6.99422826e+11 6.99422826e+11\n",
      " 6.99422826e+11 6.99422826e+11 6.99422826e+11 6.99422826e+11\n",
      " 6.99422826e+11 6.99422826e+11 6.99422826e+11 6.99422826e+11\n",
      " 6.99422826e+11 6.99422826e+11 6.99422826e+11 6.99422826e+11\n",
      " 6.99422826e+11 6.99422826e+11 6.99422826e+11 6.99422826e+11\n",
      " 6.99422826e+11 6.99422826e+11 6.99422826e+11 6.99422826e+11\n",
      " 6.99422826e+11 6.99422826e+11 6.99422826e+11 6.99422826e+11\n",
      " 6.99422826e+11 6.99422826e+11 6.99422826e+11 6.99422826e+11\n",
      " 6.99422826e+11 6.99422826e+11 6.99422826e+11 6.99422826e+11\n",
      " 6.99422826e+11 6.99422826e+11 6.99422826e+11 6.99422826e+11\n",
      " 6.99422826e+11 6.99422826e+11 6.99422826e+11 6.99422826e+11\n",
      " 6.99422826e+11 6.99422826e+11 6.99422826e+11 6.99422826e+11\n",
      " 6.99422826e+11 6.99422826e+11 6.99422826e+11 6.99422826e+11\n",
      " 6.99422826e+11 6.99422826e+11 6.99422826e+11 6.99422826e+11\n",
      " 6.99422826e+11 6.99422826e+11 6.99422826e+11 6.99422826e+11\n",
      " 6.99422826e+11 6.99422826e+11 6.99422826e+11 6.99422826e+11\n",
      " 6.99422826e+11 6.99422826e+11 6.99422826e+11 6.99422826e+11\n",
      " 6.99422826e+11 6.99422826e+11 6.99422826e+11 6.99422826e+11\n",
      " 6.99422826e+11 6.99422826e+11 6.99422826e+11 6.99422826e+11\n",
      " 6.99422826e+11 6.99422826e+11 6.99422826e+11 6.99422826e+11\n",
      " 6.99422826e+11 6.99422826e+11 6.99422826e+11 6.99422826e+11\n",
      " 6.99422826e+11 6.99422826e+11 6.99422826e+11 6.99422826e+11\n",
      " 6.99422826e+11 6.99422826e+11 6.99422826e+11 6.99422826e+11\n",
      " 6.99422826e+11 6.99422826e+11 6.99422826e+11 6.99422826e+11\n",
      " 6.99422826e+11 6.99422826e+11 6.99422826e+11 6.99422826e+11\n",
      " 6.99422826e+11 6.99422826e+11 6.99422826e+11 6.99422826e+11\n",
      " 6.99422826e+11 6.99422826e+11 6.99422826e+11 6.99422826e+11\n",
      " 6.99422826e+11 6.99422826e+11 6.99422826e+11 6.99422826e+11\n",
      " 6.99422826e+11 6.99422826e+11 6.99422826e+11 6.99422826e+11\n",
      " 6.99422826e+11 6.99422826e+11 6.99422826e+11 6.99422826e+11\n",
      " 6.99422826e+11 6.99422826e+11 6.99422826e+11 6.99422826e+11\n",
      " 6.99422826e+11 6.99422826e+11 6.99422826e+11 6.99422826e+11\n",
      " 6.99422826e+11 6.99422826e+11 6.99422826e+11 6.99422826e+11\n",
      " 6.99422826e+11 6.99422826e+11 6.99422826e+11 6.99422826e+11\n",
      " 6.99422826e+11 6.99422826e+11 6.99422826e+11 6.99422826e+11]\n"
     ]
    }
   ],
   "source": [
    "print(train_cost_history)"
   ]
  },
  {
   "cell_type": "code",
   "execution_count": 69,
   "id": "82b2f3e7",
   "metadata": {
    "scrolled": false
   },
   "outputs": [
    {
     "data": {
      "text/plain": [
       "Text(0.5, 1.0, 'Convergence of gradient descent for train model')"
      ]
     },
     "execution_count": 69,
     "metadata": {},
     "output_type": "execute_result"
    },
    {
     "data": {
      "image/png": "[encoded data removed]",
      "text/plain": [
       "<Figure size 864x576 with 1 Axes>"
      ]
     },
     "metadata": {
      "needs_background": "light"
     },
     "output_type": "display_data"
    }
   ],
   "source": [
    "# plot gradient descent\n",
    "plt.plot(range(1, iterations +1), train_cost_history, color ='blue')\n",
    "plt.rcParams[\"figure.figsize\"] = (10, 6)\n",
    "plt.grid()\n",
    "plt.xlabel(\"Number of iterations\")\n",
    "plt.ylabel(\"cost (J)\")\n",
    "plt.title(\"Convergence of gradient descent for train model\")"
   ]
  },
  {
   "cell_type": "markdown",
   "id": "89abca90",
   "metadata": {},
   "source": [
    "**Experiment with different values of alpha**"
   ]
  },
  {
   "cell_type": "markdown",
   "id": "6cb16c8e",
   "metadata": {},
   "source": [
    "idx = 0\n",
    "max_alpha = 11\n",
    "min_alpha = 1\n",
    "step = 2\n",
    "train_theta_exp = []\n",
    "train_cost_history_exp = []\n",
    "alphas_lst = []"
   ]
  },
  {
   "cell_type": "markdown",
   "id": "3572af4e",
   "metadata": {},
   "source": [
    "for alphas in range(min_alpha, max_alpha, step):\n",
    "    alphas = alphas * 0.01\n",
    "    print(alphas)\n",
    "    train_theta_exp[idx], train_cost_history_exp[idx] = gradient_descent(X, y, theta, alphas, iterations)\n",
    "    idx = idx + 1\n",
    "    alphas_lst.append(alphas)\n",
    "    \n",
    "    \n",
    "    \n",
    "\n",
    "    \n",
    "    \n",
    "plt.plot(range(1, iterations +1), train_cost_history_exp[0], color ='red', label = alphas_lst[0])\n",
    "plt.plot(range(1, iterations +1), train_cost_history_exp[1], color ='orange', label = alphas_lst[1])\n",
    "plt.plot(range(1, iterations +1), train_cost_history_exp[2], color ='yellow', label = alphas_lst[2])\n",
    "plt.plot(range(1, iterations +1), train_cost_history_exp[3], color ='green', label = alphas_lst[3])\n",
    "plt.plot(range(1, iterations +1), train_cost_history_exp[4], color ='blue', label = alphas_lst[4])\n",
    "plt.plot(range(1, iterations +1), train_cost_history_exp[5], color ='indigo', label = alphas_lst[5])\n",
    "plt.plot(range(1, iterations +1), train_cost_history_exp[6], color ='violet', label = alphas_lst[6])\n",
    "plt.plot(range(1, iterations +1), train_cost_history_exp[7], color ='darkgreen', label = alphas_lst[7])\n",
    "plt.plot(range(1, iterations +1), train_cost_history_exp[8], color ='darkblue', label = alphas_lst[8])\n",
    "plt.plot(range(1, iterations +1), train_cost_history_exp[9], color ='darkyellow', label = alphas_lst[9])\n",
    "\n",
    "\n",
    "plt.rcParams[\"figure.figsize\"] = (10,6)\n",
    "plt.grid()\n",
    "plt.xlabel(\"Number of iterations\")\n",
    "plt.ylabel(\"cost (J)\")\n",
    "plt.title(\"Effect of Learning Rate On Convergence of Gradient Descent (Train)\")\n",
    "plt.legend()"
   ]
  },
  {
   "cell_type": "code",
   "execution_count": 70,
   "id": "0c679151",
   "metadata": {},
   "outputs": [
    {
     "data": {
      "text/plain": [
       "<matplotlib.legend.Legend at 0x7f8d05155b80>"
      ]
     },
     "execution_count": 70,
     "metadata": {},
     "output_type": "execute_result"
    },
    {
     "data": {
      "image/png": "[encoded data removed]",
      "text/plain": [
       "<Figure size 720x432 with 1 Axes>"
      ]
     },
     "metadata": {
      "needs_background": "light"
     },
     "output_type": "display_data"
    }
   ],
   "source": [
    "alpha = 0.01;\n",
    "#alpha = 0.0000000001;\n",
    "trainTheta_1, trainCostHistory_1 = gradient_descent(X, y, theta, alpha, iterations)\n",
    "\n",
    "alpha = 0.03;\n",
    "#alpha = 0.0000000003;\n",
    "trainTheta_2, trainCostHistory_2 = gradient_descent(X, y, theta, alpha, iterations)\n",
    "\n",
    "alpha = 0.05;\n",
    "#alpha = 0.0000000005;\n",
    "trainTheta_3, trainCostHistory_3 = gradient_descent(X, y, theta, alpha, iterations)\n",
    "\n",
    "alpha = 0.08;\n",
    "#alpha = 0.0000000008;\n",
    "trainTheta_4, trainCostHistory_4 = gradient_descent(X, y, theta, alpha, iterations)\n",
    "\n",
    "alpha = 0.10;\n",
    "#alpha = 0.0000000010;\n",
    "trainTheta_5, trainCostHistory_5 = gradient_descent(X, y, theta, alpha, iterations)\n",
    "\n",
    "# plot models for different alphas\n",
    "plt.plot(range(1, iterations +1), trainCostHistory_1, color ='purple', label = 'alpha = 0.01e-8')\n",
    "plt.plot(range(1, iterations +1), trainCostHistory_2, color ='red', label = 'alpha = 0.03e-8')\n",
    "plt.plot(range(1, iterations +1), trainCostHistory_3, color ='green', label = 'alpha = 0.05e-8')\n",
    "plt.plot(range(1, iterations +1), trainCostHistory_4, color ='yellow', label = 'alpha = 0.08e-8')\n",
    "plt.plot(range(1, iterations +1), trainCostHistory_5, color ='blue', label = 'alpha = 0.10e-8')\n",
    "\n",
    "plt.rcParams[\"figure.figsize\"] = (10, 6)\n",
    "plt.grid()\n",
    "plt.xlabel(\"Number of iterations\")\n",
    "plt.ylabel(\"cost (J)\")\n",
    "plt.title(\"Effect of Learning Rate On Convergence of Gradient Descent (Train)\")\n",
    "plt.legend()"
   ]
  },
  {
   "cell_type": "markdown",
   "id": "7f62b57d",
   "metadata": {},
   "source": [
    "<br>\n",
    "\n",
    "**Test linear model**"
   ]
  },
  {
   "cell_type": "code",
   "execution_count": 71,
   "id": "d0112837",
   "metadata": {},
   "outputs": [],
   "source": [
    "xTest = df_test.values[:, 1:6]  # get input values from first column\n",
    "yTest = df_test.values[:, 0]  # get output values from second column\n",
    "m = len(yTest)    # number of training examples, length of target variable rows\n",
    "temp_m = len(xTest)    # length of feature columns variable rows\n",
    "assert (m == temp_m)    # confirm they have equivalent length"
   ]
  },
  {
   "cell_type": "code",
   "execution_count": 72,
   "id": "e8f8d993",
   "metadata": {},
   "outputs": [
    {
     "data": {
      "text/plain": [
       "Text(0.5, 1.0, 'SCATTER PLOT OF TEST DATA')"
      ]
     },
     "execution_count": 72,
     "metadata": {},
     "output_type": "execute_result"
    },
    {
     "data": {
      "image/png": "[encoded data removed]",
      "text/plain": [
       "<Figure size 720x432 with 1 Axes>"
      ]
     },
     "metadata": {
      "needs_background": "light"
     },
     "output_type": "display_data"
    }
   ],
   "source": [
    "# plot test model\n",
    "plt.scatter(df_test.values[:, 1],yTest, color='red',marker= '+')\n",
    "plt.scatter(df_test.values[:, 2],yTest, color='yellow',marker= '+')\n",
    "plt.scatter(df_test.values[:, 3],yTest, color='blue',marker= '+')\n",
    "plt.scatter(df_test.values[:, 4],yTest, color='green',marker= '+')\n",
    "plt.scatter(df_test.values[:, 5],yTest, color='indigo',marker= '+')\n",
    "plt.grid()\n",
    "plt.rcParams[\"figure.figsize\"] = (12,8)\n",
    "plt.xlabel('Explanatory Variables')\n",
    "plt.ylabel('Dependent Variables')\n",
    "plt.title('SCATTER PLOT OF TEST DATA')"
   ]
  },
  {
   "cell_type": "code",
   "execution_count": 73,
   "id": "d4aaa6fd",
   "metadata": {},
   "outputs": [],
   "source": [
    "# Lets use hstack() function from numpy to add column of ones to X feature \n",
    "# This will be our final X matrix (feature matrix)\n",
    "X_Test = np.hstack((np.ones((m,1)), xTest))\n",
    "\n",
    "#Initialise theta to theta from train linear model as recommended by the hw question\n",
    "eval_theta = train_theta"
   ]
  },
  {
   "cell_type": "code",
   "execution_count": 74,
   "id": "0ac89294",
   "metadata": {},
   "outputs": [
    {
     "name": "stdout",
     "output_type": "stream",
     "text": [
      "Value of theta from test model = [nan nan nan nan nan nan]\n",
      "First 5 values from test cost_history = [9.13532067e+30 1.18391980e+43 1.53433704e+55 1.98847097e+67\n",
      " 2.57701971e+79]\n",
      "Last 5 values from test cost_history = [nan nan nan nan nan]\n"
     ]
    },
    {
     "name": "stderr",
     "output_type": "stream",
     "text": [
      "/tmp/ipykernel_7563/937980692.py:5: RuntimeWarning: overflow encountered in square\n",
      "  sqrErrors = np.square(errors)\n"
     ]
    }
   ],
   "source": [
    "# test linear regression model\n",
    "alpha = 0.04\n",
    "test_theta, test_cost_history = gradient_descent(X_Test, yTest, eval_theta, alpha, iterations)\n",
    "\n",
    "# print theta and cost history\n",
    "print('Value of theta from test model =', test_theta)\n",
    "print('First 5 values from test cost_history =', test_cost_history[:5])\n",
    "print('Last 5 values from test cost_history =', test_cost_history[-5 :])"
   ]
  },
  {
   "cell_type": "code",
   "execution_count": 75,
   "id": "7a86f5b5",
   "metadata": {
    "scrolled": false
   },
   "outputs": [
    {
     "data": {
      "text/plain": [
       "<matplotlib.legend.Legend at 0x7f8d050562b0>"
      ]
     },
     "execution_count": 75,
     "metadata": {},
     "output_type": "execute_result"
    },
    {
     "data": {
      "image/png": "[encoded data removed]",
      "text/plain": [
       "<Figure size 864x576 with 1 Axes>"
      ]
     },
     "metadata": {
      "needs_background": "light"
     },
     "output_type": "display_data"
    }
   ],
   "source": [
    "# plot test model\n",
    "plt.plot(range(1, iterations +1), train_cost_history, color ='darkblue', label = 'Train')\n",
    "plt.plot(range(1, iterations +1), test_cost_history, color ='darkgreen', label = 'Test')\n",
    "plt.rcParams[\"figure.figsize\"] = (12, 8)\n",
    "plt.grid()\n",
    "plt.xlabel(\"Number of iterations\")\n",
    "plt.ylabel(\"cost (J)\")\n",
    "plt.title(\"Convergence of gradient descent (Test vs Train)\")\n",
    "plt.legend()"
   ]
  },
  {
   "cell_type": "markdown",
   "id": "70644602",
   "metadata": {},
   "source": [
    "---"
   ]
  },
  {
   "cell_type": "markdown",
   "id": "62ec3e3c",
   "metadata": {},
   "source": [
    "---"
   ]
  },
  {
   "cell_type": "markdown",
   "id": "9b79d8bb",
   "metadata": {},
   "source": [
    "---"
   ]
  },
  {
   "cell_type": "markdown",
   "id": "bf64c2b0",
   "metadata": {},
   "source": [
    "---"
   ]
  },
  {
   "cell_type": "markdown",
   "id": "a4748183",
   "metadata": {},
   "source": []
  },
  {
   "cell_type": "code",
   "execution_count": null,
   "id": "131cbe60",
   "metadata": {},
   "outputs": [],
   "source": []
  }
 ],
 "metadata": {
  "kernelspec": {
   "display_name": "Python 3 (ipykernel)",
   "language": "python",
   "name": "python3"
  },
  "language_info": {
   "codemirror_mode": {
    "name": "ipython",
    "version": 3
   },
   "file_extension": ".py",
   "mimetype": "text/x-python",
   "name": "python",
   "nbconvert_exporter": "python",
   "pygments_lexer": "ipython3",
   "version": "3.8.10"
  }
 },
 "nbformat": 4,
 "nbformat_minor": 5
}
